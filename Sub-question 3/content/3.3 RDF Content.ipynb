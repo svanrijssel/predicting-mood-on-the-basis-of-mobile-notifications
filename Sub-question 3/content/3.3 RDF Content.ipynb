{
 "cells": [
  {
   "cell_type": "code",
   "execution_count": 1,
   "metadata": {},
   "outputs": [
    {
     "name": "stderr",
     "output_type": "stream",
     "text": [
      "Using TensorFlow backend.\n"
     ]
    }
   ],
   "source": [
    "# Import packages\n",
    "import pandas as pd\n",
    "import numpy as np\n",
    "from sklearn.model_selection import train_test_split, GridSearchCV, cross_val_score, KFold\n",
    "from sklearn.metrics import accuracy_score, f1_score, make_scorer, classification_report\n",
    "from sklearn.utils import shuffle\n",
    "from sklearn.ensemble import RandomForestClassifier\n",
    "from imblearn.over_sampling import SMOTENC\n",
    "import matplotlib.pyplot as plt\n",
    "import mord\n",
    "from collections import Counter"
   ]
  },
  {
   "cell_type": "code",
   "execution_count": 2,
   "metadata": {},
   "outputs": [],
   "source": [
    "path = \"/Users/Stijn/Documents/Master Data Science and Society/Block 3/thesis/code/thesis_Code/\"\n",
    "mood = pd.read_csv(path+'mood_imputed_median.csv', sep = ',', index_col=0)\n",
    "mood['content_last'] = mood.groupby('user_id')['content'].shift()\n",
    "mood.loc[(pd.isnull(mood.content_last)), 'content_last'] = mood['content']\n",
    "mood_content = mood.drop([\"anxious\", \"bored\", \"cheerful\", \"user_id\", \"response_time\"], axis=1)"
   ]
  },
  {
   "cell_type": "code",
   "execution_count": 3,
   "metadata": {},
   "outputs": [
    {
     "data": {
      "text/html": [
       "<div>\n",
       "<style scoped>\n",
       "    .dataframe tbody tr th:only-of-type {\n",
       "        vertical-align: middle;\n",
       "    }\n",
       "\n",
       "    .dataframe tbody tr th {\n",
       "        vertical-align: top;\n",
       "    }\n",
       "\n",
       "    .dataframe thead th {\n",
       "        text-align: right;\n",
       "    }\n",
       "</style>\n",
       "<table border=\"1\" class=\"dataframe\">\n",
       "  <thead>\n",
       "    <tr style=\"text-align: right;\">\n",
       "      <th></th>\n",
       "      <th>content</th>\n",
       "      <th>day_time_window</th>\n",
       "      <th>average_TimeUse</th>\n",
       "      <th>bulk</th>\n",
       "      <th>messaging</th>\n",
       "      <th>socialnetworking</th>\n",
       "      <th>otherapp</th>\n",
       "      <th>content_last</th>\n",
       "    </tr>\n",
       "  </thead>\n",
       "  <tbody>\n",
       "    <tr>\n",
       "      <th>4825</th>\n",
       "      <td>4.0</td>\n",
       "      <td>3.0</td>\n",
       "      <td>0.673000</td>\n",
       "      <td>0</td>\n",
       "      <td>0</td>\n",
       "      <td>0</td>\n",
       "      <td>1</td>\n",
       "      <td>4.0</td>\n",
       "    </tr>\n",
       "    <tr>\n",
       "      <th>4826</th>\n",
       "      <td>4.0</td>\n",
       "      <td>4.0</td>\n",
       "      <td>64.314667</td>\n",
       "      <td>0</td>\n",
       "      <td>1</td>\n",
       "      <td>0</td>\n",
       "      <td>2</td>\n",
       "      <td>4.0</td>\n",
       "    </tr>\n",
       "    <tr>\n",
       "      <th>245</th>\n",
       "      <td>4.0</td>\n",
       "      <td>1.0</td>\n",
       "      <td>20.590500</td>\n",
       "      <td>0</td>\n",
       "      <td>0</td>\n",
       "      <td>0</td>\n",
       "      <td>2</td>\n",
       "      <td>4.0</td>\n",
       "    </tr>\n",
       "    <tr>\n",
       "      <th>4827</th>\n",
       "      <td>4.0</td>\n",
       "      <td>2.0</td>\n",
       "      <td>0.000000</td>\n",
       "      <td>0</td>\n",
       "      <td>0</td>\n",
       "      <td>0</td>\n",
       "      <td>0</td>\n",
       "      <td>4.0</td>\n",
       "    </tr>\n",
       "    <tr>\n",
       "      <th>4828</th>\n",
       "      <td>4.0</td>\n",
       "      <td>3.0</td>\n",
       "      <td>53.957200</td>\n",
       "      <td>0</td>\n",
       "      <td>3</td>\n",
       "      <td>0</td>\n",
       "      <td>2</td>\n",
       "      <td>4.0</td>\n",
       "    </tr>\n",
       "  </tbody>\n",
       "</table>\n",
       "</div>"
      ],
      "text/plain": [
       "      content  day_time_window  average_TimeUse  bulk  messaging  \\\n",
       "4825      4.0              3.0         0.673000     0          0   \n",
       "4826      4.0              4.0        64.314667     0          1   \n",
       "245       4.0              1.0        20.590500     0          0   \n",
       "4827      4.0              2.0         0.000000     0          0   \n",
       "4828      4.0              3.0        53.957200     0          3   \n",
       "\n",
       "      socialnetworking  otherapp  content_last  \n",
       "4825                 0         1           4.0  \n",
       "4826                 0         2           4.0  \n",
       "245                  0         2           4.0  \n",
       "4827                 0         0           4.0  \n",
       "4828                 0         2           4.0  "
      ]
     },
     "execution_count": 3,
     "metadata": {},
     "output_type": "execute_result"
    }
   ],
   "source": [
    "mood_content[:5]"
   ]
  },
  {
   "cell_type": "code",
   "execution_count": 4,
   "metadata": {},
   "outputs": [],
   "source": [
    "# Normalize predictors\n",
    "mood_normz = mood_content.copy()\n",
    "features_to_normalize = ['day_time_window', 'average_TimeUse', 'messaging', 'socialnetworking', 'otherapp']\n",
    "mood_normz[features_to_normalize] = mood_normz[features_to_normalize].apply(lambda x:(x-x.min()) / (x.max()-x.min()))"
   ]
  },
  {
   "cell_type": "code",
   "execution_count": 5,
   "metadata": {},
   "outputs": [],
   "source": [
    "# X = predictors, y = target\n",
    "X = mood_normz.iloc[:,1:]\n",
    "y = mood_normz.iloc[:, 0:1]\n",
    "\n",
    "# Convert float to int\n",
    "y = y.astype(int)"
   ]
  },
  {
   "cell_type": "code",
   "execution_count": 6,
   "metadata": {},
   "outputs": [
    {
     "name": "stdout",
     "output_type": "stream",
     "text": [
      "Before OverSampling, counts of labels: 3    3972\n",
      "4    2958\n",
      "2    2775\n",
      "1    1559\n",
      "0    1090\n",
      "5     867\n",
      "Name: content, dtype: int64\n",
      "After OverSampling, counts of label '0': 3972\n",
      "After OverSampling, counts of label '1': 3972\n",
      "After OverSampling, counts of label '2': 3972\n",
      "After OverSampling, counts of label '3': 3972\n",
      "After OverSampling, counts of label '4': 3972\n",
      "After OverSampling, counts of label '5': 3972\n"
     ]
    }
   ],
   "source": [
    "# Oversampling unbalanced target\n",
    "print(\"Before OverSampling, counts of labels: {}\".format(y['content'].value_counts()))\n",
    "  \n",
    "sm = SMOTENC(categorical_features=[0, 2, 6], random_state = 2) \n",
    "X_train_res, y_train_res = sm.fit_sample(X, y['content'].ravel()) \n",
    "\n",
    "print(\"After OverSampling, counts of label '0': {}\".format(sum(y_train_res == 0))) \n",
    "print(\"After OverSampling, counts of label '1': {}\".format(sum(y_train_res == 1))) \n",
    "print(\"After OverSampling, counts of label '2': {}\".format(sum(y_train_res == 2))) \n",
    "print(\"After OverSampling, counts of label '3': {}\".format(sum(y_train_res == 3))) \n",
    "print(\"After OverSampling, counts of label '4': {}\".format(sum(y_train_res == 4))) \n",
    "print(\"After OverSampling, counts of label '5': {}\".format(sum(y_train_res == 5))) "
   ]
  },
  {
   "cell_type": "code",
   "execution_count": 7,
   "metadata": {},
   "outputs": [],
   "source": [
    "# Convert oversample dataset to Pandas DataFrame\n",
    "X_train = pd.DataFrame(data=X_train_res)\n",
    "y_train = pd.DataFrame(data=y_train_res)"
   ]
  },
  {
   "cell_type": "code",
   "execution_count": 8,
   "metadata": {},
   "outputs": [],
   "source": [
    "X_train_nomood = X_train.iloc[:,:-1]\n",
    "X_train_onlyboredlast = X_train.iloc[:,-1:]"
   ]
  },
  {
   "cell_type": "code",
   "execution_count": 9,
   "metadata": {},
   "outputs": [],
   "source": [
    "X_train = X_train_nomood.values\n",
    "y_train = y_train.values.ravel()"
   ]
  },
  {
   "cell_type": "code",
   "execution_count": 10,
   "metadata": {},
   "outputs": [],
   "source": [
    "# Shuffle both train and test set to cancel patterns\n",
    "X, y = shuffle(X_train, y_train)"
   ]
  },
  {
   "cell_type": "code",
   "execution_count": 11,
   "metadata": {},
   "outputs": [],
   "source": [
    "rfc=RandomForestClassifier(random_state=42)\n",
    "parameter_candidates = { \n",
    "    'n_estimators': [100, 200, 500],\n",
    "    'max_features': ['auto', 'sqrt', 'log2'],\n",
    "    'max_depth' : [4,5,6,7,8],\n",
    "    'criterion' :['gini', 'entropy']\n",
    "}\n",
    "clf = GridSearchCV(estimator=rfc, \n",
    "                    param_grid=parameter_candidates,\n",
    "                    cv=10,\n",
    "                    n_jobs=-1)"
   ]
  },
  {
   "cell_type": "code",
   "execution_count": 12,
   "metadata": {},
   "outputs": [],
   "source": [
    "clf_fit = clf.fit(X, y)"
   ]
  },
  {
   "cell_type": "code",
   "execution_count": 13,
   "metadata": {},
   "outputs": [
    {
     "name": "stdout",
     "output_type": "stream",
     "text": [
      "Best score: 0.2756797583081571\n",
      " \n",
      "Best estimator: RandomForestClassifier(bootstrap=True, class_weight=None, criterion='gini',\n",
      "                       max_depth=8, max_features='auto', max_leaf_nodes=None,\n",
      "                       min_impurity_decrease=0.0, min_impurity_split=None,\n",
      "                       min_samples_leaf=1, min_samples_split=2,\n",
      "                       min_weight_fraction_leaf=0.0, n_estimators=500,\n",
      "                       n_jobs=None, oob_score=False, random_state=42, verbose=0,\n",
      "                       warm_start=False)\n"
     ]
    }
   ],
   "source": [
    "print('Best score:', clf_fit.best_score_) \n",
    "print(\" \")\n",
    "print('Best estimator:',clf_fit.best_estimator_) "
   ]
  },
  {
   "cell_type": "code",
   "execution_count": 5,
   "metadata": {},
   "outputs": [],
   "source": [
    "def macroaverage_mae(test, pred):\n",
    "    mae_0, mae_1, mae_2, mae_3, mae_4, mae_5 = (0,0,0,0,0,0)\n",
    "\n",
    "    for i in range(len(pred)):\n",
    "        if test[i] == 0 and pred[i] != 0:\n",
    "            mae_0 += (abs(test[i]-pred[i]))\n",
    "        if test[i] == 1 and pred[i] != 1:\n",
    "            mae_1 += (abs(test[i]-pred[i]))\n",
    "        if test[i] == 2 and pred[i] != 2:\n",
    "            mae_2 += (abs(test[i]-pred[i]))\n",
    "        if test[i] == 3 and pred[i] != 3:\n",
    "            mae_3 += (abs(test[i]-pred[i]))\n",
    "        if test[i] == 4 and pred[i] != 4:\n",
    "            mae_4 += (abs(test[i]-pred[i]))\n",
    "        if test[i] == 5 and pred[i] != 5:\n",
    "            mae_5 += (abs(test[i]-pred[i]))\n",
    "\n",
    "    cnt_0, cnt_1, cnt_2, cnt_3, cnt_4, cnt_5 = (0,0,0,0,0,0)\n",
    "    for z in range(len(test)):\n",
    "        if test[z] == 0:\n",
    "            cnt_0 += 1\n",
    "        if test[z] == 1:\n",
    "            cnt_1 += 1\n",
    "        if test[z] == 2:\n",
    "            cnt_2 += 1\n",
    "        if test[z] == 3:\n",
    "            cnt_3 += 1\n",
    "        if test[z] == 4:\n",
    "            cnt_4 += 1\n",
    "        if test[z] == 5:\n",
    "            cnt_5 += 1\n",
    "\n",
    "    mae_macroaverage = ((mae_0/cnt_0) + (mae_1/cnt_1) + (mae_2/cnt_2) + (mae_3/cnt_3) + (mae_4/cnt_4) + (mae_5/cnt_5)) / 6\n",
    "    return mae_macroaverage \n",
    "\n",
    "#score = make_scorer(macroaverage_mae, greater_is_better=False)"
   ]
  },
  {
   "cell_type": "code",
   "execution_count": 6,
   "metadata": {},
   "outputs": [],
   "source": [
    "# X = predictors, y = target\n",
    "X = mood_normz.iloc[:,1:-1]\n",
    "y = mood_normz.iloc[:, 0:1]\n",
    "\n",
    "# Convert float to int\n",
    "y = y.astype(int)"
   ]
  },
  {
   "cell_type": "code",
   "execution_count": 7,
   "metadata": {},
   "outputs": [],
   "source": [
    "X_train, y_train = shuffle(X, y)"
   ]
  },
  {
   "cell_type": "code",
   "execution_count": 8,
   "metadata": {},
   "outputs": [],
   "source": [
    "# Convert oversample dataset to Pandas DataFrame\n",
    "X = pd.DataFrame(data=X_train)\n",
    "y = pd.DataFrame(data=y_train)"
   ]
  },
  {
   "cell_type": "code",
   "execution_count": 9,
   "metadata": {},
   "outputs": [
    {
     "name": "stdout",
     "output_type": "stream",
     "text": [
      "Predicted values:  Counter({1: 638, 5: 170, 3: 168, 0: 142, 4: 105, 2: 100})\n",
      "Predicted values:  Counter({1: 457, 5: 337, 3: 225, 0: 153, 4: 104, 2: 46})\n",
      "Predicted values:  Counter({1: 639, 3: 199, 5: 173, 0: 147, 2: 100, 4: 64})\n",
      "Predicted values:  Counter({1: 612, 3: 181, 5: 181, 0: 173, 4: 90, 2: 85})\n",
      "Predicted values:  Counter({1: 624, 3: 215, 0: 161, 5: 152, 2: 86, 4: 84})\n",
      "Predicted values:  Counter({1: 606, 3: 206, 0: 171, 5: 144, 4: 111, 2: 84})\n",
      "Predicted values:  Counter({1: 659, 3: 188, 0: 161, 5: 144, 4: 93, 2: 77})\n",
      "Predicted values:  Counter({1: 616, 3: 220, 0: 150, 5: 139, 4: 136, 2: 61})\n",
      "Predicted values:  Counter({1: 451, 5: 323, 3: 205, 0: 180, 4: 96, 2: 67})\n",
      "Predicted values:  Counter({1: 502, 5: 294, 3: 240, 0: 135, 2: 87, 4: 64})\n"
     ]
    }
   ],
   "source": [
    "n_split=10\n",
    "f1_scores = []\n",
    "f1_scores_classes = []\n",
    "mmae_scores = []\n",
    "for train_index, test_index in KFold(n_splits = n_split, random_state=2, shuffle=True).split(X, y):\n",
    "    X_train, X_test = X.iloc[train_index], X.iloc[test_index]\n",
    "    y_train, y_test = y.iloc[train_index], y.iloc[test_index]\n",
    "    \n",
    "    sm = SMOTENC(categorical_features=[0, 2], random_state = 2) \n",
    "    X_train_oversampl, y_train_oversampl = sm.fit_sample(X_train, y_train['content'].ravel()) \n",
    "    X_use, y_use = shuffle(X_train_oversampl, y_train_oversampl)\n",
    "    \n",
    "    model = RandomForestClassifier(bootstrap=True, class_weight=None, criterion='gini',\n",
    "                       max_depth=8, max_features='auto', max_leaf_nodes=None,\n",
    "                       min_impurity_decrease=0.0, min_impurity_split=None,\n",
    "                       min_samples_leaf=1, min_samples_split=2,\n",
    "                       min_weight_fraction_leaf=0.0, n_estimators=500,\n",
    "                       n_jobs=None, oob_score=False, random_state=42, verbose=0,\n",
    "                       warm_start=False)\n",
    "                                       \n",
    "    model.fit(X_use, y_use )                                    \n",
    "    pred = model.predict(X_test)\n",
    "    print(\"Predicted values: \", Counter(pred))\n",
    "    \n",
    "    f1_scores.append(round(f1_score(y_test, pred, average='weighted'), 4))\n",
    "    f1_scores_classes.append(f1_score(y_test, pred, average=None))\n",
    "    \n",
    "    test = y_test.values\n",
    "    mmae_scores.append(macroaverage_mae(test, pred))"
   ]
  },
  {
   "cell_type": "code",
   "execution_count": 10,
   "metadata": {},
   "outputs": [
    {
     "name": "stdout",
     "output_type": "stream",
     "text": [
      "Mean F1-score per class:  [0.1948, 0.2107, 0.1015, 0.2376, 0.1303, 0.1298]\n",
      "STD F1-score per class:  [0.0296, 0.0186, 0.0214, 0.0216, 0.0191, 0.0202]\n"
     ]
    }
   ],
   "source": [
    "print(\"Mean F1-score per class: \", [round(np.mean(x), 4) for x in zip(*f1_scores_classes)])\n",
    "print(\"STD F1-score per class: \", [round(np.std(x), 4) for x in zip(*f1_scores_classes)])"
   ]
  },
  {
   "cell_type": "code",
   "execution_count": 11,
   "metadata": {},
   "outputs": [
    {
     "name": "stdout",
     "output_type": "stream",
     "text": [
      "Macro-averaged F1-scores:  [0.1738, 0.168, 0.1628, 0.1532, 0.1758, 0.1868, 0.1811, 0.1764, 0.1734, 0.1633]\n",
      "Mean MA F1-scores:  0.1715\n",
      "Std MA F1-scores:  0.0093\n"
     ]
    }
   ],
   "source": [
    "print(\"Macro-averaged F1-scores: \", f1_scores)\n",
    "print(\"Mean MA F1-scores: \", round(np.mean(f1_scores), 4))\n",
    "print(\"Std MA F1-scores: \", round(np.std(f1_scores), 4))"
   ]
  },
  {
   "cell_type": "code",
   "execution_count": 12,
   "metadata": {},
   "outputs": [
    {
     "name": "stdout",
     "output_type": "stream",
     "text": [
      "Macro-averaged MAE:  [array([1.76935538]), array([1.95363351]), array([1.72667533]), array([1.81793937]), array([1.79240356]), array([1.73019786]), array([1.79226374]), array([1.74769455]), array([1.88252694]), array([1.87692796])]\n",
      "Mean MMAE-scores:  1.809\n",
      "Std MMAE-scores:  0.0706\n"
     ]
    }
   ],
   "source": [
    "print(\"Macro-averaged MAE: \", mmae_scores)\n",
    "print(\"Mean MMAE-scores: \", round(np.mean(mmae_scores), 4))\n",
    "print(\"Std MMAE-scores: \", round(np.std(mmae_scores), 4))"
   ]
  },
  {
   "cell_type": "code",
   "execution_count": null,
   "metadata": {},
   "outputs": [],
   "source": []
  }
 ],
 "metadata": {
  "kernelspec": {
   "display_name": "Python 3",
   "language": "python",
   "name": "python3"
  },
  "language_info": {
   "codemirror_mode": {
    "name": "ipython",
    "version": 3
   },
   "file_extension": ".py",
   "mimetype": "text/x-python",
   "name": "python",
   "nbconvert_exporter": "python",
   "pygments_lexer": "ipython3",
   "version": "3.7.4"
  }
 },
 "nbformat": 4,
 "nbformat_minor": 2
}
