{
 "cells": [
  {
   "cell_type": "code",
   "execution_count": 29,
   "metadata": {},
   "outputs": [],
   "source": [
    "# Import packages\n",
    "import pandas as pd\n",
    "import numpy as np\n",
    "import datetime\n",
    "import category_encoders as ce\n",
    "from sklearn.preprocessing import LabelEncoder, MinMaxScaler, RobustScaler, OneHotEncoder, StandardScaler\n",
    "from sklearn.model_selection import train_test_split\n",
    "from sklearn.metrics import accuracy_score, mean_squared_error, cohen_kappa_score, f1_score\n",
    "from sklearn.utils import shuffle\n",
    "from imblearn.over_sampling import SMOTE, SMOTENC\n",
    "import matplotlib.pyplot as plt\n",
    "from statsmodels.graphics.mosaicplot import mosaic\n",
    "from sklearn.decomposition import PCA\n",
    "from scipy import stats\n",
    "from math import sqrt\n",
    "\n",
    "\n",
    "\n",
    "import keras\n",
    "from keras.models import Sequential\n",
    "from keras.layers import Dense, Dropout, GaussianNoise\n",
    "from keras.optimizers import SGD\n",
    "from keras import regularizers"
   ]
  },
  {
   "cell_type": "code",
   "execution_count": 2,
   "metadata": {},
   "outputs": [],
   "source": [
    "path = \"/Users/Stijn/Documents/Master Data Science and Society/Block 3/thesis/code/thesis_Code/\"\n",
    "mood = pd.read_csv(path+'mood_imputed_median.csv', sep = ',', index_col=0)\n",
    "mood['content_last'] = mood.groupby('user_id')['content'].shift()\n",
    "mood.loc[(pd.isnull(mood.content_last)), 'content_last'] = mood['content']\n",
    "mood_content = mood.drop([\"anxious\", \"bored\", \"cheerful\", \"user_id\", \"response_time\"], axis=1)"
   ]
  },
  {
   "cell_type": "code",
   "execution_count": 3,
   "metadata": {},
   "outputs": [],
   "source": [
    "# Normalize predictors\n",
    "mood_normz = mood_content.copy()\n",
    "features_to_normalize = ['day_time_window', 'average_TimeUse', 'messaging', 'socialnetworking', 'otherapp']\n",
    "mood_normz[features_to_normalize] = mood_normz[features_to_normalize].apply(lambda x:(x-x.min()) / (x.max()-x.min()))"
   ]
  },
  {
   "cell_type": "code",
   "execution_count": 4,
   "metadata": {},
   "outputs": [],
   "source": [
    "# X = predictors, y = target\n",
    "X = mood_normz.iloc[:,1:]\n",
    "y = mood_normz.iloc[:, 0:1]\n",
    "\n",
    "# Convert float to int\n",
    "y = y.astype(int)"
   ]
  },
  {
   "cell_type": "code",
   "execution_count": 5,
   "metadata": {},
   "outputs": [],
   "source": [
    "# Train (80%) & Test set (20%)\n",
    "X_train, X_test, y_train, y_test = train_test_split(X, y, test_size=0.2, random_state=2)"
   ]
  },
  {
   "cell_type": "code",
   "execution_count": 6,
   "metadata": {},
   "outputs": [
    {
     "name": "stdout",
     "output_type": "stream",
     "text": [
      "Before OverSampling, counts of labels: 0    5139\n",
      "1    1927\n",
      "2    1840\n",
      "3    1184\n",
      "4     403\n",
      "5      83\n",
      "Name: bored, dtype: int64\n",
      "After OverSampling, counts of label '0': 5139\n",
      "After OverSampling, counts of label '1': 5139\n",
      "After OverSampling, counts of label '2': 5139\n",
      "After OverSampling, counts of label '3': 5139\n",
      "After OverSampling, counts of label '4': 5139\n",
      "After OverSampling, counts of label '5': 5139\n"
     ]
    }
   ],
   "source": [
    "# Oversampling unbalanced target\n",
    "print(\"Before OverSampling, counts of labels: {}\".format(y_train['content'].value_counts()))\n",
    "  \n",
    "sm = SMOTENC(categorical_features=[0, 2, 6], random_state = 2) \n",
    "X_train_res, y_train_res = sm.fit_sample(X_train, y_train['content'].ravel()) \n",
    "\n",
    "print(\"After OverSampling, counts of label '0': {}\".format(sum(y_train_res == 0))) \n",
    "print(\"After OverSampling, counts of label '1': {}\".format(sum(y_train_res == 1))) \n",
    "print(\"After OverSampling, counts of label '2': {}\".format(sum(y_train_res == 2))) \n",
    "print(\"After OverSampling, counts of label '3': {}\".format(sum(y_train_res == 3))) \n",
    "print(\"After OverSampling, counts of label '4': {}\".format(sum(y_train_res == 4))) \n",
    "print(\"After OverSampling, counts of label '5': {}\".format(sum(y_train_res == 5))) "
   ]
  },
  {
   "cell_type": "code",
   "execution_count": 7,
   "metadata": {},
   "outputs": [],
   "source": [
    "# Convert oversample dataset to Pandas DataFrame\n",
    "X_train = pd.DataFrame(data=X_train_res)\n",
    "y_train = pd.DataFrame(data=y_train_res, columns=['content'])"
   ]
  },
  {
   "cell_type": "code",
   "execution_count": 8,
   "metadata": {},
   "outputs": [],
   "source": [
    "# Binary Encoding\n",
    "binary_encoder = ce.BinaryEncoder(cols = ['content'])\n",
    "binary_encoder.fit(y_train)\n",
    "y_train = binary_encoder.transform(y_train)\n",
    "y_test = binary_encoder.transform(y_test)"
   ]
  },
  {
   "cell_type": "code",
   "execution_count": 9,
   "metadata": {},
   "outputs": [],
   "source": [
    "X_train, y_train = shuffle(X_train, y_train)\n",
    "X_test, y_test = shuffle(X_test, y_test)"
   ]
  },
  {
   "cell_type": "code",
   "execution_count": 10,
   "metadata": {},
   "outputs": [],
   "source": [
    "X_train_nomood = X_train.iloc[:,:-1]\n",
    "X_train_onlylastmood = X_train.iloc[:,-1:]\n",
    "X_test_nomood = X_test.iloc[:,:-1]\n",
    "X_test_onlylastmood = X_test.iloc[:,-1:]"
   ]
  },
  {
   "cell_type": "code",
   "execution_count": 11,
   "metadata": {},
   "outputs": [
    {
     "name": "stdout",
     "output_type": "stream",
     "text": [
      "Model: \"sequential_1\"\n",
      "_________________________________________________________________\n",
      "Layer (type)                 Output Shape              Param #   \n",
      "=================================================================\n",
      "dense_1 (Dense)              (None, 24)                168       \n",
      "_________________________________________________________________\n",
      "dense_2 (Dense)              (None, 12)                300       \n",
      "_________________________________________________________________\n",
      "dense_3 (Dense)              (None, 4)                 52        \n",
      "=================================================================\n",
      "Total params: 520\n",
      "Trainable params: 520\n",
      "Non-trainable params: 0\n",
      "_________________________________________________________________\n"
     ]
    }
   ],
   "source": [
    "# Define Keras model\n",
    "model = Sequential()\n",
    "model.add(Dense(24, input_dim=6, activation='relu'))\n",
    "model.add(Dense(12, activation='relu'))\n",
    "model.add(Dense(4, activation='sigmoid'))\n",
    "\n",
    "\n",
    "model.compile(loss='binary_crossentropy', optimizer='adam', metrics=['accuracy'])\n",
    "model.summary()"
   ]
  },
  {
   "cell_type": "code",
   "execution_count": 12,
   "metadata": {},
   "outputs": [
    {
     "name": "stdout",
     "output_type": "stream",
     "text": [
      "Train on 24667 samples, validate on 6167 samples\n",
      "Epoch 1/100\n",
      "24667/24667 [==============================] - 0s 13us/step - loss: 0.6880 - accuracy: 0.5622 - val_loss: 0.6704 - val_accuracy: 0.6291\n",
      "Epoch 2/100\n",
      "24667/24667 [==============================] - 0s 5us/step - loss: 0.6501 - accuracy: 0.6272 - val_loss: 0.6237 - val_accuracy: 0.6309\n",
      "Epoch 3/100\n",
      "24667/24667 [==============================] - 0s 5us/step - loss: 0.5967 - accuracy: 0.6261 - val_loss: 0.5681 - val_accuracy: 0.6285\n",
      "Epoch 4/100\n",
      "24667/24667 [==============================] - 0s 5us/step - loss: 0.5506 - accuracy: 0.6358 - val_loss: 0.5372 - val_accuracy: 0.6300\n",
      "Epoch 5/100\n",
      "24667/24667 [==============================] - 0s 5us/step - loss: 0.5313 - accuracy: 0.6352 - val_loss: 0.5271 - val_accuracy: 0.6268\n",
      "Epoch 6/100\n",
      "24667/24667 [==============================] - 0s 4us/step - loss: 0.5251 - accuracy: 0.6342 - val_loss: 0.5238 - val_accuracy: 0.6283\n",
      "Epoch 7/100\n",
      "24667/24667 [==============================] - 0s 5us/step - loss: 0.5226 - accuracy: 0.6338 - val_loss: 0.5219 - val_accuracy: 0.6300\n",
      "Epoch 8/100\n",
      "24667/24667 [==============================] - 0s 5us/step - loss: 0.5213 - accuracy: 0.6353 - val_loss: 0.5209 - val_accuracy: 0.6310\n",
      "Epoch 9/100\n",
      "24667/24667 [==============================] - 0s 5us/step - loss: 0.5205 - accuracy: 0.6355 - val_loss: 0.5203 - val_accuracy: 0.6359\n",
      "Epoch 10/100\n",
      "24667/24667 [==============================] - 0s 5us/step - loss: 0.5200 - accuracy: 0.6349 - val_loss: 0.5199 - val_accuracy: 0.6362\n",
      "Epoch 11/100\n",
      "24667/24667 [==============================] - 0s 5us/step - loss: 0.5196 - accuracy: 0.6356 - val_loss: 0.5195 - val_accuracy: 0.6384\n",
      "Epoch 12/100\n",
      "24667/24667 [==============================] - 0s 5us/step - loss: 0.5194 - accuracy: 0.6375 - val_loss: 0.5194 - val_accuracy: 0.6392\n",
      "Epoch 13/100\n",
      "24667/24667 [==============================] - 0s 5us/step - loss: 0.5191 - accuracy: 0.6406 - val_loss: 0.5191 - val_accuracy: 0.6364\n",
      "Epoch 14/100\n",
      "24667/24667 [==============================] - 0s 5us/step - loss: 0.5190 - accuracy: 0.6381 - val_loss: 0.5189 - val_accuracy: 0.6397\n",
      "Epoch 15/100\n",
      "24667/24667 [==============================] - 0s 5us/step - loss: 0.5188 - accuracy: 0.6427 - val_loss: 0.5187 - val_accuracy: 0.6398\n",
      "Epoch 16/100\n",
      "24667/24667 [==============================] - 0s 5us/step - loss: 0.5186 - accuracy: 0.6422 - val_loss: 0.5184 - val_accuracy: 0.6418\n",
      "Epoch 17/100\n",
      "24667/24667 [==============================] - 0s 4us/step - loss: 0.5184 - accuracy: 0.6411 - val_loss: 0.5182 - val_accuracy: 0.6416\n",
      "Epoch 18/100\n",
      "24667/24667 [==============================] - 0s 5us/step - loss: 0.5182 - accuracy: 0.6415 - val_loss: 0.5181 - val_accuracy: 0.6411\n",
      "Epoch 19/100\n",
      "24667/24667 [==============================] - 0s 4us/step - loss: 0.5180 - accuracy: 0.6432 - val_loss: 0.5180 - val_accuracy: 0.6425\n",
      "Epoch 20/100\n",
      "24667/24667 [==============================] - 0s 5us/step - loss: 0.5179 - accuracy: 0.6428 - val_loss: 0.5179 - val_accuracy: 0.6422\n",
      "Epoch 21/100\n",
      "24667/24667 [==============================] - 0s 6us/step - loss: 0.5179 - accuracy: 0.6424 - val_loss: 0.5178 - val_accuracy: 0.6454\n",
      "Epoch 22/100\n",
      "24667/24667 [==============================] - 0s 5us/step - loss: 0.5178 - accuracy: 0.6436 - val_loss: 0.5178 - val_accuracy: 0.6456\n",
      "Epoch 23/100\n",
      "24667/24667 [==============================] - 0s 5us/step - loss: 0.5176 - accuracy: 0.6433 - val_loss: 0.5175 - val_accuracy: 0.6419\n",
      "Epoch 24/100\n",
      "24667/24667 [==============================] - 0s 5us/step - loss: 0.5174 - accuracy: 0.6448 - val_loss: 0.5176 - val_accuracy: 0.6430\n",
      "Epoch 25/100\n",
      "24667/24667 [==============================] - 0s 5us/step - loss: 0.5174 - accuracy: 0.6447 - val_loss: 0.5173 - val_accuracy: 0.6420\n",
      "Epoch 26/100\n",
      "24667/24667 [==============================] - 0s 5us/step - loss: 0.5173 - accuracy: 0.6456 - val_loss: 0.5172 - val_accuracy: 0.6424\n",
      "Epoch 27/100\n",
      "24667/24667 [==============================] - 0s 5us/step - loss: 0.5171 - accuracy: 0.6445 - val_loss: 0.5173 - val_accuracy: 0.6497\n",
      "Epoch 28/100\n",
      "24667/24667 [==============================] - 0s 5us/step - loss: 0.5171 - accuracy: 0.6449 - val_loss: 0.5171 - val_accuracy: 0.6464\n",
      "Epoch 29/100\n",
      "24667/24667 [==============================] - 0s 5us/step - loss: 0.5170 - accuracy: 0.6448 - val_loss: 0.5170 - val_accuracy: 0.6461\n",
      "Epoch 30/100\n",
      "24667/24667 [==============================] - 0s 5us/step - loss: 0.5169 - accuracy: 0.6442 - val_loss: 0.5170 - val_accuracy: 0.6492\n",
      "Epoch 31/100\n",
      "24667/24667 [==============================] - 0s 5us/step - loss: 0.5169 - accuracy: 0.6457 - val_loss: 0.5171 - val_accuracy: 0.6497\n",
      "Epoch 32/100\n",
      "24667/24667 [==============================] - 0s 5us/step - loss: 0.5169 - accuracy: 0.6470 - val_loss: 0.5169 - val_accuracy: 0.6503\n",
      "Epoch 33/100\n",
      "24667/24667 [==============================] - 0s 5us/step - loss: 0.5168 - accuracy: 0.6454 - val_loss: 0.5169 - val_accuracy: 0.6476\n",
      "Epoch 34/100\n",
      "24667/24667 [==============================] - 0s 5us/step - loss: 0.5167 - accuracy: 0.6477 - val_loss: 0.5167 - val_accuracy: 0.6476\n",
      "Epoch 35/100\n",
      "24667/24667 [==============================] - 0s 5us/step - loss: 0.5167 - accuracy: 0.6471 - val_loss: 0.5166 - val_accuracy: 0.6491\n",
      "Epoch 36/100\n",
      "24667/24667 [==============================] - 0s 5us/step - loss: 0.5166 - accuracy: 0.6465 - val_loss: 0.5166 - val_accuracy: 0.6503\n",
      "Epoch 37/100\n",
      "24667/24667 [==============================] - 0s 5us/step - loss: 0.5166 - accuracy: 0.6478 - val_loss: 0.5165 - val_accuracy: 0.6513\n",
      "Epoch 38/100\n",
      "24667/24667 [==============================] - 0s 4us/step - loss: 0.5164 - accuracy: 0.6475 - val_loss: 0.5165 - val_accuracy: 0.6508\n",
      "Epoch 39/100\n",
      "24667/24667 [==============================] - 0s 5us/step - loss: 0.5164 - accuracy: 0.6474 - val_loss: 0.5164 - val_accuracy: 0.6484\n",
      "Epoch 40/100\n",
      "24667/24667 [==============================] - 0s 5us/step - loss: 0.5164 - accuracy: 0.6481 - val_loss: 0.5164 - val_accuracy: 0.6487\n",
      "Epoch 41/100\n",
      "24667/24667 [==============================] - 0s 5us/step - loss: 0.5163 - accuracy: 0.6486 - val_loss: 0.5162 - val_accuracy: 0.6511\n",
      "Epoch 42/100\n",
      "24667/24667 [==============================] - 0s 5us/step - loss: 0.5162 - accuracy: 0.6486 - val_loss: 0.5162 - val_accuracy: 0.6488\n",
      "Epoch 43/100\n",
      "24667/24667 [==============================] - 0s 5us/step - loss: 0.5163 - accuracy: 0.6479 - val_loss: 0.5161 - val_accuracy: 0.6514\n",
      "Epoch 44/100\n",
      "24667/24667 [==============================] - 0s 4us/step - loss: 0.5161 - accuracy: 0.6497 - val_loss: 0.5161 - val_accuracy: 0.6527\n",
      "Epoch 45/100\n",
      "24667/24667 [==============================] - 0s 5us/step - loss: 0.5161 - accuracy: 0.6494 - val_loss: 0.5161 - val_accuracy: 0.6538\n",
      "Epoch 46/100\n",
      "24667/24667 [==============================] - 0s 5us/step - loss: 0.5160 - accuracy: 0.6501 - val_loss: 0.5159 - val_accuracy: 0.6545\n",
      "Epoch 47/100\n",
      "24667/24667 [==============================] - 0s 5us/step - loss: 0.5159 - accuracy: 0.6491 - val_loss: 0.5159 - val_accuracy: 0.6520\n",
      "Epoch 48/100\n",
      "24667/24667 [==============================] - 0s 5us/step - loss: 0.5159 - accuracy: 0.6513 - val_loss: 0.5158 - val_accuracy: 0.6540\n",
      "Epoch 49/100\n",
      "24667/24667 [==============================] - 0s 5us/step - loss: 0.5159 - accuracy: 0.6498 - val_loss: 0.5159 - val_accuracy: 0.6541\n",
      "Epoch 50/100\n",
      "24667/24667 [==============================] - 0s 5us/step - loss: 0.5157 - accuracy: 0.6507 - val_loss: 0.5161 - val_accuracy: 0.6504\n",
      "Epoch 51/100\n",
      "24667/24667 [==============================] - 0s 5us/step - loss: 0.5158 - accuracy: 0.6508 - val_loss: 0.5156 - val_accuracy: 0.6550\n",
      "Epoch 52/100\n",
      "24667/24667 [==============================] - 0s 5us/step - loss: 0.5157 - accuracy: 0.6512 - val_loss: 0.5155 - val_accuracy: 0.6557\n",
      "Epoch 53/100\n",
      "24667/24667 [==============================] - 0s 4us/step - loss: 0.5156 - accuracy: 0.6522 - val_loss: 0.5155 - val_accuracy: 0.6547\n",
      "Epoch 54/100\n",
      "24667/24667 [==============================] - 0s 5us/step - loss: 0.5156 - accuracy: 0.6523 - val_loss: 0.5155 - val_accuracy: 0.6543\n",
      "Epoch 55/100\n",
      "24667/24667 [==============================] - 0s 5us/step - loss: 0.5156 - accuracy: 0.6518 - val_loss: 0.5158 - val_accuracy: 0.6520\n",
      "Epoch 56/100\n"
     ]
    },
    {
     "name": "stdout",
     "output_type": "stream",
     "text": [
      "24667/24667 [==============================] - 0s 5us/step - loss: 0.5157 - accuracy: 0.6521 - val_loss: 0.5153 - val_accuracy: 0.6555\n",
      "Epoch 57/100\n",
      "24667/24667 [==============================] - 0s 4us/step - loss: 0.5154 - accuracy: 0.6529 - val_loss: 0.5153 - val_accuracy: 0.6557\n",
      "Epoch 58/100\n",
      "24667/24667 [==============================] - 0s 4us/step - loss: 0.5154 - accuracy: 0.6546 - val_loss: 0.5153 - val_accuracy: 0.6558\n",
      "Epoch 59/100\n",
      "24667/24667 [==============================] - 0s 4us/step - loss: 0.5154 - accuracy: 0.6528 - val_loss: 0.5153 - val_accuracy: 0.6560\n",
      "Epoch 60/100\n",
      "24667/24667 [==============================] - 0s 4us/step - loss: 0.5154 - accuracy: 0.6544 - val_loss: 0.5154 - val_accuracy: 0.6571\n",
      "Epoch 61/100\n",
      "24667/24667 [==============================] - 0s 4us/step - loss: 0.5153 - accuracy: 0.6536 - val_loss: 0.5153 - val_accuracy: 0.6528\n",
      "Epoch 62/100\n",
      "24667/24667 [==============================] - 0s 4us/step - loss: 0.5153 - accuracy: 0.6542 - val_loss: 0.5154 - val_accuracy: 0.6585\n",
      "Epoch 63/100\n",
      "24667/24667 [==============================] - 0s 4us/step - loss: 0.5152 - accuracy: 0.6546 - val_loss: 0.5153 - val_accuracy: 0.6565\n",
      "Epoch 64/100\n",
      "24667/24667 [==============================] - 0s 4us/step - loss: 0.5151 - accuracy: 0.6550 - val_loss: 0.5151 - val_accuracy: 0.6587\n",
      "Epoch 65/100\n",
      "24667/24667 [==============================] - 0s 4us/step - loss: 0.5152 - accuracy: 0.6554 - val_loss: 0.5151 - val_accuracy: 0.6585\n",
      "Epoch 66/100\n",
      "24667/24667 [==============================] - 0s 4us/step - loss: 0.5150 - accuracy: 0.6551 - val_loss: 0.5150 - val_accuracy: 0.6580\n",
      "Epoch 67/100\n",
      "24667/24667 [==============================] - 0s 4us/step - loss: 0.5150 - accuracy: 0.6552 - val_loss: 0.5149 - val_accuracy: 0.6581\n",
      "Epoch 68/100\n",
      "24667/24667 [==============================] - 0s 4us/step - loss: 0.5151 - accuracy: 0.6557 - val_loss: 0.5149 - val_accuracy: 0.6578\n",
      "Epoch 69/100\n",
      "24667/24667 [==============================] - 0s 4us/step - loss: 0.5150 - accuracy: 0.6564 - val_loss: 0.5150 - val_accuracy: 0.6586\n",
      "Epoch 70/100\n",
      "24667/24667 [==============================] - 0s 4us/step - loss: 0.5149 - accuracy: 0.6557 - val_loss: 0.5150 - val_accuracy: 0.6576\n",
      "Epoch 71/100\n",
      "24667/24667 [==============================] - 0s 4us/step - loss: 0.5149 - accuracy: 0.6556 - val_loss: 0.5147 - val_accuracy: 0.6597\n",
      "Epoch 72/100\n",
      "24667/24667 [==============================] - 0s 4us/step - loss: 0.5149 - accuracy: 0.6553 - val_loss: 0.5149 - val_accuracy: 0.6587\n",
      "Epoch 73/100\n",
      "24667/24667 [==============================] - 0s 4us/step - loss: 0.5148 - accuracy: 0.6568 - val_loss: 0.5147 - val_accuracy: 0.6603\n",
      "Epoch 74/100\n",
      "24667/24667 [==============================] - 0s 4us/step - loss: 0.5148 - accuracy: 0.6562 - val_loss: 0.5148 - val_accuracy: 0.6583\n",
      "Epoch 75/100\n",
      "24667/24667 [==============================] - 0s 4us/step - loss: 0.5148 - accuracy: 0.6560 - val_loss: 0.5148 - val_accuracy: 0.6590\n",
      "Epoch 76/100\n",
      "24667/24667 [==============================] - 0s 4us/step - loss: 0.5148 - accuracy: 0.6561 - val_loss: 0.5147 - val_accuracy: 0.6592\n",
      "Epoch 77/100\n",
      "24667/24667 [==============================] - 0s 4us/step - loss: 0.5148 - accuracy: 0.6569 - val_loss: 0.5146 - val_accuracy: 0.6602\n",
      "Epoch 78/100\n",
      "24667/24667 [==============================] - 0s 4us/step - loss: 0.5148 - accuracy: 0.6562 - val_loss: 0.5145 - val_accuracy: 0.6608\n",
      "Epoch 79/100\n",
      "24667/24667 [==============================] - 0s 4us/step - loss: 0.5146 - accuracy: 0.6561 - val_loss: 0.5146 - val_accuracy: 0.6599\n",
      "Epoch 80/100\n",
      "24667/24667 [==============================] - 0s 4us/step - loss: 0.5146 - accuracy: 0.6570 - val_loss: 0.5144 - val_accuracy: 0.6604\n",
      "Epoch 81/100\n",
      "24667/24667 [==============================] - 0s 4us/step - loss: 0.5146 - accuracy: 0.6562 - val_loss: 0.5145 - val_accuracy: 0.6581\n",
      "Epoch 82/100\n",
      "24667/24667 [==============================] - 0s 4us/step - loss: 0.5146 - accuracy: 0.6572 - val_loss: 0.5145 - val_accuracy: 0.6591\n",
      "Epoch 83/100\n",
      "24667/24667 [==============================] - 0s 4us/step - loss: 0.5145 - accuracy: 0.6575 - val_loss: 0.5143 - val_accuracy: 0.6605\n",
      "Epoch 84/100\n",
      "24667/24667 [==============================] - 0s 4us/step - loss: 0.5146 - accuracy: 0.6569 - val_loss: 0.5143 - val_accuracy: 0.6607\n",
      "Epoch 85/100\n",
      "24667/24667 [==============================] - 0s 4us/step - loss: 0.5145 - accuracy: 0.6575 - val_loss: 0.5145 - val_accuracy: 0.6610\n",
      "Epoch 86/100\n",
      "24667/24667 [==============================] - 0s 4us/step - loss: 0.5145 - accuracy: 0.6562 - val_loss: 0.5143 - val_accuracy: 0.6583\n",
      "Epoch 87/100\n",
      "24667/24667 [==============================] - 0s 4us/step - loss: 0.5144 - accuracy: 0.6580 - val_loss: 0.5144 - val_accuracy: 0.6591\n",
      "Epoch 88/100\n",
      "24667/24667 [==============================] - 0s 4us/step - loss: 0.5143 - accuracy: 0.6576 - val_loss: 0.5142 - val_accuracy: 0.6602\n",
      "Epoch 89/100\n",
      "24667/24667 [==============================] - 0s 5us/step - loss: 0.5143 - accuracy: 0.6579 - val_loss: 0.5144 - val_accuracy: 0.6564\n",
      "Epoch 90/100\n",
      "24667/24667 [==============================] - 0s 5us/step - loss: 0.5143 - accuracy: 0.6578 - val_loss: 0.5143 - val_accuracy: 0.6576\n",
      "Epoch 91/100\n",
      "24667/24667 [==============================] - 0s 6us/step - loss: 0.5143 - accuracy: 0.6578 - val_loss: 0.5141 - val_accuracy: 0.6600\n",
      "Epoch 92/100\n",
      "24667/24667 [==============================] - 0s 6us/step - loss: 0.5142 - accuracy: 0.6578 - val_loss: 0.5141 - val_accuracy: 0.6606\n",
      "Epoch 93/100\n",
      "24667/24667 [==============================] - 0s 5us/step - loss: 0.5142 - accuracy: 0.6580 - val_loss: 0.5140 - val_accuracy: 0.6623\n",
      "Epoch 94/100\n",
      "24667/24667 [==============================] - 0s 9us/step - loss: 0.5142 - accuracy: 0.6572 - val_loss: 0.5139 - val_accuracy: 0.6612\n",
      "Epoch 95/100\n",
      "24667/24667 [==============================] - 0s 5us/step - loss: 0.5142 - accuracy: 0.6573 - val_loss: 0.5141 - val_accuracy: 0.6603\n",
      "Epoch 96/100\n",
      "24667/24667 [==============================] - 0s 4us/step - loss: 0.5141 - accuracy: 0.6582 - val_loss: 0.5140 - val_accuracy: 0.6615\n",
      "Epoch 97/100\n",
      "24667/24667 [==============================] - 0s 5us/step - loss: 0.5140 - accuracy: 0.6588 - val_loss: 0.5139 - val_accuracy: 0.6628\n",
      "Epoch 98/100\n",
      "24667/24667 [==============================] - 0s 5us/step - loss: 0.5141 - accuracy: 0.6570 - val_loss: 0.5139 - val_accuracy: 0.6625\n",
      "Epoch 99/100\n",
      "24667/24667 [==============================] - 0s 8us/step - loss: 0.5140 - accuracy: 0.6587 - val_loss: 0.5142 - val_accuracy: 0.6611\n",
      "Epoch 100/100\n",
      "24667/24667 [==============================] - 0s 5us/step - loss: 0.5140 - accuracy: 0.6580 - val_loss: 0.5140 - val_accuracy: 0.6575\n"
     ]
    }
   ],
   "source": [
    "history = model.fit(X_train_nomood, y_train, epochs=100, validation_split=0.2, batch_size=512)"
   ]
  },
  {
   "cell_type": "code",
   "execution_count": 13,
   "metadata": {},
   "outputs": [
    {
     "name": "stdout",
     "output_type": "stream",
     "text": [
      "Test loss: 0.5139\n",
      "Test accuracy: 65.83 %\n"
     ]
    }
   ],
   "source": [
    "score = model.evaluate(X_train_nomood, y_train, verbose=0)\n",
    "print('Test loss:', round(score[0],4))\n",
    "print('Test accuracy:', round(score[1]*100,2), \"%\")"
   ]
  },
  {
   "cell_type": "code",
   "execution_count": 14,
   "metadata": {},
   "outputs": [
    {
     "data": {
      "image/png": "[encoded data removed]",
      "text/plain": [
       "<Figure size 432x288 with 1 Axes>"
      ]
     },
     "metadata": {
      "needs_background": "light"
     },
     "output_type": "display_data"
    }
   ],
   "source": [
    "# Plot training & validation accuracy values\n",
    "plt.plot(history.history['accuracy'])\n",
    "plt.plot(history.history['val_accuracy'])\n",
    "plt.title('Model accuracy')\n",
    "plt.ylabel('Accuracy')\n",
    "plt.xlabel('Epoch')\n",
    "plt.legend(['Train', 'Validation'], loc='upper left')\n",
    "plt.show()"
   ]
  },
  {
   "cell_type": "code",
   "execution_count": 15,
   "metadata": {},
   "outputs": [
    {
     "data": {
      "image/png": "[encoded data removed]",
      "text/plain": [
       "<Figure size 432x288 with 1 Axes>"
      ]
     },
     "metadata": {
      "needs_background": "light"
     },
     "output_type": "display_data"
    }
   ],
   "source": [
    "# Plot training & validation loss values\n",
    "plt.plot(history.history['loss'])\n",
    "plt.plot(history.history['val_loss'])\n",
    "plt.title('Model loss')\n",
    "plt.ylabel('Loss')\n",
    "plt.xlabel('Epoch')\n",
    "plt.legend(['Train', 'Validation'], loc='upper left')\n",
    "plt.show()"
   ]
  },
  {
   "cell_type": "code",
   "execution_count": 16,
   "metadata": {},
   "outputs": [],
   "source": [
    "y_pred = model.predict(X_test_nomood)\n",
    "binary_pred = []\n",
    "for i in y_pred:\n",
    "    temp_list = []\n",
    "    for binary in i:\n",
    "        if binary >= 0.5:\n",
    "            temp_list.append(1)\n",
    "        else:\n",
    "            temp_list.append(0)\n",
    "    binary_pred.append(temp_list)\n",
    "\n",
    "binary_prediction = pd.DataFrame(data=binary_pred, columns=['content_0', 'content_1', 'content_2', 'content_3'])"
   ]
  },
  {
   "cell_type": "code",
   "execution_count": 17,
   "metadata": {},
   "outputs": [
    {
     "data": {
      "text/plain": [
       "2645"
      ]
     },
     "execution_count": 17,
     "metadata": {},
     "output_type": "execute_result"
    }
   ],
   "source": [
    "len(binary_prediction)"
   ]
  },
  {
   "cell_type": "code",
   "execution_count": 18,
   "metadata": {},
   "outputs": [
    {
     "name": "stdout",
     "output_type": "stream",
     "text": [
      "Accuracy is: 12.438563327032135\n"
     ]
    }
   ],
   "source": [
    "a = accuracy_score(binary_prediction, y_test)\n",
    "print('Accuracy is:', a*100)"
   ]
  },
  {
   "cell_type": "code",
   "execution_count": 19,
   "metadata": {},
   "outputs": [],
   "source": [
    "pred = []\n",
    "for index, row in binary_prediction.iterrows():\n",
    "    if row['content_0'] == 0:\n",
    "        if row['content_1'] == 0:\n",
    "            if row['content_2'] == 0:\n",
    "                if row['content_3'] == 1:\n",
    "                    pred.append(0)\n",
    "                if row['content_3'] == 0:\n",
    "                    pred.append(0)\n",
    "            if row['content_2'] == 1:\n",
    "                if row['content_3'] == 0:\n",
    "                    pred.append(3)\n",
    "                if row['content_3'] == 1:\n",
    "                    pred.append(2)\n",
    "        if row['content_1'] == 1:\n",
    "            if row['content_2'] == 0:\n",
    "                if row['content_3'] == 0:\n",
    "                    pred.append(1)\n",
    "                if row['content_3'] == 1:\n",
    "                    pred.append(5)\n",
    "            if row['content_2'] == 1:\n",
    "                if row['content_3'] == 0:\n",
    "                    pred.append(4)\n",
    "                if row['content_3'] == 1:\n",
    "                    pred.append(2)"
   ]
  },
  {
   "cell_type": "code",
   "execution_count": 20,
   "metadata": {},
   "outputs": [
    {
     "data": {
      "text/plain": [
       "2645"
      ]
     },
     "execution_count": 20,
     "metadata": {},
     "output_type": "execute_result"
    }
   ],
   "source": [
    "len(pred)"
   ]
  },
  {
   "cell_type": "code",
   "execution_count": 21,
   "metadata": {},
   "outputs": [],
   "source": [
    "# Inverse y_test\n",
    "test_df = binary_encoder.inverse_transform(y_test)\n",
    "test = test_df['content'].tolist()"
   ]
  },
  {
   "cell_type": "code",
   "execution_count": 23,
   "metadata": {},
   "outputs": [
    {
     "name": "stdout",
     "output_type": "stream",
     "text": [
      "        Same Dif\n",
      "correct 279 125\n",
      "wrong   1502 739\n",
      "\n",
      "Accuracy of table is:  0.15274102079395085\n",
      "Accuracy of model is:  0.12438563327032136\n"
     ]
    }
   ],
   "source": [
    "# true = y_test\n",
    "# pred = y_pred\n",
    "# last_value = X_bored_lastarray\n",
    "same_correct = 0\n",
    "same_wrong = 0\n",
    "dif_correct = 0\n",
    "dif_wrong = 0\n",
    "\n",
    "X_test_bored = X_test_onlylastmood['content_last'].to_numpy()\n",
    "for i in range(len(pred)):\n",
    "    if (test[i] == X_test_bored[i]) and (test[i] == pred[i]):\n",
    "        same_correct += 1\n",
    "    if (test[i] == X_test_bored[i]) and (test[i] != pred[i]):\n",
    "        same_wrong += 1\n",
    "    if (test[i] != X_test_bored[i]) and (test[i] == pred[i]):\n",
    "        dif_correct += 1\n",
    "    if (test[i] != X_test_bored[i]) and (test[i] != pred[i]):\n",
    "        dif_wrong += 1   \n",
    "\n",
    "print(\"       \", \"Same\", \"Dif\")\n",
    "print(\"correct\", same_correct, dif_correct)\n",
    "print(\"wrong  \", same_wrong, dif_wrong)\n",
    "\n",
    "#Check if table is similar to accuracy\n",
    "print(\"\")\n",
    "print(\"Accuracy of table is: \", ((same_correct+dif_correct) / (same_correct+dif_correct+same_wrong+dif_wrong)))\n",
    "print(\"Accuracy of model is: \", a)"
   ]
  },
  {
   "cell_type": "code",
   "execution_count": 24,
   "metadata": {},
   "outputs": [
    {
     "name": "stdout",
     "output_type": "stream",
     "text": [
      "Predicted valxues:  Counter({3: 917, 5: 658, 2: 486, 0: 372, 4: 208, 1: 4})\n",
      "True values:  Counter({0: 1264, 1: 491, 2: 455, 3: 301, 4: 119, 5: 15})\n"
     ]
    }
   ],
   "source": [
    "from collections import Counter\n",
    "print(\"Predicted valxues: \", Counter(pred))\n",
    "print(\"True values: \", Counter(test))"
   ]
  },
  {
   "cell_type": "code",
   "execution_count": 25,
   "metadata": {},
   "outputs": [
    {
     "name": "stdout",
     "output_type": "stream",
     "text": [
      "Total length:  2645\n",
      "Same Correct 0 guesses is:  159\n",
      "Same Wrong 0 guesses is:  880\n",
      "Dif Correct 0 guesses is:  40\n",
      "Dif Wrong 0 guesses is:  185\n",
      "\n",
      "Same Correct 1 guesses is:  0\n",
      "Same Wrong 1 guesses is:  272\n",
      "Dif Correct 1 guesses is:  0\n",
      "Dif Wrong 1 guesses is:  219\n",
      "\n",
      "Same Correct 2 guesses is:  40\n",
      "Same Wrong 2 guesses is:  192\n",
      "Dif Correct 2 guesses is:  40\n",
      "Dif Wrong 2 guesses is:  183\n",
      "\n",
      "Same Correct 3 guesses is:  80\n",
      "Same Wrong 3 guesses is:  103\n",
      "Dif Correct 3 guesses is:  37\n",
      "Dif Wrong 3 guesses is:  81\n",
      "\n",
      "Same Correct 4 guesses is:  0\n",
      "Same Wrong 4 guesses is:  55\n",
      "Dif Correct 4 guesses is:  5\n",
      "Dif Wrong 4 guesses is:  59\n",
      "\n",
      "Same Correct 5 guesses is:  0\n",
      "Same Wrong 5 guesses is:  0\n",
      "Dif Correct 5 guesses is:  3\n",
      "Dif Wrong 5 guesses is:  12\n"
     ]
    }
   ],
   "source": [
    "same_correct_0, same_wrong_0, same_correct_1, same_wrong_1, same_correct_2, same_wrong_2, same_correct_3, same_wrong_3, same_correct_4, same_wrong_4, same_correct_5, same_wrong_5 = (0, 0, 0, 0, 0, 0, 0, 0, 0, 0, 0, 0)\n",
    "dif_correct_0, dif_wrong_0, dif_correct_1, dif_wrong_1, dif_correct_2, dif_wrong_2, dif_correct_3, dif_wrong_3, dif_correct_4, dif_wrong_4, dif_correct_5, dif_wrong_5 = (0, 0, 0, 0, 0, 0, 0, 0, 0, 0, 0, 0)\n",
    "\n",
    "for i in range(len(pred)):\n",
    "    if test[i] == 0 and pred[i] == 0:\n",
    "        if test[i] == X_test_bored[i]:\n",
    "            same_correct_0 += 1\n",
    "        if test[i] != X_test_bored[i]:\n",
    "            dif_correct_0 += 1\n",
    "    if test[i] == 0 and pred[i] != 0:\n",
    "        if test[i] == X_test_bored[i]:\n",
    "            same_wrong_0 += 1\n",
    "        if test[i] != X_test_bored[i]:\n",
    "            dif_wrong_0 += 1\n",
    "\n",
    "    if test[i] == 1 and pred[i] == 1:\n",
    "        if test[i] == X_test_bored[i]:\n",
    "            same_correct_1 += 1\n",
    "        if test[i] != X_test_bored[i]:\n",
    "            dif_correct_1 += 1\n",
    "    if test[i] == 1 and pred[i] != 1:\n",
    "        if test[i] == X_test_bored[i]:\n",
    "            same_wrong_1 += 1\n",
    "        if test[i] != X_test_bored[i]:\n",
    "            dif_wrong_1 += 1\n",
    "        \n",
    "    if test[i] == 2 and pred[i] == 2:\n",
    "        if test[i] == X_test_bored[i]:\n",
    "            same_correct_2 += 1\n",
    "        if test[i] != X_test_bored[i]:\n",
    "            dif_correct_2 += 1\n",
    "    if test[i] == 2 and pred[i] != 2:\n",
    "        if test[i] == X_test_bored[i]:\n",
    "            same_wrong_2 += 1\n",
    "        if test[i] != X_test_bored[i]:\n",
    "            dif_wrong_2 += 1\n",
    "    \n",
    "    if test[i] == 3 and pred[i] == 3:\n",
    "        if test[i] == X_test_bored[i]:\n",
    "            same_correct_3 += 1\n",
    "        if test[i] != X_test_bored[i]:\n",
    "            dif_correct_3 += 1\n",
    "    if test[i] == 3 and pred[i] != 3:\n",
    "        if test[i] == X_test_bored[i]:\n",
    "            same_wrong_3 += 1\n",
    "        if test[i] != X_test_bored[i]:\n",
    "            dif_wrong_3 += 1\n",
    "        \n",
    "    if test[i] == 4 and pred[i] == 4:\n",
    "        if test[i] == X_test_bored[i]:\n",
    "            same_correct_4 += 1\n",
    "        if test[i] != X_test_bored[i]:\n",
    "            dif_correct_4 += 1\n",
    "    if test[i] == 4 and pred[i] != 4:\n",
    "        if test[i] == X_test_bored[i]:\n",
    "            same_wrong_4 += 1\n",
    "        if test[i] != X_test_bored[i]:\n",
    "            dif_wrong_4 += 1\n",
    "    \n",
    "    if test[i] == 5 and pred[i] == 5:\n",
    "        if test[i] == X_test_bored[i]:\n",
    "            same_correct_5 += 1\n",
    "        if test[i] != X_test_bored[i]:\n",
    "            dif_correct_5 += 1\n",
    "    if test[i] == 5 and pred[i] != 5:\n",
    "        if test[i] == X_test_bored[i]:\n",
    "            same_wrong_5 += 1\n",
    "        if test[i] != X_test_bored[i]:\n",
    "            dif_wrong_5 += 1\n",
    "\n",
    "print(\"Total length: \", len(X_test_bored))\n",
    "\n",
    "print(\"Same Correct 0 guesses is: \", same_correct_0)\n",
    "print(\"Same Wrong 0 guesses is: \", same_wrong_0)\n",
    "print(\"Dif Correct 0 guesses is: \", dif_correct_0)\n",
    "print(\"Dif Wrong 0 guesses is: \", dif_wrong_0)\n",
    "print('')\n",
    "print(\"Same Correct 1 guesses is: \", same_correct_1)\n",
    "print(\"Same Wrong 1 guesses is: \", same_wrong_1)\n",
    "print(\"Dif Correct 1 guesses is: \", dif_correct_1)\n",
    "print(\"Dif Wrong 1 guesses is: \", dif_wrong_1)\n",
    "print('')\n",
    "print(\"Same Correct 2 guesses is: \", same_correct_2)\n",
    "print(\"Same Wrong 2 guesses is: \", same_wrong_2)\n",
    "print(\"Dif Correct 2 guesses is: \", dif_correct_2)\n",
    "print(\"Dif Wrong 2 guesses is: \", dif_wrong_2)\n",
    "print('')\n",
    "print(\"Same Correct 3 guesses is: \", same_correct_3)\n",
    "print(\"Same Wrong 3 guesses is: \", same_wrong_3)\n",
    "print(\"Dif Correct 3 guesses is: \", dif_correct_3)\n",
    "print(\"Dif Wrong 3 guesses is: \", dif_wrong_3)\n",
    "print('')\n",
    "print(\"Same Correct 4 guesses is: \", same_correct_4)\n",
    "print(\"Same Wrong 4 guesses is: \", same_wrong_4)\n",
    "print(\"Dif Correct 4 guesses is: \", dif_correct_4)\n",
    "print(\"Dif Wrong 4 guesses is: \", dif_wrong_4)\n",
    "print('')\n",
    "print(\"Same Correct 5 guesses is: \", same_correct_5)\n",
    "print(\"Same Wrong 5 guesses is: \", same_wrong_5)\n",
    "print(\"Dif Correct 5 guesses is: \", dif_correct_5)\n",
    "print(\"Dif Wrong 5 guesses is: \", dif_wrong_5)"
   ]
  },
  {
   "cell_type": "code",
   "execution_count": 27,
   "metadata": {},
   "outputs": [],
   "source": [
    "mae_0, mae_1, mae_2, mae_3, mae_4, mae_5 = (0,0,0,0,0,0)\n",
    "\n",
    "for i in range(len(pred)):\n",
    "    if test[i] == 0 and pred[i] != 0:\n",
    "        mae_0 += (abs(test[i]-pred[i]))\n",
    "    if test[i] == 1 and pred[i] != 1:\n",
    "        mae_1 += (abs(test[i]-pred[i]))\n",
    "    if test[i] == 2 and pred[i] != 2:\n",
    "        mae_2 += (abs(test[i]-pred[i]))\n",
    "    if test[i] == 3 and pred[i] != 3:\n",
    "        mae_3 += (abs(test[i]-pred[i]))\n",
    "    if test[i] == 4 and pred[i] != 4:\n",
    "        mae_4 += (abs(test[i]-pred[i]))\n",
    "    if test[i] == 5 and pred[i] != 5:\n",
    "        mae_5 += (abs(test[i]-pred[i]))\n",
    "\n",
    "cnt_0, cnt_1, cnt_2, cnt_3, cnt_4, cnt_5 = (0,0,0,0,0,0)\n",
    "for z in range(len(test)):\n",
    "    if test[z] == 0:\n",
    "        cnt_0 += 1\n",
    "    if test[z] == 1:\n",
    "        cnt_1 += 1\n",
    "    if test[z] == 2:\n",
    "        cnt_2 += 1\n",
    "    if test[z] == 3:\n",
    "        cnt_3 += 1\n",
    "    if test[z] == 4:\n",
    "        cnt_4 += 1\n",
    "    if test[z] == 5:\n",
    "        cnt_5 += 1\n",
    "\n",
    "mae_macroaverage = ((mae_0/cnt_0) + (mae_1/cnt_1) + (mae_2/cnt_2) + (mae_3/cnt_3) + (mae_4/cnt_4) + (mae_5/cnt_5)) / 6"
   ]
  },
  {
   "cell_type": "code",
   "execution_count": 30,
   "metadata": {},
   "outputs": [
    {
     "name": "stdout",
     "output_type": "stream",
     "text": [
      "Macro-averaged Mean Absolute error is:  1.9629\n",
      "Macro-averaged F1-score is:  0.1688\n"
     ]
    }
   ],
   "source": [
    "print(\"Macro-averaged Mean Absolute error is: \", round(mae_macroaverage, 4))\n",
    "print(\"Macro-averaged F1-score is: \", round(f1_score(test, pred, average='weighted'), 4))"
   ]
  },
  {
   "cell_type": "code",
   "execution_count": null,
   "metadata": {},
   "outputs": [],
   "source": []
  }
 ],
 "metadata": {
  "kernelspec": {
   "display_name": "Python 3",
   "language": "python",
   "name": "python3"
  },
  "language_info": {
   "codemirror_mode": {
    "name": "ipython",
    "version": 3
   },
   "file_extension": ".py",
   "mimetype": "text/x-python",
   "name": "python",
   "nbconvert_exporter": "python",
   "pygments_lexer": "ipython3",
   "version": "3.7.4"
  }
 },
 "nbformat": 4,
 "nbformat_minor": 2
}
