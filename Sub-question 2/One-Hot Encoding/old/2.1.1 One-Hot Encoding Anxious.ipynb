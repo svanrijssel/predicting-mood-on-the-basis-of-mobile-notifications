{
 "cells": [
  {
   "cell_type": "code",
   "execution_count": 2,
   "metadata": {},
   "outputs": [],
   "source": [
    "# Import packages\n",
    "import pandas as pd\n",
    "import numpy as np\n",
    "import datetime\n",
    "import category_encoders as ce\n",
    "from sklearn.preprocessing import LabelEncoder, MinMaxScaler, RobustScaler, OneHotEncoder, StandardScaler\n",
    "from sklearn.model_selection import train_test_split\n",
    "from sklearn.metrics import accuracy_score, mean_squared_error, cohen_kappa_score, mean_absolute_error, f1_score\n",
    "from sklearn.utils import shuffle\n",
    "from imblearn.over_sampling import SMOTE, SMOTENC\n",
    "import matplotlib.pyplot as plt\n",
    "from statsmodels.graphics.mosaicplot import mosaic\n",
    "from sklearn.decomposition import PCA\n",
    "from scipy import stats\n",
    "from math import sqrt\n",
    "\n",
    "\n",
    "\n",
    "import keras\n",
    "from keras.models import Sequential\n",
    "from keras.layers import Dense, Dropout, GaussianNoise\n",
    "from keras.optimizers import SGD\n",
    "from keras import regularizers"
   ]
  },
  {
   "cell_type": "code",
   "execution_count": 3,
   "metadata": {},
   "outputs": [],
   "source": [
    "path = \"/Users/Stijn/Documents/Master Data Science and Society/Block 3/thesis/code/thesis_Code/\"\n",
    "mood = pd.read_csv(path+'mood_imputed_median.csv', sep = ',', index_col=0)\n",
    "mood['anxious_last'] = mood.groupby('user_id')['anxious'].shift()\n",
    "mood.loc[(pd.isnull(mood.anxious_last)), 'anxious_last'] = mood['anxious']\n",
    "mood_anxious = mood.drop([\"bored\", \"content\", \"cheerful\", \"user_id\", \"response_time\"], axis=1)"
   ]
  },
  {
   "cell_type": "code",
   "execution_count": 5,
   "metadata": {},
   "outputs": [],
   "source": [
    "# Normalize predictors\n",
    "mood_normz = mood_anxious.copy()\n",
    "features_to_normalize = ['day_time_window', 'average_TimeUse', 'messaging', 'socialnetworking', 'otherapp']\n",
    "mood_normz[features_to_normalize] = mood_normz[features_to_normalize].apply(lambda x:(x-x.min()) / (x.max()-x.min()))"
   ]
  },
  {
   "cell_type": "code",
   "execution_count": 6,
   "metadata": {},
   "outputs": [],
   "source": [
    "# X = predictors, y = target\n",
    "X = mood_normz.iloc[:,1:]\n",
    "y = mood_normz.iloc[:, 0:1]\n",
    "\n",
    "# Convert float to int\n",
    "y = y.astype(int)"
   ]
  },
  {
   "cell_type": "code",
   "execution_count": 7,
   "metadata": {},
   "outputs": [],
   "source": [
    "# Train (80%) & Test set (20%)\n",
    "X_train, X_test, y_train, y_test = train_test_split(X, y, test_size=0.2, random_state=2)"
   ]
  },
  {
   "cell_type": "code",
   "execution_count": 9,
   "metadata": {},
   "outputs": [
    {
     "name": "stdout",
     "output_type": "stream",
     "text": [
      "Before OverSampling, counts of labels: 0    5768\n",
      "1    2035\n",
      "2    1576\n",
      "3     800\n",
      "4     294\n",
      "5     103\n",
      "Name: anxious, dtype: int64\n",
      "After OverSampling, counts of label '0': 5768\n",
      "After OverSampling, counts of label '1': 5768\n",
      "After OverSampling, counts of label '2': 5768\n",
      "After OverSampling, counts of label '3': 5768\n",
      "After OverSampling, counts of label '4': 5768\n",
      "After OverSampling, counts of label '5': 5768\n"
     ]
    }
   ],
   "source": [
    "# Oversampling unbalanced target\n",
    "print(\"Before OverSampling, counts of labels: {}\".format(y_train['anxious'].value_counts()))\n",
    "  \n",
    "sm = SMOTENC(categorical_features=[0, 2, 6], random_state = 2) \n",
    "X_train_res, y_train_res = sm.fit_sample(X_train, y_train['anxious'].ravel()) \n",
    "\n",
    "print(\"After OverSampling, counts of label '0': {}\".format(sum(y_train_res == 0))) \n",
    "print(\"After OverSampling, counts of label '1': {}\".format(sum(y_train_res == 1))) \n",
    "print(\"After OverSampling, counts of label '2': {}\".format(sum(y_train_res == 2))) \n",
    "print(\"After OverSampling, counts of label '3': {}\".format(sum(y_train_res == 3))) \n",
    "print(\"After OverSampling, counts of label '4': {}\".format(sum(y_train_res == 4))) \n",
    "print(\"After OverSampling, counts of label '5': {}\".format(sum(y_train_res == 5))) "
   ]
  },
  {
   "cell_type": "code",
   "execution_count": 10,
   "metadata": {},
   "outputs": [],
   "source": [
    "# Convert oversample dataset to Pandas DataFrame\n",
    "X_train = pd.DataFrame(data=X_train_res)\n",
    "y_train = pd.DataFrame(data=y_train_res)"
   ]
  },
  {
   "cell_type": "code",
   "execution_count": 11,
   "metadata": {},
   "outputs": [
    {
     "name": "stderr",
     "output_type": "stream",
     "text": [
      "/Users/Stijn/Library/Python/3.7/lib/python/site-packages/sklearn/preprocessing/_encoders.py:415: FutureWarning: The handling of integer data will change in version 0.22. Currently, the categories are determined based on the range [0, max(values)], while in the future they will be determined based on the unique values.\n",
      "If you want the future behaviour and silence this warning, you can specify \"categories='auto'\".\n",
      "In case you used a LabelEncoder before this OneHotEncoder to convert the categories to integers, then you can now use the OneHotEncoder directly.\n",
      "  warnings.warn(msg, FutureWarning)\n",
      "/Users/Stijn/Library/Python/3.7/lib/python/site-packages/sklearn/preprocessing/_encoders.py:415: FutureWarning: The handling of integer data will change in version 0.22. Currently, the categories are determined based on the range [0, max(values)], while in the future they will be determined based on the unique values.\n",
      "If you want the future behaviour and silence this warning, you can specify \"categories='auto'\".\n",
      "In case you used a LabelEncoder before this OneHotEncoder to convert the categories to integers, then you can now use the OneHotEncoder directly.\n",
      "  warnings.warn(msg, FutureWarning)\n"
     ]
    }
   ],
   "source": [
    "# OneHotEncoder for targets\n",
    "ohe = OneHotEncoder(sparse=False)\n",
    "y_train = ohe.fit_transform(y_train)\n",
    "y_test = ohe.fit_transform(y_test)"
   ]
  },
  {
   "cell_type": "code",
   "execution_count": 12,
   "metadata": {},
   "outputs": [],
   "source": [
    "# Shuffle both train and test set to cancel patterns\n",
    "X_train, y_train = shuffle(X_train, y_train)\n",
    "X_test, y_test = shuffle(X_test, y_test)"
   ]
  },
  {
   "cell_type": "code",
   "execution_count": 13,
   "metadata": {},
   "outputs": [],
   "source": [
    "X_train_nomood = X_train.iloc[:,:-1]\n",
    "X_train_onlylastmood = X_train.iloc[:,-1:]\n",
    "X_test_nomood = X_test.iloc[:,:-1]\n",
    "X_test_onlylastmood = X_test.iloc[:,-1:]"
   ]
  },
  {
   "cell_type": "code",
   "execution_count": 14,
   "metadata": {},
   "outputs": [
    {
     "name": "stdout",
     "output_type": "stream",
     "text": [
      "Model: \"sequential_1\"\n",
      "_________________________________________________________________\n",
      "Layer (type)                 Output Shape              Param #   \n",
      "=================================================================\n",
      "dense_1 (Dense)              (None, 24)                168       \n",
      "_________________________________________________________________\n",
      "dense_2 (Dense)              (None, 12)                300       \n",
      "_________________________________________________________________\n",
      "dense_3 (Dense)              (None, 6)                 78        \n",
      "=================================================================\n",
      "Total params: 546\n",
      "Trainable params: 546\n",
      "Non-trainable params: 0\n",
      "_________________________________________________________________\n"
     ]
    }
   ],
   "source": [
    "# Define Keras model\n",
    "model = Sequential()\n",
    "model.add(Dense(24, input_dim=6, activation='relu'))\n",
    "model.add(Dense(12, activation='relu'))\n",
    "model.add(Dense(6, activation='softmax'))\n",
    "\n",
    "model.compile(loss='categorical_crossentropy', optimizer='adam', metrics=['accuracy'])\n",
    "model.summary()"
   ]
  },
  {
   "cell_type": "code",
   "execution_count": 15,
   "metadata": {},
   "outputs": [
    {
     "name": "stdout",
     "output_type": "stream",
     "text": [
      "Train on 27686 samples, validate on 6922 samples\n",
      "Epoch 1/100\n",
      "27686/27686 [==============================] - 0s 11us/step - loss: 1.7908 - accuracy: 0.1887 - val_loss: 1.7882 - val_accuracy: 0.1881\n",
      "Epoch 2/100\n",
      "27686/27686 [==============================] - 0s 5us/step - loss: 1.7869 - accuracy: 0.1904 - val_loss: 1.7844 - val_accuracy: 0.1981\n",
      "Epoch 3/100\n",
      "27686/27686 [==============================] - 0s 5us/step - loss: 1.7822 - accuracy: 0.1995 - val_loss: 1.7793 - val_accuracy: 0.2037\n",
      "Epoch 4/100\n",
      "27686/27686 [==============================] - 0s 5us/step - loss: 1.7769 - accuracy: 0.1983 - val_loss: 1.7755 - val_accuracy: 0.1952\n",
      "Epoch 5/100\n",
      "27686/27686 [==============================] - 0s 5us/step - loss: 1.7733 - accuracy: 0.2016 - val_loss: 1.7731 - val_accuracy: 0.1986\n",
      "Epoch 6/100\n",
      "27686/27686 [==============================] - 0s 5us/step - loss: 1.7707 - accuracy: 0.2008 - val_loss: 1.7715 - val_accuracy: 0.1960\n",
      "Epoch 7/100\n",
      "27686/27686 [==============================] - 0s 5us/step - loss: 1.7686 - accuracy: 0.2006 - val_loss: 1.7697 - val_accuracy: 0.1956\n",
      "Epoch 8/100\n",
      "27686/27686 [==============================] - 0s 5us/step - loss: 1.7667 - accuracy: 0.2023 - val_loss: 1.7675 - val_accuracy: 0.1971\n",
      "Epoch 9/100\n",
      "27686/27686 [==============================] - 0s 5us/step - loss: 1.7643 - accuracy: 0.2027 - val_loss: 1.7650 - val_accuracy: 0.2056\n",
      "Epoch 10/100\n",
      "27686/27686 [==============================] - 0s 5us/step - loss: 1.7622 - accuracy: 0.2078 - val_loss: 1.7631 - val_accuracy: 0.2064\n",
      "Epoch 11/100\n",
      "27686/27686 [==============================] - 0s 5us/step - loss: 1.7604 - accuracy: 0.2084 - val_loss: 1.7611 - val_accuracy: 0.2098\n",
      "Epoch 12/100\n",
      "27686/27686 [==============================] - 0s 9us/step - loss: 1.7584 - accuracy: 0.2073 - val_loss: 1.7587 - val_accuracy: 0.2132\n",
      "Epoch 13/100\n",
      "27686/27686 [==============================] - 0s 5us/step - loss: 1.7562 - accuracy: 0.2103 - val_loss: 1.7571 - val_accuracy: 0.2076\n",
      "Epoch 14/100\n",
      "27686/27686 [==============================] - 0s 5us/step - loss: 1.7544 - accuracy: 0.2158 - val_loss: 1.7552 - val_accuracy: 0.2168\n",
      "Epoch 15/100\n",
      "27686/27686 [==============================] - 0s 9us/step - loss: 1.7527 - accuracy: 0.2178 - val_loss: 1.7534 - val_accuracy: 0.2270\n",
      "Epoch 16/100\n",
      "27686/27686 [==============================] - 0s 5us/step - loss: 1.7512 - accuracy: 0.2196 - val_loss: 1.7530 - val_accuracy: 0.2274\n",
      "Epoch 17/100\n",
      "27686/27686 [==============================] - 0s 5us/step - loss: 1.7501 - accuracy: 0.2250 - val_loss: 1.7510 - val_accuracy: 0.2268\n",
      "Epoch 18/100\n",
      "27686/27686 [==============================] - 0s 5us/step - loss: 1.7483 - accuracy: 0.2287 - val_loss: 1.7496 - val_accuracy: 0.2226\n",
      "Epoch 19/100\n",
      "27686/27686 [==============================] - 0s 5us/step - loss: 1.7473 - accuracy: 0.2276 - val_loss: 1.7480 - val_accuracy: 0.2313\n",
      "Epoch 20/100\n",
      "27686/27686 [==============================] - 0s 6us/step - loss: 1.7459 - accuracy: 0.2301 - val_loss: 1.7468 - val_accuracy: 0.2280\n",
      "Epoch 21/100\n",
      "27686/27686 [==============================] - 0s 5us/step - loss: 1.7448 - accuracy: 0.2317 - val_loss: 1.7458 - val_accuracy: 0.2264\n",
      "Epoch 22/100\n",
      "27686/27686 [==============================] - 0s 5us/step - loss: 1.7438 - accuracy: 0.2318 - val_loss: 1.7446 - val_accuracy: 0.2301\n",
      "Epoch 23/100\n",
      "27686/27686 [==============================] - 0s 7us/step - loss: 1.7429 - accuracy: 0.2305 - val_loss: 1.7427 - val_accuracy: 0.2311\n",
      "Epoch 24/100\n",
      "27686/27686 [==============================] - 0s 5us/step - loss: 1.7418 - accuracy: 0.2325 - val_loss: 1.7425 - val_accuracy: 0.2287\n",
      "Epoch 25/100\n",
      "27686/27686 [==============================] - 0s 5us/step - loss: 1.7404 - accuracy: 0.2324 - val_loss: 1.7407 - val_accuracy: 0.2284\n",
      "Epoch 26/100\n",
      "27686/27686 [==============================] - 0s 5us/step - loss: 1.7395 - accuracy: 0.2345 - val_loss: 1.7404 - val_accuracy: 0.2368\n",
      "Epoch 27/100\n",
      "27686/27686 [==============================] - 0s 5us/step - loss: 1.7387 - accuracy: 0.2351 - val_loss: 1.7385 - val_accuracy: 0.2336\n",
      "Epoch 28/100\n",
      "27686/27686 [==============================] - 0s 5us/step - loss: 1.7375 - accuracy: 0.2354 - val_loss: 1.7380 - val_accuracy: 0.2375\n",
      "Epoch 29/100\n",
      "27686/27686 [==============================] - 0s 5us/step - loss: 1.7368 - accuracy: 0.2346 - val_loss: 1.7369 - val_accuracy: 0.2349\n",
      "Epoch 30/100\n",
      "27686/27686 [==============================] - 0s 5us/step - loss: 1.7356 - accuracy: 0.2374 - val_loss: 1.7369 - val_accuracy: 0.2320\n",
      "Epoch 31/100\n",
      "27686/27686 [==============================] - 0s 5us/step - loss: 1.7351 - accuracy: 0.2385 - val_loss: 1.7355 - val_accuracy: 0.2384\n",
      "Epoch 32/100\n",
      "27686/27686 [==============================] - 0s 6us/step - loss: 1.7343 - accuracy: 0.2375 - val_loss: 1.7351 - val_accuracy: 0.2379\n",
      "Epoch 33/100\n",
      "27686/27686 [==============================] - 0s 5us/step - loss: 1.7336 - accuracy: 0.2369 - val_loss: 1.7345 - val_accuracy: 0.2361\n",
      "Epoch 34/100\n",
      "27686/27686 [==============================] - 0s 5us/step - loss: 1.7332 - accuracy: 0.2380 - val_loss: 1.7336 - val_accuracy: 0.2466\n",
      "Epoch 35/100\n",
      "27686/27686 [==============================] - 0s 5us/step - loss: 1.7327 - accuracy: 0.2392 - val_loss: 1.7337 - val_accuracy: 0.2348\n",
      "Epoch 36/100\n",
      "27686/27686 [==============================] - 0s 9us/step - loss: 1.7320 - accuracy: 0.2392 - val_loss: 1.7320 - val_accuracy: 0.2424\n",
      "Epoch 37/100\n",
      "27686/27686 [==============================] - 0s 5us/step - loss: 1.7308 - accuracy: 0.2410 - val_loss: 1.7316 - val_accuracy: 0.2382\n",
      "Epoch 38/100\n",
      "27686/27686 [==============================] - 0s 5us/step - loss: 1.7308 - accuracy: 0.2383 - val_loss: 1.7308 - val_accuracy: 0.2411\n",
      "Epoch 39/100\n",
      "27686/27686 [==============================] - 0s 5us/step - loss: 1.7298 - accuracy: 0.2408 - val_loss: 1.7316 - val_accuracy: 0.2404\n",
      "Epoch 40/100\n",
      "27686/27686 [==============================] - 0s 5us/step - loss: 1.7292 - accuracy: 0.2400 - val_loss: 1.7290 - val_accuracy: 0.2479\n",
      "Epoch 41/100\n",
      "27686/27686 [==============================] - 0s 5us/step - loss: 1.7286 - accuracy: 0.2423 - val_loss: 1.7285 - val_accuracy: 0.2447\n",
      "Epoch 42/100\n",
      "27686/27686 [==============================] - 0s 5us/step - loss: 1.7277 - accuracy: 0.2426 - val_loss: 1.7280 - val_accuracy: 0.2428\n",
      "Epoch 43/100\n",
      "27686/27686 [==============================] - 0s 6us/step - loss: 1.7273 - accuracy: 0.2440 - val_loss: 1.7280 - val_accuracy: 0.2465\n",
      "Epoch 44/100\n",
      "27686/27686 [==============================] - 0s 5us/step - loss: 1.7268 - accuracy: 0.2429 - val_loss: 1.7271 - val_accuracy: 0.2522\n",
      "Epoch 45/100\n",
      "27686/27686 [==============================] - 0s 5us/step - loss: 1.7264 - accuracy: 0.2443 - val_loss: 1.7270 - val_accuracy: 0.2492\n",
      "Epoch 46/100\n",
      "27686/27686 [==============================] - 0s 5us/step - loss: 1.7260 - accuracy: 0.2450 - val_loss: 1.7258 - val_accuracy: 0.2467\n",
      "Epoch 47/100\n",
      "27686/27686 [==============================] - 0s 5us/step - loss: 1.7258 - accuracy: 0.2436 - val_loss: 1.7252 - val_accuracy: 0.2515\n",
      "Epoch 48/100\n",
      "27686/27686 [==============================] - 0s 5us/step - loss: 1.7246 - accuracy: 0.2473 - val_loss: 1.7263 - val_accuracy: 0.2496\n",
      "Epoch 49/100\n",
      "27686/27686 [==============================] - 0s 5us/step - loss: 1.7241 - accuracy: 0.2471 - val_loss: 1.7253 - val_accuracy: 0.2466\n",
      "Epoch 50/100\n",
      "27686/27686 [==============================] - 0s 5us/step - loss: 1.7240 - accuracy: 0.2479 - val_loss: 1.7239 - val_accuracy: 0.2525\n",
      "Epoch 51/100\n",
      "27686/27686 [==============================] - 0s 5us/step - loss: 1.7230 - accuracy: 0.2472 - val_loss: 1.7236 - val_accuracy: 0.2521\n",
      "Epoch 52/100\n",
      "27686/27686 [==============================] - 0s 5us/step - loss: 1.7229 - accuracy: 0.2485 - val_loss: 1.7230 - val_accuracy: 0.2515\n",
      "Epoch 53/100\n",
      "27686/27686 [==============================] - 0s 5us/step - loss: 1.7223 - accuracy: 0.2498 - val_loss: 1.7225 - val_accuracy: 0.2543\n",
      "Epoch 54/100\n",
      "27686/27686 [==============================] - 0s 5us/step - loss: 1.7216 - accuracy: 0.2484 - val_loss: 1.7218 - val_accuracy: 0.2560\n",
      "Epoch 55/100\n",
      "27686/27686 [==============================] - 0s 5us/step - loss: 1.7212 - accuracy: 0.2499 - val_loss: 1.7217 - val_accuracy: 0.2525\n",
      "Epoch 56/100\n"
     ]
    },
    {
     "name": "stdout",
     "output_type": "stream",
     "text": [
      "27686/27686 [==============================] - 0s 5us/step - loss: 1.7205 - accuracy: 0.2516 - val_loss: 1.7206 - val_accuracy: 0.2561\n",
      "Epoch 57/100\n",
      "27686/27686 [==============================] - 0s 5us/step - loss: 1.7201 - accuracy: 0.2510 - val_loss: 1.7207 - val_accuracy: 0.2543\n",
      "Epoch 58/100\n",
      "27686/27686 [==============================] - 0s 4us/step - loss: 1.7196 - accuracy: 0.2511 - val_loss: 1.7202 - val_accuracy: 0.2540\n",
      "Epoch 59/100\n",
      "27686/27686 [==============================] - 0s 4us/step - loss: 1.7194 - accuracy: 0.2510 - val_loss: 1.7201 - val_accuracy: 0.2559\n",
      "Epoch 60/100\n",
      "27686/27686 [==============================] - 0s 4us/step - loss: 1.7195 - accuracy: 0.2515 - val_loss: 1.7193 - val_accuracy: 0.2572\n",
      "Epoch 61/100\n",
      "27686/27686 [==============================] - 0s 4us/step - loss: 1.7187 - accuracy: 0.2507 - val_loss: 1.7185 - val_accuracy: 0.2598\n",
      "Epoch 62/100\n",
      "27686/27686 [==============================] - 0s 4us/step - loss: 1.7181 - accuracy: 0.2532 - val_loss: 1.7184 - val_accuracy: 0.2570\n",
      "Epoch 63/100\n",
      "27686/27686 [==============================] - 0s 4us/step - loss: 1.7177 - accuracy: 0.2524 - val_loss: 1.7193 - val_accuracy: 0.2560\n",
      "Epoch 64/100\n",
      "27686/27686 [==============================] - 0s 4us/step - loss: 1.7177 - accuracy: 0.2526 - val_loss: 1.7179 - val_accuracy: 0.2574\n",
      "Epoch 65/100\n",
      "27686/27686 [==============================] - 0s 4us/step - loss: 1.7170 - accuracy: 0.2524 - val_loss: 1.7174 - val_accuracy: 0.2569\n",
      "Epoch 66/100\n",
      "27686/27686 [==============================] - 0s 4us/step - loss: 1.7164 - accuracy: 0.2531 - val_loss: 1.7178 - val_accuracy: 0.2593\n",
      "Epoch 67/100\n",
      "27686/27686 [==============================] - 0s 4us/step - loss: 1.7169 - accuracy: 0.2567 - val_loss: 1.7168 - val_accuracy: 0.2566\n",
      "Epoch 68/100\n",
      "27686/27686 [==============================] - 0s 4us/step - loss: 1.7163 - accuracy: 0.2535 - val_loss: 1.7168 - val_accuracy: 0.2577\n",
      "Epoch 69/100\n",
      "27686/27686 [==============================] - 0s 4us/step - loss: 1.7160 - accuracy: 0.2521 - val_loss: 1.7162 - val_accuracy: 0.2629\n",
      "Epoch 70/100\n",
      "27686/27686 [==============================] - 0s 4us/step - loss: 1.7157 - accuracy: 0.2543 - val_loss: 1.7171 - val_accuracy: 0.2567\n",
      "Epoch 71/100\n",
      "27686/27686 [==============================] - 0s 4us/step - loss: 1.7153 - accuracy: 0.2539 - val_loss: 1.7169 - val_accuracy: 0.2579\n",
      "Epoch 72/100\n",
      "27686/27686 [==============================] - 0s 4us/step - loss: 1.7148 - accuracy: 0.2536 - val_loss: 1.7149 - val_accuracy: 0.2605\n",
      "Epoch 73/100\n",
      "27686/27686 [==============================] - 0s 5us/step - loss: 1.7144 - accuracy: 0.2562 - val_loss: 1.7154 - val_accuracy: 0.2613\n",
      "Epoch 74/100\n",
      "27686/27686 [==============================] - 0s 6us/step - loss: 1.7143 - accuracy: 0.2557 - val_loss: 1.7148 - val_accuracy: 0.2569\n",
      "Epoch 75/100\n",
      "27686/27686 [==============================] - 0s 5us/step - loss: 1.7141 - accuracy: 0.2540 - val_loss: 1.7151 - val_accuracy: 0.2580\n",
      "Epoch 76/100\n",
      "27686/27686 [==============================] - 0s 6us/step - loss: 1.7136 - accuracy: 0.2552 - val_loss: 1.7142 - val_accuracy: 0.2599\n",
      "Epoch 77/100\n",
      "27686/27686 [==============================] - 0s 5us/step - loss: 1.7132 - accuracy: 0.2564 - val_loss: 1.7142 - val_accuracy: 0.2609\n",
      "Epoch 78/100\n",
      "27686/27686 [==============================] - 0s 5us/step - loss: 1.7129 - accuracy: 0.2567 - val_loss: 1.7139 - val_accuracy: 0.2609\n",
      "Epoch 79/100\n",
      "27686/27686 [==============================] - 0s 5us/step - loss: 1.7125 - accuracy: 0.2560 - val_loss: 1.7129 - val_accuracy: 0.2615\n",
      "Epoch 80/100\n",
      "27686/27686 [==============================] - 0s 8us/step - loss: 1.7122 - accuracy: 0.2554 - val_loss: 1.7131 - val_accuracy: 0.2593\n",
      "Epoch 81/100\n",
      "27686/27686 [==============================] - 0s 8us/step - loss: 1.7121 - accuracy: 0.2589 - val_loss: 1.7129 - val_accuracy: 0.2611\n",
      "Epoch 82/100\n",
      "27686/27686 [==============================] - 0s 7us/step - loss: 1.7121 - accuracy: 0.2579 - val_loss: 1.7128 - val_accuracy: 0.2603\n",
      "Epoch 83/100\n",
      "27686/27686 [==============================] - 0s 7us/step - loss: 1.7113 - accuracy: 0.2562 - val_loss: 1.7134 - val_accuracy: 0.2621\n",
      "Epoch 84/100\n",
      "27686/27686 [==============================] - 0s 4us/step - loss: 1.7113 - accuracy: 0.2584 - val_loss: 1.7116 - val_accuracy: 0.2629\n",
      "Epoch 85/100\n",
      "27686/27686 [==============================] - 0s 5us/step - loss: 1.7107 - accuracy: 0.2548 - val_loss: 1.7117 - val_accuracy: 0.2637\n",
      "Epoch 86/100\n",
      "27686/27686 [==============================] - 0s 4us/step - loss: 1.7108 - accuracy: 0.2554 - val_loss: 1.7114 - val_accuracy: 0.2605\n",
      "Epoch 87/100\n",
      "27686/27686 [==============================] - 0s 7us/step - loss: 1.7105 - accuracy: 0.2580 - val_loss: 1.7111 - val_accuracy: 0.2634\n",
      "Epoch 88/100\n",
      "27686/27686 [==============================] - 0s 6us/step - loss: 1.7100 - accuracy: 0.2567 - val_loss: 1.7121 - val_accuracy: 0.2586\n",
      "Epoch 89/100\n",
      "27686/27686 [==============================] - 0s 8us/step - loss: 1.7102 - accuracy: 0.2553 - val_loss: 1.7104 - val_accuracy: 0.2637\n",
      "Epoch 90/100\n",
      "27686/27686 [==============================] - 0s 4us/step - loss: 1.7095 - accuracy: 0.2579 - val_loss: 1.7104 - val_accuracy: 0.2618\n",
      "Epoch 91/100\n",
      "27686/27686 [==============================] - 0s 5us/step - loss: 1.7092 - accuracy: 0.2568 - val_loss: 1.7109 - val_accuracy: 0.2593\n",
      "Epoch 92/100\n",
      "27686/27686 [==============================] - 0s 5us/step - loss: 1.7087 - accuracy: 0.2584 - val_loss: 1.7102 - val_accuracy: 0.2624\n",
      "Epoch 93/100\n",
      "27686/27686 [==============================] - 0s 5us/step - loss: 1.7090 - accuracy: 0.2595 - val_loss: 1.7096 - val_accuracy: 0.2606\n",
      "Epoch 94/100\n",
      "27686/27686 [==============================] - 0s 6us/step - loss: 1.7083 - accuracy: 0.2580 - val_loss: 1.7103 - val_accuracy: 0.2632\n",
      "Epoch 95/100\n",
      "27686/27686 [==============================] - 0s 5us/step - loss: 1.7081 - accuracy: 0.2578 - val_loss: 1.7095 - val_accuracy: 0.2605\n",
      "Epoch 96/100\n",
      "27686/27686 [==============================] - 0s 5us/step - loss: 1.7077 - accuracy: 0.2592 - val_loss: 1.7092 - val_accuracy: 0.2619\n",
      "Epoch 97/100\n",
      "27686/27686 [==============================] - 0s 5us/step - loss: 1.7075 - accuracy: 0.2583 - val_loss: 1.7099 - val_accuracy: 0.2629\n",
      "Epoch 98/100\n",
      "27686/27686 [==============================] - 0s 5us/step - loss: 1.7071 - accuracy: 0.2620 - val_loss: 1.7102 - val_accuracy: 0.2652\n",
      "Epoch 99/100\n",
      "27686/27686 [==============================] - 0s 7us/step - loss: 1.7068 - accuracy: 0.2595 - val_loss: 1.7083 - val_accuracy: 0.2616\n",
      "Epoch 100/100\n",
      "27686/27686 [==============================] - 0s 6us/step - loss: 1.7064 - accuracy: 0.2581 - val_loss: 1.7081 - val_accuracy: 0.2650\n"
     ]
    }
   ],
   "source": [
    "# Train model on train set\n",
    "history = model.fit(X_train_nomood, y_train, epochs=100, validation_split=0.2, batch_size=512)"
   ]
  },
  {
   "cell_type": "code",
   "execution_count": 16,
   "metadata": {},
   "outputs": [
    {
     "name": "stdout",
     "output_type": "stream",
     "text": [
      "Test loss: 1.7061\n",
      "Test accuracy: 26.18 %\n"
     ]
    }
   ],
   "source": [
    "score = model.evaluate(X_train_nomood, y_train, verbose=0)\n",
    "print('Test loss:', round(score[0],4))\n",
    "print('Test accuracy:', round(score[1]*100,2), \"%\")"
   ]
  },
  {
   "cell_type": "code",
   "execution_count": 17,
   "metadata": {},
   "outputs": [
    {
     "data": {
      "image/png": "[encoded data removed]",
      "text/plain": [
       "<Figure size 432x288 with 1 Axes>"
      ]
     },
     "metadata": {
      "needs_background": "light"
     },
     "output_type": "display_data"
    }
   ],
   "source": [
    "# Plot training & validation accuracy values\n",
    "plt.plot(history.history['accuracy'])\n",
    "plt.plot(history.history['val_accuracy'])\n",
    "plt.title('Model accuracy')\n",
    "plt.ylabel('Accuracy')\n",
    "plt.xlabel('Epoch')\n",
    "plt.legend(['Train', 'Validation'], loc='upper left')\n",
    "plt.show()"
   ]
  },
  {
   "cell_type": "code",
   "execution_count": 18,
   "metadata": {},
   "outputs": [
    {
     "data": {
      "image/png": "[encoded data removed]",
      "text/plain": [
       "<Figure size 432x288 with 1 Axes>"
      ]
     },
     "metadata": {
      "needs_background": "light"
     },
     "output_type": "display_data"
    }
   ],
   "source": [
    "# Plot training & validation loss values\n",
    "plt.plot(history.history['loss'])\n",
    "plt.plot(history.history['val_loss'])\n",
    "plt.title('Model loss')\n",
    "plt.ylabel('Loss')\n",
    "plt.xlabel('Epoch')\n",
    "plt.legend(['Train', 'Validation'], loc='upper left')\n",
    "plt.show()"
   ]
  },
  {
   "cell_type": "code",
   "execution_count": 19,
   "metadata": {},
   "outputs": [],
   "source": [
    "# Predict using X_test\n",
    "y_pred = model.predict(X_test_nomood)\n",
    "\n",
    "#Converting predictions to label\n",
    "pred = list()\n",
    "for i in range(len(y_pred)):\n",
    "    pred.append(np.argmax(y_pred[i]))\n",
    "    \n",
    "#Converting one hot encoded test label to label\n",
    "test = list()\n",
    "for i in range(len(y_test)):\n",
    "    test.append(np.argmax(y_test[i]))"
   ]
  },
  {
   "cell_type": "code",
   "execution_count": 20,
   "metadata": {},
   "outputs": [
    {
     "name": "stdout",
     "output_type": "stream",
     "text": [
      "Accuracy is: 12.136105860113421\n"
     ]
    }
   ],
   "source": [
    "# Accuracy score\n",
    "a = accuracy_score(pred,test)\n",
    "print('Accuracy is:', a*100)"
   ]
  },
  {
   "cell_type": "code",
   "execution_count": 22,
   "metadata": {},
   "outputs": [
    {
     "name": "stdout",
     "output_type": "stream",
     "text": [
      "        Same Dif\n",
      "correct 238 83\n",
      "wrong   1701 623\n",
      "Table is right!\n"
     ]
    }
   ],
   "source": [
    "# true = y_test\n",
    "# pred = y_pred\n",
    "# last_value = X_bored_lastarray\n",
    "same_correct = 0\n",
    "same_wrong = 0\n",
    "dif_correct = 0\n",
    "dif_wrong = 0\n",
    "\n",
    "X_test_mood = X_test_onlylastmood['anxious_last'].values\n",
    "for i in range(len(pred)):\n",
    "    if (test[i] == X_test_mood[i]) and (test[i] == pred[i]):\n",
    "        same_correct += 1\n",
    "    if (test[i] == X_test_mood[i]) and (test[i] != pred[i]):\n",
    "        same_wrong += 1\n",
    "    if (test[i] != X_test_mood[i]) and (test[i] == pred[i]):\n",
    "        dif_correct += 1\n",
    "    if (test[i] != X_test_mood[i]) and (test[i] != pred[i]):\n",
    "        dif_wrong += 1   \n",
    "\n",
    "print(\"       \", \"Same\", \"Dif\")\n",
    "print(\"correct\", same_correct, dif_correct)\n",
    "print(\"wrong  \", same_wrong, dif_wrong)\n",
    "\n",
    "#Check if table is similar to accuracy\n",
    "if (same_correct+dif_correct) / (same_correct+dif_correct+same_wrong+dif_wrong) == a:\n",
    "    print(\"Table is right!\")\n",
    "else:\n",
    "    print(\"Table is wrong\")"
   ]
  },
  {
   "cell_type": "code",
   "execution_count": 24,
   "metadata": {},
   "outputs": [
    {
     "name": "stdout",
     "output_type": "stream",
     "text": [
      "Predicted valxues:  Counter({4: 862, 3: 642, 5: 523, 0: 340, 1: 151, 2: 127})\n",
      "True values:  Counter({0: 1438, 1: 513, 2: 370, 3: 212, 4: 90, 5: 22})\n",
      "Previous mood: Counter({0.0: 1418, 1.0: 523, 2.0: 382, 3.0: 222, 4.0: 84, 5.0: 16})\n"
     ]
    }
   ],
   "source": [
    "from collections import Counter\n",
    "print(\"Predicted valxues: \", Counter(pred))\n",
    "print(\"True values: \", Counter(test))\n",
    "print(\"Previous mood:\", Counter(X_test_mood))"
   ]
  },
  {
   "cell_type": "code",
   "execution_count": 25,
   "metadata": {},
   "outputs": [
    {
     "name": "stdout",
     "output_type": "stream",
     "text": [
      "Total length:  2645\n",
      "Same Correct 0 guesses is:  172\n",
      "Same Wrong 0 guesses is:  1076\n",
      "Dif Correct 0 guesses is:  24\n",
      "Dif Wrong 0 guesses is:  166\n",
      "\n",
      "Same Correct 1 guesses is:  21\n",
      "Same Wrong 1 guesses is:  298\n",
      "Dif Correct 1 guesses is:  15\n",
      "Dif Wrong 1 guesses is:  179\n",
      "\n",
      "Same Correct 2 guesses is:  8\n",
      "Same Wrong 2 guesses is:  205\n",
      "Dif Correct 2 guesses is:  7\n",
      "Dif Wrong 2 guesses is:  150\n",
      "\n",
      "Same Correct 3 guesses is:  30\n",
      "Same Wrong 3 guesses is:  88\n",
      "Dif Correct 3 guesses is:  20\n",
      "Dif Wrong 3 guesses is:  74\n",
      "\n",
      "Same Correct 4 guesses is:  6\n",
      "Same Wrong 4 guesses is:  29\n",
      "Dif Correct 4 guesses is:  15\n",
      "Dif Wrong 4 guesses is:  40\n",
      "\n",
      "Same Correct 5 guesses is:  1\n",
      "Same Wrong 5 guesses is:  5\n",
      "Dif Correct 5 guesses is:  2\n",
      "Dif Wrong 5 guesses is:  14\n"
     ]
    }
   ],
   "source": [
    "same_correct_0, same_wrong_0, same_correct_1, same_wrong_1, same_correct_2, same_wrong_2, same_correct_3, same_wrong_3, same_correct_4, same_wrong_4, same_correct_5, same_wrong_5 = (0, 0, 0, 0, 0, 0, 0, 0, 0, 0, 0, 0)\n",
    "dif_correct_0, dif_wrong_0, dif_correct_1, dif_wrong_1, dif_correct_2, dif_wrong_2, dif_correct_3, dif_wrong_3, dif_correct_4, dif_wrong_4, dif_correct_5, dif_wrong_5 = (0, 0, 0, 0, 0, 0, 0, 0, 0, 0, 0, 0)\n",
    "\n",
    "for i in range(len(pred)):\n",
    "    if test[i] == 0 and pred[i] == 0:\n",
    "        if test[i] == X_test_mood[i]:\n",
    "            same_correct_0 += 1\n",
    "        if test[i] != X_test_mood[i]:\n",
    "            dif_correct_0 += 1\n",
    "    if test[i] == 0 and pred[i] != 0:\n",
    "        if test[i] == X_test_mood[i]:\n",
    "            same_wrong_0 += 1\n",
    "        if test[i] != X_test_mood[i]:\n",
    "            dif_wrong_0 += 1\n",
    "\n",
    "    if test[i] == 1 and pred[i] == 1:\n",
    "        if test[i] == X_test_mood[i]:\n",
    "            same_correct_1 += 1\n",
    "        if test[i] != X_test_mood[i]:\n",
    "            dif_correct_1 += 1\n",
    "    if test[i] == 1 and pred[i] != 1:\n",
    "        if test[i] == X_test_mood[i]:\n",
    "            same_wrong_1 += 1\n",
    "        if test[i] != X_test_mood[i]:\n",
    "            dif_wrong_1 += 1\n",
    "        \n",
    "    if test[i] == 2 and pred[i] == 2:\n",
    "        if test[i] == X_test_mood[i]:\n",
    "            same_correct_2 += 1\n",
    "        if test[i] != X_test_mood[i]:\n",
    "            dif_correct_2 += 1\n",
    "    if test[i] == 2 and pred[i] != 2:\n",
    "        if test[i] == X_test_mood[i]:\n",
    "            same_wrong_2 += 1\n",
    "        if test[i] != X_test_mood[i]:\n",
    "            dif_wrong_2 += 1\n",
    "    \n",
    "    if test[i] == 3 and pred[i] == 3:\n",
    "        if test[i] == X_test_mood[i]:\n",
    "            same_correct_3 += 1\n",
    "        if test[i] != X_test_mood[i]:\n",
    "            dif_correct_3 += 1\n",
    "    if test[i] == 3 and pred[i] != 3:\n",
    "        if test[i] == X_test_mood[i]:\n",
    "            same_wrong_3 += 1\n",
    "        if test[i] != X_test_mood[i]:\n",
    "            dif_wrong_3 += 1\n",
    "        \n",
    "    if test[i] == 4 and pred[i] == 4:\n",
    "        if test[i] == X_test_mood[i]:\n",
    "            same_correct_4 += 1\n",
    "        if test[i] != X_test_mood[i]:\n",
    "            dif_correct_4 += 1\n",
    "    if test[i] == 4 and pred[i] != 4:\n",
    "        if test[i] == X_test_mood[i]:\n",
    "            same_wrong_4 += 1\n",
    "        if test[i] != X_test_mood[i]:\n",
    "            dif_wrong_4 += 1\n",
    "    \n",
    "    if test[i] == 5 and pred[i] == 5:\n",
    "        if test[i] == X_test_mood[i]:\n",
    "            same_correct_5 += 1\n",
    "        if test[i] != X_test_mood[i]:\n",
    "            dif_correct_5 += 1\n",
    "    if test[i] == 5 and pred[i] != 5:\n",
    "        if test[i] == X_test_mood[i]:\n",
    "            same_wrong_5 += 1\n",
    "        if test[i] != X_test_mood[i]:\n",
    "            dif_wrong_5 += 1\n",
    "\n",
    "print(\"Total length: \", len(X_test_mood))\n",
    "\n",
    "print(\"Same Correct 0 guesses is: \", same_correct_0)\n",
    "print(\"Same Wrong 0 guesses is: \", same_wrong_0)\n",
    "print(\"Dif Correct 0 guesses is: \", dif_correct_0)\n",
    "print(\"Dif Wrong 0 guesses is: \", dif_wrong_0)\n",
    "print('')\n",
    "print(\"Same Correct 1 guesses is: \", same_correct_1)\n",
    "print(\"Same Wrong 1 guesses is: \", same_wrong_1)\n",
    "print(\"Dif Correct 1 guesses is: \", dif_correct_1)\n",
    "print(\"Dif Wrong 1 guesses is: \", dif_wrong_1)\n",
    "print('')\n",
    "print(\"Same Correct 2 guesses is: \", same_correct_2)\n",
    "print(\"Same Wrong 2 guesses is: \", same_wrong_2)\n",
    "print(\"Dif Correct 2 guesses is: \", dif_correct_2)\n",
    "print(\"Dif Wrong 2 guesses is: \", dif_wrong_2)\n",
    "print('')\n",
    "print(\"Same Correct 3 guesses is: \", same_correct_3)\n",
    "print(\"Same Wrong 3 guesses is: \", same_wrong_3)\n",
    "print(\"Dif Correct 3 guesses is: \", dif_correct_3)\n",
    "print(\"Dif Wrong 3 guesses is: \", dif_wrong_3)\n",
    "print('')\n",
    "print(\"Same Correct 4 guesses is: \", same_correct_4)\n",
    "print(\"Same Wrong 4 guesses is: \", same_wrong_4)\n",
    "print(\"Dif Correct 4 guesses is: \", dif_correct_4)\n",
    "print(\"Dif Wrong 4 guesses is: \", dif_wrong_4)\n",
    "print('')\n",
    "print(\"Same Correct 5 guesses is: \", same_correct_5)\n",
    "print(\"Same Wrong 5 guesses is: \", same_wrong_5)\n",
    "print(\"Dif Correct 5 guesses is: \", dif_correct_5)\n",
    "print(\"Dif Wrong 5 guesses is: \", dif_wrong_5)"
   ]
  },
  {
   "cell_type": "code",
   "execution_count": 26,
   "metadata": {},
   "outputs": [],
   "source": [
    "mae_0, mae_1, mae_2, mae_3, mae_4, mae_5 = (0,0,0,0,0,0)\n",
    "\n",
    "for i in range(len(pred)):\n",
    "    if test[i] == 0 and pred[i] != 0:\n",
    "        mae_0 += (abs(test[i]-pred[i]))\n",
    "    if test[i] == 1 and pred[i] != 1:\n",
    "        mae_1 += (abs(test[i]-pred[i]))\n",
    "    if test[i] == 2 and pred[i] != 2:\n",
    "        mae_2 += (abs(test[i]-pred[i]))\n",
    "    if test[i] == 3 and pred[i] != 3:\n",
    "        mae_3 += (abs(test[i]-pred[i]))\n",
    "    if test[i] == 4 and pred[i] != 4:\n",
    "        mae_4 += (abs(test[i]-pred[i]))\n",
    "    if test[i] == 5 and pred[i] != 5:\n",
    "        mae_5 += (abs(test[i]-pred[i]))\n",
    "\n",
    "cnt_0, cnt_1, cnt_2, cnt_3, cnt_4, cnt_5 = (0,0,0,0,0,0)\n",
    "for z in range(len(test)):\n",
    "    if test[z] == 0:\n",
    "        cnt_0 += 1\n",
    "    if test[z] == 1:\n",
    "        cnt_1 += 1\n",
    "    if test[z] == 2:\n",
    "        cnt_2 += 1\n",
    "    if test[z] == 3:\n",
    "        cnt_3 += 1\n",
    "    if test[z] == 4:\n",
    "        cnt_4 += 1\n",
    "    if test[z] == 5:\n",
    "        cnt_5 += 1\n",
    "\n",
    "mae_macroaverage = ((mae_0/cnt_0) + (mae_1/cnt_1) + (mae_2/cnt_2) + (mae_3/cnt_3) + (mae_4/cnt_4) + (mae_5/cnt_5)) / 6"
   ]
  },
  {
   "cell_type": "code",
   "execution_count": 27,
   "metadata": {},
   "outputs": [
    {
     "name": "stdout",
     "output_type": "stream",
     "text": [
      "Macro-averaged Mean Absolute error is:  1.9304\n",
      "Macro-averaged F1-score is:  0.1603\n"
     ]
    }
   ],
   "source": [
    "print(\"Macro-averaged Mean Absolute error is: \", round(mae_macroaverage, 4))\n",
    "print(\"Macro-averaged F1-score is: \", round(f1_score(test, pred, average='weighted'), 4))\n",
    "\n",
    "# print(\"Mean Squared error is: \", mean_squared_error(test, pred))\n",
    "# print(\"Root Mean Squared error is: \", sqrt(mean_squared_error(test, pred)))"
   ]
  },
  {
   "cell_type": "code",
   "execution_count": null,
   "metadata": {},
   "outputs": [],
   "source": []
  }
 ],
 "metadata": {
  "kernelspec": {
   "display_name": "Python 3",
   "language": "python",
   "name": "python3"
  },
  "language_info": {
   "codemirror_mode": {
    "name": "ipython",
    "version": 3
   },
   "file_extension": ".py",
   "mimetype": "text/x-python",
   "name": "python",
   "nbconvert_exporter": "python",
   "pygments_lexer": "ipython3",
   "version": "3.7.4"
  }
 },
 "nbformat": 4,
 "nbformat_minor": 2
}
