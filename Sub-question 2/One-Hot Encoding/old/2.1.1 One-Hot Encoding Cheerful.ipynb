{
 "cells": [
  {
   "cell_type": "code",
   "execution_count": 1,
   "metadata": {},
   "outputs": [
    {
     "name": "stderr",
     "output_type": "stream",
     "text": [
      "Using TensorFlow backend.\n"
     ]
    }
   ],
   "source": [
    "# Import packages\n",
    "import pandas as pd\n",
    "import numpy as np\n",
    "import datetime\n",
    "import category_encoders as ce\n",
    "from sklearn.preprocessing import LabelEncoder, MinMaxScaler, RobustScaler, OneHotEncoder, StandardScaler\n",
    "from sklearn.model_selection import train_test_split\n",
    "from sklearn.metrics import accuracy_score, mean_squared_error, cohen_kappa_score, mean_absolute_error, f1_score\n",
    "from sklearn.utils import shuffle\n",
    "from imblearn.over_sampling import SMOTE, SMOTENC\n",
    "import matplotlib.pyplot as plt\n",
    "from statsmodels.graphics.mosaicplot import mosaic\n",
    "from sklearn.decomposition import PCA\n",
    "from scipy import stats\n",
    "from math import sqrt\n",
    "\n",
    "\n",
    "\n",
    "import keras\n",
    "from keras.models import Sequential\n",
    "from keras.layers import Dense, Dropout, GaussianNoise\n",
    "from keras.optimizers import SGD\n",
    "from keras import regularizers"
   ]
  },
  {
   "cell_type": "code",
   "execution_count": 2,
   "metadata": {},
   "outputs": [],
   "source": [
    "path = \"/Users/Stijn/Documents/Master Data Science and Society/Block 3/thesis/code/thesis_Code/\"\n",
    "mood = pd.read_csv(path+'mood_imputed_median.csv', sep = ',', index_col=0)\n",
    "mood['cheerful_last'] = mood.groupby('user_id')['cheerful'].shift()\n",
    "mood.loc[(pd.isnull(mood.cheerful_last)), 'cheerful_last'] = mood['cheerful']\n",
    "mood_cheerful = mood.drop([\"bored\", \"anxious\", \"content\", \"user_id\", \"response_time\"], axis=1)"
   ]
  },
  {
   "cell_type": "code",
   "execution_count": 3,
   "metadata": {},
   "outputs": [],
   "source": [
    "# Normalize predictors\n",
    "mood_normz = mood_cheerful.copy()\n",
    "features_to_normalize = ['day_time_window', 'average_TimeUse', 'messaging', 'socialnetworking', 'otherapp']\n",
    "mood_normz[features_to_normalize] = mood_normz[features_to_normalize].apply(lambda x:(x-x.min()) / (x.max()-x.min()))"
   ]
  },
  {
   "cell_type": "code",
   "execution_count": 4,
   "metadata": {},
   "outputs": [],
   "source": [
    "# X = predictors, y = target\n",
    "X = mood_normz.iloc[:,1:]\n",
    "y = mood_normz.iloc[:, 0:1]\n",
    "\n",
    "# Convert float to int\n",
    "y = y.astype(int)"
   ]
  },
  {
   "cell_type": "code",
   "execution_count": 5,
   "metadata": {},
   "outputs": [],
   "source": [
    "# Train (80%) & Test set (20%)\n",
    "X_train, X_test, y_train, y_test = train_test_split(X, y, test_size=0.2, random_state=2)"
   ]
  },
  {
   "cell_type": "code",
   "execution_count": 6,
   "metadata": {},
   "outputs": [
    {
     "name": "stdout",
     "output_type": "stream",
     "text": [
      "Before OverSampling, counts of labels: 3    2964\n",
      "2    2367\n",
      "4    1901\n",
      "1    1494\n",
      "0    1138\n",
      "5     712\n",
      "Name: cheerful, dtype: int64\n",
      "After OverSampling, counts of label '0': 2964\n",
      "After OverSampling, counts of label '1': 2964\n",
      "After OverSampling, counts of label '2': 2964\n",
      "After OverSampling, counts of label '3': 2964\n",
      "After OverSampling, counts of label '4': 2964\n",
      "After OverSampling, counts of label '5': 2964\n"
     ]
    }
   ],
   "source": [
    "# Oversampling unbalanced target\n",
    "print(\"Before OverSampling, counts of labels: {}\".format(y_train['cheerful'].value_counts()))\n",
    "  \n",
    "sm = SMOTENC(categorical_features=[0, 2, 6], random_state = 2) \n",
    "X_train_res, y_train_res = sm.fit_sample(X_train, y_train['cheerful'].ravel()) \n",
    "\n",
    "print(\"After OverSampling, counts of label '0': {}\".format(sum(y_train_res == 0))) \n",
    "print(\"After OverSampling, counts of label '1': {}\".format(sum(y_train_res == 1))) \n",
    "print(\"After OverSampling, counts of label '2': {}\".format(sum(y_train_res == 2))) \n",
    "print(\"After OverSampling, counts of label '3': {}\".format(sum(y_train_res == 3))) \n",
    "print(\"After OverSampling, counts of label '4': {}\".format(sum(y_train_res == 4))) \n",
    "print(\"After OverSampling, counts of label '5': {}\".format(sum(y_train_res == 5))) "
   ]
  },
  {
   "cell_type": "code",
   "execution_count": 7,
   "metadata": {},
   "outputs": [],
   "source": [
    "# Convert oversample dataset to Pandas DataFrame\n",
    "X_train = pd.DataFrame(data=X_train_res)\n",
    "y_train = pd.DataFrame(data=y_train_res)"
   ]
  },
  {
   "cell_type": "code",
   "execution_count": 8,
   "metadata": {},
   "outputs": [
    {
     "name": "stderr",
     "output_type": "stream",
     "text": [
      "/Users/Stijn/Library/Python/3.7/lib/python/site-packages/sklearn/preprocessing/_encoders.py:415: FutureWarning: The handling of integer data will change in version 0.22. Currently, the categories are determined based on the range [0, max(values)], while in the future they will be determined based on the unique values.\n",
      "If you want the future behaviour and silence this warning, you can specify \"categories='auto'\".\n",
      "In case you used a LabelEncoder before this OneHotEncoder to convert the categories to integers, then you can now use the OneHotEncoder directly.\n",
      "  warnings.warn(msg, FutureWarning)\n",
      "/Users/Stijn/Library/Python/3.7/lib/python/site-packages/sklearn/preprocessing/_encoders.py:415: FutureWarning: The handling of integer data will change in version 0.22. Currently, the categories are determined based on the range [0, max(values)], while in the future they will be determined based on the unique values.\n",
      "If you want the future behaviour and silence this warning, you can specify \"categories='auto'\".\n",
      "In case you used a LabelEncoder before this OneHotEncoder to convert the categories to integers, then you can now use the OneHotEncoder directly.\n",
      "  warnings.warn(msg, FutureWarning)\n"
     ]
    }
   ],
   "source": [
    "# OneHotEncoder for targets\n",
    "ohe = OneHotEncoder(sparse=False)\n",
    "y_train = ohe.fit_transform(y_train)\n",
    "y_test = ohe.fit_transform(y_test)"
   ]
  },
  {
   "cell_type": "code",
   "execution_count": 9,
   "metadata": {},
   "outputs": [],
   "source": [
    "# Shuffle both train and test set to cancel patterns\n",
    "X_train, y_train = shuffle(X_train, y_train)\n",
    "X_test, y_test = shuffle(X_test, y_test)"
   ]
  },
  {
   "cell_type": "code",
   "execution_count": 10,
   "metadata": {},
   "outputs": [],
   "source": [
    "X_train_nomood = X_train.iloc[:,:-1]\n",
    "X_train_onlylastmood = X_train.iloc[:,-1:]\n",
    "X_test_nomood = X_test.iloc[:,:-1]\n",
    "X_test_onlylastmood = X_test.iloc[:,-1:]"
   ]
  },
  {
   "cell_type": "code",
   "execution_count": 11,
   "metadata": {},
   "outputs": [
    {
     "name": "stdout",
     "output_type": "stream",
     "text": [
      "Model: \"sequential_1\"\n",
      "_________________________________________________________________\n",
      "Layer (type)                 Output Shape              Param #   \n",
      "=================================================================\n",
      "dense_1 (Dense)              (None, 24)                168       \n",
      "_________________________________________________________________\n",
      "dense_2 (Dense)              (None, 12)                300       \n",
      "_________________________________________________________________\n",
      "dense_3 (Dense)              (None, 6)                 78        \n",
      "=================================================================\n",
      "Total params: 546\n",
      "Trainable params: 546\n",
      "Non-trainable params: 0\n",
      "_________________________________________________________________\n"
     ]
    }
   ],
   "source": [
    "# Define Keras model\n",
    "model = Sequential()\n",
    "model.add(Dense(24, input_dim=6, activation='relu'))\n",
    "model.add(Dense(12, activation='relu'))\n",
    "model.add(Dense(6, activation='softmax'))\n",
    "\n",
    "model.compile(loss='categorical_crossentropy', optimizer='adam', metrics=['accuracy'])\n",
    "model.summary()"
   ]
  },
  {
   "cell_type": "code",
   "execution_count": 12,
   "metadata": {},
   "outputs": [
    {
     "name": "stdout",
     "output_type": "stream",
     "text": [
      "Train on 14227 samples, validate on 3557 samples\n",
      "Epoch 1/100\n",
      "14227/14227 [==============================] - 0s 15us/step - loss: 1.7911 - accuracy: 0.1730 - val_loss: 1.7916 - val_accuracy: 0.1600\n",
      "Epoch 2/100\n",
      "14227/14227 [==============================] - 0s 6us/step - loss: 1.7884 - accuracy: 0.1835 - val_loss: 1.7903 - val_accuracy: 0.1577\n",
      "Epoch 3/100\n",
      "14227/14227 [==============================] - 0s 5us/step - loss: 1.7865 - accuracy: 0.1876 - val_loss: 1.7898 - val_accuracy: 0.1723\n",
      "Epoch 4/100\n",
      "14227/14227 [==============================] - 0s 6us/step - loss: 1.7851 - accuracy: 0.1906 - val_loss: 1.7894 - val_accuracy: 0.1816\n",
      "Epoch 5/100\n",
      "14227/14227 [==============================] - 0s 6us/step - loss: 1.7841 - accuracy: 0.1921 - val_loss: 1.7893 - val_accuracy: 0.1822\n",
      "Epoch 6/100\n",
      "14227/14227 [==============================] - 0s 5us/step - loss: 1.7834 - accuracy: 0.1915 - val_loss: 1.7891 - val_accuracy: 0.1813\n",
      "Epoch 7/100\n",
      "14227/14227 [==============================] - 0s 6us/step - loss: 1.7827 - accuracy: 0.1927 - val_loss: 1.7889 - val_accuracy: 0.1811\n",
      "Epoch 8/100\n",
      "14227/14227 [==============================] - 0s 6us/step - loss: 1.7820 - accuracy: 0.1922 - val_loss: 1.7884 - val_accuracy: 0.1813\n",
      "Epoch 9/100\n",
      "14227/14227 [==============================] - 0s 6us/step - loss: 1.7815 - accuracy: 0.1922 - val_loss: 1.7879 - val_accuracy: 0.1825\n",
      "Epoch 10/100\n",
      "14227/14227 [==============================] - 0s 6us/step - loss: 1.7808 - accuracy: 0.1946 - val_loss: 1.7872 - val_accuracy: 0.1830\n",
      "Epoch 11/100\n",
      "14227/14227 [==============================] - 0s 6us/step - loss: 1.7803 - accuracy: 0.1938 - val_loss: 1.7868 - val_accuracy: 0.1836\n",
      "Epoch 12/100\n",
      "14227/14227 [==============================] - 0s 6us/step - loss: 1.7798 - accuracy: 0.1977 - val_loss: 1.7862 - val_accuracy: 0.1830\n",
      "Epoch 13/100\n",
      "14227/14227 [==============================] - 0s 6us/step - loss: 1.7791 - accuracy: 0.1963 - val_loss: 1.7862 - val_accuracy: 0.1833\n",
      "Epoch 14/100\n",
      "14227/14227 [==============================] - 0s 6us/step - loss: 1.7786 - accuracy: 0.1990 - val_loss: 1.7850 - val_accuracy: 0.1836\n",
      "Epoch 15/100\n",
      "14227/14227 [==============================] - 0s 6us/step - loss: 1.7779 - accuracy: 0.1983 - val_loss: 1.7848 - val_accuracy: 0.1839\n",
      "Epoch 16/100\n",
      "14227/14227 [==============================] - 0s 5us/step - loss: 1.7775 - accuracy: 0.1977 - val_loss: 1.7837 - val_accuracy: 0.1853\n",
      "Epoch 17/100\n",
      "14227/14227 [==============================] - 0s 6us/step - loss: 1.7771 - accuracy: 0.2017 - val_loss: 1.7834 - val_accuracy: 0.1867\n",
      "Epoch 18/100\n",
      "14227/14227 [==============================] - 0s 6us/step - loss: 1.7766 - accuracy: 0.2017 - val_loss: 1.7847 - val_accuracy: 0.1867\n",
      "Epoch 19/100\n",
      "14227/14227 [==============================] - 0s 5us/step - loss: 1.7761 - accuracy: 0.2036 - val_loss: 1.7837 - val_accuracy: 0.1892\n",
      "Epoch 20/100\n",
      "14227/14227 [==============================] - 0s 5us/step - loss: 1.7753 - accuracy: 0.2028 - val_loss: 1.7815 - val_accuracy: 0.1915\n",
      "Epoch 21/100\n",
      "14227/14227 [==============================] - 0s 5us/step - loss: 1.7748 - accuracy: 0.2057 - val_loss: 1.7826 - val_accuracy: 0.1909\n",
      "Epoch 22/100\n",
      "14227/14227 [==============================] - 0s 6us/step - loss: 1.7743 - accuracy: 0.2056 - val_loss: 1.7808 - val_accuracy: 0.1943\n",
      "Epoch 23/100\n",
      "14227/14227 [==============================] - 0s 5us/step - loss: 1.7737 - accuracy: 0.2063 - val_loss: 1.7802 - val_accuracy: 0.1948\n",
      "Epoch 24/100\n",
      "14227/14227 [==============================] - 0s 6us/step - loss: 1.7731 - accuracy: 0.2063 - val_loss: 1.7801 - val_accuracy: 0.1945\n",
      "Epoch 25/100\n",
      "14227/14227 [==============================] - 0s 5us/step - loss: 1.7725 - accuracy: 0.2091 - val_loss: 1.7797 - val_accuracy: 0.1985\n",
      "Epoch 26/100\n",
      "14227/14227 [==============================] - 0s 5us/step - loss: 1.7718 - accuracy: 0.2086 - val_loss: 1.7794 - val_accuracy: 0.2024\n",
      "Epoch 27/100\n",
      "14227/14227 [==============================] - 0s 6us/step - loss: 1.7713 - accuracy: 0.2093 - val_loss: 1.7780 - val_accuracy: 0.2041\n",
      "Epoch 28/100\n",
      "14227/14227 [==============================] - 0s 6us/step - loss: 1.7709 - accuracy: 0.2111 - val_loss: 1.7789 - val_accuracy: 0.2024\n",
      "Epoch 29/100\n",
      "14227/14227 [==============================] - 0s 5us/step - loss: 1.7703 - accuracy: 0.2116 - val_loss: 1.7786 - val_accuracy: 0.2033\n",
      "Epoch 30/100\n",
      "14227/14227 [==============================] - 0s 5us/step - loss: 1.7699 - accuracy: 0.2114 - val_loss: 1.7781 - val_accuracy: 0.2016\n",
      "Epoch 31/100\n",
      "14227/14227 [==============================] - 0s 6us/step - loss: 1.7694 - accuracy: 0.2133 - val_loss: 1.7784 - val_accuracy: 0.2052\n",
      "Epoch 32/100\n",
      "14227/14227 [==============================] - 0s 6us/step - loss: 1.7689 - accuracy: 0.2112 - val_loss: 1.7757 - val_accuracy: 0.2069\n",
      "Epoch 33/100\n",
      "14227/14227 [==============================] - 0s 6us/step - loss: 1.7686 - accuracy: 0.2121 - val_loss: 1.7762 - val_accuracy: 0.2080\n",
      "Epoch 34/100\n",
      "14227/14227 [==============================] - 0s 6us/step - loss: 1.7682 - accuracy: 0.2145 - val_loss: 1.7752 - val_accuracy: 0.2064\n",
      "Epoch 35/100\n",
      "14227/14227 [==============================] - 0s 6us/step - loss: 1.7679 - accuracy: 0.2123 - val_loss: 1.7756 - val_accuracy: 0.2100\n",
      "Epoch 36/100\n",
      "14227/14227 [==============================] - 0s 6us/step - loss: 1.7673 - accuracy: 0.2147 - val_loss: 1.7755 - val_accuracy: 0.2027\n",
      "Epoch 37/100\n",
      "14227/14227 [==============================] - 0s 5us/step - loss: 1.7670 - accuracy: 0.2104 - val_loss: 1.7766 - val_accuracy: 0.2058\n",
      "Epoch 38/100\n",
      "14227/14227 [==============================] - 0s 6us/step - loss: 1.7666 - accuracy: 0.2152 - val_loss: 1.7748 - val_accuracy: 0.2114\n",
      "Epoch 39/100\n",
      "14227/14227 [==============================] - 0s 5us/step - loss: 1.7669 - accuracy: 0.2121 - val_loss: 1.7743 - val_accuracy: 0.2092\n",
      "Epoch 40/100\n",
      "14227/14227 [==============================] - 0s 6us/step - loss: 1.7662 - accuracy: 0.2088 - val_loss: 1.7743 - val_accuracy: 0.2097\n",
      "Epoch 41/100\n",
      "14227/14227 [==============================] - 0s 5us/step - loss: 1.7658 - accuracy: 0.2146 - val_loss: 1.7739 - val_accuracy: 0.2097\n",
      "Epoch 42/100\n",
      "14227/14227 [==============================] - 0s 6us/step - loss: 1.7655 - accuracy: 0.2143 - val_loss: 1.7737 - val_accuracy: 0.2109\n",
      "Epoch 43/100\n",
      "14227/14227 [==============================] - 0s 5us/step - loss: 1.7652 - accuracy: 0.2140 - val_loss: 1.7745 - val_accuracy: 0.2061\n",
      "Epoch 44/100\n",
      "14227/14227 [==============================] - 0s 6us/step - loss: 1.7646 - accuracy: 0.2152 - val_loss: 1.7728 - val_accuracy: 0.2072\n",
      "Epoch 45/100\n",
      "14227/14227 [==============================] - 0s 5us/step - loss: 1.7648 - accuracy: 0.2148 - val_loss: 1.7732 - val_accuracy: 0.2109\n",
      "Epoch 46/100\n",
      "14227/14227 [==============================] - 0s 6us/step - loss: 1.7643 - accuracy: 0.2135 - val_loss: 1.7737 - val_accuracy: 0.2120\n",
      "Epoch 47/100\n",
      "14227/14227 [==============================] - 0s 5us/step - loss: 1.7642 - accuracy: 0.2136 - val_loss: 1.7717 - val_accuracy: 0.2069\n",
      "Epoch 48/100\n",
      "14227/14227 [==============================] - 0s 6us/step - loss: 1.7641 - accuracy: 0.2148 - val_loss: 1.7729 - val_accuracy: 0.2086\n",
      "Epoch 49/100\n",
      "14227/14227 [==============================] - 0s 6us/step - loss: 1.7636 - accuracy: 0.2153 - val_loss: 1.7731 - val_accuracy: 0.2137\n",
      "Epoch 50/100\n",
      "14227/14227 [==============================] - 0s 6us/step - loss: 1.7636 - accuracy: 0.2143 - val_loss: 1.7754 - val_accuracy: 0.2061\n",
      "Epoch 51/100\n",
      "14227/14227 [==============================] - 0s 5us/step - loss: 1.7634 - accuracy: 0.2148 - val_loss: 1.7722 - val_accuracy: 0.2134\n",
      "Epoch 52/100\n",
      "14227/14227 [==============================] - 0s 5us/step - loss: 1.7629 - accuracy: 0.2153 - val_loss: 1.7721 - val_accuracy: 0.2100\n",
      "Epoch 53/100\n",
      "14227/14227 [==============================] - 0s 6us/step - loss: 1.7629 - accuracy: 0.2148 - val_loss: 1.7719 - val_accuracy: 0.2004\n",
      "Epoch 54/100\n",
      "14227/14227 [==============================] - 0s 6us/step - loss: 1.7628 - accuracy: 0.2142 - val_loss: 1.7741 - val_accuracy: 0.2066\n",
      "Epoch 55/100\n",
      "14227/14227 [==============================] - 0s 5us/step - loss: 1.7625 - accuracy: 0.2137 - val_loss: 1.7721 - val_accuracy: 0.2061\n",
      "Epoch 56/100\n"
     ]
    },
    {
     "name": "stdout",
     "output_type": "stream",
     "text": [
      "14227/14227 [==============================] - 0s 6us/step - loss: 1.7625 - accuracy: 0.2126 - val_loss: 1.7722 - val_accuracy: 0.2117\n",
      "Epoch 57/100\n",
      "14227/14227 [==============================] - 0s 4us/step - loss: 1.7621 - accuracy: 0.2162 - val_loss: 1.7725 - val_accuracy: 0.2075\n",
      "Epoch 58/100\n",
      "14227/14227 [==============================] - 0s 4us/step - loss: 1.7618 - accuracy: 0.2160 - val_loss: 1.7713 - val_accuracy: 0.2125\n",
      "Epoch 59/100\n",
      "14227/14227 [==============================] - 0s 5us/step - loss: 1.7618 - accuracy: 0.2182 - val_loss: 1.7720 - val_accuracy: 0.2058\n",
      "Epoch 60/100\n",
      "14227/14227 [==============================] - 0s 5us/step - loss: 1.7613 - accuracy: 0.2159 - val_loss: 1.7722 - val_accuracy: 0.2058\n",
      "Epoch 61/100\n",
      "14227/14227 [==============================] - 0s 5us/step - loss: 1.7613 - accuracy: 0.2127 - val_loss: 1.7707 - val_accuracy: 0.2128\n",
      "Epoch 62/100\n",
      "14227/14227 [==============================] - 0s 4us/step - loss: 1.7614 - accuracy: 0.2138 - val_loss: 1.7707 - val_accuracy: 0.2128\n",
      "Epoch 63/100\n",
      "14227/14227 [==============================] - 0s 4us/step - loss: 1.7610 - accuracy: 0.2173 - val_loss: 1.7707 - val_accuracy: 0.2137\n",
      "Epoch 64/100\n",
      "14227/14227 [==============================] - 0s 5us/step - loss: 1.7606 - accuracy: 0.2153 - val_loss: 1.7717 - val_accuracy: 0.2055\n",
      "Epoch 65/100\n",
      "14227/14227 [==============================] - 0s 5us/step - loss: 1.7607 - accuracy: 0.2167 - val_loss: 1.7704 - val_accuracy: 0.2125\n",
      "Epoch 66/100\n",
      "14227/14227 [==============================] - 0s 4us/step - loss: 1.7603 - accuracy: 0.2173 - val_loss: 1.7713 - val_accuracy: 0.2044\n",
      "Epoch 67/100\n",
      "14227/14227 [==============================] - 0s 4us/step - loss: 1.7602 - accuracy: 0.2149 - val_loss: 1.7714 - val_accuracy: 0.2047\n",
      "Epoch 68/100\n",
      "14227/14227 [==============================] - 0s 5us/step - loss: 1.7602 - accuracy: 0.2152 - val_loss: 1.7697 - val_accuracy: 0.2128\n",
      "Epoch 69/100\n",
      "14227/14227 [==============================] - 0s 5us/step - loss: 1.7602 - accuracy: 0.2168 - val_loss: 1.7693 - val_accuracy: 0.2111\n",
      "Epoch 70/100\n",
      "14227/14227 [==============================] - 0s 4us/step - loss: 1.7603 - accuracy: 0.2177 - val_loss: 1.7691 - val_accuracy: 0.2120\n",
      "Epoch 71/100\n",
      "14227/14227 [==============================] - 0s 4us/step - loss: 1.7607 - accuracy: 0.2161 - val_loss: 1.7702 - val_accuracy: 0.2128\n",
      "Epoch 72/100\n",
      "14227/14227 [==============================] - 0s 5us/step - loss: 1.7593 - accuracy: 0.2193 - val_loss: 1.7705 - val_accuracy: 0.2021\n",
      "Epoch 73/100\n",
      "14227/14227 [==============================] - 0s 4us/step - loss: 1.7593 - accuracy: 0.2165 - val_loss: 1.7689 - val_accuracy: 0.2111\n",
      "Epoch 74/100\n",
      "14227/14227 [==============================] - 0s 5us/step - loss: 1.7590 - accuracy: 0.2171 - val_loss: 1.7695 - val_accuracy: 0.2125\n",
      "Epoch 75/100\n",
      "14227/14227 [==============================] - 0s 4us/step - loss: 1.7596 - accuracy: 0.2152 - val_loss: 1.7707 - val_accuracy: 0.2100\n",
      "Epoch 76/100\n",
      "14227/14227 [==============================] - 0s 4us/step - loss: 1.7589 - accuracy: 0.2197 - val_loss: 1.7715 - val_accuracy: 0.2016\n",
      "Epoch 77/100\n",
      "14227/14227 [==============================] - 0s 4us/step - loss: 1.7586 - accuracy: 0.2176 - val_loss: 1.7689 - val_accuracy: 0.2145\n",
      "Epoch 78/100\n",
      "14227/14227 [==============================] - 0s 5us/step - loss: 1.7587 - accuracy: 0.2198 - val_loss: 1.7700 - val_accuracy: 0.2049\n",
      "Epoch 79/100\n",
      "14227/14227 [==============================] - 0s 5us/step - loss: 1.7585 - accuracy: 0.2201 - val_loss: 1.7704 - val_accuracy: 0.2044\n",
      "Epoch 80/100\n",
      "14227/14227 [==============================] - 0s 5us/step - loss: 1.7584 - accuracy: 0.2163 - val_loss: 1.7702 - val_accuracy: 0.2021\n",
      "Epoch 81/100\n",
      "14227/14227 [==============================] - 0s 4us/step - loss: 1.7581 - accuracy: 0.2207 - val_loss: 1.7681 - val_accuracy: 0.2109\n",
      "Epoch 82/100\n",
      "14227/14227 [==============================] - 0s 5us/step - loss: 1.7580 - accuracy: 0.2179 - val_loss: 1.7686 - val_accuracy: 0.2117\n",
      "Epoch 83/100\n",
      "14227/14227 [==============================] - 0s 5us/step - loss: 1.7579 - accuracy: 0.2209 - val_loss: 1.7679 - val_accuracy: 0.2131\n",
      "Epoch 84/100\n",
      "14227/14227 [==============================] - 0s 4us/step - loss: 1.7576 - accuracy: 0.2219 - val_loss: 1.7688 - val_accuracy: 0.2027\n",
      "Epoch 85/100\n",
      "14227/14227 [==============================] - 0s 4us/step - loss: 1.7577 - accuracy: 0.2187 - val_loss: 1.7696 - val_accuracy: 0.2047\n",
      "Epoch 86/100\n",
      "14227/14227 [==============================] - 0s 5us/step - loss: 1.7575 - accuracy: 0.2230 - val_loss: 1.7676 - val_accuracy: 0.2131\n",
      "Epoch 87/100\n",
      "14227/14227 [==============================] - 0s 5us/step - loss: 1.7574 - accuracy: 0.2211 - val_loss: 1.7674 - val_accuracy: 0.2148\n",
      "Epoch 88/100\n",
      "14227/14227 [==============================] - 0s 4us/step - loss: 1.7573 - accuracy: 0.2197 - val_loss: 1.7678 - val_accuracy: 0.2142\n",
      "Epoch 89/100\n",
      "14227/14227 [==============================] - 0s 4us/step - loss: 1.7571 - accuracy: 0.2230 - val_loss: 1.7678 - val_accuracy: 0.2131\n",
      "Epoch 90/100\n",
      "14227/14227 [==============================] - 0s 4us/step - loss: 1.7570 - accuracy: 0.2195 - val_loss: 1.7694 - val_accuracy: 0.2061\n",
      "Epoch 91/100\n",
      "14227/14227 [==============================] - 0s 4us/step - loss: 1.7571 - accuracy: 0.2187 - val_loss: 1.7695 - val_accuracy: 0.1892\n",
      "Epoch 92/100\n",
      "14227/14227 [==============================] - 0s 5us/step - loss: 1.7567 - accuracy: 0.2209 - val_loss: 1.7680 - val_accuracy: 0.2038\n",
      "Epoch 93/100\n",
      "14227/14227 [==============================] - 0s 5us/step - loss: 1.7564 - accuracy: 0.2227 - val_loss: 1.7670 - val_accuracy: 0.2131\n",
      "Epoch 94/100\n",
      "14227/14227 [==============================] - 0s 4us/step - loss: 1.7562 - accuracy: 0.2230 - val_loss: 1.7686 - val_accuracy: 0.2052\n",
      "Epoch 95/100\n",
      "14227/14227 [==============================] - 0s 4us/step - loss: 1.7562 - accuracy: 0.2226 - val_loss: 1.7676 - val_accuracy: 0.2080\n",
      "Epoch 96/100\n",
      "14227/14227 [==============================] - 0s 5us/step - loss: 1.7563 - accuracy: 0.2208 - val_loss: 1.7664 - val_accuracy: 0.2148\n",
      "Epoch 97/100\n",
      "14227/14227 [==============================] - 0s 5us/step - loss: 1.7561 - accuracy: 0.2213 - val_loss: 1.7671 - val_accuracy: 0.2142\n",
      "Epoch 98/100\n",
      "14227/14227 [==============================] - 0s 4us/step - loss: 1.7558 - accuracy: 0.2242 - val_loss: 1.7672 - val_accuracy: 0.2072\n",
      "Epoch 99/100\n",
      "14227/14227 [==============================] - 0s 4us/step - loss: 1.7558 - accuracy: 0.2221 - val_loss: 1.7669 - val_accuracy: 0.2137\n",
      "Epoch 100/100\n",
      "14227/14227 [==============================] - 0s 4us/step - loss: 1.7557 - accuracy: 0.2206 - val_loss: 1.7684 - val_accuracy: 0.2058\n"
     ]
    }
   ],
   "source": [
    "# Train model on train set\n",
    "history = model.fit(X_train_nomood, y_train, epochs=100, validation_split=0.2, batch_size=512)"
   ]
  },
  {
   "cell_type": "code",
   "execution_count": 13,
   "metadata": {},
   "outputs": [
    {
     "name": "stdout",
     "output_type": "stream",
     "text": [
      "Test loss: 1.7579\n",
      "Test accuracy: 22.1 %\n"
     ]
    }
   ],
   "source": [
    "score = model.evaluate(X_train_nomood, y_train, verbose=0)\n",
    "print('Test loss:', round(score[0],4))\n",
    "print('Test accuracy:', round(score[1]*100,2), \"%\")"
   ]
  },
  {
   "cell_type": "code",
   "execution_count": 14,
   "metadata": {},
   "outputs": [
    {
     "data": {
      "image/png": "[encoded data removed]",
      "text/plain": [
       "<Figure size 432x288 with 1 Axes>"
      ]
     },
     "metadata": {
      "needs_background": "light"
     },
     "output_type": "display_data"
    }
   ],
   "source": [
    "# Plot training & validation accuracy values\n",
    "plt.plot(history.history['accuracy'])\n",
    "plt.plot(history.history['val_accuracy'])\n",
    "plt.title('Model accuracy')\n",
    "plt.ylabel('Accuracy')\n",
    "plt.xlabel('Epoch')\n",
    "plt.legend(['Train', 'Validation'], loc='upper left')\n",
    "plt.show()"
   ]
  },
  {
   "cell_type": "code",
   "execution_count": 15,
   "metadata": {},
   "outputs": [
    {
     "data": {
      "image/png": "[encoded data removed]",
      "text/plain": [
       "<Figure size 432x288 with 1 Axes>"
      ]
     },
     "metadata": {
      "needs_background": "light"
     },
     "output_type": "display_data"
    }
   ],
   "source": [
    "# Plot training & validation loss values\n",
    "plt.plot(history.history['loss'])\n",
    "plt.plot(history.history['val_loss'])\n",
    "plt.title('Model loss')\n",
    "plt.ylabel('Loss')\n",
    "plt.xlabel('Epoch')\n",
    "plt.legend(['Train', 'Validation'], loc='upper left')\n",
    "plt.show()"
   ]
  },
  {
   "cell_type": "code",
   "execution_count": 16,
   "metadata": {},
   "outputs": [],
   "source": [
    "# Predict using X_test\n",
    "y_pred = model.predict(X_test_nomood)\n",
    "\n",
    "#Converting predictions to label\n",
    "pred = list()\n",
    "for i in range(len(y_pred)):\n",
    "    pred.append(np.argmax(y_pred[i]))\n",
    "    \n",
    "#Converting one hot encoded test label to label\n",
    "test = list()\n",
    "for i in range(len(y_test)):\n",
    "    test.append(np.argmax(y_test[i]))"
   ]
  },
  {
   "cell_type": "code",
   "execution_count": 17,
   "metadata": {},
   "outputs": [
    {
     "name": "stdout",
     "output_type": "stream",
     "text": [
      "Accuracy is: 13.950850661625708\n"
     ]
    }
   ],
   "source": [
    "# Accuracy score\n",
    "a = accuracy_score(pred,test)\n",
    "print('Accuracy is:', a*100)"
   ]
  },
  {
   "cell_type": "code",
   "execution_count": 18,
   "metadata": {},
   "outputs": [
    {
     "name": "stdout",
     "output_type": "stream",
     "text": [
      "        Same Dif\n",
      "correct 235 134\n",
      "wrong   1365 911\n",
      "Table is right!\n"
     ]
    }
   ],
   "source": [
    "# true = y_test\n",
    "# pred = y_pred\n",
    "# last_value = X_bored_lastarray\n",
    "same_correct = 0\n",
    "same_wrong = 0\n",
    "dif_correct = 0\n",
    "dif_wrong = 0\n",
    "\n",
    "X_test_mood = X_test_onlylastmood['cheerful_last'].values\n",
    "for i in range(len(pred)):\n",
    "    if (test[i] == X_test_mood[i]) and (test[i] == pred[i]):\n",
    "        same_correct += 1\n",
    "    if (test[i] == X_test_mood[i]) and (test[i] != pred[i]):\n",
    "        same_wrong += 1\n",
    "    if (test[i] != X_test_mood[i]) and (test[i] == pred[i]):\n",
    "        dif_correct += 1\n",
    "    if (test[i] != X_test_mood[i]) and (test[i] != pred[i]):\n",
    "        dif_wrong += 1   \n",
    "\n",
    "print(\"       \", \"Same\", \"Dif\")\n",
    "print(\"correct\", same_correct, dif_correct)\n",
    "print(\"wrong  \", same_wrong, dif_wrong)\n",
    "\n",
    "#Check if table is similar to accuracy\n",
    "if (same_correct+dif_correct) / (same_correct+dif_correct+same_wrong+dif_wrong) == a:\n",
    "    print(\"Table is right!\")\n",
    "else:\n",
    "    print(\"Table is wrong\")"
   ]
  },
  {
   "cell_type": "code",
   "execution_count": 19,
   "metadata": {},
   "outputs": [
    {
     "name": "stdout",
     "output_type": "stream",
     "text": [
      "Predicted valxues:  Counter({0: 1011, 5: 980, 1: 333, 3: 197, 4: 114, 2: 10})\n",
      "True values:  Counter({3: 755, 2: 599, 4: 457, 1: 386, 0: 275, 5: 173})\n",
      "Previous mood: Counter({3.0: 735, 2.0: 622, 4.0: 473, 1.0: 375, 0.0: 271, 5.0: 169})\n"
     ]
    }
   ],
   "source": [
    "from collections import Counter\n",
    "print(\"Predicted valxues: \", Counter(pred))\n",
    "print(\"True values: \", Counter(test))\n",
    "print(\"Previous mood:\", Counter(X_test_mood))"
   ]
  },
  {
   "cell_type": "code",
   "execution_count": 20,
   "metadata": {},
   "outputs": [
    {
     "name": "stdout",
     "output_type": "stream",
     "text": [
      "Total length:  2645\n",
      "Same Correct 0 guesses is:  103\n",
      "Same Wrong 0 guesses is:  96\n",
      "Dif Correct 0 guesses is:  34\n",
      "Dif Wrong 0 guesses is:  42\n",
      "\n",
      "Same Correct 1 guesses is:  27\n",
      "Same Wrong 1 guesses is:  194\n",
      "Dif Correct 1 guesses is:  32\n",
      "Dif Wrong 1 guesses is:  133\n",
      "\n",
      "Same Correct 2 guesses is:  1\n",
      "Same Wrong 2 guesses is:  357\n",
      "Dif Correct 2 guesses is:  1\n",
      "Dif Wrong 2 guesses is:  240\n",
      "\n",
      "Same Correct 3 guesses is:  35\n",
      "Same Wrong 3 guesses is:  416\n",
      "Dif Correct 3 guesses is:  27\n",
      "Dif Wrong 3 guesses is:  277\n",
      "\n",
      "Same Correct 4 guesses is:  10\n",
      "Same Wrong 4 guesses is:  249\n",
      "Dif Correct 4 guesses is:  15\n",
      "Dif Wrong 4 guesses is:  183\n",
      "\n",
      "Same Correct 5 guesses is:  59\n",
      "Same Wrong 5 guesses is:  53\n",
      "Dif Correct 5 guesses is:  25\n",
      "Dif Wrong 5 guesses is:  36\n"
     ]
    }
   ],
   "source": [
    "same_correct_0, same_wrong_0, same_correct_1, same_wrong_1, same_correct_2, same_wrong_2, same_correct_3, same_wrong_3, same_correct_4, same_wrong_4, same_correct_5, same_wrong_5 = (0, 0, 0, 0, 0, 0, 0, 0, 0, 0, 0, 0)\n",
    "dif_correct_0, dif_wrong_0, dif_correct_1, dif_wrong_1, dif_correct_2, dif_wrong_2, dif_correct_3, dif_wrong_3, dif_correct_4, dif_wrong_4, dif_correct_5, dif_wrong_5 = (0, 0, 0, 0, 0, 0, 0, 0, 0, 0, 0, 0)\n",
    "\n",
    "for i in range(len(pred)):\n",
    "    if test[i] == 0 and pred[i] == 0:\n",
    "        if test[i] == X_test_mood[i]:\n",
    "            same_correct_0 += 1\n",
    "        if test[i] != X_test_mood[i]:\n",
    "            dif_correct_0 += 1\n",
    "    if test[i] == 0 and pred[i] != 0:\n",
    "        if test[i] == X_test_mood[i]:\n",
    "            same_wrong_0 += 1\n",
    "        if test[i] != X_test_mood[i]:\n",
    "            dif_wrong_0 += 1\n",
    "\n",
    "    if test[i] == 1 and pred[i] == 1:\n",
    "        if test[i] == X_test_mood[i]:\n",
    "            same_correct_1 += 1\n",
    "        if test[i] != X_test_mood[i]:\n",
    "            dif_correct_1 += 1\n",
    "    if test[i] == 1 and pred[i] != 1:\n",
    "        if test[i] == X_test_mood[i]:\n",
    "            same_wrong_1 += 1\n",
    "        if test[i] != X_test_mood[i]:\n",
    "            dif_wrong_1 += 1\n",
    "        \n",
    "    if test[i] == 2 and pred[i] == 2:\n",
    "        if test[i] == X_test_mood[i]:\n",
    "            same_correct_2 += 1\n",
    "        if test[i] != X_test_mood[i]:\n",
    "            dif_correct_2 += 1\n",
    "    if test[i] == 2 and pred[i] != 2:\n",
    "        if test[i] == X_test_mood[i]:\n",
    "            same_wrong_2 += 1\n",
    "        if test[i] != X_test_mood[i]:\n",
    "            dif_wrong_2 += 1\n",
    "    \n",
    "    if test[i] == 3 and pred[i] == 3:\n",
    "        if test[i] == X_test_mood[i]:\n",
    "            same_correct_3 += 1\n",
    "        if test[i] != X_test_mood[i]:\n",
    "            dif_correct_3 += 1\n",
    "    if test[i] == 3 and pred[i] != 3:\n",
    "        if test[i] == X_test_mood[i]:\n",
    "            same_wrong_3 += 1\n",
    "        if test[i] != X_test_mood[i]:\n",
    "            dif_wrong_3 += 1\n",
    "        \n",
    "    if test[i] == 4 and pred[i] == 4:\n",
    "        if test[i] == X_test_mood[i]:\n",
    "            same_correct_4 += 1\n",
    "        if test[i] != X_test_mood[i]:\n",
    "            dif_correct_4 += 1\n",
    "    if test[i] == 4 and pred[i] != 4:\n",
    "        if test[i] == X_test_mood[i]:\n",
    "            same_wrong_4 += 1\n",
    "        if test[i] != X_test_mood[i]:\n",
    "            dif_wrong_4 += 1\n",
    "    \n",
    "    if test[i] == 5 and pred[i] == 5:\n",
    "        if test[i] == X_test_mood[i]:\n",
    "            same_correct_5 += 1\n",
    "        if test[i] != X_test_mood[i]:\n",
    "            dif_correct_5 += 1\n",
    "    if test[i] == 5 and pred[i] != 5:\n",
    "        if test[i] == X_test_mood[i]:\n",
    "            same_wrong_5 += 1\n",
    "        if test[i] != X_test_mood[i]:\n",
    "            dif_wrong_5 += 1\n",
    "\n",
    "print(\"Total length: \", len(X_test_mood))\n",
    "\n",
    "print(\"Same Correct 0 guesses is: \", same_correct_0)\n",
    "print(\"Same Wrong 0 guesses is: \", same_wrong_0)\n",
    "print(\"Dif Correct 0 guesses is: \", dif_correct_0)\n",
    "print(\"Dif Wrong 0 guesses is: \", dif_wrong_0)\n",
    "print('')\n",
    "print(\"Same Correct 1 guesses is: \", same_correct_1)\n",
    "print(\"Same Wrong 1 guesses is: \", same_wrong_1)\n",
    "print(\"Dif Correct 1 guesses is: \", dif_correct_1)\n",
    "print(\"Dif Wrong 1 guesses is: \", dif_wrong_1)\n",
    "print('')\n",
    "print(\"Same Correct 2 guesses is: \", same_correct_2)\n",
    "print(\"Same Wrong 2 guesses is: \", same_wrong_2)\n",
    "print(\"Dif Correct 2 guesses is: \", dif_correct_2)\n",
    "print(\"Dif Wrong 2 guesses is: \", dif_wrong_2)\n",
    "print('')\n",
    "print(\"Same Correct 3 guesses is: \", same_correct_3)\n",
    "print(\"Same Wrong 3 guesses is: \", same_wrong_3)\n",
    "print(\"Dif Correct 3 guesses is: \", dif_correct_3)\n",
    "print(\"Dif Wrong 3 guesses is: \", dif_wrong_3)\n",
    "print('')\n",
    "print(\"Same Correct 4 guesses is: \", same_correct_4)\n",
    "print(\"Same Wrong 4 guesses is: \", same_wrong_4)\n",
    "print(\"Dif Correct 4 guesses is: \", dif_correct_4)\n",
    "print(\"Dif Wrong 4 guesses is: \", dif_wrong_4)\n",
    "print('')\n",
    "print(\"Same Correct 5 guesses is: \", same_correct_5)\n",
    "print(\"Same Wrong 5 guesses is: \", same_wrong_5)\n",
    "print(\"Dif Correct 5 guesses is: \", dif_correct_5)\n",
    "print(\"Dif Wrong 5 guesses is: \", dif_wrong_5)"
   ]
  },
  {
   "cell_type": "code",
   "execution_count": 21,
   "metadata": {},
   "outputs": [],
   "source": [
    "mae_0, mae_1, mae_2, mae_3, mae_4, mae_5 = (0,0,0,0,0,0)\n",
    "\n",
    "for i in range(len(pred)):\n",
    "    if test[i] == 0 and pred[i] != 0:\n",
    "        mae_0 += (abs(test[i]-pred[i]))\n",
    "    if test[i] == 1 and pred[i] != 1:\n",
    "        mae_1 += (abs(test[i]-pred[i]))\n",
    "    if test[i] == 2 and pred[i] != 2:\n",
    "        mae_2 += (abs(test[i]-pred[i]))\n",
    "    if test[i] == 3 and pred[i] != 3:\n",
    "        mae_3 += (abs(test[i]-pred[i]))\n",
    "    if test[i] == 4 and pred[i] != 4:\n",
    "        mae_4 += (abs(test[i]-pred[i]))\n",
    "    if test[i] == 5 and pred[i] != 5:\n",
    "        mae_5 += (abs(test[i]-pred[i]))\n",
    "\n",
    "cnt_0, cnt_1, cnt_2, cnt_3, cnt_4, cnt_5 = (0,0,0,0,0,0)\n",
    "for z in range(len(test)):\n",
    "    if test[z] == 0:\n",
    "        cnt_0 += 1\n",
    "    if test[z] == 1:\n",
    "        cnt_1 += 1\n",
    "    if test[z] == 2:\n",
    "        cnt_2 += 1\n",
    "    if test[z] == 3:\n",
    "        cnt_3 += 1\n",
    "    if test[z] == 4:\n",
    "        cnt_4 += 1\n",
    "    if test[z] == 5:\n",
    "        cnt_5 += 1\n",
    "\n",
    "mae_macroaverage = ((mae_0/cnt_0) + (mae_1/cnt_1) + (mae_2/cnt_2) + (mae_3/cnt_3) + (mae_4/cnt_4) + (mae_5/cnt_5)) / 6"
   ]
  },
  {
   "cell_type": "code",
   "execution_count": 22,
   "metadata": {},
   "outputs": [
    {
     "name": "stdout",
     "output_type": "stream",
     "text": [
      "Macro-averaged Mean Absolute error is:  2.1242\n",
      "Macro-averaged F1-score is:  0.1094\n"
     ]
    }
   ],
   "source": [
    "print(\"Macro-averaged Mean Absolute error is: \", round(mae_macroaverage, 4))\n",
    "print(\"Macro-averaged F1-score is: \", round(f1_score(test, pred, average='weighted'), 4))\n",
    "\n",
    "# print(\"Mean Squared error is: \", mean_squared_error(test, pred))\n",
    "# print(\"Root Mean Squared error is: \", sqrt(mean_squared_error(test, pred)))"
   ]
  },
  {
   "cell_type": "code",
   "execution_count": null,
   "metadata": {},
   "outputs": [],
   "source": []
  }
 ],
 "metadata": {
  "kernelspec": {
   "display_name": "Python 3",
   "language": "python",
   "name": "python3"
  },
  "language_info": {
   "codemirror_mode": {
    "name": "ipython",
    "version": 3
   },
   "file_extension": ".py",
   "mimetype": "text/x-python",
   "name": "python",
   "nbconvert_exporter": "python",
   "pygments_lexer": "ipython3",
   "version": "3.7.4"
  }
 },
 "nbformat": 4,
 "nbformat_minor": 2
}
