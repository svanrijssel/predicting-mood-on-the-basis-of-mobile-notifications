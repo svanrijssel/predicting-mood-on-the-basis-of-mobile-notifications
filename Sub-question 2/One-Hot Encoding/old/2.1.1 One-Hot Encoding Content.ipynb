{
 "cells": [
  {
   "cell_type": "code",
   "execution_count": 2,
   "metadata": {},
   "outputs": [
    {
     "name": "stderr",
     "output_type": "stream",
     "text": [
      "Using TensorFlow backend.\n"
     ]
    }
   ],
   "source": [
    "# Import packages\n",
    "import pandas as pd\n",
    "import numpy as np\n",
    "import datetime\n",
    "import category_encoders as ce\n",
    "from sklearn.preprocessing import LabelEncoder, MinMaxScaler, RobustScaler, OneHotEncoder, StandardScaler\n",
    "from sklearn.model_selection import train_test_split\n",
    "from sklearn.metrics import accuracy_score, mean_squared_error, cohen_kappa_score, mean_absolute_error, f1_score\n",
    "from sklearn.utils import shuffle\n",
    "from imblearn.over_sampling import SMOTE, SMOTENC\n",
    "import matplotlib.pyplot as plt\n",
    "from statsmodels.graphics.mosaicplot import mosaic\n",
    "from sklearn.decomposition import PCA\n",
    "from scipy import stats\n",
    "from math import sqrt\n",
    "\n",
    "\n",
    "\n",
    "import keras\n",
    "from keras.models import Sequential\n",
    "from keras.layers import Dense, Dropout, GaussianNoise\n",
    "from keras.optimizers import SGD\n",
    "from keras import regularizers"
   ]
  },
  {
   "cell_type": "code",
   "execution_count": 3,
   "metadata": {},
   "outputs": [],
   "source": [
    "path = \"/Users/Stijn/Documents/Master Data Science and Society/Block 3/thesis/code/thesis_Code/\"\n",
    "mood = pd.read_csv(path+'mood_imputed_median.csv', sep = ',', index_col=0)\n",
    "mood['content_last'] = mood.groupby('user_id')['content'].shift()\n",
    "mood.loc[(pd.isnull(mood.content_last)), 'content_last'] = mood['content']\n",
    "mood_content = mood.drop([\"bored\", \"anxious\", \"cheerful\", \"user_id\", \"response_time\"], axis=1)"
   ]
  },
  {
   "cell_type": "code",
   "execution_count": 4,
   "metadata": {},
   "outputs": [],
   "source": [
    "# Normalize predictors\n",
    "mood_normz = mood_content.copy()\n",
    "features_to_normalize = ['day_time_window', 'average_TimeUse', 'messaging', 'socialnetworking', 'otherapp']\n",
    "mood_normz[features_to_normalize] = mood_normz[features_to_normalize].apply(lambda x:(x-x.min()) / (x.max()-x.min()))"
   ]
  },
  {
   "cell_type": "code",
   "execution_count": 5,
   "metadata": {},
   "outputs": [],
   "source": [
    "# X = predictors, y = target\n",
    "X = mood_normz.iloc[:,1:]\n",
    "y = mood_normz.iloc[:, 0:1]\n",
    "\n",
    "# Convert float to int\n",
    "y = y.astype(int)"
   ]
  },
  {
   "cell_type": "code",
   "execution_count": 6,
   "metadata": {},
   "outputs": [],
   "source": [
    "# Train (80%) & Test set (20%)\n",
    "X_train, X_test, y_train, y_test = train_test_split(X, y, test_size=0.2, random_state=2)"
   ]
  },
  {
   "cell_type": "code",
   "execution_count": 7,
   "metadata": {},
   "outputs": [
    {
     "name": "stdout",
     "output_type": "stream",
     "text": [
      "Before OverSampling, counts of labels: 3    3165\n",
      "4    2379\n",
      "2    2203\n",
      "1    1261\n",
      "0     872\n",
      "5     696\n",
      "Name: content, dtype: int64\n",
      "After OverSampling, counts of label '0': 3165\n",
      "After OverSampling, counts of label '1': 3165\n",
      "After OverSampling, counts of label '2': 3165\n",
      "After OverSampling, counts of label '3': 3165\n",
      "After OverSampling, counts of label '4': 3165\n",
      "After OverSampling, counts of label '5': 3165\n"
     ]
    }
   ],
   "source": [
    "# Oversampling unbalanced target\n",
    "print(\"Before OverSampling, counts of labels: {}\".format(y_train['content'].value_counts()))\n",
    "  \n",
    "sm = SMOTENC(categorical_features=[0, 2, 6], random_state = 2) \n",
    "X_train_res, y_train_res = sm.fit_sample(X_train, y_train['content'].ravel()) \n",
    "\n",
    "print(\"After OverSampling, counts of label '0': {}\".format(sum(y_train_res == 0))) \n",
    "print(\"After OverSampling, counts of label '1': {}\".format(sum(y_train_res == 1))) \n",
    "print(\"After OverSampling, counts of label '2': {}\".format(sum(y_train_res == 2))) \n",
    "print(\"After OverSampling, counts of label '3': {}\".format(sum(y_train_res == 3))) \n",
    "print(\"After OverSampling, counts of label '4': {}\".format(sum(y_train_res == 4))) \n",
    "print(\"After OverSampling, counts of label '5': {}\".format(sum(y_train_res == 5))) "
   ]
  },
  {
   "cell_type": "code",
   "execution_count": 8,
   "metadata": {},
   "outputs": [],
   "source": [
    "# Convert oversample dataset to Pandas DataFrame\n",
    "X_train = pd.DataFrame(data=X_train_res)\n",
    "y_train = pd.DataFrame(data=y_train_res)"
   ]
  },
  {
   "cell_type": "code",
   "execution_count": 9,
   "metadata": {},
   "outputs": [
    {
     "name": "stderr",
     "output_type": "stream",
     "text": [
      "/Users/Stijn/Library/Python/3.7/lib/python/site-packages/sklearn/preprocessing/_encoders.py:415: FutureWarning: The handling of integer data will change in version 0.22. Currently, the categories are determined based on the range [0, max(values)], while in the future they will be determined based on the unique values.\n",
      "If you want the future behaviour and silence this warning, you can specify \"categories='auto'\".\n",
      "In case you used a LabelEncoder before this OneHotEncoder to convert the categories to integers, then you can now use the OneHotEncoder directly.\n",
      "  warnings.warn(msg, FutureWarning)\n",
      "/Users/Stijn/Library/Python/3.7/lib/python/site-packages/sklearn/preprocessing/_encoders.py:415: FutureWarning: The handling of integer data will change in version 0.22. Currently, the categories are determined based on the range [0, max(values)], while in the future they will be determined based on the unique values.\n",
      "If you want the future behaviour and silence this warning, you can specify \"categories='auto'\".\n",
      "In case you used a LabelEncoder before this OneHotEncoder to convert the categories to integers, then you can now use the OneHotEncoder directly.\n",
      "  warnings.warn(msg, FutureWarning)\n"
     ]
    }
   ],
   "source": [
    "# OneHotEncoder for targets\n",
    "ohe = OneHotEncoder(sparse=False)\n",
    "y_train = ohe.fit_transform(y_train)\n",
    "y_test = ohe.fit_transform(y_test)"
   ]
  },
  {
   "cell_type": "code",
   "execution_count": 10,
   "metadata": {},
   "outputs": [],
   "source": [
    "# Shuffle both train and test set to cancel patterns\n",
    "X_train, y_train = shuffle(X_train, y_train)\n",
    "X_test, y_test = shuffle(X_test, y_test)"
   ]
  },
  {
   "cell_type": "code",
   "execution_count": 11,
   "metadata": {},
   "outputs": [],
   "source": [
    "X_train_nomood = X_train.iloc[:,:-1]\n",
    "X_train_onlylastmood = X_train.iloc[:,-1:]\n",
    "X_test_nomood = X_test.iloc[:,:-1]\n",
    "X_test_onlylastmood = X_test.iloc[:,-1:]"
   ]
  },
  {
   "cell_type": "code",
   "execution_count": 12,
   "metadata": {},
   "outputs": [
    {
     "name": "stdout",
     "output_type": "stream",
     "text": [
      "Model: \"sequential_1\"\n",
      "_________________________________________________________________\n",
      "Layer (type)                 Output Shape              Param #   \n",
      "=================================================================\n",
      "dense_1 (Dense)              (None, 24)                168       \n",
      "_________________________________________________________________\n",
      "dense_2 (Dense)              (None, 12)                300       \n",
      "_________________________________________________________________\n",
      "dense_3 (Dense)              (None, 6)                 78        \n",
      "=================================================================\n",
      "Total params: 546\n",
      "Trainable params: 546\n",
      "Non-trainable params: 0\n",
      "_________________________________________________________________\n"
     ]
    }
   ],
   "source": [
    "# Define Keras model\n",
    "model = Sequential()\n",
    "model.add(Dense(24, input_dim=6, activation='relu'))\n",
    "model.add(Dense(12, activation='relu'))\n",
    "model.add(Dense(6, activation='softmax'))\n",
    "\n",
    "model.compile(loss='categorical_crossentropy', optimizer='adam', metrics=['accuracy'])\n",
    "model.summary()"
   ]
  },
  {
   "cell_type": "code",
   "execution_count": 13,
   "metadata": {},
   "outputs": [
    {
     "name": "stdout",
     "output_type": "stream",
     "text": [
      "Train on 15192 samples, validate on 3798 samples\n",
      "Epoch 1/100\n",
      "15192/15192 [==============================] - 0s 16us/step - loss: 1.7918 - accuracy: 0.1756 - val_loss: 1.7909 - val_accuracy: 0.1759\n",
      "Epoch 2/100\n",
      "15192/15192 [==============================] - 0s 6us/step - loss: 1.7904 - accuracy: 0.1790 - val_loss: 1.7894 - val_accuracy: 0.1933\n",
      "Epoch 3/100\n",
      "15192/15192 [==============================] - 0s 5us/step - loss: 1.7893 - accuracy: 0.1829 - val_loss: 1.7884 - val_accuracy: 0.1919\n",
      "Epoch 4/100\n",
      "15192/15192 [==============================] - 0s 5us/step - loss: 1.7885 - accuracy: 0.1806 - val_loss: 1.7872 - val_accuracy: 0.1822\n",
      "Epoch 5/100\n",
      "15192/15192 [==============================] - 0s 5us/step - loss: 1.7874 - accuracy: 0.1838 - val_loss: 1.7859 - val_accuracy: 0.2022\n",
      "Epoch 6/100\n",
      "15192/15192 [==============================] - 0s 5us/step - loss: 1.7866 - accuracy: 0.1851 - val_loss: 1.7848 - val_accuracy: 0.1935\n",
      "Epoch 7/100\n",
      "15192/15192 [==============================] - 0s 5us/step - loss: 1.7859 - accuracy: 0.1823 - val_loss: 1.7838 - val_accuracy: 0.2009\n",
      "Epoch 8/100\n",
      "15192/15192 [==============================] - 0s 5us/step - loss: 1.7853 - accuracy: 0.1861 - val_loss: 1.7830 - val_accuracy: 0.2056\n",
      "Epoch 9/100\n",
      "15192/15192 [==============================] - 0s 6us/step - loss: 1.7849 - accuracy: 0.1907 - val_loss: 1.7824 - val_accuracy: 0.1951\n",
      "Epoch 10/100\n",
      "15192/15192 [==============================] - 0s 5us/step - loss: 1.7846 - accuracy: 0.1894 - val_loss: 1.7819 - val_accuracy: 0.1935\n",
      "Epoch 11/100\n",
      "15192/15192 [==============================] - 0s 5us/step - loss: 1.7842 - accuracy: 0.1883 - val_loss: 1.7814 - val_accuracy: 0.1867\n",
      "Epoch 12/100\n",
      "15192/15192 [==============================] - 0s 5us/step - loss: 1.7837 - accuracy: 0.1910 - val_loss: 1.7807 - val_accuracy: 0.2027\n",
      "Epoch 13/100\n",
      "15192/15192 [==============================] - 0s 5us/step - loss: 1.7832 - accuracy: 0.1906 - val_loss: 1.7800 - val_accuracy: 0.1962\n",
      "Epoch 14/100\n",
      "15192/15192 [==============================] - 0s 6us/step - loss: 1.7827 - accuracy: 0.1937 - val_loss: 1.7796 - val_accuracy: 0.2022\n",
      "Epoch 15/100\n",
      "15192/15192 [==============================] - 0s 5us/step - loss: 1.7822 - accuracy: 0.1964 - val_loss: 1.7787 - val_accuracy: 0.1972\n",
      "Epoch 16/100\n",
      "15192/15192 [==============================] - 0s 5us/step - loss: 1.7817 - accuracy: 0.1931 - val_loss: 1.7780 - val_accuracy: 0.2059\n",
      "Epoch 17/100\n",
      "15192/15192 [==============================] - 0s 5us/step - loss: 1.7812 - accuracy: 0.1925 - val_loss: 1.7773 - val_accuracy: 0.1980\n",
      "Epoch 18/100\n",
      "15192/15192 [==============================] - 0s 5us/step - loss: 1.7806 - accuracy: 0.1935 - val_loss: 1.7767 - val_accuracy: 0.1933\n",
      "Epoch 19/100\n",
      "15192/15192 [==============================] - 0s 5us/step - loss: 1.7802 - accuracy: 0.1974 - val_loss: 1.7759 - val_accuracy: 0.2022\n",
      "Epoch 20/100\n",
      "15192/15192 [==============================] - 0s 5us/step - loss: 1.7794 - accuracy: 0.1985 - val_loss: 1.7753 - val_accuracy: 0.2038\n",
      "Epoch 21/100\n",
      "15192/15192 [==============================] - 0s 5us/step - loss: 1.7788 - accuracy: 0.2008 - val_loss: 1.7743 - val_accuracy: 0.2093\n",
      "Epoch 22/100\n",
      "15192/15192 [==============================] - 0s 5us/step - loss: 1.7782 - accuracy: 0.2014 - val_loss: 1.7739 - val_accuracy: 0.2041\n",
      "Epoch 23/100\n",
      "15192/15192 [==============================] - 0s 5us/step - loss: 1.7778 - accuracy: 0.1918 - val_loss: 1.7727 - val_accuracy: 0.2062\n",
      "Epoch 24/100\n",
      "15192/15192 [==============================] - 0s 5us/step - loss: 1.7770 - accuracy: 0.1971 - val_loss: 1.7727 - val_accuracy: 0.1998\n",
      "Epoch 25/100\n",
      "15192/15192 [==============================] - 0s 5us/step - loss: 1.7763 - accuracy: 0.1994 - val_loss: 1.7714 - val_accuracy: 0.2056\n",
      "Epoch 26/100\n",
      "15192/15192 [==============================] - 0s 5us/step - loss: 1.7758 - accuracy: 0.2018 - val_loss: 1.7710 - val_accuracy: 0.2025\n",
      "Epoch 27/100\n",
      "15192/15192 [==============================] - 0s 5us/step - loss: 1.7753 - accuracy: 0.2007 - val_loss: 1.7706 - val_accuracy: 0.2048\n",
      "Epoch 28/100\n",
      "15192/15192 [==============================] - 0s 5us/step - loss: 1.7746 - accuracy: 0.2002 - val_loss: 1.7705 - val_accuracy: 0.1977\n",
      "Epoch 29/100\n",
      "15192/15192 [==============================] - 0s 5us/step - loss: 1.7741 - accuracy: 0.2022 - val_loss: 1.7690 - val_accuracy: 0.2067\n",
      "Epoch 30/100\n",
      "15192/15192 [==============================] - 0s 6us/step - loss: 1.7739 - accuracy: 0.2018 - val_loss: 1.7684 - val_accuracy: 0.2088\n",
      "Epoch 31/100\n",
      "15192/15192 [==============================] - 0s 5us/step - loss: 1.7735 - accuracy: 0.2020 - val_loss: 1.7680 - val_accuracy: 0.2117\n",
      "Epoch 32/100\n",
      "15192/15192 [==============================] - 0s 5us/step - loss: 1.7731 - accuracy: 0.2023 - val_loss: 1.7691 - val_accuracy: 0.1980\n",
      "Epoch 33/100\n",
      "15192/15192 [==============================] - 0s 6us/step - loss: 1.7727 - accuracy: 0.2029 - val_loss: 1.7680 - val_accuracy: 0.2025\n",
      "Epoch 34/100\n",
      "15192/15192 [==============================] - 0s 6us/step - loss: 1.7723 - accuracy: 0.2034 - val_loss: 1.7680 - val_accuracy: 0.1993\n",
      "Epoch 35/100\n",
      "15192/15192 [==============================] - 0s 5us/step - loss: 1.7719 - accuracy: 0.2016 - val_loss: 1.7668 - val_accuracy: 0.2106\n",
      "Epoch 36/100\n",
      "15192/15192 [==============================] - 0s 6us/step - loss: 1.7714 - accuracy: 0.2069 - val_loss: 1.7673 - val_accuracy: 0.2004\n",
      "Epoch 37/100\n",
      "15192/15192 [==============================] - 0s 6us/step - loss: 1.7711 - accuracy: 0.2024 - val_loss: 1.7660 - val_accuracy: 0.2083\n",
      "Epoch 38/100\n",
      "15192/15192 [==============================] - 0s 6us/step - loss: 1.7708 - accuracy: 0.2056 - val_loss: 1.7661 - val_accuracy: 0.2075\n",
      "Epoch 39/100\n",
      "15192/15192 [==============================] - 0s 6us/step - loss: 1.7706 - accuracy: 0.2059 - val_loss: 1.7653 - val_accuracy: 0.2101\n",
      "Epoch 40/100\n",
      "15192/15192 [==============================] - 0s 5us/step - loss: 1.7700 - accuracy: 0.2071 - val_loss: 1.7655 - val_accuracy: 0.2104\n",
      "Epoch 41/100\n",
      "15192/15192 [==============================] - 0s 5us/step - loss: 1.7697 - accuracy: 0.2071 - val_loss: 1.7654 - val_accuracy: 0.2088\n",
      "Epoch 42/100\n",
      "15192/15192 [==============================] - 0s 5us/step - loss: 1.7694 - accuracy: 0.2064 - val_loss: 1.7669 - val_accuracy: 0.1948\n",
      "Epoch 43/100\n",
      "15192/15192 [==============================] - 0s 6us/step - loss: 1.7693 - accuracy: 0.2055 - val_loss: 1.7649 - val_accuracy: 0.2080\n",
      "Epoch 44/100\n",
      "15192/15192 [==============================] - 0s 5us/step - loss: 1.7687 - accuracy: 0.2068 - val_loss: 1.7641 - val_accuracy: 0.2096\n",
      "Epoch 45/100\n",
      "15192/15192 [==============================] - 0s 5us/step - loss: 1.7684 - accuracy: 0.2044 - val_loss: 1.7638 - val_accuracy: 0.2117\n",
      "Epoch 46/100\n",
      "15192/15192 [==============================] - 0s 5us/step - loss: 1.7681 - accuracy: 0.2058 - val_loss: 1.7641 - val_accuracy: 0.2096\n",
      "Epoch 47/100\n",
      "15192/15192 [==============================] - 0s 6us/step - loss: 1.7678 - accuracy: 0.2066 - val_loss: 1.7645 - val_accuracy: 0.2067\n",
      "Epoch 48/100\n",
      "15192/15192 [==============================] - 0s 6us/step - loss: 1.7678 - accuracy: 0.2068 - val_loss: 1.7641 - val_accuracy: 0.2083\n",
      "Epoch 49/100\n",
      "15192/15192 [==============================] - 0s 5us/step - loss: 1.7671 - accuracy: 0.2093 - val_loss: 1.7629 - val_accuracy: 0.2117\n",
      "Epoch 50/100\n",
      "15192/15192 [==============================] - 0s 5us/step - loss: 1.7668 - accuracy: 0.2087 - val_loss: 1.7633 - val_accuracy: 0.2120\n",
      "Epoch 51/100\n",
      "15192/15192 [==============================] - 0s 5us/step - loss: 1.7668 - accuracy: 0.2077 - val_loss: 1.7636 - val_accuracy: 0.2070\n",
      "Epoch 52/100\n",
      "15192/15192 [==============================] - 0s 5us/step - loss: 1.7669 - accuracy: 0.2058 - val_loss: 1.7629 - val_accuracy: 0.2064\n",
      "Epoch 53/100\n",
      "15192/15192 [==============================] - 0s 7us/step - loss: 1.7663 - accuracy: 0.2058 - val_loss: 1.7623 - val_accuracy: 0.2101\n",
      "Epoch 54/100\n",
      "15192/15192 [==============================] - 0s 6us/step - loss: 1.7658 - accuracy: 0.2077 - val_loss: 1.7629 - val_accuracy: 0.2059\n",
      "Epoch 55/100\n",
      "15192/15192 [==============================] - 0s 6us/step - loss: 1.7660 - accuracy: 0.2089 - val_loss: 1.7626 - val_accuracy: 0.2096\n",
      "Epoch 56/100\n"
     ]
    },
    {
     "name": "stdout",
     "output_type": "stream",
     "text": [
      "15192/15192 [==============================] - 0s 6us/step - loss: 1.7653 - accuracy: 0.2105 - val_loss: 1.7620 - val_accuracy: 0.2098\n",
      "Epoch 57/100\n",
      "15192/15192 [==============================] - 0s 5us/step - loss: 1.7650 - accuracy: 0.2082 - val_loss: 1.7636 - val_accuracy: 0.1983\n",
      "Epoch 58/100\n",
      "15192/15192 [==============================] - 0s 5us/step - loss: 1.7651 - accuracy: 0.2129 - val_loss: 1.7661 - val_accuracy: 0.1993\n",
      "Epoch 59/100\n",
      "15192/15192 [==============================] - 0s 5us/step - loss: 1.7662 - accuracy: 0.2057 - val_loss: 1.7625 - val_accuracy: 0.2004\n",
      "Epoch 60/100\n",
      "15192/15192 [==============================] - 0s 5us/step - loss: 1.7647 - accuracy: 0.2090 - val_loss: 1.7615 - val_accuracy: 0.2070\n",
      "Epoch 61/100\n",
      "15192/15192 [==============================] - 0s 5us/step - loss: 1.7643 - accuracy: 0.2115 - val_loss: 1.7612 - val_accuracy: 0.2133\n",
      "Epoch 62/100\n",
      "15192/15192 [==============================] - 0s 5us/step - loss: 1.7638 - accuracy: 0.2137 - val_loss: 1.7610 - val_accuracy: 0.2101\n",
      "Epoch 63/100\n",
      "15192/15192 [==============================] - 0s 5us/step - loss: 1.7635 - accuracy: 0.2112 - val_loss: 1.7607 - val_accuracy: 0.2130\n",
      "Epoch 64/100\n",
      "15192/15192 [==============================] - 0s 5us/step - loss: 1.7639 - accuracy: 0.2113 - val_loss: 1.7621 - val_accuracy: 0.2098\n",
      "Epoch 65/100\n",
      "15192/15192 [==============================] - 0s 5us/step - loss: 1.7633 - accuracy: 0.2118 - val_loss: 1.7617 - val_accuracy: 0.2006\n",
      "Epoch 66/100\n",
      "15192/15192 [==============================] - 0s 5us/step - loss: 1.7628 - accuracy: 0.2132 - val_loss: 1.7603 - val_accuracy: 0.2172\n",
      "Epoch 67/100\n",
      "15192/15192 [==============================] - 0s 5us/step - loss: 1.7628 - accuracy: 0.2131 - val_loss: 1.7601 - val_accuracy: 0.2138\n",
      "Epoch 68/100\n",
      "15192/15192 [==============================] - 0s 5us/step - loss: 1.7625 - accuracy: 0.2160 - val_loss: 1.7599 - val_accuracy: 0.2156\n",
      "Epoch 69/100\n",
      "15192/15192 [==============================] - 0s 5us/step - loss: 1.7623 - accuracy: 0.2151 - val_loss: 1.7602 - val_accuracy: 0.2167\n",
      "Epoch 70/100\n",
      "15192/15192 [==============================] - 0s 5us/step - loss: 1.7618 - accuracy: 0.2179 - val_loss: 1.7594 - val_accuracy: 0.2206\n",
      "Epoch 71/100\n",
      "15192/15192 [==============================] - 0s 5us/step - loss: 1.7617 - accuracy: 0.2143 - val_loss: 1.7592 - val_accuracy: 0.2230\n",
      "Epoch 72/100\n",
      "15192/15192 [==============================] - 0s 5us/step - loss: 1.7613 - accuracy: 0.2183 - val_loss: 1.7603 - val_accuracy: 0.2146\n",
      "Epoch 73/100\n",
      "15192/15192 [==============================] - 0s 5us/step - loss: 1.7615 - accuracy: 0.2134 - val_loss: 1.7603 - val_accuracy: 0.2159\n",
      "Epoch 74/100\n",
      "15192/15192 [==============================] - 0s 5us/step - loss: 1.7612 - accuracy: 0.2172 - val_loss: 1.7602 - val_accuracy: 0.2104\n",
      "Epoch 75/100\n",
      "15192/15192 [==============================] - 0s 5us/step - loss: 1.7612 - accuracy: 0.2201 - val_loss: 1.7587 - val_accuracy: 0.2214\n",
      "Epoch 76/100\n",
      "15192/15192 [==============================] - 0s 5us/step - loss: 1.7604 - accuracy: 0.2181 - val_loss: 1.7587 - val_accuracy: 0.2246\n",
      "Epoch 77/100\n",
      "15192/15192 [==============================] - 0s 5us/step - loss: 1.7607 - accuracy: 0.2147 - val_loss: 1.7586 - val_accuracy: 0.2191\n",
      "Epoch 78/100\n",
      "15192/15192 [==============================] - 0s 5us/step - loss: 1.7601 - accuracy: 0.2161 - val_loss: 1.7583 - val_accuracy: 0.2238\n",
      "Epoch 79/100\n",
      "15192/15192 [==============================] - 0s 5us/step - loss: 1.7596 - accuracy: 0.2191 - val_loss: 1.7596 - val_accuracy: 0.2112\n",
      "Epoch 80/100\n",
      "15192/15192 [==============================] - 0s 5us/step - loss: 1.7597 - accuracy: 0.2168 - val_loss: 1.7579 - val_accuracy: 0.2212\n",
      "Epoch 81/100\n",
      "15192/15192 [==============================] - 0s 5us/step - loss: 1.7594 - accuracy: 0.2190 - val_loss: 1.7578 - val_accuracy: 0.2233\n",
      "Epoch 82/100\n",
      "15192/15192 [==============================] - 0s 5us/step - loss: 1.7592 - accuracy: 0.2212 - val_loss: 1.7580 - val_accuracy: 0.2233\n",
      "Epoch 83/100\n",
      "15192/15192 [==============================] - 0s 5us/step - loss: 1.7592 - accuracy: 0.2228 - val_loss: 1.7586 - val_accuracy: 0.2220\n",
      "Epoch 84/100\n",
      "15192/15192 [==============================] - 0s 5us/step - loss: 1.7588 - accuracy: 0.2195 - val_loss: 1.7579 - val_accuracy: 0.2206\n",
      "Epoch 85/100\n",
      "15192/15192 [==============================] - 0s 5us/step - loss: 1.7584 - accuracy: 0.2197 - val_loss: 1.7578 - val_accuracy: 0.2212\n",
      "Epoch 86/100\n",
      "15192/15192 [==============================] - 0s 5us/step - loss: 1.7583 - accuracy: 0.2179 - val_loss: 1.7574 - val_accuracy: 0.2220\n",
      "Epoch 87/100\n",
      "15192/15192 [==============================] - 0s 5us/step - loss: 1.7582 - accuracy: 0.2191 - val_loss: 1.7575 - val_accuracy: 0.2222\n",
      "Epoch 88/100\n",
      "15192/15192 [==============================] - 0s 5us/step - loss: 1.7580 - accuracy: 0.2185 - val_loss: 1.7570 - val_accuracy: 0.2233\n",
      "Epoch 89/100\n",
      "15192/15192 [==============================] - 0s 5us/step - loss: 1.7578 - accuracy: 0.2198 - val_loss: 1.7586 - val_accuracy: 0.2088\n",
      "Epoch 90/100\n",
      "15192/15192 [==============================] - 0s 5us/step - loss: 1.7576 - accuracy: 0.2170 - val_loss: 1.7576 - val_accuracy: 0.2164\n",
      "Epoch 91/100\n",
      "15192/15192 [==============================] - 0s 5us/step - loss: 1.7578 - accuracy: 0.2173 - val_loss: 1.7573 - val_accuracy: 0.2183\n",
      "Epoch 92/100\n",
      "15192/15192 [==============================] - 0s 5us/step - loss: 1.7573 - accuracy: 0.2202 - val_loss: 1.7565 - val_accuracy: 0.2233\n",
      "Epoch 93/100\n",
      "15192/15192 [==============================] - 0s 5us/step - loss: 1.7572 - accuracy: 0.2185 - val_loss: 1.7566 - val_accuracy: 0.2220\n",
      "Epoch 94/100\n",
      "15192/15192 [==============================] - 0s 5us/step - loss: 1.7569 - accuracy: 0.2203 - val_loss: 1.7564 - val_accuracy: 0.2249\n",
      "Epoch 95/100\n",
      "15192/15192 [==============================] - 0s 5us/step - loss: 1.7565 - accuracy: 0.2210 - val_loss: 1.7564 - val_accuracy: 0.2209\n",
      "Epoch 96/100\n",
      "15192/15192 [==============================] - 0s 5us/step - loss: 1.7567 - accuracy: 0.2197 - val_loss: 1.7568 - val_accuracy: 0.2120\n",
      "Epoch 97/100\n",
      "15192/15192 [==============================] - 0s 5us/step - loss: 1.7565 - accuracy: 0.2190 - val_loss: 1.7562 - val_accuracy: 0.2212\n",
      "Epoch 98/100\n",
      "15192/15192 [==============================] - 0s 5us/step - loss: 1.7560 - accuracy: 0.2250 - val_loss: 1.7559 - val_accuracy: 0.2183\n",
      "Epoch 99/100\n",
      "15192/15192 [==============================] - 0s 5us/step - loss: 1.7560 - accuracy: 0.2185 - val_loss: 1.7556 - val_accuracy: 0.2204\n",
      "Epoch 100/100\n",
      "15192/15192 [==============================] - 0s 5us/step - loss: 1.7555 - accuracy: 0.2231 - val_loss: 1.7556 - val_accuracy: 0.2191\n"
     ]
    }
   ],
   "source": [
    "# Train model on train set\n",
    "history = model.fit(X_train_nomood, y_train, epochs=100, validation_split=0.2, batch_size=512)"
   ]
  },
  {
   "cell_type": "code",
   "execution_count": 14,
   "metadata": {},
   "outputs": [
    {
     "name": "stdout",
     "output_type": "stream",
     "text": [
      "Test loss: 1.755\n",
      "Test accuracy: 22.41 %\n"
     ]
    }
   ],
   "source": [
    "score = model.evaluate(X_train_nomood, y_train, verbose=0)\n",
    "print('Test loss:', round(score[0],4))\n",
    "print('Test accuracy:', round(score[1]*100,2), \"%\")"
   ]
  },
  {
   "cell_type": "code",
   "execution_count": 15,
   "metadata": {},
   "outputs": [
    {
     "data": {
      "image/png": "[encoded data removed]",
      "text/plain": [
       "<Figure size 432x288 with 1 Axes>"
      ]
     },
     "metadata": {
      "needs_background": "light"
     },
     "output_type": "display_data"
    }
   ],
   "source": [
    "# Plot training & validation accuracy values\n",
    "plt.plot(history.history['accuracy'])\n",
    "plt.plot(history.history['val_accuracy'])\n",
    "plt.title('Model accuracy')\n",
    "plt.ylabel('Accuracy')\n",
    "plt.xlabel('Epoch')\n",
    "plt.legend(['Train', 'Validation'], loc='upper left')\n",
    "plt.show()"
   ]
  },
  {
   "cell_type": "code",
   "execution_count": 16,
   "metadata": {},
   "outputs": [
    {
     "data": {
      "image/png": "[encoded data removed]",
      "text/plain": [
       "<Figure size 432x288 with 1 Axes>"
      ]
     },
     "metadata": {
      "needs_background": "light"
     },
     "output_type": "display_data"
    }
   ],
   "source": [
    "# Plot training & validation loss values\n",
    "plt.plot(history.history['loss'])\n",
    "plt.plot(history.history['val_loss'])\n",
    "plt.title('Model loss')\n",
    "plt.ylabel('Loss')\n",
    "plt.xlabel('Epoch')\n",
    "plt.legend(['Train', 'Validation'], loc='upper left')\n",
    "plt.show()"
   ]
  },
  {
   "cell_type": "code",
   "execution_count": 17,
   "metadata": {},
   "outputs": [],
   "source": [
    "# Predict using X_test\n",
    "y_pred = model.predict(X_test_nomood)\n",
    "\n",
    "#Converting predictions to label\n",
    "pred = list()\n",
    "for i in range(len(y_pred)):\n",
    "    pred.append(np.argmax(y_pred[i]))\n",
    "    \n",
    "#Converting one hot encoded test label to label\n",
    "test = list()\n",
    "for i in range(len(y_test)):\n",
    "    test.append(np.argmax(y_test[i]))"
   ]
  },
  {
   "cell_type": "code",
   "execution_count": 18,
   "metadata": {},
   "outputs": [
    {
     "name": "stdout",
     "output_type": "stream",
     "text": [
      "Accuracy is: 13.837429111531192\n"
     ]
    }
   ],
   "source": [
    "# Accuracy score\n",
    "a = accuracy_score(pred,test)\n",
    "print('Accuracy is:', a*100)"
   ]
  },
  {
   "cell_type": "code",
   "execution_count": 19,
   "metadata": {},
   "outputs": [
    {
     "name": "stdout",
     "output_type": "stream",
     "text": [
      "        Same Dif\n",
      "correct 222 144\n",
      "wrong   1439 840\n",
      "Table is right!\n"
     ]
    }
   ],
   "source": [
    "# true = y_test\n",
    "# pred = y_pred\n",
    "# last_value = X_bored_lastarray\n",
    "same_correct = 0\n",
    "same_wrong = 0\n",
    "dif_correct = 0\n",
    "dif_wrong = 0\n",
    "\n",
    "X_test_mood = X_test_onlylastmood['content_last'].values\n",
    "for i in range(len(pred)):\n",
    "    if (test[i] == X_test_mood[i]) and (test[i] == pred[i]):\n",
    "        same_correct += 1\n",
    "    if (test[i] == X_test_mood[i]) and (test[i] != pred[i]):\n",
    "        same_wrong += 1\n",
    "    if (test[i] != X_test_mood[i]) and (test[i] == pred[i]):\n",
    "        dif_correct += 1\n",
    "    if (test[i] != X_test_mood[i]) and (test[i] != pred[i]):\n",
    "        dif_wrong += 1   \n",
    "\n",
    "print(\"       \", \"Same\", \"Dif\")\n",
    "print(\"correct\", same_correct, dif_correct)\n",
    "print(\"wrong  \", same_wrong, dif_wrong)\n",
    "\n",
    "#Check if table is similar to accuracy\n",
    "if (same_correct+dif_correct) / (same_correct+dif_correct+same_wrong+dif_wrong) == a:\n",
    "    print(\"Table is right!\")\n",
    "else:\n",
    "    print(\"Table is wrong\")"
   ]
  },
  {
   "cell_type": "code",
   "execution_count": 20,
   "metadata": {},
   "outputs": [
    {
     "name": "stdout",
     "output_type": "stream",
     "text": [
      "Predicted valxues:  Counter({1: 966, 5: 923, 0: 362, 3: 183, 4: 135, 2: 76})\n",
      "True values:  Counter({3: 807, 4: 579, 2: 572, 1: 298, 0: 218, 5: 171})\n",
      "Previous mood: Counter({3.0: 786, 4.0: 590, 2.0: 576, 1.0: 294, 0.0: 215, 5.0: 184})\n"
     ]
    }
   ],
   "source": [
    "from collections import Counter\n",
    "print(\"Predicted valxues: \", Counter(pred))\n",
    "print(\"True values: \", Counter(test))\n",
    "print(\"Previous mood:\", Counter(X_test_mood))"
   ]
  },
  {
   "cell_type": "code",
   "execution_count": 21,
   "metadata": {},
   "outputs": [
    {
     "name": "stdout",
     "output_type": "stream",
     "text": [
      "Total length:  2645\n",
      "Same Correct 0 guesses is:  45\n",
      "Same Wrong 0 guesses is:  106\n",
      "Dif Correct 0 guesses is:  19\n",
      "Dif Wrong 0 guesses is:  48\n",
      "\n",
      "Same Correct 1 guesses is:  72\n",
      "Same Wrong 1 guesses is:  87\n",
      "Dif Correct 1 guesses is:  53\n",
      "Dif Wrong 1 guesses is:  86\n",
      "\n",
      "Same Correct 2 guesses is:  7\n",
      "Same Wrong 2 guesses is:  338\n",
      "Dif Correct 2 guesses is:  7\n",
      "Dif Wrong 2 guesses is:  220\n",
      "\n",
      "Same Correct 3 guesses is:  36\n",
      "Same Wrong 3 guesses is:  471\n",
      "Dif Correct 3 guesses is:  28\n",
      "Dif Wrong 3 guesses is:  272\n",
      "\n",
      "Same Correct 4 guesses is:  14\n",
      "Same Wrong 4 guesses is:  374\n",
      "Dif Correct 4 guesses is:  15\n",
      "Dif Wrong 4 guesses is:  176\n",
      "\n",
      "Same Correct 5 guesses is:  48\n",
      "Same Wrong 5 guesses is:  63\n",
      "Dif Correct 5 guesses is:  22\n",
      "Dif Wrong 5 guesses is:  38\n"
     ]
    }
   ],
   "source": [
    "same_correct_0, same_wrong_0, same_correct_1, same_wrong_1, same_correct_2, same_wrong_2, same_correct_3, same_wrong_3, same_correct_4, same_wrong_4, same_correct_5, same_wrong_5 = (0, 0, 0, 0, 0, 0, 0, 0, 0, 0, 0, 0)\n",
    "dif_correct_0, dif_wrong_0, dif_correct_1, dif_wrong_1, dif_correct_2, dif_wrong_2, dif_correct_3, dif_wrong_3, dif_correct_4, dif_wrong_4, dif_correct_5, dif_wrong_5 = (0, 0, 0, 0, 0, 0, 0, 0, 0, 0, 0, 0)\n",
    "\n",
    "for i in range(len(pred)):\n",
    "    if test[i] == 0 and pred[i] == 0:\n",
    "        if test[i] == X_test_mood[i]:\n",
    "            same_correct_0 += 1\n",
    "        if test[i] != X_test_mood[i]:\n",
    "            dif_correct_0 += 1\n",
    "    if test[i] == 0 and pred[i] != 0:\n",
    "        if test[i] == X_test_mood[i]:\n",
    "            same_wrong_0 += 1\n",
    "        if test[i] != X_test_mood[i]:\n",
    "            dif_wrong_0 += 1\n",
    "\n",
    "    if test[i] == 1 and pred[i] == 1:\n",
    "        if test[i] == X_test_mood[i]:\n",
    "            same_correct_1 += 1\n",
    "        if test[i] != X_test_mood[i]:\n",
    "            dif_correct_1 += 1\n",
    "    if test[i] == 1 and pred[i] != 1:\n",
    "        if test[i] == X_test_mood[i]:\n",
    "            same_wrong_1 += 1\n",
    "        if test[i] != X_test_mood[i]:\n",
    "            dif_wrong_1 += 1\n",
    "        \n",
    "    if test[i] == 2 and pred[i] == 2:\n",
    "        if test[i] == X_test_mood[i]:\n",
    "            same_correct_2 += 1\n",
    "        if test[i] != X_test_mood[i]:\n",
    "            dif_correct_2 += 1\n",
    "    if test[i] == 2 and pred[i] != 2:\n",
    "        if test[i] == X_test_mood[i]:\n",
    "            same_wrong_2 += 1\n",
    "        if test[i] != X_test_mood[i]:\n",
    "            dif_wrong_2 += 1\n",
    "    \n",
    "    if test[i] == 3 and pred[i] == 3:\n",
    "        if test[i] == X_test_mood[i]:\n",
    "            same_correct_3 += 1\n",
    "        if test[i] != X_test_mood[i]:\n",
    "            dif_correct_3 += 1\n",
    "    if test[i] == 3 and pred[i] != 3:\n",
    "        if test[i] == X_test_mood[i]:\n",
    "            same_wrong_3 += 1\n",
    "        if test[i] != X_test_mood[i]:\n",
    "            dif_wrong_3 += 1\n",
    "        \n",
    "    if test[i] == 4 and pred[i] == 4:\n",
    "        if test[i] == X_test_mood[i]:\n",
    "            same_correct_4 += 1\n",
    "        if test[i] != X_test_mood[i]:\n",
    "            dif_correct_4 += 1\n",
    "    if test[i] == 4 and pred[i] != 4:\n",
    "        if test[i] == X_test_mood[i]:\n",
    "            same_wrong_4 += 1\n",
    "        if test[i] != X_test_mood[i]:\n",
    "            dif_wrong_4 += 1\n",
    "    \n",
    "    if test[i] == 5 and pred[i] == 5:\n",
    "        if test[i] == X_test_mood[i]:\n",
    "            same_correct_5 += 1\n",
    "        if test[i] != X_test_mood[i]:\n",
    "            dif_correct_5 += 1\n",
    "    if test[i] == 5 and pred[i] != 5:\n",
    "        if test[i] == X_test_mood[i]:\n",
    "            same_wrong_5 += 1\n",
    "        if test[i] != X_test_mood[i]:\n",
    "            dif_wrong_5 += 1\n",
    "\n",
    "print(\"Total length: \", len(X_test_mood))\n",
    "\n",
    "print(\"Same Correct 0 guesses is: \", same_correct_0)\n",
    "print(\"Same Wrong 0 guesses is: \", same_wrong_0)\n",
    "print(\"Dif Correct 0 guesses is: \", dif_correct_0)\n",
    "print(\"Dif Wrong 0 guesses is: \", dif_wrong_0)\n",
    "print('')\n",
    "print(\"Same Correct 1 guesses is: \", same_correct_1)\n",
    "print(\"Same Wrong 1 guesses is: \", same_wrong_1)\n",
    "print(\"Dif Correct 1 guesses is: \", dif_correct_1)\n",
    "print(\"Dif Wrong 1 guesses is: \", dif_wrong_1)\n",
    "print('')\n",
    "print(\"Same Correct 2 guesses is: \", same_correct_2)\n",
    "print(\"Same Wrong 2 guesses is: \", same_wrong_2)\n",
    "print(\"Dif Correct 2 guesses is: \", dif_correct_2)\n",
    "print(\"Dif Wrong 2 guesses is: \", dif_wrong_2)\n",
    "print('')\n",
    "print(\"Same Correct 3 guesses is: \", same_correct_3)\n",
    "print(\"Same Wrong 3 guesses is: \", same_wrong_3)\n",
    "print(\"Dif Correct 3 guesses is: \", dif_correct_3)\n",
    "print(\"Dif Wrong 3 guesses is: \", dif_wrong_3)\n",
    "print('')\n",
    "print(\"Same Correct 4 guesses is: \", same_correct_4)\n",
    "print(\"Same Wrong 4 guesses is: \", same_wrong_4)\n",
    "print(\"Dif Correct 4 guesses is: \", dif_correct_4)\n",
    "print(\"Dif Wrong 4 guesses is: \", dif_wrong_4)\n",
    "print('')\n",
    "print(\"Same Correct 5 guesses is: \", same_correct_5)\n",
    "print(\"Same Wrong 5 guesses is: \", same_wrong_5)\n",
    "print(\"Dif Correct 5 guesses is: \", dif_correct_5)\n",
    "print(\"Dif Wrong 5 guesses is: \", dif_wrong_5)"
   ]
  },
  {
   "cell_type": "code",
   "execution_count": 22,
   "metadata": {},
   "outputs": [],
   "source": [
    "mae_0, mae_1, mae_2, mae_3, mae_4, mae_5 = (0,0,0,0,0,0)\n",
    "\n",
    "for i in range(len(pred)):\n",
    "    if test[i] == 0 and pred[i] != 0:\n",
    "        mae_0 += (abs(test[i]-pred[i]))\n",
    "    if test[i] == 1 and pred[i] != 1:\n",
    "        mae_1 += (abs(test[i]-pred[i]))\n",
    "    if test[i] == 2 and pred[i] != 2:\n",
    "        mae_2 += (abs(test[i]-pred[i]))\n",
    "    if test[i] == 3 and pred[i] != 3:\n",
    "        mae_3 += (abs(test[i]-pred[i]))\n",
    "    if test[i] == 4 and pred[i] != 4:\n",
    "        mae_4 += (abs(test[i]-pred[i]))\n",
    "    if test[i] == 5 and pred[i] != 5:\n",
    "        mae_5 += (abs(test[i]-pred[i]))\n",
    "\n",
    "cnt_0, cnt_1, cnt_2, cnt_3, cnt_4, cnt_5 = (0,0,0,0,0,0)\n",
    "for z in range(len(test)):\n",
    "    if test[z] == 0:\n",
    "        cnt_0 += 1\n",
    "    if test[z] == 1:\n",
    "        cnt_1 += 1\n",
    "    if test[z] == 2:\n",
    "        cnt_2 += 1\n",
    "    if test[z] == 3:\n",
    "        cnt_3 += 1\n",
    "    if test[z] == 4:\n",
    "        cnt_4 += 1\n",
    "    if test[z] == 5:\n",
    "        cnt_5 += 1\n",
    "\n",
    "mae_macroaverage = ((mae_0/cnt_0) + (mae_1/cnt_1) + (mae_2/cnt_2) + (mae_3/cnt_3) + (mae_4/cnt_4) + (mae_5/cnt_5)) / 6"
   ]
  },
  {
   "cell_type": "code",
   "execution_count": 23,
   "metadata": {},
   "outputs": [
    {
     "name": "stdout",
     "output_type": "stream",
     "text": [
      "Macro-averaged Mean Absolute error is:  1.9524\n",
      "Macro-averaged F1-score is:  0.1153\n"
     ]
    }
   ],
   "source": [
    "print(\"Macro-averaged Mean Absolute error is: \", round(mae_macroaverage, 4))\n",
    "print(\"Macro-averaged F1-score is: \", round(f1_score(test, pred, average='weighted'), 4))\n",
    "\n",
    "# print(\"Mean Squared error is: \", mean_squared_error(test, pred))\n",
    "# print(\"Root Mean Squared error is: \", sqrt(mean_squared_error(test, pred)))"
   ]
  },
  {
   "cell_type": "code",
   "execution_count": null,
   "metadata": {},
   "outputs": [],
   "source": []
  }
 ],
 "metadata": {
  "kernelspec": {
   "display_name": "Python 3",
   "language": "python",
   "name": "python3"
  },
  "language_info": {
   "codemirror_mode": {
    "name": "ipython",
    "version": 3
   },
   "file_extension": ".py",
   "mimetype": "text/x-python",
   "name": "python",
   "nbconvert_exporter": "python",
   "pygments_lexer": "ipython3",
   "version": "3.7.4"
  }
 },
 "nbformat": 4,
 "nbformat_minor": 2
}
