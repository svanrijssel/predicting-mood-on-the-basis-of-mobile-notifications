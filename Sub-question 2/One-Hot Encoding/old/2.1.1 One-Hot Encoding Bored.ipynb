{
 "cells": [
  {
   "cell_type": "code",
   "execution_count": 1,
   "metadata": {},
   "outputs": [
    {
     "name": "stderr",
     "output_type": "stream",
     "text": [
      "Using TensorFlow backend.\n"
     ]
    }
   ],
   "source": [
    "# Import packages\n",
    "import pandas as pd\n",
    "import numpy as np\n",
    "import datetime\n",
    "import category_encoders as ce\n",
    "from sklearn.preprocessing import LabelEncoder, MinMaxScaler, RobustScaler, OneHotEncoder, StandardScaler\n",
    "from sklearn.model_selection import train_test_split\n",
    "from sklearn.metrics import accuracy_score, mean_squared_error, cohen_kappa_score, mean_absolute_error, f1_score\n",
    "from sklearn.utils import shuffle\n",
    "from imblearn.over_sampling import SMOTE, SMOTENC\n",
    "import matplotlib.pyplot as plt\n",
    "from statsmodels.graphics.mosaicplot import mosaic\n",
    "from sklearn.decomposition import PCA\n",
    "from scipy import stats\n",
    "from math import sqrt\n",
    "\n",
    "\n",
    "\n",
    "import keras\n",
    "from keras.models import Sequential\n",
    "from keras.layers import Dense, Dropout, GaussianNoise\n",
    "from keras.optimizers import SGD\n",
    "from keras import regularizers"
   ]
  },
  {
   "cell_type": "code",
   "execution_count": 2,
   "metadata": {},
   "outputs": [],
   "source": [
    "path = \"/Users/Stijn/Documents/Master Data Science and Society/Block 3/thesis/code/thesis_Code/\"\n",
    "mood = pd.read_csv(path+'mood_imputed_median.csv', sep = ',', index_col=0)\n",
    "mood['bored_last'] = mood.groupby('user_id')['bored'].shift()\n",
    "mood.loc[(pd.isnull(mood.bored_last)), 'bored_last'] = mood['bored']\n",
    "mood_bored = mood.drop([\"anxious\", \"content\", \"cheerful\", \"user_id\", \"response_time\"], axis=1)"
   ]
  },
  {
   "cell_type": "code",
   "execution_count": 3,
   "metadata": {},
   "outputs": [],
   "source": [
    "# Normalize predictors\n",
    "mood_normz = mood_bored.copy()\n",
    "features_to_normalize = ['day_time_window', 'average_TimeUse', 'messaging', 'socialnetworking', 'otherapp']\n",
    "mood_normz[features_to_normalize] = mood_normz[features_to_normalize].apply(lambda x:(x-x.min()) / (x.max()-x.min()))"
   ]
  },
  {
   "cell_type": "code",
   "execution_count": 4,
   "metadata": {},
   "outputs": [],
   "source": [
    "# X = predictors, y = target\n",
    "X = mood_normz.iloc[:,1:]\n",
    "y = mood_normz.iloc[:, 0:1]\n",
    "\n",
    "# Convert float to int\n",
    "y = y.astype(int)"
   ]
  },
  {
   "cell_type": "code",
   "execution_count": 5,
   "metadata": {},
   "outputs": [],
   "source": [
    "# Train (80%) & Test set (20%)\n",
    "X_train, X_test, y_train, y_test = train_test_split(X, y, test_size=0.2, random_state=2)"
   ]
  },
  {
   "cell_type": "code",
   "execution_count": 6,
   "metadata": {},
   "outputs": [
    {
     "name": "stdout",
     "output_type": "stream",
     "text": [
      "Before OverSampling, counts of labels: 0    5139\n",
      "1    1927\n",
      "2    1840\n",
      "3    1184\n",
      "4     403\n",
      "5      83\n",
      "Name: bored, dtype: int64\n",
      "After OverSampling, counts of label '0': 5139\n",
      "After OverSampling, counts of label '1': 5139\n",
      "After OverSampling, counts of label '2': 5139\n",
      "After OverSampling, counts of label '3': 5139\n",
      "After OverSampling, counts of label '4': 5139\n",
      "After OverSampling, counts of label '5': 5139\n"
     ]
    }
   ],
   "source": [
    "# Oversampling unbalanced target\n",
    "print(\"Before OverSampling, counts of labels: {}\".format(y_train['bored'].value_counts()))\n",
    "  \n",
    "sm = SMOTENC(categorical_features=[0, 2, 6], random_state = 2) \n",
    "X_train_res, y_train_res = sm.fit_sample(X_train, y_train['bored'].ravel()) \n",
    "\n",
    "print(\"After OverSampling, counts of label '0': {}\".format(sum(y_train_res == 0))) \n",
    "print(\"After OverSampling, counts of label '1': {}\".format(sum(y_train_res == 1))) \n",
    "print(\"After OverSampling, counts of label '2': {}\".format(sum(y_train_res == 2))) \n",
    "print(\"After OverSampling, counts of label '3': {}\".format(sum(y_train_res == 3))) \n",
    "print(\"After OverSampling, counts of label '4': {}\".format(sum(y_train_res == 4))) \n",
    "print(\"After OverSampling, counts of label '5': {}\".format(sum(y_train_res == 5))) "
   ]
  },
  {
   "cell_type": "code",
   "execution_count": 7,
   "metadata": {},
   "outputs": [],
   "source": [
    "# Convert oversample dataset to Pandas DataFrame\n",
    "X_train = pd.DataFrame(data=X_train_res)\n",
    "y_train = pd.DataFrame(data=y_train_res)"
   ]
  },
  {
   "cell_type": "code",
   "execution_count": 8,
   "metadata": {},
   "outputs": [
    {
     "name": "stderr",
     "output_type": "stream",
     "text": [
      "/Users/Stijn/Library/Python/3.7/lib/python/site-packages/sklearn/preprocessing/_encoders.py:415: FutureWarning: The handling of integer data will change in version 0.22. Currently, the categories are determined based on the range [0, max(values)], while in the future they will be determined based on the unique values.\n",
      "If you want the future behaviour and silence this warning, you can specify \"categories='auto'\".\n",
      "In case you used a LabelEncoder before this OneHotEncoder to convert the categories to integers, then you can now use the OneHotEncoder directly.\n",
      "  warnings.warn(msg, FutureWarning)\n",
      "/Users/Stijn/Library/Python/3.7/lib/python/site-packages/sklearn/preprocessing/_encoders.py:415: FutureWarning: The handling of integer data will change in version 0.22. Currently, the categories are determined based on the range [0, max(values)], while in the future they will be determined based on the unique values.\n",
      "If you want the future behaviour and silence this warning, you can specify \"categories='auto'\".\n",
      "In case you used a LabelEncoder before this OneHotEncoder to convert the categories to integers, then you can now use the OneHotEncoder directly.\n",
      "  warnings.warn(msg, FutureWarning)\n"
     ]
    }
   ],
   "source": [
    "# OneHotEncoder for targets\n",
    "ohe = OneHotEncoder(sparse=False)\n",
    "y_train = ohe.fit_transform(y_train)\n",
    "y_test = ohe.fit_transform(y_test)"
   ]
  },
  {
   "cell_type": "code",
   "execution_count": 9,
   "metadata": {},
   "outputs": [],
   "source": [
    "# Shuffle both train and test set to cancel patterns\n",
    "X_train, y_train = shuffle(X_train, y_train)\n",
    "X_test, y_test = shuffle(X_test, y_test)"
   ]
  },
  {
   "cell_type": "code",
   "execution_count": 10,
   "metadata": {},
   "outputs": [],
   "source": [
    "X_train_nomood = X_train.iloc[:,:-1]\n",
    "X_train_onlylastmood = X_train.iloc[:,-1:]\n",
    "X_test_nomood = X_test.iloc[:,:-1]\n",
    "X_test_onlylastmood = X_test.iloc[:,-1:]"
   ]
  },
  {
   "cell_type": "code",
   "execution_count": 11,
   "metadata": {},
   "outputs": [
    {
     "name": "stdout",
     "output_type": "stream",
     "text": [
      "Model: \"sequential_1\"\n",
      "_________________________________________________________________\n",
      "Layer (type)                 Output Shape              Param #   \n",
      "=================================================================\n",
      "dense_1 (Dense)              (None, 24)                168       \n",
      "_________________________________________________________________\n",
      "dense_2 (Dense)              (None, 12)                300       \n",
      "_________________________________________________________________\n",
      "dense_3 (Dense)              (None, 6)                 78        \n",
      "=================================================================\n",
      "Total params: 546\n",
      "Trainable params: 546\n",
      "Non-trainable params: 0\n",
      "_________________________________________________________________\n"
     ]
    }
   ],
   "source": [
    "# Define Keras model\n",
    "model = Sequential()\n",
    "model.add(Dense(24, input_dim=6, activation='relu'))\n",
    "model.add(Dense(12, activation='relu'))\n",
    "model.add(Dense(6, activation='softmax'))\n",
    "\n",
    "model.compile(loss='categorical_crossentropy', optimizer='adam', metrics=['accuracy'])\n",
    "model.summary()"
   ]
  },
  {
   "cell_type": "code",
   "execution_count": 12,
   "metadata": {},
   "outputs": [
    {
     "name": "stdout",
     "output_type": "stream",
     "text": [
      "Train on 24667 samples, validate on 6167 samples\n",
      "Epoch 1/100\n",
      "24667/24667 [==============================] - 0s 12us/step - loss: 1.7902 - accuracy: 0.1783 - val_loss: 1.7844 - val_accuracy: 0.2074\n",
      "Epoch 2/100\n",
      "24667/24667 [==============================] - 0s 9us/step - loss: 1.7797 - accuracy: 0.2109 - val_loss: 1.7753 - val_accuracy: 0.2150\n",
      "Epoch 3/100\n",
      "24667/24667 [==============================] - 0s 5us/step - loss: 1.7710 - accuracy: 0.2081 - val_loss: 1.7686 - val_accuracy: 0.2118\n",
      "Epoch 4/100\n",
      "24667/24667 [==============================] - 0s 5us/step - loss: 1.7661 - accuracy: 0.2085 - val_loss: 1.7657 - val_accuracy: 0.2129\n",
      "Epoch 5/100\n",
      "24667/24667 [==============================] - 0s 5us/step - loss: 1.7642 - accuracy: 0.2087 - val_loss: 1.7640 - val_accuracy: 0.2126\n",
      "Epoch 6/100\n",
      "24667/24667 [==============================] - 0s 5us/step - loss: 1.7628 - accuracy: 0.2109 - val_loss: 1.7630 - val_accuracy: 0.2124\n",
      "Epoch 7/100\n",
      "24667/24667 [==============================] - 0s 5us/step - loss: 1.7619 - accuracy: 0.2087 - val_loss: 1.7622 - val_accuracy: 0.2150\n",
      "Epoch 8/100\n",
      "24667/24667 [==============================] - 0s 5us/step - loss: 1.7613 - accuracy: 0.2117 - val_loss: 1.7615 - val_accuracy: 0.2127\n",
      "Epoch 9/100\n",
      "24667/24667 [==============================] - 0s 5us/step - loss: 1.7604 - accuracy: 0.2087 - val_loss: 1.7605 - val_accuracy: 0.2123\n",
      "Epoch 10/100\n",
      "24667/24667 [==============================] - 0s 5us/step - loss: 1.7593 - accuracy: 0.2117 - val_loss: 1.7598 - val_accuracy: 0.2147\n",
      "Epoch 11/100\n",
      "24667/24667 [==============================] - 0s 4us/step - loss: 1.7584 - accuracy: 0.2139 - val_loss: 1.7590 - val_accuracy: 0.2144\n",
      "Epoch 12/100\n",
      "24667/24667 [==============================] - 0s 5us/step - loss: 1.7575 - accuracy: 0.2137 - val_loss: 1.7584 - val_accuracy: 0.2132\n",
      "Epoch 13/100\n",
      "24667/24667 [==============================] - 0s 5us/step - loss: 1.7567 - accuracy: 0.2130 - val_loss: 1.7574 - val_accuracy: 0.2160\n",
      "Epoch 14/100\n",
      "24667/24667 [==============================] - 0s 4us/step - loss: 1.7554 - accuracy: 0.2129 - val_loss: 1.7565 - val_accuracy: 0.2155\n",
      "Epoch 15/100\n",
      "24667/24667 [==============================] - 0s 5us/step - loss: 1.7543 - accuracy: 0.2139 - val_loss: 1.7554 - val_accuracy: 0.2158\n",
      "Epoch 16/100\n",
      "24667/24667 [==============================] - 0s 5us/step - loss: 1.7530 - accuracy: 0.2165 - val_loss: 1.7543 - val_accuracy: 0.2147\n",
      "Epoch 17/100\n",
      "24667/24667 [==============================] - 0s 5us/step - loss: 1.7517 - accuracy: 0.2167 - val_loss: 1.7532 - val_accuracy: 0.2187\n",
      "Epoch 18/100\n",
      "24667/24667 [==============================] - 0s 5us/step - loss: 1.7504 - accuracy: 0.2161 - val_loss: 1.7521 - val_accuracy: 0.2183\n",
      "Epoch 19/100\n",
      "24667/24667 [==============================] - 0s 4us/step - loss: 1.7490 - accuracy: 0.2166 - val_loss: 1.7513 - val_accuracy: 0.2197\n",
      "Epoch 20/100\n",
      "24667/24667 [==============================] - 0s 5us/step - loss: 1.7480 - accuracy: 0.2173 - val_loss: 1.7501 - val_accuracy: 0.2181\n",
      "Epoch 21/100\n",
      "24667/24667 [==============================] - 0s 5us/step - loss: 1.7467 - accuracy: 0.2193 - val_loss: 1.7489 - val_accuracy: 0.2184\n",
      "Epoch 22/100\n",
      "24667/24667 [==============================] - 0s 5us/step - loss: 1.7453 - accuracy: 0.2204 - val_loss: 1.7481 - val_accuracy: 0.2212\n",
      "Epoch 23/100\n",
      "24667/24667 [==============================] - 0s 5us/step - loss: 1.7443 - accuracy: 0.2220 - val_loss: 1.7470 - val_accuracy: 0.2189\n",
      "Epoch 24/100\n",
      "24667/24667 [==============================] - 0s 5us/step - loss: 1.7433 - accuracy: 0.2205 - val_loss: 1.7464 - val_accuracy: 0.2196\n",
      "Epoch 25/100\n",
      "24667/24667 [==============================] - 0s 5us/step - loss: 1.7421 - accuracy: 0.2217 - val_loss: 1.7452 - val_accuracy: 0.2230\n",
      "Epoch 26/100\n",
      "24667/24667 [==============================] - 0s 5us/step - loss: 1.7410 - accuracy: 0.2231 - val_loss: 1.7443 - val_accuracy: 0.2225\n",
      "Epoch 27/100\n",
      "24667/24667 [==============================] - 0s 6us/step - loss: 1.7400 - accuracy: 0.2239 - val_loss: 1.7430 - val_accuracy: 0.2226\n",
      "Epoch 28/100\n",
      "24667/24667 [==============================] - 0s 8us/step - loss: 1.7388 - accuracy: 0.2237 - val_loss: 1.7425 - val_accuracy: 0.2244\n",
      "Epoch 29/100\n",
      "24667/24667 [==============================] - 0s 5us/step - loss: 1.7380 - accuracy: 0.2243 - val_loss: 1.7418 - val_accuracy: 0.2239\n",
      "Epoch 30/100\n",
      "24667/24667 [==============================] - 0s 5us/step - loss: 1.7371 - accuracy: 0.2263 - val_loss: 1.7408 - val_accuracy: 0.2218\n",
      "Epoch 31/100\n",
      "24667/24667 [==============================] - 0s 9us/step - loss: 1.7364 - accuracy: 0.2287 - val_loss: 1.7403 - val_accuracy: 0.2244\n",
      "Epoch 32/100\n",
      "24667/24667 [==============================] - 0s 5us/step - loss: 1.7357 - accuracy: 0.2280 - val_loss: 1.7390 - val_accuracy: 0.2267\n",
      "Epoch 33/100\n",
      "24667/24667 [==============================] - 0s 5us/step - loss: 1.7347 - accuracy: 0.2295 - val_loss: 1.7382 - val_accuracy: 0.2270\n",
      "Epoch 34/100\n",
      "24667/24667 [==============================] - 0s 9us/step - loss: 1.7338 - accuracy: 0.2302 - val_loss: 1.7377 - val_accuracy: 0.2247\n",
      "Epoch 35/100\n",
      "24667/24667 [==============================] - 0s 8us/step - loss: 1.7331 - accuracy: 0.2301 - val_loss: 1.7368 - val_accuracy: 0.2304\n",
      "Epoch 36/100\n",
      "24667/24667 [==============================] - 0s 6us/step - loss: 1.7322 - accuracy: 0.2317 - val_loss: 1.7363 - val_accuracy: 0.2329\n",
      "Epoch 37/100\n",
      "24667/24667 [==============================] - 0s 9us/step - loss: 1.7312 - accuracy: 0.2312 - val_loss: 1.7357 - val_accuracy: 0.2322\n",
      "Epoch 38/100\n",
      "24667/24667 [==============================] - 0s 6us/step - loss: 1.7304 - accuracy: 0.2322 - val_loss: 1.7349 - val_accuracy: 0.2293\n",
      "Epoch 39/100\n",
      "24667/24667 [==============================] - 0s 4us/step - loss: 1.7298 - accuracy: 0.2332 - val_loss: 1.7343 - val_accuracy: 0.2319\n",
      "Epoch 40/100\n",
      "24667/24667 [==============================] - 0s 7us/step - loss: 1.7290 - accuracy: 0.2337 - val_loss: 1.7331 - val_accuracy: 0.2304\n",
      "Epoch 41/100\n",
      "24667/24667 [==============================] - 0s 7us/step - loss: 1.7283 - accuracy: 0.2333 - val_loss: 1.7327 - val_accuracy: 0.2312\n",
      "Epoch 42/100\n",
      "24667/24667 [==============================] - 0s 4us/step - loss: 1.7278 - accuracy: 0.2314 - val_loss: 1.7332 - val_accuracy: 0.2325\n",
      "Epoch 43/100\n",
      "24667/24667 [==============================] - 0s 11us/step - loss: 1.7272 - accuracy: 0.2347 - val_loss: 1.7314 - val_accuracy: 0.2329\n",
      "Epoch 44/100\n",
      "24667/24667 [==============================] - 0s 8us/step - loss: 1.7263 - accuracy: 0.2327 - val_loss: 1.7304 - val_accuracy: 0.2341\n",
      "Epoch 45/100\n",
      "24667/24667 [==============================] - 0s 6us/step - loss: 1.7256 - accuracy: 0.2359 - val_loss: 1.7300 - val_accuracy: 0.2314\n",
      "Epoch 46/100\n",
      "24667/24667 [==============================] - 0s 5us/step - loss: 1.7251 - accuracy: 0.2327 - val_loss: 1.7293 - val_accuracy: 0.2340\n",
      "Epoch 47/100\n",
      "24667/24667 [==============================] - 0s 5us/step - loss: 1.7242 - accuracy: 0.2331 - val_loss: 1.7282 - val_accuracy: 0.2303\n",
      "Epoch 48/100\n",
      "24667/24667 [==============================] - 0s 6us/step - loss: 1.7236 - accuracy: 0.2332 - val_loss: 1.7283 - val_accuracy: 0.2330\n",
      "Epoch 49/100\n",
      "24667/24667 [==============================] - 0s 6us/step - loss: 1.7228 - accuracy: 0.2337 - val_loss: 1.7264 - val_accuracy: 0.2333\n",
      "Epoch 50/100\n",
      "24667/24667 [==============================] - 0s 6us/step - loss: 1.7222 - accuracy: 0.2323 - val_loss: 1.7257 - val_accuracy: 0.2367\n",
      "Epoch 51/100\n",
      "24667/24667 [==============================] - 0s 6us/step - loss: 1.7215 - accuracy: 0.2329 - val_loss: 1.7253 - val_accuracy: 0.2337\n",
      "Epoch 52/100\n",
      "24667/24667 [==============================] - 0s 6us/step - loss: 1.7212 - accuracy: 0.2341 - val_loss: 1.7249 - val_accuracy: 0.2351\n",
      "Epoch 53/100\n",
      "24667/24667 [==============================] - 0s 13us/step - loss: 1.7205 - accuracy: 0.2339 - val_loss: 1.7236 - val_accuracy: 0.2358\n",
      "Epoch 54/100\n",
      "24667/24667 [==============================] - 0s 5us/step - loss: 1.7197 - accuracy: 0.2304 - val_loss: 1.7230 - val_accuracy: 0.2329\n",
      "Epoch 55/100\n",
      "24667/24667 [==============================] - 0s 5us/step - loss: 1.7195 - accuracy: 0.2315 - val_loss: 1.7227 - val_accuracy: 0.2333\n",
      "Epoch 56/100\n"
     ]
    },
    {
     "name": "stdout",
     "output_type": "stream",
     "text": [
      "24667/24667 [==============================] - 0s 5us/step - loss: 1.7186 - accuracy: 0.2343 - val_loss: 1.7218 - val_accuracy: 0.2327\n",
      "Epoch 57/100\n",
      "24667/24667 [==============================] - 0s 4us/step - loss: 1.7184 - accuracy: 0.2338 - val_loss: 1.7215 - val_accuracy: 0.2379\n",
      "Epoch 58/100\n",
      "24667/24667 [==============================] - 0s 4us/step - loss: 1.7175 - accuracy: 0.2355 - val_loss: 1.7216 - val_accuracy: 0.2384\n",
      "Epoch 59/100\n",
      "24667/24667 [==============================] - 0s 10us/step - loss: 1.7170 - accuracy: 0.2346 - val_loss: 1.7205 - val_accuracy: 0.2400\n",
      "Epoch 60/100\n",
      "24667/24667 [==============================] - 0s 4us/step - loss: 1.7168 - accuracy: 0.2366 - val_loss: 1.7197 - val_accuracy: 0.2442\n",
      "Epoch 61/100\n",
      "24667/24667 [==============================] - 0s 5us/step - loss: 1.7165 - accuracy: 0.2379 - val_loss: 1.7192 - val_accuracy: 0.2371\n",
      "Epoch 62/100\n",
      "24667/24667 [==============================] - 0s 4us/step - loss: 1.7161 - accuracy: 0.2334 - val_loss: 1.7190 - val_accuracy: 0.2351\n",
      "Epoch 63/100\n",
      "24667/24667 [==============================] - 0s 4us/step - loss: 1.7155 - accuracy: 0.2393 - val_loss: 1.7182 - val_accuracy: 0.2358\n",
      "Epoch 64/100\n",
      "24667/24667 [==============================] - 0s 4us/step - loss: 1.7146 - accuracy: 0.2382 - val_loss: 1.7176 - val_accuracy: 0.2380\n",
      "Epoch 65/100\n",
      "24667/24667 [==============================] - 0s 4us/step - loss: 1.7143 - accuracy: 0.2390 - val_loss: 1.7179 - val_accuracy: 0.2403\n",
      "Epoch 66/100\n",
      "24667/24667 [==============================] - 0s 5us/step - loss: 1.7144 - accuracy: 0.2389 - val_loss: 1.7163 - val_accuracy: 0.2465\n",
      "Epoch 67/100\n",
      "24667/24667 [==============================] - 0s 5us/step - loss: 1.7135 - accuracy: 0.2403 - val_loss: 1.7161 - val_accuracy: 0.2437\n",
      "Epoch 68/100\n",
      "24667/24667 [==============================] - 0s 4us/step - loss: 1.7127 - accuracy: 0.2411 - val_loss: 1.7152 - val_accuracy: 0.2474\n",
      "Epoch 69/100\n",
      "24667/24667 [==============================] - 0s 4us/step - loss: 1.7130 - accuracy: 0.2386 - val_loss: 1.7154 - val_accuracy: 0.2461\n",
      "Epoch 70/100\n",
      "24667/24667 [==============================] - 0s 4us/step - loss: 1.7120 - accuracy: 0.2445 - val_loss: 1.7143 - val_accuracy: 0.2500\n",
      "Epoch 71/100\n",
      "24667/24667 [==============================] - 0s 4us/step - loss: 1.7114 - accuracy: 0.2425 - val_loss: 1.7136 - val_accuracy: 0.2538\n",
      "Epoch 72/100\n",
      "24667/24667 [==============================] - 0s 4us/step - loss: 1.7110 - accuracy: 0.2451 - val_loss: 1.7135 - val_accuracy: 0.2473\n",
      "Epoch 73/100\n",
      "24667/24667 [==============================] - 0s 4us/step - loss: 1.7105 - accuracy: 0.2461 - val_loss: 1.7128 - val_accuracy: 0.2457\n",
      "Epoch 74/100\n",
      "24667/24667 [==============================] - 0s 4us/step - loss: 1.7102 - accuracy: 0.2468 - val_loss: 1.7119 - val_accuracy: 0.2476\n",
      "Epoch 75/100\n",
      "24667/24667 [==============================] - 0s 4us/step - loss: 1.7097 - accuracy: 0.2473 - val_loss: 1.7115 - val_accuracy: 0.2510\n",
      "Epoch 76/100\n",
      "24667/24667 [==============================] - 0s 4us/step - loss: 1.7094 - accuracy: 0.2449 - val_loss: 1.7107 - val_accuracy: 0.2479\n",
      "Epoch 77/100\n",
      "24667/24667 [==============================] - 0s 4us/step - loss: 1.7088 - accuracy: 0.2471 - val_loss: 1.7108 - val_accuracy: 0.2474\n",
      "Epoch 78/100\n",
      "24667/24667 [==============================] - 0s 4us/step - loss: 1.7083 - accuracy: 0.2471 - val_loss: 1.7101 - val_accuracy: 0.2515\n",
      "Epoch 79/100\n",
      "24667/24667 [==============================] - 0s 10us/step - loss: 1.7081 - accuracy: 0.2483 - val_loss: 1.7097 - val_accuracy: 0.2523\n",
      "Epoch 80/100\n",
      "24667/24667 [==============================] - 0s 5us/step - loss: 1.7075 - accuracy: 0.2479 - val_loss: 1.7096 - val_accuracy: 0.2499\n",
      "Epoch 81/100\n",
      "24667/24667 [==============================] - 0s 4us/step - loss: 1.7068 - accuracy: 0.2482 - val_loss: 1.7089 - val_accuracy: 0.2502\n",
      "Epoch 82/100\n",
      "24667/24667 [==============================] - 0s 4us/step - loss: 1.7069 - accuracy: 0.2503 - val_loss: 1.7081 - val_accuracy: 0.2492\n",
      "Epoch 83/100\n",
      "24667/24667 [==============================] - 0s 4us/step - loss: 1.7062 - accuracy: 0.2485 - val_loss: 1.7078 - val_accuracy: 0.2489\n",
      "Epoch 84/100\n",
      "24667/24667 [==============================] - 0s 4us/step - loss: 1.7060 - accuracy: 0.2499 - val_loss: 1.7076 - val_accuracy: 0.2539\n",
      "Epoch 85/100\n",
      "24667/24667 [==============================] - 0s 4us/step - loss: 1.7056 - accuracy: 0.2496 - val_loss: 1.7072 - val_accuracy: 0.2534\n",
      "Epoch 86/100\n",
      "24667/24667 [==============================] - 0s 4us/step - loss: 1.7049 - accuracy: 0.2493 - val_loss: 1.7062 - val_accuracy: 0.2513\n",
      "Epoch 87/100\n",
      "24667/24667 [==============================] - 0s 4us/step - loss: 1.7046 - accuracy: 0.2501 - val_loss: 1.7057 - val_accuracy: 0.2523\n",
      "Epoch 88/100\n",
      "24667/24667 [==============================] - 0s 4us/step - loss: 1.7041 - accuracy: 0.2511 - val_loss: 1.7066 - val_accuracy: 0.2512\n",
      "Epoch 89/100\n",
      "24667/24667 [==============================] - 0s 4us/step - loss: 1.7040 - accuracy: 0.2486 - val_loss: 1.7052 - val_accuracy: 0.2518\n",
      "Epoch 90/100\n",
      "24667/24667 [==============================] - 0s 4us/step - loss: 1.7032 - accuracy: 0.2520 - val_loss: 1.7051 - val_accuracy: 0.2530\n",
      "Epoch 91/100\n",
      "24667/24667 [==============================] - 0s 4us/step - loss: 1.7030 - accuracy: 0.2515 - val_loss: 1.7048 - val_accuracy: 0.2531\n",
      "Epoch 92/100\n",
      "24667/24667 [==============================] - 0s 4us/step - loss: 1.7029 - accuracy: 0.2512 - val_loss: 1.7036 - val_accuracy: 0.2510\n",
      "Epoch 93/100\n",
      "24667/24667 [==============================] - 0s 4us/step - loss: 1.7022 - accuracy: 0.2515 - val_loss: 1.7039 - val_accuracy: 0.2544\n",
      "Epoch 94/100\n",
      "24667/24667 [==============================] - 0s 4us/step - loss: 1.7021 - accuracy: 0.2510 - val_loss: 1.7032 - val_accuracy: 0.2520\n",
      "Epoch 95/100\n",
      "24667/24667 [==============================] - 0s 4us/step - loss: 1.7018 - accuracy: 0.2516 - val_loss: 1.7026 - val_accuracy: 0.2526\n",
      "Epoch 96/100\n",
      "24667/24667 [==============================] - 0s 4us/step - loss: 1.7009 - accuracy: 0.2527 - val_loss: 1.7024 - val_accuracy: 0.2523\n",
      "Epoch 97/100\n",
      "24667/24667 [==============================] - 0s 4us/step - loss: 1.7010 - accuracy: 0.2511 - val_loss: 1.7017 - val_accuracy: 0.2528\n",
      "Epoch 98/100\n",
      "24667/24667 [==============================] - 0s 4us/step - loss: 1.7004 - accuracy: 0.2523 - val_loss: 1.7019 - val_accuracy: 0.2526\n",
      "Epoch 99/100\n",
      "24667/24667 [==============================] - 0s 5us/step - loss: 1.7000 - accuracy: 0.2525 - val_loss: 1.7013 - val_accuracy: 0.2504\n",
      "Epoch 100/100\n",
      "24667/24667 [==============================] - 0s 5us/step - loss: 1.6997 - accuracy: 0.2535 - val_loss: 1.7012 - val_accuracy: 0.2543\n"
     ]
    }
   ],
   "source": [
    "# Train model on train set\n",
    "history = model.fit(X_train_nomood, y_train, epochs=100, validation_split=0.2, batch_size=512)"
   ]
  },
  {
   "cell_type": "code",
   "execution_count": 13,
   "metadata": {},
   "outputs": [
    {
     "name": "stdout",
     "output_type": "stream",
     "text": [
      "Test loss: 1.6994\n",
      "Test accuracy: 25.47 %\n"
     ]
    }
   ],
   "source": [
    "score = model.evaluate(X_train_nomood, y_train, verbose=0)\n",
    "print('Test loss:', round(score[0],4))\n",
    "print('Test accuracy:', round(score[1]*100,2), \"%\")"
   ]
  },
  {
   "cell_type": "code",
   "execution_count": 14,
   "metadata": {},
   "outputs": [
    {
     "data": {
      "image/png": "[encoded data removed]",
      "text/plain": [
       "<Figure size 432x288 with 1 Axes>"
      ]
     },
     "metadata": {
      "needs_background": "light"
     },
     "output_type": "display_data"
    }
   ],
   "source": [
    "# Plot training & validation accuracy values\n",
    "plt.plot(history.history['accuracy'])\n",
    "plt.plot(history.history['val_accuracy'])\n",
    "plt.title('Model accuracy')\n",
    "plt.ylabel('Accuracy')\n",
    "plt.xlabel('Epoch')\n",
    "plt.legend(['Train', 'Validation'], loc='upper left')\n",
    "plt.show()"
   ]
  },
  {
   "cell_type": "code",
   "execution_count": 15,
   "metadata": {},
   "outputs": [
    {
     "data": {
      "image/png": "[encoded data removed]",
      "text/plain": [
       "<Figure size 432x288 with 1 Axes>"
      ]
     },
     "metadata": {
      "needs_background": "light"
     },
     "output_type": "display_data"
    }
   ],
   "source": [
    "# Plot training & validation loss values\n",
    "plt.plot(history.history['loss'])\n",
    "plt.plot(history.history['val_loss'])\n",
    "plt.title('Model loss')\n",
    "plt.ylabel('Loss')\n",
    "plt.xlabel('Epoch')\n",
    "plt.legend(['Train', 'Validation'], loc='upper left')\n",
    "plt.show()"
   ]
  },
  {
   "cell_type": "code",
   "execution_count": 16,
   "metadata": {},
   "outputs": [],
   "source": [
    "# Predict using X_test\n",
    "y_pred = model.predict(X_test_nomood)\n",
    "\n",
    "#Converting predictions to label\n",
    "pred = list()\n",
    "for i in range(len(y_pred)):\n",
    "    pred.append(np.argmax(y_pred[i]))\n",
    "    \n",
    "#Converting one hot encoded test label to label\n",
    "test = list()\n",
    "for i in range(len(y_test)):\n",
    "    test.append(np.argmax(y_test[i]))"
   ]
  },
  {
   "cell_type": "code",
   "execution_count": 17,
   "metadata": {},
   "outputs": [
    {
     "name": "stdout",
     "output_type": "stream",
     "text": [
      "Accuracy is: 15.387523629489602\n"
     ]
    }
   ],
   "source": [
    "# Accuracy score\n",
    "a = accuracy_score(pred,test)\n",
    "print('Accuracy is:', a*100)"
   ]
  },
  {
   "cell_type": "code",
   "execution_count": 18,
   "metadata": {},
   "outputs": [
    {
     "name": "stdout",
     "output_type": "stream",
     "text": [
      "        Same Dif\n",
      "correct 270 137\n",
      "wrong   1511 727\n",
      "Table is right!\n"
     ]
    }
   ],
   "source": [
    "# true = y_test\n",
    "# pred = y_pred\n",
    "# last_value = X_bored_lastarray\n",
    "same_correct = 0\n",
    "same_wrong = 0\n",
    "dif_correct = 0\n",
    "dif_wrong = 0\n",
    "\n",
    "X_test_bored = X_test_onlylastmood['bored_last'].values\n",
    "for i in range(len(pred)):\n",
    "    if (test[i] == X_test_bored[i]) and (test[i] == pred[i]):\n",
    "        same_correct += 1\n",
    "    if (test[i] == X_test_bored[i]) and (test[i] != pred[i]):\n",
    "        same_wrong += 1\n",
    "    if (test[i] != X_test_bored[i]) and (test[i] == pred[i]):\n",
    "        dif_correct += 1\n",
    "    if (test[i] != X_test_bored[i]) and (test[i] != pred[i]):\n",
    "        dif_wrong += 1   \n",
    "\n",
    "print(\"       \", \"Same\", \"Dif\")\n",
    "print(\"correct\", same_correct, dif_correct)\n",
    "print(\"wrong  \", same_wrong, dif_wrong)\n",
    "\n",
    "#Check if table is similar to accuracy\n",
    "if (same_correct+dif_correct) / (same_correct+dif_correct+same_wrong+dif_wrong) == a:\n",
    "    print(\"Table is right!\")\n",
    "else:\n",
    "    print(\"Table is wrong\")"
   ]
  },
  {
   "cell_type": "code",
   "execution_count": 19,
   "metadata": {},
   "outputs": [
    {
     "name": "stdout",
     "output_type": "stream",
     "text": [
      "Predicted valxues:  Counter({5: 996, 0: 531, 3: 515, 4: 311, 1: 179, 2: 113})\n",
      "True values:  Counter({0: 1264, 1: 491, 2: 455, 3: 301, 4: 119, 5: 15})\n",
      "Previous mood: Counter({0.0: 1286, 1.0: 494, 2.0: 451, 3.0: 294, 4.0: 106, 5.0: 14})\n"
     ]
    }
   ],
   "source": [
    "from collections import Counter\n",
    "print(\"Predicted valxues: \", Counter(pred))\n",
    "print(\"True values: \", Counter(test))\n",
    "print(\"Previous mood:\", Counter(X_test_bored))"
   ]
  },
  {
   "cell_type": "code",
   "execution_count": 20,
   "metadata": {},
   "outputs": [
    {
     "name": "stdout",
     "output_type": "stream",
     "text": [
      "Total length:  2645\n",
      "Same Correct 0 guesses is:  202\n",
      "Same Wrong 0 guesses is:  837\n",
      "Dif Correct 0 guesses is:  70\n",
      "Dif Wrong 0 guesses is:  155\n",
      "\n",
      "Same Correct 1 guesses is:  21\n",
      "Same Wrong 1 guesses is:  251\n",
      "Dif Correct 1 guesses is:  22\n",
      "Dif Wrong 1 guesses is:  197\n",
      "\n",
      "Same Correct 2 guesses is:  4\n",
      "Same Wrong 2 guesses is:  228\n",
      "Dif Correct 2 guesses is:  13\n",
      "Dif Wrong 2 guesses is:  210\n",
      "\n",
      "Same Correct 3 guesses is:  42\n",
      "Same Wrong 3 guesses is:  141\n",
      "Dif Correct 3 guesses is:  19\n",
      "Dif Wrong 3 guesses is:  99\n",
      "\n",
      "Same Correct 4 guesses is:  1\n",
      "Same Wrong 4 guesses is:  54\n",
      "Dif Correct 4 guesses is:  9\n",
      "Dif Wrong 4 guesses is:  55\n",
      "\n",
      "Same Correct 5 guesses is:  0\n",
      "Same Wrong 5 guesses is:  0\n",
      "Dif Correct 5 guesses is:  4\n",
      "Dif Wrong 5 guesses is:  11\n"
     ]
    }
   ],
   "source": [
    "same_correct_0, same_wrong_0, same_correct_1, same_wrong_1, same_correct_2, same_wrong_2, same_correct_3, same_wrong_3, same_correct_4, same_wrong_4, same_correct_5, same_wrong_5 = (0, 0, 0, 0, 0, 0, 0, 0, 0, 0, 0, 0)\n",
    "dif_correct_0, dif_wrong_0, dif_correct_1, dif_wrong_1, dif_correct_2, dif_wrong_2, dif_correct_3, dif_wrong_3, dif_correct_4, dif_wrong_4, dif_correct_5, dif_wrong_5 = (0, 0, 0, 0, 0, 0, 0, 0, 0, 0, 0, 0)\n",
    "\n",
    "for i in range(len(pred)):\n",
    "    if test[i] == 0 and pred[i] == 0:\n",
    "        if test[i] == X_test_bored[i]:\n",
    "            same_correct_0 += 1\n",
    "        if test[i] != X_test_bored[i]:\n",
    "            dif_correct_0 += 1\n",
    "    if test[i] == 0 and pred[i] != 0:\n",
    "        if test[i] == X_test_bored[i]:\n",
    "            same_wrong_0 += 1\n",
    "        if test[i] != X_test_bored[i]:\n",
    "            dif_wrong_0 += 1\n",
    "\n",
    "    if test[i] == 1 and pred[i] == 1:\n",
    "        if test[i] == X_test_bored[i]:\n",
    "            same_correct_1 += 1\n",
    "        if test[i] != X_test_bored[i]:\n",
    "            dif_correct_1 += 1\n",
    "    if test[i] == 1 and pred[i] != 1:\n",
    "        if test[i] == X_test_bored[i]:\n",
    "            same_wrong_1 += 1\n",
    "        if test[i] != X_test_bored[i]:\n",
    "            dif_wrong_1 += 1\n",
    "        \n",
    "    if test[i] == 2 and pred[i] == 2:\n",
    "        if test[i] == X_test_bored[i]:\n",
    "            same_correct_2 += 1\n",
    "        if test[i] != X_test_bored[i]:\n",
    "            dif_correct_2 += 1\n",
    "    if test[i] == 2 and pred[i] != 2:\n",
    "        if test[i] == X_test_bored[i]:\n",
    "            same_wrong_2 += 1\n",
    "        if test[i] != X_test_bored[i]:\n",
    "            dif_wrong_2 += 1\n",
    "    \n",
    "    if test[i] == 3 and pred[i] == 3:\n",
    "        if test[i] == X_test_bored[i]:\n",
    "            same_correct_3 += 1\n",
    "        if test[i] != X_test_bored[i]:\n",
    "            dif_correct_3 += 1\n",
    "    if test[i] == 3 and pred[i] != 3:\n",
    "        if test[i] == X_test_bored[i]:\n",
    "            same_wrong_3 += 1\n",
    "        if test[i] != X_test_bored[i]:\n",
    "            dif_wrong_3 += 1\n",
    "        \n",
    "    if test[i] == 4 and pred[i] == 4:\n",
    "        if test[i] == X_test_bored[i]:\n",
    "            same_correct_4 += 1\n",
    "        if test[i] != X_test_bored[i]:\n",
    "            dif_correct_4 += 1\n",
    "    if test[i] == 4 and pred[i] != 4:\n",
    "        if test[i] == X_test_bored[i]:\n",
    "            same_wrong_4 += 1\n",
    "        if test[i] != X_test_bored[i]:\n",
    "            dif_wrong_4 += 1\n",
    "    \n",
    "    if test[i] == 5 and pred[i] == 5:\n",
    "        if test[i] == X_test_bored[i]:\n",
    "            same_correct_5 += 1\n",
    "        if test[i] != X_test_bored[i]:\n",
    "            dif_correct_5 += 1\n",
    "    if test[i] == 5 and pred[i] != 5:\n",
    "        if test[i] == X_test_bored[i]:\n",
    "            same_wrong_5 += 1\n",
    "        if test[i] != X_test_bored[i]:\n",
    "            dif_wrong_5 += 1\n",
    "\n",
    "print(\"Total length: \", len(X_test_bored))\n",
    "\n",
    "print(\"Same Correct 0 guesses is: \", same_correct_0)\n",
    "print(\"Same Wrong 0 guesses is: \", same_wrong_0)\n",
    "print(\"Dif Correct 0 guesses is: \", dif_correct_0)\n",
    "print(\"Dif Wrong 0 guesses is: \", dif_wrong_0)\n",
    "print('')\n",
    "print(\"Same Correct 1 guesses is: \", same_correct_1)\n",
    "print(\"Same Wrong 1 guesses is: \", same_wrong_1)\n",
    "print(\"Dif Correct 1 guesses is: \", dif_correct_1)\n",
    "print(\"Dif Wrong 1 guesses is: \", dif_wrong_1)\n",
    "print('')\n",
    "print(\"Same Correct 2 guesses is: \", same_correct_2)\n",
    "print(\"Same Wrong 2 guesses is: \", same_wrong_2)\n",
    "print(\"Dif Correct 2 guesses is: \", dif_correct_2)\n",
    "print(\"Dif Wrong 2 guesses is: \", dif_wrong_2)\n",
    "print('')\n",
    "print(\"Same Correct 3 guesses is: \", same_correct_3)\n",
    "print(\"Same Wrong 3 guesses is: \", same_wrong_3)\n",
    "print(\"Dif Correct 3 guesses is: \", dif_correct_3)\n",
    "print(\"Dif Wrong 3 guesses is: \", dif_wrong_3)\n",
    "print('')\n",
    "print(\"Same Correct 4 guesses is: \", same_correct_4)\n",
    "print(\"Same Wrong 4 guesses is: \", same_wrong_4)\n",
    "print(\"Dif Correct 4 guesses is: \", dif_correct_4)\n",
    "print(\"Dif Wrong 4 guesses is: \", dif_wrong_4)\n",
    "print('')\n",
    "print(\"Same Correct 5 guesses is: \", same_correct_5)\n",
    "print(\"Same Wrong 5 guesses is: \", same_wrong_5)\n",
    "print(\"Dif Correct 5 guesses is: \", dif_correct_5)\n",
    "print(\"Dif Wrong 5 guesses is: \", dif_wrong_5)"
   ]
  },
  {
   "cell_type": "code",
   "execution_count": 21,
   "metadata": {},
   "outputs": [],
   "source": [
    "mae_0, mae_1, mae_2, mae_3, mae_4, mae_5 = (0,0,0,0,0,0)\n",
    "\n",
    "for i in range(len(pred)):\n",
    "    if test[i] == 0 and pred[i] != 0:\n",
    "        mae_0 += (abs(test[i]-pred[i]))\n",
    "    if test[i] == 1 and pred[i] != 1:\n",
    "        mae_1 += (abs(test[i]-pred[i]))\n",
    "    if test[i] == 2 and pred[i] != 2:\n",
    "        mae_2 += (abs(test[i]-pred[i]))\n",
    "    if test[i] == 3 and pred[i] != 3:\n",
    "        mae_3 += (abs(test[i]-pred[i]))\n",
    "    if test[i] == 4 and pred[i] != 4:\n",
    "        mae_4 += (abs(test[i]-pred[i]))\n",
    "    if test[i] == 5 and pred[i] != 5:\n",
    "        mae_5 += (abs(test[i]-pred[i]))\n",
    "\n",
    "cnt_0, cnt_1, cnt_2, cnt_3, cnt_4, cnt_5 = (0,0,0,0,0,0)\n",
    "for z in range(len(test)):\n",
    "    if test[z] == 0:\n",
    "        cnt_0 += 1\n",
    "    if test[z] == 1:\n",
    "        cnt_1 += 1\n",
    "    if test[z] == 2:\n",
    "        cnt_2 += 1\n",
    "    if test[z] == 3:\n",
    "        cnt_3 += 1\n",
    "    if test[z] == 4:\n",
    "        cnt_4 += 1\n",
    "    if test[z] == 5:\n",
    "        cnt_5 += 1\n",
    "\n",
    "mae_macroaverage = ((mae_0/cnt_0) + (mae_1/cnt_1) + (mae_2/cnt_2) + (mae_3/cnt_3) + (mae_4/cnt_4) + (mae_5/cnt_5)) / 6"
   ]
  },
  {
   "cell_type": "code",
   "execution_count": 22,
   "metadata": {},
   "outputs": [
    {
     "name": "stdout",
     "output_type": "stream",
     "text": [
      "Macro-averaged Mean Absolute error is:  2.1315\n",
      "Macro-averaged F1-score is:  0.1981\n"
     ]
    }
   ],
   "source": [
    "print(\"Macro-averaged Mean Absolute error is: \", round(mae_macroaverage, 4))\n",
    "print(\"Macro-averaged F1-score is: \", round(f1_score(test, pred, average='weighted'), 4))"
   ]
  },
  {
   "cell_type": "code",
   "execution_count": null,
   "metadata": {},
   "outputs": [],
   "source": []
  }
 ],
 "metadata": {
  "kernelspec": {
   "display_name": "Python 3",
   "language": "python",
   "name": "python3"
  },
  "language_info": {
   "codemirror_mode": {
    "name": "ipython",
    "version": 3
   },
   "file_extension": ".py",
   "mimetype": "text/x-python",
   "name": "python",
   "nbconvert_exporter": "python",
   "pygments_lexer": "ipython3",
   "version": "3.7.4"
  }
 },
 "nbformat": 4,
 "nbformat_minor": 2
}
