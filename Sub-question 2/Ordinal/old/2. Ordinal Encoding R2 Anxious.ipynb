{
 "cells": [
  {
   "cell_type": "code",
   "execution_count": 1,
   "metadata": {},
   "outputs": [
    {
     "name": "stderr",
     "output_type": "stream",
     "text": [
      "Using TensorFlow backend.\n"
     ]
    }
   ],
   "source": [
    "# Import packages\n",
    "import pandas as pd\n",
    "import numpy as np\n",
    "import datetime\n",
    "import category_encoders as ce\n",
    "from sklearn.preprocessing import LabelEncoder, MinMaxScaler, RobustScaler, OneHotEncoder, StandardScaler\n",
    "from sklearn.model_selection import train_test_split\n",
    "from sklearn.metrics import accuracy_score, mean_squared_error, cohen_kappa_score, f1_score\n",
    "from sklearn.utils import shuffle\n",
    "from imblearn.over_sampling import SMOTE, SMOTENC\n",
    "import matplotlib.pyplot as plt\n",
    "from statsmodels.graphics.mosaicplot import mosaic\n",
    "from sklearn.decomposition import PCA\n",
    "from scipy import stats\n",
    "from math import sqrt\n",
    "\n",
    "\n",
    "\n",
    "import keras\n",
    "from keras.models import Sequential\n",
    "from keras.layers import Dense, Dropout, GaussianNoise\n",
    "from keras.optimizers import SGD\n",
    "from keras import regularizers"
   ]
  },
  {
   "cell_type": "code",
   "execution_count": 15,
   "metadata": {},
   "outputs": [],
   "source": [
    "path = \"/Users/Stijn/Documents/Master Data Science and Society/Block 3/thesis/code/thesis_Code/\"\n",
    "mood = pd.read_csv(path+'mood_imputed_median.csv', sep = ',', index_col=0)\n",
    "mood_anxious = mood.copy()"
   ]
  },
  {
   "cell_type": "code",
   "execution_count": 16,
   "metadata": {},
   "outputs": [
    {
     "data": {
      "text/plain": [
       "0.0    7206\n",
       "1.0    2548\n",
       "2.0    1946\n",
       "3.0    1012\n",
       "4.0     384\n",
       "5.0     125\n",
       "Name: anxious, dtype: int64"
      ]
     },
     "execution_count": 16,
     "metadata": {},
     "output_type": "execute_result"
    }
   ],
   "source": [
    "mood_anxious['anxious'].value_counts()"
   ]
  },
  {
   "cell_type": "code",
   "execution_count": 17,
   "metadata": {},
   "outputs": [],
   "source": [
    "anxiousR2 = []\n",
    "for a in mood['anxious']:\n",
    "    if a == 0:\n",
    "      anxiousR2.append(0)  \n",
    "    if a == 1:\n",
    "      anxiousR2.append(4)\n",
    "    if a == 2:\n",
    "      anxiousR2.append(5)\n",
    "    if a == 3:\n",
    "      anxiousR2.append(7)\n",
    "    if a == 4:\n",
    "      anxiousR2.append(9)\n",
    "    if a == 5:\n",
    "      anxiousR2.append(10)\n",
    "mood_anxious['anxiousR2'] = anxiousR2\n",
    "mood_anxious = mood_anxious.drop(['anxious'], axis=1)"
   ]
  },
  {
   "cell_type": "code",
   "execution_count": 18,
   "metadata": {},
   "outputs": [],
   "source": [
    "mood_anxious['anxious_last'] = mood_anxious.groupby('user_id')['anxiousR2'].shift()\n",
    "mood_anxious.loc[(pd.isnull(mood_anxious.anxious_last)), 'anxious_last'] = mood_anxious['anxiousR2']\n",
    "mood_anxious = mood_anxious.drop([\"content\", \"bored\", \"cheerful\", \"user_id\", \"response_time\"], axis=1)\n",
    "mood_anxious = mood_anxious[['anxiousR2', 'day_time_window', 'average_TimeUse', 'bulk', 'messaging', 'socialnetworking', 'otherapp', 'anxious_last']]"
   ]
  },
  {
   "cell_type": "code",
   "execution_count": 19,
   "metadata": {},
   "outputs": [],
   "source": [
    "# Normalize predictors\n",
    "mood_normz = mood_anxious.copy()\n",
    "features_to_normalize = ['day_time_window', 'average_TimeUse', 'messaging', 'socialnetworking', 'otherapp']\n",
    "mood_normz[features_to_normalize] = mood_normz[features_to_normalize].apply(lambda x:(x-x.min()) / (x.max()-x.min()))"
   ]
  },
  {
   "cell_type": "code",
   "execution_count": 20,
   "metadata": {},
   "outputs": [],
   "source": [
    "X = mood_normz.iloc[:,1:]\n",
    "y = mood_normz.iloc[:, 0:1]\n",
    "y = y.astype(int)"
   ]
  },
  {
   "cell_type": "code",
   "execution_count": 21,
   "metadata": {},
   "outputs": [],
   "source": [
    "X_train, X_test, y_train, y_test = train_test_split(X, y, test_size=0.2, random_state=2)"
   ]
  },
  {
   "cell_type": "code",
   "execution_count": 22,
   "metadata": {},
   "outputs": [
    {
     "name": "stdout",
     "output_type": "stream",
     "text": [
      "Before OverSampling, counts of labels: 0     5768\n",
      "4     2035\n",
      "5     1576\n",
      "7      800\n",
      "9      294\n",
      "10     103\n",
      "Name: anxiousR2, dtype: int64\n",
      "After OverSampling, counts of label '0': 5768\n",
      "After OverSampling, counts of label '4': 5768\n",
      "After OverSampling, counts of label '5': 5768\n",
      "After OverSampling, counts of label '7': 5768\n",
      "After OverSampling, counts of label '9': 5768\n",
      "After OverSampling, counts of label '10': 0\n"
     ]
    }
   ],
   "source": [
    "# Oversampling unbalanced target\n",
    "print(\"Before OverSampling, counts of labels: {}\".format(y_train['anxiousR2'].value_counts()))\n",
    "  \n",
    "sm = SMOTENC(categorical_features=[0, 2, 6], random_state = 2) \n",
    "X_train_res, y_train_res = sm.fit_sample(X_train, y_train['anxiousR2'].ravel()) \n",
    "\n",
    "print(\"After OverSampling, counts of label '0': {}\".format(sum(y_train_res == 0))) \n",
    "print(\"After OverSampling, counts of label '4': {}\".format(sum(y_train_res == 4))) \n",
    "print(\"After OverSampling, counts of label '5': {}\".format(sum(y_train_res == 5))) \n",
    "print(\"After OverSampling, counts of label '7': {}\".format(sum(y_train_res == 7))) \n",
    "print(\"After OverSampling, counts of label '9': {}\".format(sum(y_train_res == 9))) \n",
    "print(\"After OverSampling, counts of label '10': {}\".format(sum(y_train_res == 10))) "
   ]
  },
  {
   "cell_type": "code",
   "execution_count": 23,
   "metadata": {},
   "outputs": [],
   "source": [
    "X_train = pd.DataFrame(data=X_train_res)\n",
    "y_train = pd.DataFrame(data=y_train_res)"
   ]
  },
  {
   "cell_type": "code",
   "execution_count": 24,
   "metadata": {},
   "outputs": [],
   "source": [
    "# Shuffle both train and test set to cancel patterns\n",
    "X_train, y_train = shuffle(X_train, y_train)\n",
    "X_test, y_test = shuffle(X_test, y_test)"
   ]
  },
  {
   "cell_type": "code",
   "execution_count": 25,
   "metadata": {},
   "outputs": [],
   "source": [
    "X_train_nomood = X_train.iloc[:,:-1]\n",
    "X_train_onlylastmood = X_train.iloc[:,-1:]\n",
    "X_test_nomood = X_test.iloc[:,:-1]\n",
    "X_test_onlylastmood = X_test.iloc[:,-1:]"
   ]
  },
  {
   "cell_type": "code",
   "execution_count": 26,
   "metadata": {},
   "outputs": [
    {
     "name": "stdout",
     "output_type": "stream",
     "text": [
      "Model: \"sequential_1\"\n",
      "_________________________________________________________________\n",
      "Layer (type)                 Output Shape              Param #   \n",
      "=================================================================\n",
      "dense_1 (Dense)              (None, 24)                168       \n",
      "_________________________________________________________________\n",
      "dense_2 (Dense)              (None, 12)                300       \n",
      "_________________________________________________________________\n",
      "dense_3 (Dense)              (None, 1)                 13        \n",
      "=================================================================\n",
      "Total params: 481\n",
      "Trainable params: 481\n",
      "Non-trainable params: 0\n",
      "_________________________________________________________________\n"
     ]
    }
   ],
   "source": [
    "# Define Keras model\n",
    "model = Sequential()\n",
    "model.add(Dense(24, input_dim=6, activation='relu'))\n",
    "model.add(Dense(12, activation='relu'))\n",
    "model.add(Dense(1, activation='linear'))\n",
    "\n",
    "model.compile(loss='mean_squared_error', optimizer='adam', metrics=['accuracy'])\n",
    "model.summary()"
   ]
  },
  {
   "cell_type": "code",
   "execution_count": 27,
   "metadata": {},
   "outputs": [
    {
     "name": "stdout",
     "output_type": "stream",
     "text": [
      "Train on 27686 samples, validate on 6922 samples\n",
      "Epoch 1/100\n",
      "27686/27686 [==============================] - 0s 10us/step - loss: 42.5789 - accuracy: 0.1498 - val_loss: 38.3654 - val_accuracy: 0.0352\n",
      "Epoch 2/100\n",
      "27686/27686 [==============================] - 0s 4us/step - loss: 32.2969 - accuracy: 0.0042 - val_loss: 24.8468 - val_accuracy: 0.0032\n",
      "Epoch 3/100\n",
      "27686/27686 [==============================] - 0s 4us/step - loss: 18.5667 - accuracy: 0.0653 - val_loss: 14.0106 - val_accuracy: 0.1066\n",
      "Epoch 4/100\n",
      "27686/27686 [==============================] - 0s 5us/step - loss: 12.8500 - accuracy: 0.1157 - val_loss: 12.1698 - val_accuracy: 0.1237\n",
      "Epoch 5/100\n",
      "27686/27686 [==============================] - 0s 4us/step - loss: 11.7555 - accuracy: 0.0933 - val_loss: 11.4051 - val_accuracy: 0.0737\n",
      "Epoch 6/100\n",
      "27686/27686 [==============================] - 0s 5us/step - loss: 11.2472 - accuracy: 0.0417 - val_loss: 11.0597 - val_accuracy: 0.0134\n",
      "Epoch 7/100\n",
      "27686/27686 [==============================] - 0s 4us/step - loss: 11.0373 - accuracy: 0.0159 - val_loss: 10.9245 - val_accuracy: 0.0120\n",
      "Epoch 8/100\n",
      "27686/27686 [==============================] - 0s 4us/step - loss: 10.9641 - accuracy: 0.0160 - val_loss: 10.8769 - val_accuracy: 0.0129\n",
      "Epoch 9/100\n",
      "27686/27686 [==============================] - 0s 4us/step - loss: 10.9307 - accuracy: 0.0162 - val_loss: 10.8532 - val_accuracy: 0.0139\n",
      "Epoch 10/100\n",
      "27686/27686 [==============================] - 0s 4us/step - loss: 10.9090 - accuracy: 0.0174 - val_loss: 10.8319 - val_accuracy: 0.0129\n",
      "Epoch 11/100\n",
      "27686/27686 [==============================] - 0s 4us/step - loss: 10.8925 - accuracy: 0.0162 - val_loss: 10.8186 - val_accuracy: 0.0150\n",
      "Epoch 12/100\n",
      "27686/27686 [==============================] - 0s 4us/step - loss: 10.8754 - accuracy: 0.0183 - val_loss: 10.8047 - val_accuracy: 0.0159\n",
      "Epoch 13/100\n",
      "27686/27686 [==============================] - 0s 4us/step - loss: 10.8560 - accuracy: 0.0186 - val_loss: 10.7878 - val_accuracy: 0.0189\n",
      "Epoch 14/100\n",
      "27686/27686 [==============================] - 0s 4us/step - loss: 10.8428 - accuracy: 0.0219 - val_loss: 10.7899 - val_accuracy: 0.0188\n",
      "Epoch 15/100\n",
      "27686/27686 [==============================] - 0s 4us/step - loss: 10.8322 - accuracy: 0.0233 - val_loss: 10.7698 - val_accuracy: 0.0214\n",
      "Epoch 16/100\n",
      "27686/27686 [==============================] - 0s 4us/step - loss: 10.8189 - accuracy: 0.0249 - val_loss: 10.7509 - val_accuracy: 0.0228\n",
      "Epoch 17/100\n",
      "27686/27686 [==============================] - 0s 4us/step - loss: 10.8074 - accuracy: 0.0244 - val_loss: 10.7431 - val_accuracy: 0.0230\n",
      "Epoch 18/100\n",
      "27686/27686 [==============================] - 0s 4us/step - loss: 10.7964 - accuracy: 0.0246 - val_loss: 10.7425 - val_accuracy: 0.0234\n",
      "Epoch 19/100\n",
      "27686/27686 [==============================] - 0s 4us/step - loss: 10.7891 - accuracy: 0.0251 - val_loss: 10.7319 - val_accuracy: 0.0240\n",
      "Epoch 20/100\n",
      "27686/27686 [==============================] - 0s 4us/step - loss: 10.7806 - accuracy: 0.0270 - val_loss: 10.7201 - val_accuracy: 0.0233\n",
      "Epoch 21/100\n",
      "27686/27686 [==============================] - 0s 4us/step - loss: 10.7730 - accuracy: 0.0272 - val_loss: 10.7171 - val_accuracy: 0.0257\n",
      "Epoch 22/100\n",
      "27686/27686 [==============================] - 0s 4us/step - loss: 10.7661 - accuracy: 0.0256 - val_loss: 10.7168 - val_accuracy: 0.0259\n",
      "Epoch 23/100\n",
      "27686/27686 [==============================] - 0s 4us/step - loss: 10.7588 - accuracy: 0.0284 - val_loss: 10.7082 - val_accuracy: 0.0274\n",
      "Epoch 24/100\n",
      "27686/27686 [==============================] - 0s 4us/step - loss: 10.7601 - accuracy: 0.0276 - val_loss: 10.7176 - val_accuracy: 0.0253\n",
      "Epoch 25/100\n",
      "27686/27686 [==============================] - 0s 4us/step - loss: 10.7454 - accuracy: 0.0285 - val_loss: 10.6937 - val_accuracy: 0.0263\n",
      "Epoch 26/100\n",
      "27686/27686 [==============================] - 0s 4us/step - loss: 10.7400 - accuracy: 0.0277 - val_loss: 10.6872 - val_accuracy: 0.0280\n",
      "Epoch 27/100\n",
      "27686/27686 [==============================] - 0s 4us/step - loss: 10.7336 - accuracy: 0.0281 - val_loss: 10.6932 - val_accuracy: 0.0328\n",
      "Epoch 28/100\n",
      "27686/27686 [==============================] - 0s 4us/step - loss: 10.7279 - accuracy: 0.0303 - val_loss: 10.6738 - val_accuracy: 0.0273\n",
      "Epoch 29/100\n",
      "27686/27686 [==============================] - 0s 4us/step - loss: 10.7210 - accuracy: 0.0290 - val_loss: 10.6683 - val_accuracy: 0.0277\n",
      "Epoch 30/100\n",
      "27686/27686 [==============================] - 0s 4us/step - loss: 10.7157 - accuracy: 0.0301 - val_loss: 10.6681 - val_accuracy: 0.0290\n",
      "Epoch 31/100\n",
      "27686/27686 [==============================] - 0s 4us/step - loss: 10.7102 - accuracy: 0.0295 - val_loss: 10.6631 - val_accuracy: 0.0285\n",
      "Epoch 32/100\n",
      "27686/27686 [==============================] - 0s 4us/step - loss: 10.7077 - accuracy: 0.0308 - val_loss: 10.6597 - val_accuracy: 0.0269\n",
      "Epoch 33/100\n",
      "27686/27686 [==============================] - 0s 4us/step - loss: 10.7012 - accuracy: 0.0290 - val_loss: 10.6508 - val_accuracy: 0.0280\n",
      "Epoch 34/100\n",
      "27686/27686 [==============================] - 0s 4us/step - loss: 10.6947 - accuracy: 0.0302 - val_loss: 10.6742 - val_accuracy: 0.0280\n",
      "Epoch 35/100\n",
      "27686/27686 [==============================] - 0s 4us/step - loss: 10.6901 - accuracy: 0.0317 - val_loss: 10.6460 - val_accuracy: 0.0267\n",
      "Epoch 36/100\n",
      "27686/27686 [==============================] - 0s 4us/step - loss: 10.6875 - accuracy: 0.0311 - val_loss: 10.6485 - val_accuracy: 0.0361\n",
      "Epoch 37/100\n",
      "27686/27686 [==============================] - 0s 4us/step - loss: 10.6996 - accuracy: 0.0324 - val_loss: 10.6402 - val_accuracy: 0.0285\n",
      "Epoch 38/100\n",
      "27686/27686 [==============================] - 0s 4us/step - loss: 10.6735 - accuracy: 0.0312 - val_loss: 10.6306 - val_accuracy: 0.0290\n",
      "Epoch 39/100\n",
      "27686/27686 [==============================] - 0s 4us/step - loss: 10.6750 - accuracy: 0.0310 - val_loss: 10.6305 - val_accuracy: 0.0341\n",
      "Epoch 40/100\n",
      "27686/27686 [==============================] - 0s 4us/step - loss: 10.6718 - accuracy: 0.0312 - val_loss: 10.6238 - val_accuracy: 0.0298\n",
      "Epoch 41/100\n",
      "27686/27686 [==============================] - 0s 4us/step - loss: 10.6644 - accuracy: 0.0302 - val_loss: 10.6144 - val_accuracy: 0.0321\n",
      "Epoch 42/100\n",
      "27686/27686 [==============================] - 0s 4us/step - loss: 10.6662 - accuracy: 0.0342 - val_loss: 10.6186 - val_accuracy: 0.0308\n",
      "Epoch 43/100\n",
      "27686/27686 [==============================] - 0s 4us/step - loss: 10.6576 - accuracy: 0.0316 - val_loss: 10.6104 - val_accuracy: 0.0325\n",
      "Epoch 44/100\n",
      "27686/27686 [==============================] - 0s 4us/step - loss: 10.6528 - accuracy: 0.0321 - val_loss: 10.6238 - val_accuracy: 0.0299\n",
      "Epoch 45/100\n",
      "27686/27686 [==============================] - 0s 5us/step - loss: 10.6449 - accuracy: 0.0333 - val_loss: 10.5985 - val_accuracy: 0.0329\n",
      "Epoch 46/100\n",
      "27686/27686 [==============================] - 0s 5us/step - loss: 10.6402 - accuracy: 0.0330 - val_loss: 10.6203 - val_accuracy: 0.0299\n",
      "Epoch 47/100\n",
      "27686/27686 [==============================] - 0s 4us/step - loss: 10.6524 - accuracy: 0.0361 - val_loss: 10.5901 - val_accuracy: 0.0338\n",
      "Epoch 48/100\n",
      "27686/27686 [==============================] - 0s 4us/step - loss: 10.6289 - accuracy: 0.0342 - val_loss: 10.5899 - val_accuracy: 0.0332\n",
      "Epoch 49/100\n",
      "27686/27686 [==============================] - 0s 4us/step - loss: 10.6288 - accuracy: 0.0328 - val_loss: 10.5833 - val_accuracy: 0.0358\n",
      "Epoch 50/100\n",
      "27686/27686 [==============================] - 0s 4us/step - loss: 10.6336 - accuracy: 0.0350 - val_loss: 10.5779 - val_accuracy: 0.0332\n",
      "Epoch 51/100\n",
      "27686/27686 [==============================] - 0s 4us/step - loss: 10.6176 - accuracy: 0.0349 - val_loss: 10.6081 - val_accuracy: 0.0305\n",
      "Epoch 52/100\n",
      "27686/27686 [==============================] - 0s 4us/step - loss: 10.6470 - accuracy: 0.0349 - val_loss: 10.5943 - val_accuracy: 0.0332\n",
      "Epoch 53/100\n",
      "27686/27686 [==============================] - 0s 4us/step - loss: 10.6158 - accuracy: 0.0358 - val_loss: 10.5703 - val_accuracy: 0.0354\n",
      "Epoch 54/100\n",
      "27686/27686 [==============================] - 0s 4us/step - loss: 10.6101 - accuracy: 0.0357 - val_loss: 10.5633 - val_accuracy: 0.0363\n",
      "Epoch 55/100\n",
      "27686/27686 [==============================] - 0s 5us/step - loss: 10.6083 - accuracy: 0.0351 - val_loss: 10.5719 - val_accuracy: 0.0328\n",
      "Epoch 56/100\n",
      "27686/27686 [==============================] - 0s 4us/step - loss: 10.6010 - accuracy: 0.0363 - val_loss: 10.5870 - val_accuracy: 0.0316\n",
      "Epoch 57/100\n",
      "27686/27686 [==============================] - 0s 4us/step - loss: 10.6031 - accuracy: 0.0356 - val_loss: 10.5554 - val_accuracy: 0.0361\n",
      "Epoch 58/100\n",
      "27686/27686 [==============================] - 0s 4us/step - loss: 10.5999 - accuracy: 0.0374 - val_loss: 10.5544 - val_accuracy: 0.0364\n",
      "Epoch 59/100\n",
      "27686/27686 [==============================] - 0s 4us/step - loss: 10.5962 - accuracy: 0.0370 - val_loss: 10.5594 - val_accuracy: 0.0341\n",
      "Epoch 60/100\n",
      "27686/27686 [==============================] - 0s 4us/step - loss: 10.5960 - accuracy: 0.0356 - val_loss: 10.5585 - val_accuracy: 0.0331\n",
      "Epoch 61/100\n",
      "27686/27686 [==============================] - 0s 4us/step - loss: 10.6010 - accuracy: 0.0373 - val_loss: 10.5525 - val_accuracy: 0.0373\n",
      "Epoch 62/100\n",
      "27686/27686 [==============================] - 0s 4us/step - loss: 10.5883 - accuracy: 0.0367 - val_loss: 10.5443 - val_accuracy: 0.0354\n",
      "Epoch 63/100\n",
      "27686/27686 [==============================] - 0s 4us/step - loss: 10.5872 - accuracy: 0.0371 - val_loss: 10.5409 - val_accuracy: 0.0364\n",
      "Epoch 64/100\n",
      "27686/27686 [==============================] - 0s 4us/step - loss: 10.5934 - accuracy: 0.0365 - val_loss: 10.5423 - val_accuracy: 0.0345\n",
      "Epoch 65/100\n",
      "27686/27686 [==============================] - 0s 4us/step - loss: 10.5876 - accuracy: 0.0373 - val_loss: 10.5451 - val_accuracy: 0.0338\n",
      "Epoch 66/100\n",
      "27686/27686 [==============================] - 0s 4us/step - loss: 10.5818 - accuracy: 0.0370 - val_loss: 10.5390 - val_accuracy: 0.0393\n",
      "Epoch 67/100\n",
      "27686/27686 [==============================] - 0s 4us/step - loss: 10.5860 - accuracy: 0.0381 - val_loss: 10.5354 - val_accuracy: 0.0347\n",
      "Epoch 68/100\n",
      "27686/27686 [==============================] - 0s 4us/step - loss: 10.5817 - accuracy: 0.0366 - val_loss: 10.5403 - val_accuracy: 0.0383\n",
      "Epoch 69/100\n",
      "27686/27686 [==============================] - 0s 4us/step - loss: 10.5777 - accuracy: 0.0375 - val_loss: 10.5563 - val_accuracy: 0.0326\n",
      "Epoch 70/100\n",
      "27686/27686 [==============================] - 0s 4us/step - loss: 10.5758 - accuracy: 0.0376 - val_loss: 10.5362 - val_accuracy: 0.0348\n",
      "Epoch 71/100\n",
      "27686/27686 [==============================] - 0s 4us/step - loss: 10.5761 - accuracy: 0.0376 - val_loss: 10.5343 - val_accuracy: 0.0364\n",
      "Epoch 72/100\n",
      "27686/27686 [==============================] - 0s 4us/step - loss: 10.5723 - accuracy: 0.0386 - val_loss: 10.5243 - val_accuracy: 0.0393\n",
      "Epoch 73/100\n",
      "27686/27686 [==============================] - 0s 4us/step - loss: 10.5811 - accuracy: 0.0387 - val_loss: 10.5246 - val_accuracy: 0.0360\n",
      "Epoch 74/100\n",
      "27686/27686 [==============================] - 0s 4us/step - loss: 10.5683 - accuracy: 0.0375 - val_loss: 10.5264 - val_accuracy: 0.0373\n",
      "Epoch 75/100\n",
      "27686/27686 [==============================] - 0s 4us/step - loss: 10.5693 - accuracy: 0.0396 - val_loss: 10.5259 - val_accuracy: 0.0350\n",
      "Epoch 76/100\n",
      "27686/27686 [==============================] - 0s 4us/step - loss: 10.5653 - accuracy: 0.0381 - val_loss: 10.5216 - val_accuracy: 0.0376\n",
      "Epoch 77/100\n",
      "27686/27686 [==============================] - 0s 4us/step - loss: 10.5678 - accuracy: 0.0389 - val_loss: 10.5246 - val_accuracy: 0.0351\n",
      "Epoch 78/100\n",
      "27686/27686 [==============================] - 0s 4us/step - loss: 10.5661 - accuracy: 0.0393 - val_loss: 10.5251 - val_accuracy: 0.0387\n",
      "Epoch 79/100\n",
      "27686/27686 [==============================] - 0s 4us/step - loss: 10.5626 - accuracy: 0.0394 - val_loss: 10.5150 - val_accuracy: 0.0387\n",
      "Epoch 80/100\n",
      "27686/27686 [==============================] - 0s 4us/step - loss: 10.5639 - accuracy: 0.0400 - val_loss: 10.5108 - val_accuracy: 0.0384\n",
      "Epoch 81/100\n",
      "27686/27686 [==============================] - 0s 4us/step - loss: 10.5651 - accuracy: 0.0387 - val_loss: 10.5214 - val_accuracy: 0.0403\n",
      "Epoch 82/100\n",
      "27686/27686 [==============================] - 0s 4us/step - loss: 10.5589 - accuracy: 0.0403 - val_loss: 10.5197 - val_accuracy: 0.0352\n",
      "Epoch 83/100\n",
      "27686/27686 [==============================] - 0s 4us/step - loss: 10.5570 - accuracy: 0.0393 - val_loss: 10.5582 - val_accuracy: 0.0335\n",
      "Epoch 84/100\n",
      "27686/27686 [==============================] - 0s 4us/step - loss: 10.5643 - accuracy: 0.0393 - val_loss: 10.5088 - val_accuracy: 0.0371\n",
      "Epoch 85/100\n",
      "27686/27686 [==============================] - 0s 4us/step - loss: 10.5528 - accuracy: 0.0393 - val_loss: 10.5119 - val_accuracy: 0.0367\n",
      "Epoch 86/100\n",
      "27686/27686 [==============================] - 0s 4us/step - loss: 10.5589 - accuracy: 0.0405 - val_loss: 10.5053 - val_accuracy: 0.0379\n",
      "Epoch 87/100\n",
      "27686/27686 [==============================] - 0s 4us/step - loss: 10.5682 - accuracy: 0.0404 - val_loss: 10.5031 - val_accuracy: 0.0392\n",
      "Epoch 88/100\n",
      "27686/27686 [==============================] - 0s 4us/step - loss: 10.5513 - accuracy: 0.0398 - val_loss: 10.5037 - val_accuracy: 0.0383\n",
      "Epoch 89/100\n",
      "27686/27686 [==============================] - 0s 4us/step - loss: 10.5490 - accuracy: 0.0401 - val_loss: 10.5223 - val_accuracy: 0.0348\n",
      "Epoch 90/100\n",
      "27686/27686 [==============================] - 0s 4us/step - loss: 10.5461 - accuracy: 0.0399 - val_loss: 10.5031 - val_accuracy: 0.0383\n",
      "Epoch 91/100\n",
      "27686/27686 [==============================] - 0s 4us/step - loss: 10.5491 - accuracy: 0.0391 - val_loss: 10.5066 - val_accuracy: 0.0364\n",
      "Epoch 92/100\n",
      "27686/27686 [==============================] - 0s 4us/step - loss: 10.5467 - accuracy: 0.0412 - val_loss: 10.4959 - val_accuracy: 0.0371\n",
      "Epoch 93/100\n",
      "27686/27686 [==============================] - 0s 4us/step - loss: 10.5551 - accuracy: 0.0400 - val_loss: 10.4970 - val_accuracy: 0.0387\n",
      "Epoch 94/100\n",
      "27686/27686 [==============================] - 0s 4us/step - loss: 10.5412 - accuracy: 0.0406 - val_loss: 10.4990 - val_accuracy: 0.0389\n",
      "Epoch 95/100\n",
      "27686/27686 [==============================] - 0s 4us/step - loss: 10.5395 - accuracy: 0.0411 - val_loss: 10.5008 - val_accuracy: 0.0354\n",
      "Epoch 96/100\n",
      "27686/27686 [==============================] - 0s 4us/step - loss: 10.5450 - accuracy: 0.0395 - val_loss: 10.5208 - val_accuracy: 0.0342\n",
      "Epoch 97/100\n",
      "27686/27686 [==============================] - 0s 4us/step - loss: 10.5574 - accuracy: 0.0405 - val_loss: 10.4989 - val_accuracy: 0.0386\n",
      "Epoch 98/100\n",
      "27686/27686 [==============================] - 0s 4us/step - loss: 10.5502 - accuracy: 0.0411 - val_loss: 10.5337 - val_accuracy: 0.0339\n",
      "Epoch 99/100\n",
      "27686/27686 [==============================] - 0s 4us/step - loss: 10.5521 - accuracy: 0.0398 - val_loss: 10.4916 - val_accuracy: 0.0364\n",
      "Epoch 100/100\n",
      "27686/27686 [==============================] - 0s 4us/step - loss: 10.5341 - accuracy: 0.0401 - val_loss: 10.4860 - val_accuracy: 0.0368\n"
     ]
    }
   ],
   "source": [
    "history = model.fit(X_train_nomood, y_train, epochs=100, validation_split=0.2, batch_size=512)"
   ]
  },
  {
   "cell_type": "code",
   "execution_count": 28,
   "metadata": {},
   "outputs": [
    {
     "name": "stdout",
     "output_type": "stream",
     "text": [
      "Test loss: 10.5189\n",
      "Test accuracy: 3.9 %\n"
     ]
    }
   ],
   "source": [
    "score = model.evaluate(X_train_nomood, y_train, verbose=0)\n",
    "print('Test loss:', round(score[0],4))\n",
    "print('Test accuracy:', round(score[1]*100,2), \"%\")"
   ]
  },
  {
   "cell_type": "code",
   "execution_count": 29,
   "metadata": {},
   "outputs": [
    {
     "data": {
      "image/png": "[encoded data removed]",
      "text/plain": [
       "<Figure size 432x288 with 1 Axes>"
      ]
     },
     "metadata": {
      "needs_background": "light"
     },
     "output_type": "display_data"
    }
   ],
   "source": [
    "# Plot training & validation accuracy values\n",
    "plt.plot(history.history['accuracy'])\n",
    "plt.plot(history.history['val_accuracy'])\n",
    "plt.title('Model accuracy')\n",
    "plt.ylabel('Accuracy')\n",
    "plt.xlabel('Epoch')\n",
    "plt.legend(['Train', 'Validation'], loc='upper left')\n",
    "plt.show()"
   ]
  },
  {
   "cell_type": "code",
   "execution_count": 30,
   "metadata": {},
   "outputs": [
    {
     "data": {
      "image/png": "[encoded data removed]",
      "text/plain": [
       "<Figure size 432x288 with 1 Axes>"
      ]
     },
     "metadata": {
      "needs_background": "light"
     },
     "output_type": "display_data"
    }
   ],
   "source": [
    "# Plot training & validation loss values\n",
    "plt.plot(history.history['loss'])\n",
    "plt.plot(history.history['val_loss'])\n",
    "plt.title('Model loss')\n",
    "plt.ylabel('Loss')\n",
    "plt.xlabel('Epoch')\n",
    "plt.legend(['Train', 'Validation'], loc='upper left')\n",
    "plt.show()"
   ]
  },
  {
   "cell_type": "code",
   "execution_count": 31,
   "metadata": {},
   "outputs": [],
   "source": [
    "y_pred = model.predict(X_test_nomood)"
   ]
  },
  {
   "cell_type": "code",
   "execution_count": 32,
   "metadata": {},
   "outputs": [],
   "source": [
    "cat_list = [0,4,5,7,9,10]\n",
    "pred = []\n",
    "for a in y_pred:\n",
    "    for b in a:\n",
    "        d = min(cat_list, key=lambda x:abs(x-b))\n",
    "        pred.append(round(d))    \n",
    "\n",
    "test = []\n",
    "for c in y_test['anxiousR2']:\n",
    "    test.append(c)"
   ]
  },
  {
   "cell_type": "code",
   "execution_count": 33,
   "metadata": {},
   "outputs": [
    {
     "data": {
      "text/plain": [
       "[0, 0, 0, 0, 7]"
      ]
     },
     "execution_count": 33,
     "metadata": {},
     "output_type": "execute_result"
    }
   ],
   "source": [
    "test[:5]"
   ]
  },
  {
   "cell_type": "code",
   "execution_count": 34,
   "metadata": {},
   "outputs": [
    {
     "name": "stdout",
     "output_type": "stream",
     "text": [
      "Accuracy is: 12.778827977315691\n"
     ]
    }
   ],
   "source": [
    "a = accuracy_score(pred,test)\n",
    "print('Accuracy is:', a*100)"
   ]
  },
  {
   "cell_type": "code",
   "execution_count": 35,
   "metadata": {},
   "outputs": [
    {
     "name": "stdout",
     "output_type": "stream",
     "text": [
      "        Same Dif\n",
      "correct 203 135\n",
      "wrong   1736 571\n",
      "Table is right!\n"
     ]
    }
   ],
   "source": [
    "# true = y_test\n",
    "# pred = y_pred\n",
    "# last_value = X_bored_lastarray\n",
    "same_correct = 0\n",
    "same_wrong = 0\n",
    "dif_correct = 0\n",
    "dif_wrong = 0\n",
    "\n",
    "X_test_bored = X_test_onlylastmood['anxious_last'].values\n",
    "for i in range(len(pred)):\n",
    "    if (test[i] == X_test_bored[i]) and (test[i] == pred[i]):\n",
    "        same_correct += 1\n",
    "    if (test[i] == X_test_bored[i]) and (test[i] != pred[i]):\n",
    "        same_wrong += 1\n",
    "    if (test[i] != X_test_bored[i]) and (test[i] == pred[i]):\n",
    "        dif_correct += 1\n",
    "    if (test[i] != X_test_bored[i]) and (test[i] != pred[i]):\n",
    "        dif_wrong += 1   \n",
    "\n",
    "print(\"       \", \"Same\", \"Dif\")\n",
    "print(\"correct\", same_correct, dif_correct)\n",
    "print(\"wrong  \", same_wrong, dif_wrong)\n",
    "\n",
    "#Check if table is similar to accuracy\n",
    "if (same_correct+dif_correct) / (same_correct+dif_correct+same_wrong+dif_wrong) == a:\n",
    "    print(\"Table is right!\")\n",
    "else:\n",
    "    print(\"Table is wrong\")"
   ]
  },
  {
   "cell_type": "code",
   "execution_count": 36,
   "metadata": {},
   "outputs": [
    {
     "name": "stdout",
     "output_type": "stream",
     "text": [
      "Predicted valxues:  Counter({5: 1447, 7: 905, 4: 274, 0: 19})\n",
      "True values:  Counter({0: 1438, 4: 513, 5: 370, 7: 212, 9: 90, 10: 22})\n",
      "Previous mood: Counter({0.0: 1418, 4.0: 523, 5.0: 382, 7.0: 222, 9.0: 84, 10.0: 16})\n"
     ]
    }
   ],
   "source": [
    "from collections import Counter\n",
    "print(\"Predicted valxues: \", Counter(pred))\n",
    "print(\"True values: \", Counter(test))\n",
    "print(\"Previous mood:\", Counter(X_test_bored))"
   ]
  },
  {
   "cell_type": "code",
   "execution_count": 39,
   "metadata": {},
   "outputs": [
    {
     "name": "stdout",
     "output_type": "stream",
     "text": [
      "Total length:  2645\n",
      "Same Correct 0 guesses is:  13\n",
      "Same Wrong 0 guesses is:  1235\n",
      "Dif Correct 0 guesses is:  0\n",
      "Dif Wrong 0 guesses is:  190\n",
      "\n",
      "Same Correct 1 guesses is:  32\n",
      "Same Wrong 1 guesses is:  287\n",
      "Dif Correct 1 guesses is:  22\n",
      "Dif Wrong 1 guesses is:  172\n",
      "\n",
      "Same Correct 2 guesses is:  110\n",
      "Same Wrong 2 guesses is:  103\n",
      "Dif Correct 2 guesses is:  83\n",
      "Dif Wrong 2 guesses is:  74\n",
      "\n",
      "Same Correct 3 guesses is:  48\n",
      "Same Wrong 3 guesses is:  70\n",
      "Dif Correct 3 guesses is:  30\n",
      "Dif Wrong 3 guesses is:  64\n",
      "\n",
      "Same Correct 4 guesses is:  0\n",
      "Same Wrong 4 guesses is:  35\n",
      "Dif Correct 4 guesses is:  0\n",
      "Dif Wrong 4 guesses is:  55\n",
      "\n",
      "Same Correct 5 guesses is:  0\n",
      "Same Wrong 5 guesses is:  6\n",
      "Dif Correct 5 guesses is:  0\n",
      "Dif Wrong 5 guesses is:  16\n"
     ]
    }
   ],
   "source": [
    "same_correct_0, same_wrong_0, same_correct_1, same_wrong_1, same_correct_2, same_wrong_2, same_correct_3, same_wrong_3, same_correct_4, same_wrong_4, same_correct_5, same_wrong_5 = (0, 0, 0, 0, 0, 0, 0, 0, 0, 0, 0, 0)\n",
    "dif_correct_0, dif_wrong_0, dif_correct_1, dif_wrong_1, dif_correct_2, dif_wrong_2, dif_correct_3, dif_wrong_3, dif_correct_4, dif_wrong_4, dif_correct_5, dif_wrong_5 = (0, 0, 0, 0, 0, 0, 0, 0, 0, 0, 0, 0)\n",
    "\n",
    "for i in range(len(pred)):\n",
    "    if test[i] == 0 and pred[i] == 0:\n",
    "        if test[i] == X_test_bored[i]:\n",
    "            same_correct_0 += 1\n",
    "        if test[i] != X_test_bored[i]:\n",
    "            dif_correct_0 += 1\n",
    "    if test[i] == 0 and pred[i] != 0:\n",
    "        if test[i] == X_test_bored[i]:\n",
    "            same_wrong_0 += 1\n",
    "        if test[i] != X_test_bored[i]:\n",
    "            dif_wrong_0 += 1\n",
    "\n",
    "    if test[i] == 4 and pred[i] == 4:\n",
    "        if test[i] == X_test_bored[i]:\n",
    "            same_correct_1 += 1\n",
    "        if test[i] != X_test_bored[i]:\n",
    "            dif_correct_1 += 1\n",
    "    if test[i] == 4 and pred[i] != 4:\n",
    "        if test[i] == X_test_bored[i]:\n",
    "            same_wrong_1 += 1\n",
    "        if test[i] != X_test_bored[i]:\n",
    "            dif_wrong_1 += 1\n",
    "        \n",
    "    if test[i] == 5 and pred[i] == 5:\n",
    "        if test[i] == X_test_bored[i]:\n",
    "            same_correct_2 += 1\n",
    "        if test[i] != X_test_bored[i]:\n",
    "            dif_correct_2 += 1\n",
    "    if test[i] == 5 and pred[i] != 5:\n",
    "        if test[i] == X_test_bored[i]:\n",
    "            same_wrong_2 += 1\n",
    "        if test[i] != X_test_bored[i]:\n",
    "            dif_wrong_2 += 1\n",
    "    \n",
    "    if test[i] == 7 and pred[i] == 7:\n",
    "        if test[i] == X_test_bored[i]:\n",
    "            same_correct_3 += 1\n",
    "        if test[i] != X_test_bored[i]:\n",
    "            dif_correct_3 += 1\n",
    "    if test[i] == 7 and pred[i] != 7:\n",
    "        if test[i] == X_test_bored[i]:\n",
    "            same_wrong_3 += 1\n",
    "        if test[i] != X_test_bored[i]:\n",
    "            dif_wrong_3 += 1\n",
    "        \n",
    "    if test[i] == 9 and pred[i] == 9:\n",
    "        if test[i] == X_test_bored[i]:\n",
    "            same_correct_4 += 1\n",
    "        if test[i] != X_test_bored[i]:\n",
    "            dif_correct_4 += 1\n",
    "    if test[i] == 9 and pred[i] != 9:\n",
    "        if test[i] == X_test_bored[i]:\n",
    "            same_wrong_4 += 1\n",
    "        if test[i] != X_test_bored[i]:\n",
    "            dif_wrong_4 += 1\n",
    "    \n",
    "    if test[i] == 10 and pred[i] == 10:\n",
    "        if test[i] == X_test_bored[i]:\n",
    "            same_correct_5 += 1\n",
    "        if test[i] != X_test_bored[i]:\n",
    "            dif_correct_5 += 1\n",
    "    if test[i] == 10 and pred[i] != 10:\n",
    "        if test[i] == X_test_bored[i]:\n",
    "            same_wrong_5 += 1\n",
    "        if test[i] != X_test_bored[i]:\n",
    "            dif_wrong_5 += 1\n",
    "\n",
    "print(\"Total length: \", len(X_test_bored))\n",
    "\n",
    "print(\"Same Correct 0 guesses is: \", same_correct_0)\n",
    "print(\"Same Wrong 0 guesses is: \", same_wrong_0)\n",
    "print(\"Dif Correct 0 guesses is: \", dif_correct_0)\n",
    "print(\"Dif Wrong 0 guesses is: \", dif_wrong_0)\n",
    "print('')\n",
    "print(\"Same Correct 1 guesses is: \", same_correct_1)\n",
    "print(\"Same Wrong 1 guesses is: \", same_wrong_1)\n",
    "print(\"Dif Correct 1 guesses is: \", dif_correct_1)\n",
    "print(\"Dif Wrong 1 guesses is: \", dif_wrong_1)\n",
    "print('')\n",
    "print(\"Same Correct 2 guesses is: \", same_correct_2)\n",
    "print(\"Same Wrong 2 guesses is: \", same_wrong_2)\n",
    "print(\"Dif Correct 2 guesses is: \", dif_correct_2)\n",
    "print(\"Dif Wrong 2 guesses is: \", dif_wrong_2)\n",
    "print('')\n",
    "print(\"Same Correct 3 guesses is: \", same_correct_3)\n",
    "print(\"Same Wrong 3 guesses is: \", same_wrong_3)\n",
    "print(\"Dif Correct 3 guesses is: \", dif_correct_3)\n",
    "print(\"Dif Wrong 3 guesses is: \", dif_wrong_3)\n",
    "print('')\n",
    "print(\"Same Correct 4 guesses is: \", same_correct_4)\n",
    "print(\"Same Wrong 4 guesses is: \", same_wrong_4)\n",
    "print(\"Dif Correct 4 guesses is: \", dif_correct_4)\n",
    "print(\"Dif Wrong 4 guesses is: \", dif_wrong_4)\n",
    "print('')\n",
    "print(\"Same Correct 5 guesses is: \", same_correct_5)\n",
    "print(\"Same Wrong 5 guesses is: \", same_wrong_5)\n",
    "print(\"Dif Correct 5 guesses is: \", dif_correct_5)\n",
    "print(\"Dif Wrong 5 guesses is: \", dif_wrong_5)"
   ]
  },
  {
   "cell_type": "code",
   "execution_count": 41,
   "metadata": {},
   "outputs": [],
   "source": [
    "mae_0, mae_1, mae_2, mae_3, mae_4, mae_5 = (0,0,0,0,0,0)\n",
    "\n",
    "for i in range(len(pred)):\n",
    "    if test[i] == 0 and pred[i] != 0:\n",
    "        mae_0 += (abs(test[i]-pred[i]))\n",
    "    if test[i] == 4 and pred[i] != 4:\n",
    "        mae_1 += (abs(test[i]-pred[i]))\n",
    "    if test[i] == 5 and pred[i] != 5:\n",
    "        mae_2 += (abs(test[i]-pred[i]))\n",
    "    if test[i] == 7 and pred[i] != 7:\n",
    "        mae_3 += (abs(test[i]-pred[i]))\n",
    "    if test[i] == 9 and pred[i] != 9:\n",
    "        mae_4 += (abs(test[i]-pred[i]))\n",
    "    if test[i] == 10 and pred[i] != 10:\n",
    "        mae_5 += (abs(test[i]-pred[i]))\n",
    "\n",
    "cnt_0, cnt_1, cnt_2, cnt_3, cnt_4, cnt_5 = (0,0,0,0,0,0)\n",
    "for z in range(len(test)):\n",
    "    if test[z] == 0:\n",
    "        cnt_0 += 1\n",
    "    if test[z] == 4:\n",
    "        cnt_1 += 1\n",
    "    if test[z] == 5:\n",
    "        cnt_2 += 1\n",
    "    if test[z] == 7:\n",
    "        cnt_3 += 1\n",
    "    if test[z] == 9:\n",
    "        cnt_4 += 1\n",
    "    if test[z] == 10:\n",
    "        cnt_5 += 1\n",
    "\n",
    "mae_macroaverage = ((mae_0/cnt_0) + (mae_1/cnt_1) + (mae_2/cnt_2) + (mae_3/cnt_3) + (mae_4/cnt_4) + (mae_5/cnt_5)) / 6"
   ]
  },
  {
   "cell_type": "code",
   "execution_count": 42,
   "metadata": {},
   "outputs": [
    {
     "name": "stdout",
     "output_type": "stream",
     "text": [
      "Macro-averaged Mean Absolute error is:  2.9076\n",
      "Macro-averaged F1-score is:  0.0772\n"
     ]
    },
    {
     "name": "stderr",
     "output_type": "stream",
     "text": [
      "/Users/Stijn/Library/Python/3.7/lib/python/site-packages/sklearn/metrics/classification.py:1437: UndefinedMetricWarning: F-score is ill-defined and being set to 0.0 in labels with no predicted samples.\n",
      "  'precision', 'predicted', average, warn_for)\n"
     ]
    }
   ],
   "source": [
    "print(\"Macro-averaged Mean Absolute error is: \", round(mae_macroaverage, 4))\n",
    "print(\"Macro-averaged F1-score is: \", round(f1_score(test, pred, average='weighted'), 4))"
   ]
  },
  {
   "cell_type": "code",
   "execution_count": null,
   "metadata": {},
   "outputs": [],
   "source": []
  }
 ],
 "metadata": {
  "kernelspec": {
   "display_name": "Python 3",
   "language": "python",
   "name": "python3"
  },
  "language_info": {
   "codemirror_mode": {
    "name": "ipython",
    "version": 3
   },
   "file_extension": ".py",
   "mimetype": "text/x-python",
   "name": "python",
   "nbconvert_exporter": "python",
   "pygments_lexer": "ipython3",
   "version": "3.7.4"
  }
 },
 "nbformat": 4,
 "nbformat_minor": 2
}
