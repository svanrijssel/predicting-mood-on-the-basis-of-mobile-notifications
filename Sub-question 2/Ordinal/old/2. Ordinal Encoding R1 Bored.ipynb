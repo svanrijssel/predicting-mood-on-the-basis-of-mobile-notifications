{
 "cells": [
  {
   "cell_type": "code",
   "execution_count": 1,
   "metadata": {},
   "outputs": [
    {
     "name": "stderr",
     "output_type": "stream",
     "text": [
      "Using TensorFlow backend.\n"
     ]
    }
   ],
   "source": [
    "# Import packages\n",
    "import pandas as pd\n",
    "import numpy as np\n",
    "import datetime\n",
    "import category_encoders as ce\n",
    "from sklearn.preprocessing import LabelEncoder, MinMaxScaler, RobustScaler, OneHotEncoder, StandardScaler\n",
    "from sklearn.model_selection import train_test_split\n",
    "from sklearn.metrics import accuracy_score, mean_squared_error, cohen_kappa_score, f1_score\n",
    "from sklearn.utils import shuffle\n",
    "from imblearn.over_sampling import SMOTE, SMOTENC\n",
    "import matplotlib.pyplot as plt\n",
    "from statsmodels.graphics.mosaicplot import mosaic\n",
    "from sklearn.decomposition import PCA\n",
    "from scipy import stats\n",
    "from math import sqrt\n",
    "\n",
    "\n",
    "\n",
    "import keras\n",
    "from keras.models import Sequential\n",
    "from keras.layers import Dense, Dropout, GaussianNoise\n",
    "from keras.optimizers import SGD\n",
    "from keras import regularizers"
   ]
  },
  {
   "cell_type": "code",
   "execution_count": 2,
   "metadata": {},
   "outputs": [],
   "source": [
    "path = \"/Users/Stijn/Documents/Master Data Science and Society/Block 3/thesis/code/thesis_Code/\"\n",
    "mood = pd.read_csv(path+'mood_imputed_median.csv', sep = ',', index_col=0)\n",
    "mood['bored_last'] = mood.groupby('user_id')['bored'].shift()\n",
    "mood.loc[(pd.isnull(mood.bored_last)), 'bored_last'] = mood['bored']\n",
    "mood_bored = mood.drop([\"anxious\", \"content\", \"cheerful\", \"user_id\", \"response_time\"], axis=1)"
   ]
  },
  {
   "cell_type": "code",
   "execution_count": 3,
   "metadata": {},
   "outputs": [
    {
     "data": {
      "text/html": [
       "<div>\n",
       "<style scoped>\n",
       "    .dataframe tbody tr th:only-of-type {\n",
       "        vertical-align: middle;\n",
       "    }\n",
       "\n",
       "    .dataframe tbody tr th {\n",
       "        vertical-align: top;\n",
       "    }\n",
       "\n",
       "    .dataframe thead th {\n",
       "        text-align: right;\n",
       "    }\n",
       "</style>\n",
       "<table border=\"1\" class=\"dataframe\">\n",
       "  <thead>\n",
       "    <tr style=\"text-align: right;\">\n",
       "      <th></th>\n",
       "      <th>bored</th>\n",
       "      <th>day_time_window</th>\n",
       "      <th>average_TimeUse</th>\n",
       "      <th>bulk</th>\n",
       "      <th>messaging</th>\n",
       "      <th>socialnetworking</th>\n",
       "      <th>otherapp</th>\n",
       "      <th>bored_last</th>\n",
       "    </tr>\n",
       "  </thead>\n",
       "  <tbody>\n",
       "    <tr>\n",
       "      <th>4825</th>\n",
       "      <td>3.0</td>\n",
       "      <td>3.0</td>\n",
       "      <td>0.673000</td>\n",
       "      <td>0</td>\n",
       "      <td>0</td>\n",
       "      <td>0</td>\n",
       "      <td>1</td>\n",
       "      <td>3.0</td>\n",
       "    </tr>\n",
       "    <tr>\n",
       "      <th>4826</th>\n",
       "      <td>3.0</td>\n",
       "      <td>4.0</td>\n",
       "      <td>64.314667</td>\n",
       "      <td>0</td>\n",
       "      <td>1</td>\n",
       "      <td>0</td>\n",
       "      <td>2</td>\n",
       "      <td>3.0</td>\n",
       "    </tr>\n",
       "    <tr>\n",
       "      <th>245</th>\n",
       "      <td>3.0</td>\n",
       "      <td>1.0</td>\n",
       "      <td>20.590500</td>\n",
       "      <td>0</td>\n",
       "      <td>0</td>\n",
       "      <td>0</td>\n",
       "      <td>2</td>\n",
       "      <td>3.0</td>\n",
       "    </tr>\n",
       "    <tr>\n",
       "      <th>4827</th>\n",
       "      <td>3.0</td>\n",
       "      <td>2.0</td>\n",
       "      <td>0.000000</td>\n",
       "      <td>0</td>\n",
       "      <td>0</td>\n",
       "      <td>0</td>\n",
       "      <td>0</td>\n",
       "      <td>3.0</td>\n",
       "    </tr>\n",
       "    <tr>\n",
       "      <th>4828</th>\n",
       "      <td>3.0</td>\n",
       "      <td>3.0</td>\n",
       "      <td>53.957200</td>\n",
       "      <td>0</td>\n",
       "      <td>3</td>\n",
       "      <td>0</td>\n",
       "      <td>2</td>\n",
       "      <td>3.0</td>\n",
       "    </tr>\n",
       "  </tbody>\n",
       "</table>\n",
       "</div>"
      ],
      "text/plain": [
       "      bored  day_time_window  average_TimeUse  bulk  messaging  \\\n",
       "4825    3.0              3.0         0.673000     0          0   \n",
       "4826    3.0              4.0        64.314667     0          1   \n",
       "245     3.0              1.0        20.590500     0          0   \n",
       "4827    3.0              2.0         0.000000     0          0   \n",
       "4828    3.0              3.0        53.957200     0          3   \n",
       "\n",
       "      socialnetworking  otherapp  bored_last  \n",
       "4825                 0         1         3.0  \n",
       "4826                 0         2         3.0  \n",
       "245                  0         2         3.0  \n",
       "4827                 0         0         3.0  \n",
       "4828                 0         2         3.0  "
      ]
     },
     "execution_count": 3,
     "metadata": {},
     "output_type": "execute_result"
    }
   ],
   "source": [
    "mood_bored[:5]"
   ]
  },
  {
   "cell_type": "code",
   "execution_count": 4,
   "metadata": {},
   "outputs": [],
   "source": [
    "# Normalize predictors\n",
    "mood_normz = mood_bored.copy()\n",
    "features_to_normalize = ['day_time_window', 'average_TimeUse', 'messaging', 'socialnetworking', 'otherapp']\n",
    "mood_normz[features_to_normalize] = mood_normz[features_to_normalize].apply(lambda x:(x-x.min()) / (x.max()-x.min()))"
   ]
  },
  {
   "cell_type": "code",
   "execution_count": 5,
   "metadata": {},
   "outputs": [],
   "source": [
    "X = mood_normz.iloc[:,1:]\n",
    "y = mood_normz.iloc[:, 0:1]\n",
    "y = y.astype(int)"
   ]
  },
  {
   "cell_type": "code",
   "execution_count": 6,
   "metadata": {},
   "outputs": [],
   "source": [
    "X_train, X_test, y_train, y_test = train_test_split(X, y, test_size=0.2, random_state=2)"
   ]
  },
  {
   "cell_type": "code",
   "execution_count": 7,
   "metadata": {},
   "outputs": [
    {
     "data": {
      "text/html": [
       "<div>\n",
       "<style scoped>\n",
       "    .dataframe tbody tr th:only-of-type {\n",
       "        vertical-align: middle;\n",
       "    }\n",
       "\n",
       "    .dataframe tbody tr th {\n",
       "        vertical-align: top;\n",
       "    }\n",
       "\n",
       "    .dataframe thead th {\n",
       "        text-align: right;\n",
       "    }\n",
       "</style>\n",
       "<table border=\"1\" class=\"dataframe\">\n",
       "  <thead>\n",
       "    <tr style=\"text-align: right;\">\n",
       "      <th></th>\n",
       "      <th>day_time_window</th>\n",
       "      <th>average_TimeUse</th>\n",
       "      <th>bulk</th>\n",
       "      <th>messaging</th>\n",
       "      <th>socialnetworking</th>\n",
       "      <th>otherapp</th>\n",
       "      <th>bored_last</th>\n",
       "    </tr>\n",
       "  </thead>\n",
       "  <tbody>\n",
       "    <tr>\n",
       "      <th>10315</th>\n",
       "      <td>1.000000</td>\n",
       "      <td>0.000000</td>\n",
       "      <td>0</td>\n",
       "      <td>0.000000</td>\n",
       "      <td>0.00</td>\n",
       "      <td>0.0</td>\n",
       "      <td>3.0</td>\n",
       "    </tr>\n",
       "    <tr>\n",
       "      <th>15108</th>\n",
       "      <td>1.000000</td>\n",
       "      <td>0.024319</td>\n",
       "      <td>0</td>\n",
       "      <td>0.009524</td>\n",
       "      <td>0.02</td>\n",
       "      <td>0.0</td>\n",
       "      <td>0.0</td>\n",
       "    </tr>\n",
       "    <tr>\n",
       "      <th>1524</th>\n",
       "      <td>0.000000</td>\n",
       "      <td>0.000000</td>\n",
       "      <td>0</td>\n",
       "      <td>0.000000</td>\n",
       "      <td>0.00</td>\n",
       "      <td>0.0</td>\n",
       "      <td>4.0</td>\n",
       "    </tr>\n",
       "    <tr>\n",
       "      <th>5438</th>\n",
       "      <td>0.666667</td>\n",
       "      <td>0.000000</td>\n",
       "      <td>0</td>\n",
       "      <td>0.000000</td>\n",
       "      <td>0.00</td>\n",
       "      <td>0.0</td>\n",
       "      <td>2.0</td>\n",
       "    </tr>\n",
       "    <tr>\n",
       "      <th>992</th>\n",
       "      <td>0.000000</td>\n",
       "      <td>0.000000</td>\n",
       "      <td>0</td>\n",
       "      <td>0.000000</td>\n",
       "      <td>0.00</td>\n",
       "      <td>0.0</td>\n",
       "      <td>3.0</td>\n",
       "    </tr>\n",
       "  </tbody>\n",
       "</table>\n",
       "</div>"
      ],
      "text/plain": [
       "       day_time_window  average_TimeUse  bulk  messaging  socialnetworking  \\\n",
       "10315         1.000000         0.000000     0   0.000000              0.00   \n",
       "15108         1.000000         0.024319     0   0.009524              0.02   \n",
       "1524          0.000000         0.000000     0   0.000000              0.00   \n",
       "5438          0.666667         0.000000     0   0.000000              0.00   \n",
       "992           0.000000         0.000000     0   0.000000              0.00   \n",
       "\n",
       "       otherapp  bored_last  \n",
       "10315       0.0         3.0  \n",
       "15108       0.0         0.0  \n",
       "1524        0.0         4.0  \n",
       "5438        0.0         2.0  \n",
       "992         0.0         3.0  "
      ]
     },
     "execution_count": 7,
     "metadata": {},
     "output_type": "execute_result"
    }
   ],
   "source": [
    "X_train[:5]"
   ]
  },
  {
   "cell_type": "code",
   "execution_count": 8,
   "metadata": {},
   "outputs": [
    {
     "name": "stdout",
     "output_type": "stream",
     "text": [
      "Before OverSampling, counts of labels: 0    5139\n",
      "1    1927\n",
      "2    1840\n",
      "3    1184\n",
      "4     403\n",
      "5      83\n",
      "Name: bored, dtype: int64\n",
      "After OverSampling, counts of label '0': 5139\n",
      "After OverSampling, counts of label '1': 5139\n",
      "After OverSampling, counts of label '2': 5139\n",
      "After OverSampling, counts of label '3': 5139\n",
      "After OverSampling, counts of label '4': 5139\n",
      "After OverSampling, counts of label '5': 5139\n"
     ]
    }
   ],
   "source": [
    "# Oversampling unbalanced target\n",
    "print(\"Before OverSampling, counts of labels: {}\".format(y_train['bored'].value_counts()))\n",
    "  \n",
    "sm = SMOTENC(categorical_features=[0, 2, 6], random_state = 2) \n",
    "X_train_res, y_train_res = sm.fit_sample(X_train, y_train['bored'].ravel()) \n",
    "\n",
    "print(\"After OverSampling, counts of label '0': {}\".format(sum(y_train_res == 0))) \n",
    "print(\"After OverSampling, counts of label '1': {}\".format(sum(y_train_res == 1))) \n",
    "print(\"After OverSampling, counts of label '2': {}\".format(sum(y_train_res == 2))) \n",
    "print(\"After OverSampling, counts of label '3': {}\".format(sum(y_train_res == 3))) \n",
    "print(\"After OverSampling, counts of label '4': {}\".format(sum(y_train_res == 4))) \n",
    "print(\"After OverSampling, counts of label '5': {}\".format(sum(y_train_res == 5))) "
   ]
  },
  {
   "cell_type": "code",
   "execution_count": 9,
   "metadata": {},
   "outputs": [],
   "source": [
    "X_train = pd.DataFrame(data=X_train_res)\n",
    "y_train = pd.DataFrame(data=y_train_res)"
   ]
  },
  {
   "cell_type": "code",
   "execution_count": 10,
   "metadata": {},
   "outputs": [],
   "source": [
    "# Shuffle both train and test set to cancel patterns\n",
    "X_train, y_train = shuffle(X_train, y_train)\n",
    "X_test, y_test = shuffle(X_test, y_test)"
   ]
  },
  {
   "cell_type": "code",
   "execution_count": 11,
   "metadata": {},
   "outputs": [],
   "source": [
    "X_train_nomood = X_train.iloc[:,:-1]\n",
    "X_train_onlylastmood = X_train.iloc[:,-1:]\n",
    "X_test_nomood = X_test.iloc[:,:-1]\n",
    "X_test_onlylastmood = X_test.iloc[:,-1:]"
   ]
  },
  {
   "cell_type": "code",
   "execution_count": 12,
   "metadata": {},
   "outputs": [
    {
     "name": "stdout",
     "output_type": "stream",
     "text": [
      "Model: \"sequential_1\"\n",
      "_________________________________________________________________\n",
      "Layer (type)                 Output Shape              Param #   \n",
      "=================================================================\n",
      "dense_1 (Dense)              (None, 24)                168       \n",
      "_________________________________________________________________\n",
      "dense_2 (Dense)              (None, 12)                300       \n",
      "_________________________________________________________________\n",
      "dense_3 (Dense)              (None, 1)                 13        \n",
      "=================================================================\n",
      "Total params: 481\n",
      "Trainable params: 481\n",
      "Non-trainable params: 0\n",
      "_________________________________________________________________\n"
     ]
    }
   ],
   "source": [
    "# Define Keras model\n",
    "model = Sequential()\n",
    "model.add(Dense(24, input_dim=6, activation='relu'))\n",
    "model.add(Dense(12, activation='relu'))\n",
    "model.add(Dense(1, activation='linear'))\n",
    "\n",
    "model.compile(loss='mean_squared_error', optimizer='adam', metrics=['accuracy'])\n",
    "model.summary()"
   ]
  },
  {
   "cell_type": "code",
   "execution_count": 13,
   "metadata": {},
   "outputs": [
    {
     "name": "stdout",
     "output_type": "stream",
     "text": [
      "Train on 24667 samples, validate on 6167 samples\n",
      "Epoch 1/100\n",
      "24667/24667 [==============================] - 0s 10us/step - loss: 7.5117 - accuracy: 0.1677 - val_loss: 6.2227 - val_accuracy: 0.1704\n",
      "Epoch 2/100\n",
      "24667/24667 [==============================] - 0s 5us/step - loss: 4.8557 - accuracy: 0.1672 - val_loss: 3.5812 - val_accuracy: 0.1711\n",
      "Epoch 3/100\n",
      "24667/24667 [==============================] - 0s 5us/step - loss: 3.0827 - accuracy: 0.1712 - val_loss: 2.9866 - val_accuracy: 0.1780\n",
      "Epoch 4/100\n",
      "24667/24667 [==============================] - 0s 8us/step - loss: 2.8757 - accuracy: 0.1733 - val_loss: 2.9199 - val_accuracy: 0.1756\n",
      "Epoch 5/100\n",
      "24667/24667 [==============================] - 0s 7us/step - loss: 2.8346 - accuracy: 0.1721 - val_loss: 2.8925 - val_accuracy: 0.1732\n",
      "Epoch 6/100\n",
      "24667/24667 [==============================] - 0s 7us/step - loss: 2.8178 - accuracy: 0.1715 - val_loss: 2.8802 - val_accuracy: 0.1737\n",
      "Epoch 7/100\n",
      "24667/24667 [==============================] - 0s 5us/step - loss: 2.8095 - accuracy: 0.1716 - val_loss: 2.8732 - val_accuracy: 0.1738\n",
      "Epoch 8/100\n",
      "24667/24667 [==============================] - 0s 5us/step - loss: 2.8050 - accuracy: 0.1727 - val_loss: 2.8705 - val_accuracy: 0.1745\n",
      "Epoch 9/100\n",
      "24667/24667 [==============================] - 0s 5us/step - loss: 2.8000 - accuracy: 0.1727 - val_loss: 2.8646 - val_accuracy: 0.1746\n",
      "Epoch 10/100\n",
      "24667/24667 [==============================] - 0s 6us/step - loss: 2.7974 - accuracy: 0.1727 - val_loss: 2.8591 - val_accuracy: 0.1746\n",
      "Epoch 11/100\n",
      "24667/24667 [==============================] - 0s 5us/step - loss: 2.7914 - accuracy: 0.1727 - val_loss: 2.8530 - val_accuracy: 0.1742\n",
      "Epoch 12/100\n",
      "24667/24667 [==============================] - 0s 11us/step - loss: 2.7879 - accuracy: 0.1724 - val_loss: 2.8492 - val_accuracy: 0.1740\n",
      "Epoch 13/100\n",
      "24667/24667 [==============================] - 0s 6us/step - loss: 2.7849 - accuracy: 0.1726 - val_loss: 2.8447 - val_accuracy: 0.1751\n",
      "Epoch 14/100\n",
      "24667/24667 [==============================] - 0s 4us/step - loss: 2.7826 - accuracy: 0.1732 - val_loss: 2.8418 - val_accuracy: 0.1759\n",
      "Epoch 15/100\n",
      "24667/24667 [==============================] - 0s 6us/step - loss: 2.7788 - accuracy: 0.1731 - val_loss: 2.8410 - val_accuracy: 0.1748\n",
      "Epoch 16/100\n",
      "24667/24667 [==============================] - 0s 6us/step - loss: 2.7770 - accuracy: 0.1728 - val_loss: 2.8355 - val_accuracy: 0.1771\n",
      "Epoch 17/100\n",
      "24667/24667 [==============================] - 0s 5us/step - loss: 2.7740 - accuracy: 0.1729 - val_loss: 2.8375 - val_accuracy: 0.1750\n",
      "Epoch 18/100\n",
      "24667/24667 [==============================] - 0s 5us/step - loss: 2.7746 - accuracy: 0.1727 - val_loss: 2.8312 - val_accuracy: 0.1774\n",
      "Epoch 19/100\n",
      "24667/24667 [==============================] - 0s 6us/step - loss: 2.7712 - accuracy: 0.1737 - val_loss: 2.8289 - val_accuracy: 0.1779\n",
      "Epoch 20/100\n",
      "24667/24667 [==============================] - 0s 4us/step - loss: 2.7701 - accuracy: 0.1732 - val_loss: 2.8268 - val_accuracy: 0.1782\n",
      "Epoch 21/100\n",
      "24667/24667 [==============================] - 0s 6us/step - loss: 2.7677 - accuracy: 0.1731 - val_loss: 2.8249 - val_accuracy: 0.1792\n",
      "Epoch 22/100\n",
      "24667/24667 [==============================] - 0s 5us/step - loss: 2.7668 - accuracy: 0.1728 - val_loss: 2.8234 - val_accuracy: 0.1784\n",
      "Epoch 23/100\n",
      "24667/24667 [==============================] - 0s 5us/step - loss: 2.7658 - accuracy: 0.1733 - val_loss: 2.8255 - val_accuracy: 0.1784\n",
      "Epoch 24/100\n",
      "24667/24667 [==============================] - 0s 4us/step - loss: 2.7649 - accuracy: 0.1744 - val_loss: 2.8198 - val_accuracy: 0.1784\n",
      "Epoch 25/100\n",
      "24667/24667 [==============================] - 0s 4us/step - loss: 2.7630 - accuracy: 0.1729 - val_loss: 2.8192 - val_accuracy: 0.1789\n",
      "Epoch 26/100\n",
      "24667/24667 [==============================] - 0s 4us/step - loss: 2.7618 - accuracy: 0.1729 - val_loss: 2.8167 - val_accuracy: 0.1792\n",
      "Epoch 27/100\n",
      "24667/24667 [==============================] - 0s 4us/step - loss: 2.7617 - accuracy: 0.1723 - val_loss: 2.8164 - val_accuracy: 0.1798\n",
      "Epoch 28/100\n",
      "24667/24667 [==============================] - 0s 4us/step - loss: 2.7592 - accuracy: 0.1733 - val_loss: 2.8187 - val_accuracy: 0.1795\n",
      "Epoch 29/100\n",
      "24667/24667 [==============================] - 0s 4us/step - loss: 2.7588 - accuracy: 0.1750 - val_loss: 2.8126 - val_accuracy: 0.1798\n",
      "Epoch 30/100\n",
      "24667/24667 [==============================] - 0s 5us/step - loss: 2.7587 - accuracy: 0.1737 - val_loss: 2.8138 - val_accuracy: 0.1802\n",
      "Epoch 31/100\n",
      "24667/24667 [==============================] - 0s 5us/step - loss: 2.7571 - accuracy: 0.1734 - val_loss: 2.8109 - val_accuracy: 0.1810\n",
      "Epoch 32/100\n",
      "24667/24667 [==============================] - 0s 5us/step - loss: 2.7565 - accuracy: 0.1733 - val_loss: 2.8088 - val_accuracy: 0.1824\n",
      "Epoch 33/100\n",
      "24667/24667 [==============================] - 0s 5us/step - loss: 2.7543 - accuracy: 0.1741 - val_loss: 2.8165 - val_accuracy: 0.1756\n",
      "Epoch 34/100\n",
      "24667/24667 [==============================] - 0s 6us/step - loss: 2.7575 - accuracy: 0.1752 - val_loss: 2.8070 - val_accuracy: 0.1814\n",
      "Epoch 35/100\n",
      "24667/24667 [==============================] - 0s 6us/step - loss: 2.7535 - accuracy: 0.1732 - val_loss: 2.8058 - val_accuracy: 0.1816\n",
      "Epoch 36/100\n",
      "24667/24667 [==============================] - 0s 4us/step - loss: 2.7530 - accuracy: 0.1741 - val_loss: 2.8051 - val_accuracy: 0.1827\n",
      "Epoch 37/100\n",
      "24667/24667 [==============================] - 0s 4us/step - loss: 2.7522 - accuracy: 0.1746 - val_loss: 2.8059 - val_accuracy: 0.1832\n",
      "Epoch 38/100\n",
      "24667/24667 [==============================] - 0s 4us/step - loss: 2.7518 - accuracy: 0.1743 - val_loss: 2.8030 - val_accuracy: 0.1832\n",
      "Epoch 39/100\n",
      "24667/24667 [==============================] - 0s 4us/step - loss: 2.7507 - accuracy: 0.1746 - val_loss: 2.8023 - val_accuracy: 0.1842\n",
      "Epoch 40/100\n",
      "24667/24667 [==============================] - 0s 4us/step - loss: 2.7496 - accuracy: 0.1756 - val_loss: 2.8010 - val_accuracy: 0.1831\n",
      "Epoch 41/100\n",
      "24667/24667 [==============================] - 0s 4us/step - loss: 2.7492 - accuracy: 0.1750 - val_loss: 2.8004 - val_accuracy: 0.1845\n",
      "Epoch 42/100\n",
      "24667/24667 [==============================] - 0s 4us/step - loss: 2.7482 - accuracy: 0.1755 - val_loss: 2.8063 - val_accuracy: 0.1767\n",
      "Epoch 43/100\n",
      "24667/24667 [==============================] - 0s 4us/step - loss: 2.7478 - accuracy: 0.1750 - val_loss: 2.7990 - val_accuracy: 0.1849\n",
      "Epoch 44/100\n",
      "24667/24667 [==============================] - 0s 4us/step - loss: 2.7470 - accuracy: 0.1759 - val_loss: 2.7973 - val_accuracy: 0.1834\n",
      "Epoch 45/100\n",
      "24667/24667 [==============================] - 0s 4us/step - loss: 2.7473 - accuracy: 0.1769 - val_loss: 2.8006 - val_accuracy: 0.1800\n",
      "Epoch 46/100\n",
      "24667/24667 [==============================] - 0s 4us/step - loss: 2.7466 - accuracy: 0.1751 - val_loss: 2.7977 - val_accuracy: 0.1839\n",
      "Epoch 47/100\n",
      "24667/24667 [==============================] - 0s 4us/step - loss: 2.7466 - accuracy: 0.1761 - val_loss: 2.8002 - val_accuracy: 0.1827\n",
      "Epoch 48/100\n",
      "24667/24667 [==============================] - 0s 4us/step - loss: 2.7463 - accuracy: 0.1757 - val_loss: 2.7944 - val_accuracy: 0.1842\n",
      "Epoch 49/100\n",
      "24667/24667 [==============================] - 0s 4us/step - loss: 2.7455 - accuracy: 0.1761 - val_loss: 2.7939 - val_accuracy: 0.1842\n",
      "Epoch 50/100\n",
      "24667/24667 [==============================] - 0s 4us/step - loss: 2.7437 - accuracy: 0.1761 - val_loss: 2.7941 - val_accuracy: 0.1855\n",
      "Epoch 51/100\n",
      "24667/24667 [==============================] - 0s 4us/step - loss: 2.7425 - accuracy: 0.1762 - val_loss: 2.7972 - val_accuracy: 0.1803\n",
      "Epoch 52/100\n",
      "24667/24667 [==============================] - 0s 4us/step - loss: 2.7426 - accuracy: 0.1762 - val_loss: 2.7935 - val_accuracy: 0.1836\n",
      "Epoch 53/100\n",
      "24667/24667 [==============================] - 0s 4us/step - loss: 2.7432 - accuracy: 0.1751 - val_loss: 2.7917 - val_accuracy: 0.1839\n",
      "Epoch 54/100\n",
      "24667/24667 [==============================] - 0s 5us/step - loss: 2.7422 - accuracy: 0.1756 - val_loss: 2.7913 - val_accuracy: 0.1847\n",
      "Epoch 55/100\n",
      "24667/24667 [==============================] - 0s 4us/step - loss: 2.7405 - accuracy: 0.1766 - val_loss: 2.7899 - val_accuracy: 0.1840\n",
      "Epoch 56/100\n"
     ]
    },
    {
     "name": "stdout",
     "output_type": "stream",
     "text": [
      "24667/24667 [==============================] - 0s 4us/step - loss: 2.7412 - accuracy: 0.1764 - val_loss: 2.7890 - val_accuracy: 0.1840\n",
      "Epoch 57/100\n",
      "24667/24667 [==============================] - 0s 4us/step - loss: 2.7406 - accuracy: 0.1761 - val_loss: 2.7908 - val_accuracy: 0.1845\n",
      "Epoch 58/100\n",
      "24667/24667 [==============================] - 0s 4us/step - loss: 2.7385 - accuracy: 0.1757 - val_loss: 2.7940 - val_accuracy: 0.1808\n",
      "Epoch 59/100\n",
      "24667/24667 [==============================] - 0s 4us/step - loss: 2.7382 - accuracy: 0.1759 - val_loss: 2.7898 - val_accuracy: 0.1831\n",
      "Epoch 60/100\n",
      "24667/24667 [==============================] - 0s 4us/step - loss: 2.7380 - accuracy: 0.1757 - val_loss: 2.7876 - val_accuracy: 0.1849\n",
      "Epoch 61/100\n",
      "24667/24667 [==============================] - 0s 5us/step - loss: 2.7371 - accuracy: 0.1757 - val_loss: 2.7888 - val_accuracy: 0.1816\n",
      "Epoch 62/100\n",
      "24667/24667 [==============================] - 0s 4us/step - loss: 2.7368 - accuracy: 0.1769 - val_loss: 2.7867 - val_accuracy: 0.1839\n",
      "Epoch 63/100\n",
      "24667/24667 [==============================] - 0s 4us/step - loss: 2.7366 - accuracy: 0.1778 - val_loss: 2.7855 - val_accuracy: 0.1857\n",
      "Epoch 64/100\n",
      "24667/24667 [==============================] - 0s 5us/step - loss: 2.7381 - accuracy: 0.1781 - val_loss: 2.7857 - val_accuracy: 0.1842\n",
      "Epoch 65/100\n",
      "24667/24667 [==============================] - 0s 4us/step - loss: 2.7347 - accuracy: 0.1749 - val_loss: 2.7844 - val_accuracy: 0.1865\n",
      "Epoch 66/100\n",
      "24667/24667 [==============================] - 0s 4us/step - loss: 2.7337 - accuracy: 0.1763 - val_loss: 2.7839 - val_accuracy: 0.1850\n",
      "Epoch 67/100\n",
      "24667/24667 [==============================] - 0s 4us/step - loss: 2.7342 - accuracy: 0.1755 - val_loss: 2.7836 - val_accuracy: 0.1842\n",
      "Epoch 68/100\n",
      "24667/24667 [==============================] - 0s 8us/step - loss: 2.7329 - accuracy: 0.1771 - val_loss: 2.7861 - val_accuracy: 0.1821\n",
      "Epoch 69/100\n",
      "24667/24667 [==============================] - 0s 9us/step - loss: 2.7315 - accuracy: 0.1766 - val_loss: 2.7830 - val_accuracy: 0.1858\n",
      "Epoch 70/100\n",
      "24667/24667 [==============================] - 0s 4us/step - loss: 2.7312 - accuracy: 0.1753 - val_loss: 2.7831 - val_accuracy: 0.1853\n",
      "Epoch 71/100\n",
      "24667/24667 [==============================] - 0s 4us/step - loss: 2.7326 - accuracy: 0.1779 - val_loss: 2.7814 - val_accuracy: 0.1866\n",
      "Epoch 72/100\n",
      "24667/24667 [==============================] - 0s 5us/step - loss: 2.7310 - accuracy: 0.1776 - val_loss: 2.7816 - val_accuracy: 0.1862\n",
      "Epoch 73/100\n",
      "24667/24667 [==============================] - 0s 10us/step - loss: 2.7301 - accuracy: 0.1755 - val_loss: 2.7809 - val_accuracy: 0.1855\n",
      "Epoch 74/100\n",
      "24667/24667 [==============================] - 0s 13us/step - loss: 2.7310 - accuracy: 0.1757 - val_loss: 2.7811 - val_accuracy: 0.1826\n",
      "Epoch 75/100\n",
      "24667/24667 [==============================] - 0s 5us/step - loss: 2.7284 - accuracy: 0.1758 - val_loss: 2.7791 - val_accuracy: 0.1865\n",
      "Epoch 76/100\n",
      "24667/24667 [==============================] - 0s 4us/step - loss: 2.7278 - accuracy: 0.1760 - val_loss: 2.7787 - val_accuracy: 0.1871\n",
      "Epoch 77/100\n",
      "24667/24667 [==============================] - 0s 4us/step - loss: 2.7266 - accuracy: 0.1779 - val_loss: 2.7790 - val_accuracy: 0.1853\n",
      "Epoch 78/100\n",
      "24667/24667 [==============================] - 0s 10us/step - loss: 2.7262 - accuracy: 0.1763 - val_loss: 2.7770 - val_accuracy: 0.1876\n",
      "Epoch 79/100\n",
      "24667/24667 [==============================] - 0s 8us/step - loss: 2.7272 - accuracy: 0.1769 - val_loss: 2.7774 - val_accuracy: 0.1866\n",
      "Epoch 80/100\n",
      "24667/24667 [==============================] - 0s 5us/step - loss: 2.7258 - accuracy: 0.1758 - val_loss: 2.7819 - val_accuracy: 0.1821\n",
      "Epoch 81/100\n",
      "24667/24667 [==============================] - 0s 11us/step - loss: 2.7258 - accuracy: 0.1773 - val_loss: 2.7765 - val_accuracy: 0.1873\n",
      "Epoch 82/100\n",
      "24667/24667 [==============================] - 0s 10us/step - loss: 2.7272 - accuracy: 0.1763 - val_loss: 2.7756 - val_accuracy: 0.1881\n",
      "Epoch 83/100\n",
      "24667/24667 [==============================] - 0s 6us/step - loss: 2.7248 - accuracy: 0.1770 - val_loss: 2.7791 - val_accuracy: 0.1826\n",
      "Epoch 84/100\n",
      "24667/24667 [==============================] - 0s 5us/step - loss: 2.7273 - accuracy: 0.1778 - val_loss: 2.7845 - val_accuracy: 0.1811\n",
      "Epoch 85/100\n",
      "24667/24667 [==============================] - 0s 10us/step - loss: 2.7240 - accuracy: 0.1784 - val_loss: 2.7783 - val_accuracy: 0.1827\n",
      "Epoch 86/100\n",
      "24667/24667 [==============================] - 0s 4us/step - loss: 2.7225 - accuracy: 0.1777 - val_loss: 2.7737 - val_accuracy: 0.1879\n",
      "Epoch 87/100\n",
      "24667/24667 [==============================] - 0s 4us/step - loss: 2.7232 - accuracy: 0.1763 - val_loss: 2.7765 - val_accuracy: 0.1834\n",
      "Epoch 88/100\n",
      "24667/24667 [==============================] - 0s 10us/step - loss: 2.7231 - accuracy: 0.1759 - val_loss: 2.7794 - val_accuracy: 0.1829\n",
      "Epoch 89/100\n",
      "24667/24667 [==============================] - 0s 4us/step - loss: 2.7213 - accuracy: 0.1770 - val_loss: 2.7734 - val_accuracy: 0.1839\n",
      "Epoch 90/100\n",
      "24667/24667 [==============================] - 0s 4us/step - loss: 2.7197 - accuracy: 0.1770 - val_loss: 2.7773 - val_accuracy: 0.1826\n",
      "Epoch 91/100\n",
      "24667/24667 [==============================] - 0s 5us/step - loss: 2.7192 - accuracy: 0.1772 - val_loss: 2.7741 - val_accuracy: 0.1832\n",
      "Epoch 92/100\n",
      "24667/24667 [==============================] - 0s 4us/step - loss: 2.7212 - accuracy: 0.1772 - val_loss: 2.7717 - val_accuracy: 0.1863\n",
      "Epoch 93/100\n",
      "24667/24667 [==============================] - 0s 4us/step - loss: 2.7192 - accuracy: 0.1766 - val_loss: 2.7706 - val_accuracy: 0.1891\n",
      "Epoch 94/100\n",
      "24667/24667 [==============================] - 0s 11us/step - loss: 2.7186 - accuracy: 0.1776 - val_loss: 2.7740 - val_accuracy: 0.1832\n",
      "Epoch 95/100\n",
      "24667/24667 [==============================] - 0s 4us/step - loss: 2.7193 - accuracy: 0.1781 - val_loss: 2.7699 - val_accuracy: 0.1883\n",
      "Epoch 96/100\n",
      "24667/24667 [==============================] - 0s 5us/step - loss: 2.7171 - accuracy: 0.1764 - val_loss: 2.7730 - val_accuracy: 0.1839\n",
      "Epoch 97/100\n",
      "24667/24667 [==============================] - 0s 4us/step - loss: 2.7168 - accuracy: 0.1785 - val_loss: 2.7686 - val_accuracy: 0.1896\n",
      "Epoch 98/100\n",
      "24667/24667 [==============================] - 0s 4us/step - loss: 2.7204 - accuracy: 0.1783 - val_loss: 2.7723 - val_accuracy: 0.1852\n",
      "Epoch 99/100\n",
      "24667/24667 [==============================] - 0s 4us/step - loss: 2.7170 - accuracy: 0.1779 - val_loss: 2.7684 - val_accuracy: 0.1857\n",
      "Epoch 100/100\n",
      "24667/24667 [==============================] - 0s 4us/step - loss: 2.7142 - accuracy: 0.1769 - val_loss: 2.7653 - val_accuracy: 0.1862\n"
     ]
    }
   ],
   "source": [
    "history = model.fit(X_train_nomood, y_train, epochs=100, validation_split=0.2, batch_size=512)"
   ]
  },
  {
   "cell_type": "code",
   "execution_count": 14,
   "metadata": {},
   "outputs": [
    {
     "name": "stdout",
     "output_type": "stream",
     "text": [
      "Test loss: 2.7223\n",
      "Test accuracy: 17.97 %\n"
     ]
    }
   ],
   "source": [
    "score = model.evaluate(X_train_nomood, y_train, verbose=0)\n",
    "print('Test loss:', round(score[0],4))\n",
    "print('Test accuracy:', round(score[1]*100,2), \"%\")"
   ]
  },
  {
   "cell_type": "code",
   "execution_count": 15,
   "metadata": {},
   "outputs": [
    {
     "data": {
      "image/png": "[encoded data removed]",
      "text/plain": [
       "<Figure size 432x288 with 1 Axes>"
      ]
     },
     "metadata": {
      "needs_background": "light"
     },
     "output_type": "display_data"
    }
   ],
   "source": [
    "# Plot training & validation accuracy values\n",
    "plt.plot(history.history['accuracy'])\n",
    "plt.plot(history.history['val_accuracy'])\n",
    "plt.title('Model accuracy')\n",
    "plt.ylabel('Accuracy')\n",
    "plt.xlabel('Epoch')\n",
    "plt.legend(['Train', 'Validation'], loc='upper left')\n",
    "plt.show()"
   ]
  },
  {
   "cell_type": "code",
   "execution_count": 16,
   "metadata": {},
   "outputs": [
    {
     "data": {
      "image/png": "[encoded data removed]",
      "text/plain": [
       "<Figure size 432x288 with 1 Axes>"
      ]
     },
     "metadata": {
      "needs_background": "light"
     },
     "output_type": "display_data"
    }
   ],
   "source": [
    "# Plot training & validation loss values\n",
    "plt.plot(history.history['loss'])\n",
    "plt.plot(history.history['val_loss'])\n",
    "plt.title('Model loss')\n",
    "plt.ylabel('Loss')\n",
    "plt.xlabel('Epoch')\n",
    "plt.legend(['Train', 'Validation'], loc='upper left')\n",
    "plt.show()"
   ]
  },
  {
   "cell_type": "code",
   "execution_count": 17,
   "metadata": {},
   "outputs": [],
   "source": [
    "y_pred = model.predict(X_test_nomood)"
   ]
  },
  {
   "cell_type": "code",
   "execution_count": 28,
   "metadata": {},
   "outputs": [],
   "source": [
    "pred = []\n",
    "for a in y_pred:\n",
    "    for b in a:\n",
    "        pred.append(round(b))\n",
    "\n",
    "test = []\n",
    "for c in y_test['bored']:\n",
    "    test.append(c)"
   ]
  },
  {
   "cell_type": "code",
   "execution_count": 29,
   "metadata": {},
   "outputs": [
    {
     "name": "stdout",
     "output_type": "stream",
     "text": [
      "Accuracy is: 14.291115311909264\n"
     ]
    }
   ],
   "source": [
    "a = accuracy_score(pred,test)\n",
    "print('Accuracy is:', a*100)"
   ]
  },
  {
   "cell_type": "code",
   "execution_count": 21,
   "metadata": {},
   "outputs": [
    {
     "name": "stdout",
     "output_type": "stream",
     "text": [
      "        Same Dif\n",
      "correct 223 127\n",
      "wrong   1558 737\n",
      "Table is right!\n"
     ]
    }
   ],
   "source": [
    "# true = y_test\n",
    "# pred = y_pred\n",
    "# last_value = X_bored_lastarray\n",
    "same_correct = 0\n",
    "same_wrong = 0\n",
    "dif_correct = 0\n",
    "dif_wrong = 0\n",
    "\n",
    "X_test_bored = X_test_onlylastmood['bored_last'].values\n",
    "for i in range(len(pred)):\n",
    "    if (test[i] == X_test_bored[i]) and (test[i] == pred[i]):\n",
    "        same_correct += 1\n",
    "    if (test[i] == X_test_bored[i]) and (test[i] != pred[i]):\n",
    "        same_wrong += 1\n",
    "    if (test[i] != X_test_bored[i]) and (test[i] == pred[i]):\n",
    "        dif_correct += 1\n",
    "    if (test[i] != X_test_bored[i]) and (test[i] != pred[i]):\n",
    "        dif_wrong += 1   \n",
    "\n",
    "print(\"       \", \"Same\", \"Dif\")\n",
    "print(\"correct\", same_correct, dif_correct)\n",
    "print(\"wrong  \", same_wrong, dif_wrong)\n",
    "\n",
    "#Check if table is similar to accuracy\n",
    "if (same_correct+dif_correct) / (same_correct+dif_correct+same_wrong+dif_wrong) == a:\n",
    "    print(\"Table is right!\")\n",
    "else:\n",
    "    print(\"Table is wrong\")"
   ]
  },
  {
   "cell_type": "code",
   "execution_count": 23,
   "metadata": {},
   "outputs": [
    {
     "name": "stdout",
     "output_type": "stream",
     "text": [
      "Predicted values:  Counter({3: 2514, 0: 121, 4: 10})\n",
      "True values:  Counter({0: 1264, 1: 491, 2: 455, 3: 301, 4: 119, 5: 15})\n",
      "Previous mood: Counter({0.0: 1286, 1.0: 494, 2.0: 451, 3.0: 294, 4.0: 106, 5.0: 14})\n"
     ]
    }
   ],
   "source": [
    "from collections import Counter\n",
    "print(\"Predicted values: \", Counter(pred))\n",
    "print(\"True values: \", Counter(test))\n",
    "print(\"Previous mood:\", Counter(X_test_bored))"
   ]
  },
  {
   "cell_type": "code",
   "execution_count": 24,
   "metadata": {},
   "outputs": [
    {
     "name": "stdout",
     "output_type": "stream",
     "text": [
      "Total length:  2645\n",
      "Same Correct 0 guesses is:  45\n",
      "Same Wrong 0 guesses is:  994\n",
      "Dif Correct 0 guesses is:  17\n",
      "Dif Wrong 0 guesses is:  208\n",
      "\n",
      "Same Correct 1 guesses is:  0\n",
      "Same Wrong 1 guesses is:  272\n",
      "Dif Correct 1 guesses is:  0\n",
      "Dif Wrong 1 guesses is:  219\n",
      "\n",
      "Same Correct 2 guesses is:  0\n",
      "Same Wrong 2 guesses is:  232\n",
      "Dif Correct 2 guesses is:  0\n",
      "Dif Wrong 2 guesses is:  223\n",
      "\n",
      "Same Correct 3 guesses is:  178\n",
      "Same Wrong 3 guesses is:  5\n",
      "Dif Correct 3 guesses is:  109\n",
      "Dif Wrong 3 guesses is:  9\n",
      "\n",
      "Same Correct 4 guesses is:  0\n",
      "Same Wrong 4 guesses is:  55\n",
      "Dif Correct 4 guesses is:  1\n",
      "Dif Wrong 4 guesses is:  63\n",
      "\n",
      "Same Correct 5 guesses is:  0\n",
      "Same Wrong 5 guesses is:  0\n",
      "Dif Correct 5 guesses is:  0\n",
      "Dif Wrong 5 guesses is:  15\n"
     ]
    }
   ],
   "source": [
    "same_correct_0, same_wrong_0, same_correct_1, same_wrong_1, same_correct_2, same_wrong_2, same_correct_3, same_wrong_3, same_correct_4, same_wrong_4, same_correct_5, same_wrong_5 = (0, 0, 0, 0, 0, 0, 0, 0, 0, 0, 0, 0)\n",
    "dif_correct_0, dif_wrong_0, dif_correct_1, dif_wrong_1, dif_correct_2, dif_wrong_2, dif_correct_3, dif_wrong_3, dif_correct_4, dif_wrong_4, dif_correct_5, dif_wrong_5 = (0, 0, 0, 0, 0, 0, 0, 0, 0, 0, 0, 0)\n",
    "\n",
    "for i in range(len(pred)):\n",
    "    if test[i] == 0 and pred[i] == 0:\n",
    "        if test[i] == X_test_bored[i]:\n",
    "            same_correct_0 += 1\n",
    "        if test[i] != X_test_bored[i]:\n",
    "            dif_correct_0 += 1\n",
    "    if test[i] == 0 and pred[i] != 0:\n",
    "        if test[i] == X_test_bored[i]:\n",
    "            same_wrong_0 += 1\n",
    "        if test[i] != X_test_bored[i]:\n",
    "            dif_wrong_0 += 1\n",
    "\n",
    "    if test[i] == 1 and pred[i] == 1:\n",
    "        if test[i] == X_test_bored[i]:\n",
    "            same_correct_1 += 1\n",
    "        if test[i] != X_test_bored[i]:\n",
    "            dif_correct_1 += 1\n",
    "    if test[i] == 1 and pred[i] != 1:\n",
    "        if test[i] == X_test_bored[i]:\n",
    "            same_wrong_1 += 1\n",
    "        if test[i] != X_test_bored[i]:\n",
    "            dif_wrong_1 += 1\n",
    "        \n",
    "    if test[i] == 2 and pred[i] == 2:\n",
    "        if test[i] == X_test_bored[i]:\n",
    "            same_correct_2 += 1\n",
    "        if test[i] != X_test_bored[i]:\n",
    "            dif_correct_2 += 1\n",
    "    if test[i] == 2 and pred[i] != 2:\n",
    "        if test[i] == X_test_bored[i]:\n",
    "            same_wrong_2 += 1\n",
    "        if test[i] != X_test_bored[i]:\n",
    "            dif_wrong_2 += 1\n",
    "    \n",
    "    if test[i] == 3 and pred[i] == 3:\n",
    "        if test[i] == X_test_bored[i]:\n",
    "            same_correct_3 += 1\n",
    "        if test[i] != X_test_bored[i]:\n",
    "            dif_correct_3 += 1\n",
    "    if test[i] == 3 and pred[i] != 3:\n",
    "        if test[i] == X_test_bored[i]:\n",
    "            same_wrong_3 += 1\n",
    "        if test[i] != X_test_bored[i]:\n",
    "            dif_wrong_3 += 1\n",
    "        \n",
    "    if test[i] == 4 and pred[i] == 4:\n",
    "        if test[i] == X_test_bored[i]:\n",
    "            same_correct_4 += 1\n",
    "        if test[i] != X_test_bored[i]:\n",
    "            dif_correct_4 += 1\n",
    "    if test[i] == 4 and pred[i] != 4:\n",
    "        if test[i] == X_test_bored[i]:\n",
    "            same_wrong_4 += 1\n",
    "        if test[i] != X_test_bored[i]:\n",
    "            dif_wrong_4 += 1\n",
    "    \n",
    "    if test[i] == 5 and pred[i] == 5:\n",
    "        if test[i] == X_test_bored[i]:\n",
    "            same_correct_5 += 1\n",
    "        if test[i] != X_test_bored[i]:\n",
    "            dif_correct_5 += 1\n",
    "    if test[i] == 5 and pred[i] != 5:\n",
    "        if test[i] == X_test_bored[i]:\n",
    "            same_wrong_5 += 1\n",
    "        if test[i] != X_test_bored[i]:\n",
    "            dif_wrong_5 += 1\n",
    "\n",
    "print(\"Total length: \", len(X_test_bored))\n",
    "\n",
    "print(\"Same Correct 0 guesses is: \", same_correct_0)\n",
    "print(\"Same Wrong 0 guesses is: \", same_wrong_0)\n",
    "print(\"Dif Correct 0 guesses is: \", dif_correct_0)\n",
    "print(\"Dif Wrong 0 guesses is: \", dif_wrong_0)\n",
    "print('')\n",
    "print(\"Same Correct 1 guesses is: \", same_correct_1)\n",
    "print(\"Same Wrong 1 guesses is: \", same_wrong_1)\n",
    "print(\"Dif Correct 1 guesses is: \", dif_correct_1)\n",
    "print(\"Dif Wrong 1 guesses is: \", dif_wrong_1)\n",
    "print('')\n",
    "print(\"Same Correct 2 guesses is: \", same_correct_2)\n",
    "print(\"Same Wrong 2 guesses is: \", same_wrong_2)\n",
    "print(\"Dif Correct 2 guesses is: \", dif_correct_2)\n",
    "print(\"Dif Wrong 2 guesses is: \", dif_wrong_2)\n",
    "print('')\n",
    "print(\"Same Correct 3 guesses is: \", same_correct_3)\n",
    "print(\"Same Wrong 3 guesses is: \", same_wrong_3)\n",
    "print(\"Dif Correct 3 guesses is: \", dif_correct_3)\n",
    "print(\"Dif Wrong 3 guesses is: \", dif_wrong_3)\n",
    "print('')\n",
    "print(\"Same Correct 4 guesses is: \", same_correct_4)\n",
    "print(\"Same Wrong 4 guesses is: \", same_wrong_4)\n",
    "print(\"Dif Correct 4 guesses is: \", dif_correct_4)\n",
    "print(\"Dif Wrong 4 guesses is: \", dif_wrong_4)\n",
    "print('')\n",
    "print(\"Same Correct 5 guesses is: \", same_correct_5)\n",
    "print(\"Same Wrong 5 guesses is: \", same_wrong_5)\n",
    "print(\"Dif Correct 5 guesses is: \", dif_correct_5)\n",
    "print(\"Dif Wrong 5 guesses is: \", dif_wrong_5)"
   ]
  },
  {
   "cell_type": "code",
   "execution_count": 25,
   "metadata": {},
   "outputs": [],
   "source": [
    "mae_0, mae_1, mae_2, mae_3, mae_4, mae_5 = (0,0,0,0,0,0)\n",
    "\n",
    "for i in range(len(pred)):\n",
    "    if test[i] == 0 and pred[i] != 0:\n",
    "        mae_0 += (abs(test[i]-pred[i]))\n",
    "    if test[i] == 1 and pred[i] != 1:\n",
    "        mae_1 += (abs(test[i]-pred[i]))\n",
    "    if test[i] == 2 and pred[i] != 2:\n",
    "        mae_2 += (abs(test[i]-pred[i]))\n",
    "    if test[i] == 3 and pred[i] != 3:\n",
    "        mae_3 += (abs(test[i]-pred[i]))\n",
    "    if test[i] == 4 and pred[i] != 4:\n",
    "        mae_4 += (abs(test[i]-pred[i]))\n",
    "    if test[i] == 5 and pred[i] != 5:\n",
    "        mae_5 += (abs(test[i]-pred[i]))\n",
    "\n",
    "cnt_0, cnt_1, cnt_2, cnt_3, cnt_4, cnt_5 = (0,0,0,0,0,0)\n",
    "for z in range(len(test)):\n",
    "    if test[z] == 0:\n",
    "        cnt_0 += 1\n",
    "    if test[z] == 1:\n",
    "        cnt_1 += 1\n",
    "    if test[z] == 2:\n",
    "        cnt_2 += 1\n",
    "    if test[z] == 3:\n",
    "        cnt_3 += 1\n",
    "    if test[z] == 4:\n",
    "        cnt_4 += 1\n",
    "    if test[z] == 5:\n",
    "        cnt_5 += 1\n",
    "\n",
    "mae_macroaverage = ((mae_0/cnt_0) + (mae_1/cnt_1) + (mae_2/cnt_2) + (mae_3/cnt_3) + (mae_4/cnt_4) + (mae_5/cnt_5)) / 6"
   ]
  },
  {
   "cell_type": "code",
   "execution_count": 26,
   "metadata": {},
   "outputs": [
    {
     "name": "stdout",
     "output_type": "stream",
     "text": [
      "Macro-averaged Mean Absolute error is:  1.5197\n",
      "Macro-averaged F1-score is:  0.0667\n"
     ]
    },
    {
     "name": "stderr",
     "output_type": "stream",
     "text": [
      "/Users/Stijn/Library/Python/3.7/lib/python/site-packages/sklearn/metrics/classification.py:1437: UndefinedMetricWarning: F-score is ill-defined and being set to 0.0 in labels with no predicted samples.\n",
      "  'precision', 'predicted', average, warn_for)\n"
     ]
    }
   ],
   "source": [
    "print(\"Macro-averaged Mean Absolute error is: \", round(mae_macroaverage, 4))\n",
    "print(\"Macro-averaged F1-score is: \", round(f1_score(test, pred, average='weighted'), 4))"
   ]
  },
  {
   "cell_type": "code",
   "execution_count": null,
   "metadata": {},
   "outputs": [],
   "source": []
  }
 ],
 "metadata": {
  "kernelspec": {
   "display_name": "Python 3",
   "language": "python",
   "name": "python3"
  },
  "language_info": {
   "codemirror_mode": {
    "name": "ipython",
    "version": 3
   },
   "file_extension": ".py",
   "mimetype": "text/x-python",
   "name": "python",
   "nbconvert_exporter": "python",
   "pygments_lexer": "ipython3",
   "version": "3.7.4"
  }
 },
 "nbformat": 4,
 "nbformat_minor": 2
}
