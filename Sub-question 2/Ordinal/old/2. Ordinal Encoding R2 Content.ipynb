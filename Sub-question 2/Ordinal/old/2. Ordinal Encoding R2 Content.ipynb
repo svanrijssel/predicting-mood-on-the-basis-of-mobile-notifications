{
 "cells": [
  {
   "cell_type": "code",
   "execution_count": 1,
   "metadata": {},
   "outputs": [
    {
     "name": "stderr",
     "output_type": "stream",
     "text": [
      "Using TensorFlow backend.\n"
     ]
    }
   ],
   "source": [
    "# Import packages\n",
    "import pandas as pd\n",
    "import numpy as np\n",
    "import datetime\n",
    "import category_encoders as ce\n",
    "from sklearn.preprocessing import LabelEncoder, MinMaxScaler, RobustScaler, OneHotEncoder, StandardScaler\n",
    "from sklearn.model_selection import train_test_split\n",
    "from sklearn.metrics import accuracy_score, mean_squared_error, cohen_kappa_score, f1_score\n",
    "from sklearn.utils import shuffle\n",
    "from imblearn.over_sampling import SMOTE, SMOTENC\n",
    "import matplotlib.pyplot as plt\n",
    "from statsmodels.graphics.mosaicplot import mosaic\n",
    "from sklearn.decomposition import PCA\n",
    "from scipy import stats\n",
    "from math import sqrt\n",
    "\n",
    "\n",
    "\n",
    "import keras\n",
    "from keras.models import Sequential\n",
    "from keras.layers import Dense, Dropout, GaussianNoise\n",
    "from keras.optimizers import SGD\n",
    "from keras import regularizers"
   ]
  },
  {
   "cell_type": "code",
   "execution_count": 2,
   "metadata": {},
   "outputs": [],
   "source": [
    "path = \"/Users/Stijn/Documents/Master Data Science and Society/Block 3/thesis/code/thesis_Code/\"\n",
    "mood = pd.read_csv(path+'mood_imputed_median.csv', sep = ',', index_col=0)\n",
    "mood_content = mood.copy()"
   ]
  },
  {
   "cell_type": "code",
   "execution_count": 3,
   "metadata": {},
   "outputs": [
    {
     "data": {
      "text/plain": [
       "3.0    3972\n",
       "4.0    2958\n",
       "2.0    2775\n",
       "1.0    1559\n",
       "0.0    1090\n",
       "5.0     867\n",
       "Name: content, dtype: int64"
      ]
     },
     "execution_count": 3,
     "metadata": {},
     "output_type": "execute_result"
    }
   ],
   "source": [
    "mood_content['content'].value_counts()"
   ]
  },
  {
   "cell_type": "code",
   "execution_count": 4,
   "metadata": {},
   "outputs": [],
   "source": [
    "contentR2 = []\n",
    "for a in mood['content']:\n",
    "    if a == 0:\n",
    "      contentR2.append(0)  \n",
    "    if a == 1:\n",
    "      contentR2.append(2)\n",
    "    if a == 2:\n",
    "      contentR2.append(3)\n",
    "    if a == 3:\n",
    "      contentR2.append(5)\n",
    "    if a == 4:\n",
    "      contentR2.append(7)\n",
    "    if a == 5:\n",
    "      contentR2.append(8)\n",
    "mood_content['contentR2'] = contentR2\n",
    "mood_content = mood_content.drop(['content'], axis=1)"
   ]
  },
  {
   "cell_type": "code",
   "execution_count": 5,
   "metadata": {},
   "outputs": [],
   "source": [
    "mood_content['content_last'] = mood_content.groupby('user_id')['contentR2'].shift()\n",
    "mood_content.loc[(pd.isnull(mood_content.content_last)), 'content_last'] = mood_content['contentR2']\n",
    "mood_content = mood_content.drop([\"anxious\", \"bored\", \"cheerful\", \"user_id\", \"response_time\"], axis=1)\n",
    "mood_content = mood_content[['contentR2', 'day_time_window', 'average_TimeUse', 'bulk', 'messaging', 'socialnetworking', 'otherapp', 'content_last']]"
   ]
  },
  {
   "cell_type": "code",
   "execution_count": 6,
   "metadata": {},
   "outputs": [],
   "source": [
    "# Normalize predictors\n",
    "mood_normz = mood_content.copy()\n",
    "features_to_normalize = ['day_time_window', 'average_TimeUse', 'messaging', 'socialnetworking', 'otherapp']\n",
    "mood_normz[features_to_normalize] = mood_normz[features_to_normalize].apply(lambda x:(x-x.min()) / (x.max()-x.min()))"
   ]
  },
  {
   "cell_type": "code",
   "execution_count": 7,
   "metadata": {},
   "outputs": [],
   "source": [
    "X = mood_normz.iloc[:,1:]\n",
    "y = mood_normz.iloc[:, 0:1]\n",
    "y = y.astype(int)"
   ]
  },
  {
   "cell_type": "code",
   "execution_count": 8,
   "metadata": {},
   "outputs": [],
   "source": [
    "X_train, X_test, y_train, y_test = train_test_split(X, y, test_size=0.2, random_state=2)"
   ]
  },
  {
   "cell_type": "code",
   "execution_count": 9,
   "metadata": {},
   "outputs": [
    {
     "name": "stdout",
     "output_type": "stream",
     "text": [
      "Before OverSampling, counts of labels: 5    3165\n",
      "7    2379\n",
      "3    2203\n",
      "2    1261\n",
      "0     872\n",
      "8     696\n",
      "Name: contentR2, dtype: int64\n",
      "After OverSampling, counts of label '0': 3165\n",
      "After OverSampling, counts of label '3': 3165\n",
      "After OverSampling, counts of label '4': 0\n",
      "After OverSampling, counts of label '5': 3165\n",
      "After OverSampling, counts of label '7': 3165\n",
      "After OverSampling, counts of label '9': 0\n"
     ]
    }
   ],
   "source": [
    "# Oversampling unbalanced target\n",
    "print(\"Before OverSampling, counts of labels: {}\".format(y_train['contentR2'].value_counts()))\n",
    "  \n",
    "sm = SMOTENC(categorical_features=[0, 2, 6], random_state = 2) \n",
    "X_train_res, y_train_res = sm.fit_sample(X_train, y_train['contentR2'].ravel()) \n",
    "\n",
    "print(\"After OverSampling, counts of label '0': {}\".format(sum(y_train_res == 0))) \n",
    "print(\"After OverSampling, counts of label '3': {}\".format(sum(y_train_res == 3))) \n",
    "print(\"After OverSampling, counts of label '4': {}\".format(sum(y_train_res == 4))) \n",
    "print(\"After OverSampling, counts of label '5': {}\".format(sum(y_train_res == 5))) \n",
    "print(\"After OverSampling, counts of label '7': {}\".format(sum(y_train_res == 7))) \n",
    "print(\"After OverSampling, counts of label '9': {}\".format(sum(y_train_res == 9))) "
   ]
  },
  {
   "cell_type": "code",
   "execution_count": 10,
   "metadata": {},
   "outputs": [],
   "source": [
    "X_train = pd.DataFrame(data=X_train_res)\n",
    "y_train = pd.DataFrame(data=y_train_res)"
   ]
  },
  {
   "cell_type": "code",
   "execution_count": 11,
   "metadata": {},
   "outputs": [],
   "source": [
    "# Shuffle both train and test set to cancel patterns\n",
    "X_train, y_train = shuffle(X_train, y_train)\n",
    "X_test, y_test = shuffle(X_test, y_test)"
   ]
  },
  {
   "cell_type": "code",
   "execution_count": 12,
   "metadata": {},
   "outputs": [],
   "source": [
    "X_train_nomood = X_train.iloc[:,:-1]\n",
    "X_train_onlylastmood = X_train.iloc[:,-1:]\n",
    "X_test_nomood = X_test.iloc[:,:-1]\n",
    "X_test_onlylastmood = X_test.iloc[:,-1:]"
   ]
  },
  {
   "cell_type": "code",
   "execution_count": 13,
   "metadata": {},
   "outputs": [
    {
     "name": "stdout",
     "output_type": "stream",
     "text": [
      "Model: \"sequential_1\"\n",
      "_________________________________________________________________\n",
      "Layer (type)                 Output Shape              Param #   \n",
      "=================================================================\n",
      "dense_1 (Dense)              (None, 24)                168       \n",
      "_________________________________________________________________\n",
      "dense_2 (Dense)              (None, 12)                300       \n",
      "_________________________________________________________________\n",
      "dense_3 (Dense)              (None, 1)                 13        \n",
      "=================================================================\n",
      "Total params: 481\n",
      "Trainable params: 481\n",
      "Non-trainable params: 0\n",
      "_________________________________________________________________\n"
     ]
    }
   ],
   "source": [
    "# Define Keras model\n",
    "model = Sequential()\n",
    "model.add(Dense(24, input_dim=6, activation='relu'))\n",
    "model.add(Dense(12, activation='relu'))\n",
    "model.add(Dense(1, activation='linear'))\n",
    "\n",
    "model.compile(loss='mean_squared_error', optimizer='adam', metrics=['accuracy'])\n",
    "model.summary()"
   ]
  },
  {
   "cell_type": "code",
   "execution_count": 14,
   "metadata": {},
   "outputs": [
    {
     "name": "stdout",
     "output_type": "stream",
     "text": [
      "Train on 15192 samples, validate on 3798 samples\n",
      "Epoch 1/100\n",
      "15192/15192 [==============================] - 0s 14us/step - loss: 24.9011 - accuracy: 0.1672 - val_loss: 24.3830 - val_accuracy: 0.1646\n",
      "Epoch 2/100\n",
      "15192/15192 [==============================] - 0s 5us/step - loss: 22.5064 - accuracy: 0.1568 - val_loss: 21.4429 - val_accuracy: 0.0729\n",
      "Epoch 3/100\n",
      "15192/15192 [==============================] - 0s 6us/step - loss: 18.9668 - accuracy: 0.0129 - val_loss: 16.9546 - val_accuracy: 0.0074\n",
      "Epoch 4/100\n",
      "15192/15192 [==============================] - 0s 6us/step - loss: 14.1246 - accuracy: 0.0960 - val_loss: 11.9537 - val_accuracy: 0.1598\n",
      "Epoch 5/100\n",
      "15192/15192 [==============================] - 0s 5us/step - loss: 10.0482 - accuracy: 0.1526 - val_loss: 8.9530 - val_accuracy: 0.1148\n",
      "Epoch 6/100\n",
      "15192/15192 [==============================] - 0s 5us/step - loss: 8.3811 - accuracy: 0.1013 - val_loss: 8.2625 - val_accuracy: 0.1140\n",
      "Epoch 7/100\n",
      "15192/15192 [==============================] - 0s 5us/step - loss: 8.1182 - accuracy: 0.0895 - val_loss: 8.1147 - val_accuracy: 0.0895\n",
      "Epoch 8/100\n",
      "15192/15192 [==============================] - 0s 6us/step - loss: 8.0033 - accuracy: 0.0756 - val_loss: 8.0168 - val_accuracy: 0.0835\n",
      "Epoch 9/100\n",
      "15192/15192 [==============================] - 0s 6us/step - loss: 7.9244 - accuracy: 0.0633 - val_loss: 7.9371 - val_accuracy: 0.0582\n",
      "Epoch 10/100\n",
      "15192/15192 [==============================] - 0s 5us/step - loss: 7.8689 - accuracy: 0.0512 - val_loss: 7.8873 - val_accuracy: 0.0487\n",
      "Epoch 11/100\n",
      "15192/15192 [==============================] - 0s 29us/step - loss: 7.8323 - accuracy: 0.0380 - val_loss: 7.8518 - val_accuracy: 0.0229\n",
      "Epoch 12/100\n",
      "15192/15192 [==============================] - 0s 12us/step - loss: 7.8067 - accuracy: 0.0258 - val_loss: 7.8293 - val_accuracy: 0.0203\n",
      "Epoch 13/100\n",
      "15192/15192 [==============================] - 0s 25us/step - loss: 7.7887 - accuracy: 0.0220 - val_loss: 7.8119 - val_accuracy: 0.0179\n",
      "Epoch 14/100\n",
      "15192/15192 [==============================] - 0s 15us/step - loss: 7.7765 - accuracy: 0.0192 - val_loss: 7.7977 - val_accuracy: 0.0182\n",
      "Epoch 15/100\n",
      "15192/15192 [==============================] - 0s 28us/step - loss: 7.7686 - accuracy: 0.0190 - val_loss: 7.7883 - val_accuracy: 0.0182\n",
      "Epoch 16/100\n",
      "15192/15192 [==============================] - 0s 23us/step - loss: 7.7633 - accuracy: 0.0174 - val_loss: 7.7847 - val_accuracy: 0.0153\n",
      "Epoch 17/100\n",
      "15192/15192 [==============================] - 0s 11us/step - loss: 7.7583 - accuracy: 0.0182 - val_loss: 7.7757 - val_accuracy: 0.0166\n",
      "Epoch 18/100\n",
      "15192/15192 [==============================] - 0s 10us/step - loss: 7.7538 - accuracy: 0.0159 - val_loss: 7.7717 - val_accuracy: 0.0155\n",
      "Epoch 19/100\n",
      "15192/15192 [==============================] - 0s 8us/step - loss: 7.7507 - accuracy: 0.0174 - val_loss: 7.7673 - val_accuracy: 0.0140\n",
      "Epoch 20/100\n",
      "15192/15192 [==============================] - 0s 6us/step - loss: 7.7450 - accuracy: 0.0151 - val_loss: 7.7606 - val_accuracy: 0.0140\n",
      "Epoch 21/100\n",
      "15192/15192 [==============================] - 0s 5us/step - loss: 7.7416 - accuracy: 0.0155 - val_loss: 7.7573 - val_accuracy: 0.0134\n",
      "Epoch 22/100\n",
      "15192/15192 [==============================] - 0s 6us/step - loss: 7.7380 - accuracy: 0.0142 - val_loss: 7.7516 - val_accuracy: 0.0140\n",
      "Epoch 23/100\n",
      "15192/15192 [==============================] - 0s 6us/step - loss: 7.7357 - accuracy: 0.0169 - val_loss: 7.7482 - val_accuracy: 0.0140\n",
      "Epoch 24/100\n",
      "15192/15192 [==============================] - 0s 5us/step - loss: 7.7339 - accuracy: 0.0134 - val_loss: 7.7463 - val_accuracy: 0.0118\n",
      "Epoch 25/100\n",
      "15192/15192 [==============================] - 0s 6us/step - loss: 7.7293 - accuracy: 0.0143 - val_loss: 7.7409 - val_accuracy: 0.0140\n",
      "Epoch 26/100\n",
      "15192/15192 [==============================] - 0s 6us/step - loss: 7.7284 - accuracy: 0.0147 - val_loss: 7.7446 - val_accuracy: 0.0116\n",
      "Epoch 27/100\n",
      "15192/15192 [==============================] - 0s 5us/step - loss: 7.7258 - accuracy: 0.0138 - val_loss: 7.7327 - val_accuracy: 0.0169\n",
      "Epoch 28/100\n",
      "15192/15192 [==============================] - 0s 6us/step - loss: 7.7238 - accuracy: 0.0153 - val_loss: 7.7334 - val_accuracy: 0.0153\n",
      "Epoch 29/100\n",
      "15192/15192 [==============================] - 0s 5us/step - loss: 7.7224 - accuracy: 0.0142 - val_loss: 7.7333 - val_accuracy: 0.0140\n",
      "Epoch 30/100\n",
      "15192/15192 [==============================] - 0s 5us/step - loss: 7.7204 - accuracy: 0.0149 - val_loss: 7.7291 - val_accuracy: 0.0153\n",
      "Epoch 31/100\n",
      "15192/15192 [==============================] - 0s 5us/step - loss: 7.7189 - accuracy: 0.0152 - val_loss: 7.7291 - val_accuracy: 0.0147\n",
      "Epoch 32/100\n",
      "15192/15192 [==============================] - 0s 6us/step - loss: 7.7171 - accuracy: 0.0149 - val_loss: 7.7257 - val_accuracy: 0.0161\n",
      "Epoch 33/100\n",
      "15192/15192 [==============================] - 0s 5us/step - loss: 7.7168 - accuracy: 0.0152 - val_loss: 7.7268 - val_accuracy: 0.0147\n",
      "Epoch 34/100\n",
      "15192/15192 [==============================] - 0s 5us/step - loss: 7.7155 - accuracy: 0.0159 - val_loss: 7.7243 - val_accuracy: 0.0147\n",
      "Epoch 35/100\n",
      "15192/15192 [==============================] - 0s 5us/step - loss: 7.7150 - accuracy: 0.0155 - val_loss: 7.7280 - val_accuracy: 0.0132\n",
      "Epoch 36/100\n",
      "15192/15192 [==============================] - 0s 5us/step - loss: 7.7131 - accuracy: 0.0166 - val_loss: 7.7222 - val_accuracy: 0.0155\n",
      "Epoch 37/100\n",
      "15192/15192 [==============================] - 0s 4us/step - loss: 7.7125 - accuracy: 0.0157 - val_loss: 7.7236 - val_accuracy: 0.0140\n",
      "Epoch 38/100\n",
      "15192/15192 [==============================] - 0s 4us/step - loss: 7.7109 - accuracy: 0.0167 - val_loss: 7.7254 - val_accuracy: 0.0132\n",
      "Epoch 39/100\n",
      "15192/15192 [==============================] - 0s 5us/step - loss: 7.7123 - accuracy: 0.0159 - val_loss: 7.7238 - val_accuracy: 0.0137\n",
      "Epoch 40/100\n",
      "15192/15192 [==============================] - 0s 9us/step - loss: 7.7111 - accuracy: 0.0163 - val_loss: 7.7197 - val_accuracy: 0.0153\n",
      "Epoch 41/100\n",
      "15192/15192 [==============================] - 0s 10us/step - loss: 7.7089 - accuracy: 0.0169 - val_loss: 7.7172 - val_accuracy: 0.0147\n",
      "Epoch 42/100\n",
      "15192/15192 [==============================] - 0s 15us/step - loss: 7.7089 - accuracy: 0.0166 - val_loss: 7.7167 - val_accuracy: 0.0150\n",
      "Epoch 43/100\n",
      "15192/15192 [==============================] - 0s 6us/step - loss: 7.7076 - accuracy: 0.0173 - val_loss: 7.7160 - val_accuracy: 0.0147\n",
      "Epoch 44/100\n",
      "15192/15192 [==============================] - 0s 7us/step - loss: 7.7071 - accuracy: 0.0169 - val_loss: 7.7141 - val_accuracy: 0.0171\n",
      "Epoch 45/100\n",
      "15192/15192 [==============================] - 0s 7us/step - loss: 7.7096 - accuracy: 0.0176 - val_loss: 7.7328 - val_accuracy: 0.0116\n",
      "Epoch 46/100\n",
      "15192/15192 [==============================] - 0s 6us/step - loss: 7.7083 - accuracy: 0.0178 - val_loss: 7.7108 - val_accuracy: 0.0192\n",
      "Epoch 47/100\n",
      "15192/15192 [==============================] - 0s 4us/step - loss: 7.7046 - accuracy: 0.0172 - val_loss: 7.7139 - val_accuracy: 0.0161\n",
      "Epoch 48/100\n",
      "15192/15192 [==============================] - 0s 4us/step - loss: 7.7042 - accuracy: 0.0186 - val_loss: 7.7156 - val_accuracy: 0.0142\n",
      "Epoch 49/100\n",
      "15192/15192 [==============================] - 0s 4us/step - loss: 7.7051 - accuracy: 0.0176 - val_loss: 7.7086 - val_accuracy: 0.0187\n",
      "Epoch 50/100\n",
      "15192/15192 [==============================] - 0s 4us/step - loss: 7.7054 - accuracy: 0.0185 - val_loss: 7.7109 - val_accuracy: 0.0163\n",
      "Epoch 51/100\n",
      "15192/15192 [==============================] - 0s 4us/step - loss: 7.7027 - accuracy: 0.0180 - val_loss: 7.7087 - val_accuracy: 0.0179\n",
      "Epoch 52/100\n",
      "15192/15192 [==============================] - 0s 4us/step - loss: 7.7030 - accuracy: 0.0186 - val_loss: 7.7093 - val_accuracy: 0.0163\n",
      "Epoch 53/100\n",
      "15192/15192 [==============================] - 0s 4us/step - loss: 7.7029 - accuracy: 0.0178 - val_loss: 7.7112 - val_accuracy: 0.0158\n",
      "Epoch 54/100\n",
      "15192/15192 [==============================] - 0s 4us/step - loss: 7.7020 - accuracy: 0.0192 - val_loss: 7.7115 - val_accuracy: 0.0150\n",
      "Epoch 55/100\n",
      "15192/15192 [==============================] - 0s 4us/step - loss: 7.7004 - accuracy: 0.0174 - val_loss: 7.7100 - val_accuracy: 0.0163\n"
     ]
    },
    {
     "name": "stdout",
     "output_type": "stream",
     "text": [
      "Epoch 56/100\n",
      "15192/15192 [==============================] - 0s 4us/step - loss: 7.6987 - accuracy: 0.0190 - val_loss: 7.7086 - val_accuracy: 0.0163\n",
      "Epoch 57/100\n",
      "15192/15192 [==============================] - 0s 4us/step - loss: 7.6978 - accuracy: 0.0181 - val_loss: 7.7078 - val_accuracy: 0.0169\n",
      "Epoch 58/100\n",
      "15192/15192 [==============================] - 0s 4us/step - loss: 7.6980 - accuracy: 0.0190 - val_loss: 7.7132 - val_accuracy: 0.0142\n",
      "Epoch 59/100\n",
      "15192/15192 [==============================] - 0s 4us/step - loss: 7.6971 - accuracy: 0.0186 - val_loss: 7.7084 - val_accuracy: 0.0161\n",
      "Epoch 60/100\n",
      "15192/15192 [==============================] - 0s 4us/step - loss: 7.6953 - accuracy: 0.0186 - val_loss: 7.7026 - val_accuracy: 0.0190\n",
      "Epoch 61/100\n",
      "15192/15192 [==============================] - 0s 4us/step - loss: 7.6971 - accuracy: 0.0197 - val_loss: 7.7021 - val_accuracy: 0.0182\n",
      "Epoch 62/100\n",
      "15192/15192 [==============================] - 0s 4us/step - loss: 7.6943 - accuracy: 0.0188 - val_loss: 7.7040 - val_accuracy: 0.0171\n",
      "Epoch 63/100\n",
      "15192/15192 [==============================] - 0s 5us/step - loss: 7.6931 - accuracy: 0.0188 - val_loss: 7.7041 - val_accuracy: 0.0169\n",
      "Epoch 64/100\n",
      "15192/15192 [==============================] - 0s 5us/step - loss: 7.6924 - accuracy: 0.0199 - val_loss: 7.7027 - val_accuracy: 0.0176\n",
      "Epoch 65/100\n",
      "15192/15192 [==============================] - 0s 4us/step - loss: 7.6946 - accuracy: 0.0203 - val_loss: 7.7245 - val_accuracy: 0.0118\n",
      "Epoch 66/100\n",
      "15192/15192 [==============================] - 0s 4us/step - loss: 7.6927 - accuracy: 0.0193 - val_loss: 7.7027 - val_accuracy: 0.0169\n",
      "Epoch 67/100\n",
      "15192/15192 [==============================] - 0s 4us/step - loss: 7.6902 - accuracy: 0.0192 - val_loss: 7.7018 - val_accuracy: 0.0163\n",
      "Epoch 68/100\n",
      "15192/15192 [==============================] - 0s 4us/step - loss: 7.6918 - accuracy: 0.0188 - val_loss: 7.7033 - val_accuracy: 0.0161\n",
      "Epoch 69/100\n",
      "15192/15192 [==============================] - 0s 4us/step - loss: 7.6894 - accuracy: 0.0205 - val_loss: 7.7086 - val_accuracy: 0.0145\n",
      "Epoch 70/100\n",
      "15192/15192 [==============================] - 0s 4us/step - loss: 7.6890 - accuracy: 0.0197 - val_loss: 7.7076 - val_accuracy: 0.0145\n",
      "Epoch 71/100\n",
      "15192/15192 [==============================] - 0s 6us/step - loss: 7.6861 - accuracy: 0.0202 - val_loss: 7.7023 - val_accuracy: 0.0161\n",
      "Epoch 72/100\n",
      "15192/15192 [==============================] - 0s 7us/step - loss: 7.6853 - accuracy: 0.0211 - val_loss: 7.7094 - val_accuracy: 0.0150\n",
      "Epoch 73/100\n",
      "15192/15192 [==============================] - 0s 5us/step - loss: 7.6849 - accuracy: 0.0200 - val_loss: 7.7013 - val_accuracy: 0.0158\n",
      "Epoch 74/100\n",
      "15192/15192 [==============================] - 0s 4us/step - loss: 7.6835 - accuracy: 0.0203 - val_loss: 7.7031 - val_accuracy: 0.0153\n",
      "Epoch 75/100\n",
      "15192/15192 [==============================] - 0s 4us/step - loss: 7.6832 - accuracy: 0.0200 - val_loss: 7.7015 - val_accuracy: 0.0158\n",
      "Epoch 76/100\n",
      "15192/15192 [==============================] - 0s 5us/step - loss: 7.6835 - accuracy: 0.0207 - val_loss: 7.6990 - val_accuracy: 0.0169\n",
      "Epoch 77/100\n",
      "15192/15192 [==============================] - 0s 4us/step - loss: 7.6798 - accuracy: 0.0209 - val_loss: 7.7136 - val_accuracy: 0.0147\n",
      "Epoch 78/100\n",
      "15192/15192 [==============================] - 0s 4us/step - loss: 7.6849 - accuracy: 0.0207 - val_loss: 7.7102 - val_accuracy: 0.0153\n",
      "Epoch 79/100\n",
      "15192/15192 [==============================] - 0s 4us/step - loss: 7.6820 - accuracy: 0.0195 - val_loss: 7.7022 - val_accuracy: 0.0163\n",
      "Epoch 80/100\n",
      "15192/15192 [==============================] - 0s 4us/step - loss: 7.6807 - accuracy: 0.0213 - val_loss: 7.7059 - val_accuracy: 0.0158\n",
      "Epoch 81/100\n",
      "15192/15192 [==============================] - 0s 5us/step - loss: 7.6785 - accuracy: 0.0203 - val_loss: 7.6960 - val_accuracy: 0.0203\n",
      "Epoch 82/100\n",
      "15192/15192 [==============================] - 0s 5us/step - loss: 7.6796 - accuracy: 0.0219 - val_loss: 7.6984 - val_accuracy: 0.0166\n",
      "Epoch 83/100\n",
      "15192/15192 [==============================] - 0s 5us/step - loss: 7.6786 - accuracy: 0.0209 - val_loss: 7.7014 - val_accuracy: 0.0158\n",
      "Epoch 84/100\n",
      "15192/15192 [==============================] - 0s 4us/step - loss: 7.6777 - accuracy: 0.0202 - val_loss: 7.6945 - val_accuracy: 0.0205\n",
      "Epoch 85/100\n",
      "15192/15192 [==============================] - 0s 4us/step - loss: 7.6763 - accuracy: 0.0213 - val_loss: 7.6998 - val_accuracy: 0.0169\n",
      "Epoch 86/100\n",
      "15192/15192 [==============================] - 0s 4us/step - loss: 7.6756 - accuracy: 0.0214 - val_loss: 7.6957 - val_accuracy: 0.0197\n",
      "Epoch 87/100\n",
      "15192/15192 [==============================] - 0s 5us/step - loss: 7.6754 - accuracy: 0.0213 - val_loss: 7.6991 - val_accuracy: 0.0163\n",
      "Epoch 88/100\n",
      "15192/15192 [==============================] - 0s 4us/step - loss: 7.6740 - accuracy: 0.0215 - val_loss: 7.7015 - val_accuracy: 0.0171\n",
      "Epoch 89/100\n",
      "15192/15192 [==============================] - 0s 4us/step - loss: 7.6718 - accuracy: 0.0215 - val_loss: 7.6957 - val_accuracy: 0.0171\n",
      "Epoch 90/100\n",
      "15192/15192 [==============================] - 0s 4us/step - loss: 7.6755 - accuracy: 0.0211 - val_loss: 7.7062 - val_accuracy: 0.0166\n",
      "Epoch 91/100\n",
      "15192/15192 [==============================] - 0s 4us/step - loss: 7.6731 - accuracy: 0.0215 - val_loss: 7.6928 - val_accuracy: 0.0197\n",
      "Epoch 92/100\n",
      "15192/15192 [==============================] - 0s 4us/step - loss: 7.6729 - accuracy: 0.0222 - val_loss: 7.6950 - val_accuracy: 0.0182\n",
      "Epoch 93/100\n",
      "15192/15192 [==============================] - 0s 5us/step - loss: 7.6690 - accuracy: 0.0205 - val_loss: 7.6926 - val_accuracy: 0.0213\n",
      "Epoch 94/100\n",
      "15192/15192 [==============================] - 0s 4us/step - loss: 7.6699 - accuracy: 0.0224 - val_loss: 7.6954 - val_accuracy: 0.0182\n",
      "Epoch 95/100\n",
      "15192/15192 [==============================] - 0s 4us/step - loss: 7.6707 - accuracy: 0.0202 - val_loss: 7.6907 - val_accuracy: 0.0219\n",
      "Epoch 96/100\n",
      "15192/15192 [==============================] - 0s 4us/step - loss: 7.6683 - accuracy: 0.0223 - val_loss: 7.6914 - val_accuracy: 0.0200\n",
      "Epoch 97/100\n",
      "15192/15192 [==============================] - 0s 4us/step - loss: 7.6672 - accuracy: 0.0209 - val_loss: 7.6922 - val_accuracy: 0.0208\n",
      "Epoch 98/100\n",
      "15192/15192 [==============================] - 0s 5us/step - loss: 7.6651 - accuracy: 0.0221 - val_loss: 7.6902 - val_accuracy: 0.0205\n",
      "Epoch 99/100\n",
      "15192/15192 [==============================] - 0s 4us/step - loss: 7.6665 - accuracy: 0.0220 - val_loss: 7.6900 - val_accuracy: 0.0232\n",
      "Epoch 100/100\n",
      "15192/15192 [==============================] - 0s 4us/step - loss: 7.6650 - accuracy: 0.0218 - val_loss: 7.6890 - val_accuracy: 0.0197\n"
     ]
    }
   ],
   "source": [
    "history = model.fit(X_train_nomood, y_train, epochs=100, validation_split=0.2, batch_size=512)"
   ]
  },
  {
   "cell_type": "code",
   "execution_count": 15,
   "metadata": {},
   "outputs": [
    {
     "name": "stdout",
     "output_type": "stream",
     "text": [
      "Test loss: 7.6673\n",
      "Test accuracy: 2.12 %\n"
     ]
    }
   ],
   "source": [
    "score = model.evaluate(X_train_nomood, y_train, verbose=0)\n",
    "print('Test loss:', round(score[0],4))\n",
    "print('Test accuracy:', round(score[1]*100,2), \"%\")"
   ]
  },
  {
   "cell_type": "code",
   "execution_count": 16,
   "metadata": {},
   "outputs": [
    {
     "data": {
      "image/png": "[encoded data removed]",
      "text/plain": [
       "<Figure size 432x288 with 1 Axes>"
      ]
     },
     "metadata": {
      "needs_background": "light"
     },
     "output_type": "display_data"
    }
   ],
   "source": [
    "# Plot training & validation accuracy values\n",
    "plt.plot(history.history['accuracy'])\n",
    "plt.plot(history.history['val_accuracy'])\n",
    "plt.title('Model accuracy')\n",
    "plt.ylabel('Accuracy')\n",
    "plt.xlabel('Epoch')\n",
    "plt.legend(['Train', 'Validation'], loc='upper left')\n",
    "plt.show()"
   ]
  },
  {
   "cell_type": "code",
   "execution_count": 17,
   "metadata": {},
   "outputs": [
    {
     "data": {
      "image/png": "[encoded data removed]",
      "text/plain": [
       "<Figure size 432x288 with 1 Axes>"
      ]
     },
     "metadata": {
      "needs_background": "light"
     },
     "output_type": "display_data"
    }
   ],
   "source": [
    "# Plot training & validation loss values\n",
    "plt.plot(history.history['loss'])\n",
    "plt.plot(history.history['val_loss'])\n",
    "plt.title('Model loss')\n",
    "plt.ylabel('Loss')\n",
    "plt.xlabel('Epoch')\n",
    "plt.legend(['Train', 'Validation'], loc='upper left')\n",
    "plt.show()"
   ]
  },
  {
   "cell_type": "code",
   "execution_count": 18,
   "metadata": {},
   "outputs": [],
   "source": [
    "y_pred = model.predict(X_test_nomood)"
   ]
  },
  {
   "cell_type": "code",
   "execution_count": 35,
   "metadata": {},
   "outputs": [],
   "source": [
    "cat_list = [0,2,3,5,7,8]\n",
    "pred = []\n",
    "for a in y_pred:\n",
    "    for b in a:\n",
    "        d = min(cat_list, key=lambda x:abs(x-b))\n",
    "        pred.append(round(d))    \n",
    "\n",
    "test = []\n",
    "for c in y_test['contentR2']:\n",
    "    test.append(c)"
   ]
  },
  {
   "cell_type": "code",
   "execution_count": 36,
   "metadata": {},
   "outputs": [
    {
     "data": {
      "text/plain": [
       "[7, 3, 3, 5, 0]"
      ]
     },
     "execution_count": 36,
     "metadata": {},
     "output_type": "execute_result"
    }
   ],
   "source": [
    "test[:5]"
   ]
  },
  {
   "cell_type": "code",
   "execution_count": 37,
   "metadata": {},
   "outputs": [
    {
     "name": "stdout",
     "output_type": "stream",
     "text": [
      "Accuracy is: 29.640831758034025\n"
     ]
    }
   ],
   "source": [
    "a = accuracy_score(pred,test)\n",
    "print('Accuracy is:', a*100)"
   ]
  },
  {
   "cell_type": "code",
   "execution_count": 38,
   "metadata": {},
   "outputs": [
    {
     "name": "stdout",
     "output_type": "stream",
     "text": [
      "        Same Dif\n",
      "correct 489 295\n",
      "wrong   1172 689\n",
      "Table is right!\n"
     ]
    }
   ],
   "source": [
    "# true = y_test\n",
    "# pred = y_pred\n",
    "# last_value = X_bored_lastarray\n",
    "same_correct = 0\n",
    "same_wrong = 0\n",
    "dif_correct = 0\n",
    "dif_wrong = 0\n",
    "\n",
    "X_test_bored = X_test_onlylastmood['content_last'].values\n",
    "for i in range(len(pred)):\n",
    "    if (test[i] == X_test_bored[i]) and (test[i] == pred[i]):\n",
    "        same_correct += 1\n",
    "    if (test[i] == X_test_bored[i]) and (test[i] != pred[i]):\n",
    "        same_wrong += 1\n",
    "    if (test[i] != X_test_bored[i]) and (test[i] == pred[i]):\n",
    "        dif_correct += 1\n",
    "    if (test[i] != X_test_bored[i]) and (test[i] != pred[i]):\n",
    "        dif_wrong += 1   \n",
    "\n",
    "print(\"       \", \"Same\", \"Dif\")\n",
    "print(\"correct\", same_correct, dif_correct)\n",
    "print(\"wrong  \", same_wrong, dif_wrong)\n",
    "\n",
    "#Check if table is similar to accuracy\n",
    "if (same_correct+dif_correct) / (same_correct+dif_correct+same_wrong+dif_wrong) == a:\n",
    "    print(\"Table is right!\")\n",
    "else:\n",
    "    print(\"Table is wrong\")"
   ]
  },
  {
   "cell_type": "code",
   "execution_count": 39,
   "metadata": {},
   "outputs": [
    {
     "name": "stdout",
     "output_type": "stream",
     "text": [
      "Predicted valxues:  Counter({5: 2443, 3: 191, 2: 6, 7: 4, 0: 1})\n",
      "True values:  Counter({5: 807, 7: 579, 3: 572, 2: 298, 0: 218, 8: 171})\n",
      "Previous mood: Counter({5.0: 786, 7.0: 590, 3.0: 576, 2.0: 294, 0.0: 215, 8.0: 184})\n"
     ]
    }
   ],
   "source": [
    "from collections import Counter\n",
    "print(\"Predicted valxues: \", Counter(pred))\n",
    "print(\"True values: \", Counter(test))\n",
    "print(\"Previous mood:\", Counter(X_test_bored))"
   ]
  },
  {
   "cell_type": "code",
   "execution_count": 40,
   "metadata": {},
   "outputs": [
    {
     "name": "stdout",
     "output_type": "stream",
     "text": [
      "Total length:  2645\n",
      "Same Correct 0 guesses is:  0\n",
      "Same Wrong 0 guesses is:  151\n",
      "Dif Correct 0 guesses is:  0\n",
      "Dif Wrong 0 guesses is:  67\n",
      "\n",
      "Same Correct 1 guesses is:  2\n",
      "Same Wrong 1 guesses is:  157\n",
      "Dif Correct 1 guesses is:  0\n",
      "Dif Wrong 1 guesses is:  139\n",
      "\n",
      "Same Correct 2 guesses is:  13\n",
      "Same Wrong 2 guesses is:  332\n",
      "Dif Correct 2 guesses is:  23\n",
      "Dif Wrong 2 guesses is:  204\n",
      "\n",
      "Same Correct 3 guesses is:  474\n",
      "Same Wrong 3 guesses is:  33\n",
      "Dif Correct 3 guesses is:  272\n",
      "Dif Wrong 3 guesses is:  28\n",
      "\n",
      "Same Correct 4 guesses is:  0\n",
      "Same Wrong 4 guesses is:  388\n",
      "Dif Correct 4 guesses is:  0\n",
      "Dif Wrong 4 guesses is:  191\n",
      "\n",
      "Same Correct 5 guesses is:  0\n",
      "Same Wrong 5 guesses is:  111\n",
      "Dif Correct 5 guesses is:  0\n",
      "Dif Wrong 5 guesses is:  60\n"
     ]
    }
   ],
   "source": [
    "same_correct_0, same_wrong_0, same_correct_1, same_wrong_1, same_correct_2, same_wrong_2, same_correct_3, same_wrong_3, same_correct_4, same_wrong_4, same_correct_5, same_wrong_5 = (0, 0, 0, 0, 0, 0, 0, 0, 0, 0, 0, 0)\n",
    "dif_correct_0, dif_wrong_0, dif_correct_1, dif_wrong_1, dif_correct_2, dif_wrong_2, dif_correct_3, dif_wrong_3, dif_correct_4, dif_wrong_4, dif_correct_5, dif_wrong_5 = (0, 0, 0, 0, 0, 0, 0, 0, 0, 0, 0, 0)\n",
    "\n",
    "for i in range(len(pred)):\n",
    "    if test[i] == 0 and pred[i] == 0:\n",
    "        if test[i] == X_test_bored[i]:\n",
    "            same_correct_0 += 1\n",
    "        if test[i] != X_test_bored[i]:\n",
    "            dif_correct_0 += 1\n",
    "    if test[i] == 0 and pred[i] != 0:\n",
    "        if test[i] == X_test_bored[i]:\n",
    "            same_wrong_0 += 1\n",
    "        if test[i] != X_test_bored[i]:\n",
    "            dif_wrong_0 += 1\n",
    "\n",
    "    if test[i] == 2 and pred[i] == 2:\n",
    "        if test[i] == X_test_bored[i]:\n",
    "            same_correct_1 += 1\n",
    "        if test[i] != X_test_bored[i]:\n",
    "            dif_correct_1 += 1\n",
    "    if test[i] == 2 and pred[i] != 2:\n",
    "        if test[i] == X_test_bored[i]:\n",
    "            same_wrong_1 += 1\n",
    "        if test[i] != X_test_bored[i]:\n",
    "            dif_wrong_1 += 1\n",
    "        \n",
    "    if test[i] == 3 and pred[i] == 3:\n",
    "        if test[i] == X_test_bored[i]:\n",
    "            same_correct_2 += 1\n",
    "        if test[i] != X_test_bored[i]:\n",
    "            dif_correct_2 += 1\n",
    "    if test[i] == 3 and pred[i] != 3:\n",
    "        if test[i] == X_test_bored[i]:\n",
    "            same_wrong_2 += 1\n",
    "        if test[i] != X_test_bored[i]:\n",
    "            dif_wrong_2 += 1\n",
    "    \n",
    "    if test[i] == 5 and pred[i] == 5:\n",
    "        if test[i] == X_test_bored[i]:\n",
    "            same_correct_3 += 1\n",
    "        if test[i] != X_test_bored[i]:\n",
    "            dif_correct_3 += 1\n",
    "    if test[i] == 5 and pred[i] != 5:\n",
    "        if test[i] == X_test_bored[i]:\n",
    "            same_wrong_3 += 1\n",
    "        if test[i] != X_test_bored[i]:\n",
    "            dif_wrong_3 += 1\n",
    "        \n",
    "    if test[i] == 7 and pred[i] == 7:\n",
    "        if test[i] == X_test_bored[i]:\n",
    "            same_correct_4 += 1\n",
    "        if test[i] != X_test_bored[i]:\n",
    "            dif_correct_4 += 1\n",
    "    if test[i] == 7 and pred[i] != 7:\n",
    "        if test[i] == X_test_bored[i]:\n",
    "            same_wrong_4 += 1\n",
    "        if test[i] != X_test_bored[i]:\n",
    "            dif_wrong_4 += 1\n",
    "    \n",
    "    if test[i] == 8 and pred[i] == 8:\n",
    "        if test[i] == X_test_bored[i]:\n",
    "            same_correct_5 += 1\n",
    "        if test[i] != X_test_bored[i]:\n",
    "            dif_correct_5 += 1\n",
    "    if test[i] == 8 and pred[i] != 8:\n",
    "        if test[i] == X_test_bored[i]:\n",
    "            same_wrong_5 += 1\n",
    "        if test[i] != X_test_bored[i]:\n",
    "            dif_wrong_5 += 1\n",
    "\n",
    "print(\"Total length: \", len(X_test_bored))\n",
    "\n",
    "print(\"Same Correct 0 guesses is: \", same_correct_0)\n",
    "print(\"Same Wrong 0 guesses is: \", same_wrong_0)\n",
    "print(\"Dif Correct 0 guesses is: \", dif_correct_0)\n",
    "print(\"Dif Wrong 0 guesses is: \", dif_wrong_0)\n",
    "print('')\n",
    "print(\"Same Correct 1 guesses is: \", same_correct_1)\n",
    "print(\"Same Wrong 1 guesses is: \", same_wrong_1)\n",
    "print(\"Dif Correct 1 guesses is: \", dif_correct_1)\n",
    "print(\"Dif Wrong 1 guesses is: \", dif_wrong_1)\n",
    "print('')\n",
    "print(\"Same Correct 2 guesses is: \", same_correct_2)\n",
    "print(\"Same Wrong 2 guesses is: \", same_wrong_2)\n",
    "print(\"Dif Correct 2 guesses is: \", dif_correct_2)\n",
    "print(\"Dif Wrong 2 guesses is: \", dif_wrong_2)\n",
    "print('')\n",
    "print(\"Same Correct 3 guesses is: \", same_correct_3)\n",
    "print(\"Same Wrong 3 guesses is: \", same_wrong_3)\n",
    "print(\"Dif Correct 3 guesses is: \", dif_correct_3)\n",
    "print(\"Dif Wrong 3 guesses is: \", dif_wrong_3)\n",
    "print('')\n",
    "print(\"Same Correct 4 guesses is: \", same_correct_4)\n",
    "print(\"Same Wrong 4 guesses is: \", same_wrong_4)\n",
    "print(\"Dif Correct 4 guesses is: \", dif_correct_4)\n",
    "print(\"Dif Wrong 4 guesses is: \", dif_wrong_4)\n",
    "print('')\n",
    "print(\"Same Correct 5 guesses is: \", same_correct_5)\n",
    "print(\"Same Wrong 5 guesses is: \", same_wrong_5)\n",
    "print(\"Dif Correct 5 guesses is: \", dif_correct_5)\n",
    "print(\"Dif Wrong 5 guesses is: \", dif_wrong_5)"
   ]
  },
  {
   "cell_type": "code",
   "execution_count": 43,
   "metadata": {},
   "outputs": [],
   "source": [
    "mae_0, mae_1, mae_2, mae_3, mae_4, mae_5 = (0,0,0,0,0,0)\n",
    "\n",
    "for i in range(len(pred)):\n",
    "    if test[i] == 0 and pred[i] != 0:\n",
    "        mae_0 += (abs(test[i]-pred[i]))\n",
    "    if test[i] == 2 and pred[i] != 2:\n",
    "        mae_1 += (abs(test[i]-pred[i]))\n",
    "    if test[i] == 3 and pred[i] != 3:\n",
    "        mae_2 += (abs(test[i]-pred[i]))\n",
    "    if test[i] == 5 and pred[i] != 5:\n",
    "        mae_3 += (abs(test[i]-pred[i]))\n",
    "    if test[i] == 7 and pred[i] != 7:\n",
    "        mae_4 += (abs(test[i]-pred[i]))\n",
    "    if test[i] == 8 and pred[i] != 8:\n",
    "        mae_5 += (abs(test[i]-pred[i]))\n",
    "\n",
    "cnt_0, cnt_1, cnt_2, cnt_3, cnt_4, cnt_5 = (0,0,0,0,0,0)\n",
    "for z in range(len(test)):\n",
    "    if test[z] == 0:\n",
    "        cnt_0 += 1\n",
    "    if test[z] == 2:\n",
    "        cnt_1 += 1\n",
    "    if test[z] == 3:\n",
    "        cnt_2 += 1\n",
    "    if test[z] == 5:\n",
    "        cnt_3 += 1\n",
    "    if test[z] == 7:\n",
    "        cnt_4 += 1\n",
    "    if test[z] == 8:\n",
    "        cnt_5 += 1\n",
    "\n",
    "mae_macroaverage = ((mae_0/cnt_0) + (mae_1/cnt_1) + (mae_2/cnt_2) + (mae_3/cnt_3) + (mae_4/cnt_4) + (mae_5/cnt_5)) / 6"
   ]
  },
  {
   "cell_type": "code",
   "execution_count": 44,
   "metadata": {},
   "outputs": [
    {
     "name": "stdout",
     "output_type": "stream",
     "text": [
      "Macro-averaged Mean Absolute error is:  2.4678\n",
      "Macro-averaged F1-score is:  0.162\n"
     ]
    }
   ],
   "source": [
    "print(\"Macro-averaged Mean Absolute error is: \", round(mae_macroaverage, 4))\n",
    "print(\"Macro-averaged F1-score is: \", round(f1_score(test, pred, average='weighted'), 4))"
   ]
  },
  {
   "cell_type": "code",
   "execution_count": null,
   "metadata": {},
   "outputs": [],
   "source": []
  }
 ],
 "metadata": {
  "kernelspec": {
   "display_name": "Python 3",
   "language": "python",
   "name": "python3"
  },
  "language_info": {
   "codemirror_mode": {
    "name": "ipython",
    "version": 3
   },
   "file_extension": ".py",
   "mimetype": "text/x-python",
   "name": "python",
   "nbconvert_exporter": "python",
   "pygments_lexer": "ipython3",
   "version": "3.7.4"
  }
 },
 "nbformat": 4,
 "nbformat_minor": 2
}
