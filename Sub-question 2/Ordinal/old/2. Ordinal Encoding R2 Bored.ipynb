{
 "cells": [
  {
   "cell_type": "code",
   "execution_count": 1,
   "metadata": {},
   "outputs": [
    {
     "name": "stderr",
     "output_type": "stream",
     "text": [
      "Using TensorFlow backend.\n"
     ]
    }
   ],
   "source": [
    "# Import packages\n",
    "import pandas as pd\n",
    "import numpy as np\n",
    "import datetime\n",
    "import category_encoders as ce\n",
    "from sklearn.preprocessing import LabelEncoder, MinMaxScaler, RobustScaler, OneHotEncoder, StandardScaler\n",
    "from sklearn.model_selection import train_test_split\n",
    "from sklearn.metrics import accuracy_score, mean_squared_error, cohen_kappa_score, f1_score\n",
    "from sklearn.utils import shuffle\n",
    "from imblearn.over_sampling import SMOTE, SMOTENC\n",
    "import matplotlib.pyplot as plt\n",
    "from statsmodels.graphics.mosaicplot import mosaic\n",
    "from sklearn.decomposition import PCA\n",
    "from scipy import stats\n",
    "from math import sqrt\n",
    "\n",
    "\n",
    "\n",
    "import keras\n",
    "from keras.models import Sequential\n",
    "from keras.layers import Dense, Dropout, GaussianNoise\n",
    "from keras.optimizers import SGD\n",
    "from keras import regularizers"
   ]
  },
  {
   "cell_type": "code",
   "execution_count": 2,
   "metadata": {},
   "outputs": [],
   "source": [
    "path = \"/Users/Stijn/Documents/Master Data Science and Society/Block 3/thesis/code/thesis_Code/\"\n",
    "mood = pd.read_csv(path+'mood_imputed_median.csv', sep = ',', index_col=0)\n",
    "mood_bored = mood.copy()"
   ]
  },
  {
   "cell_type": "code",
   "execution_count": 3,
   "metadata": {},
   "outputs": [],
   "source": [
    "boredR2 = []\n",
    "for a in mood['bored']:\n",
    "    if a == 0:\n",
    "      boredR2.append(0)  \n",
    "    if a == 1:\n",
    "      boredR2.append(3)\n",
    "    if a == 2:\n",
    "      boredR2.append(4)\n",
    "    if a == 3:\n",
    "      boredR2.append(5)\n",
    "    if a == 4:\n",
    "      boredR2.append(7)\n",
    "    if a == 5:\n",
    "      boredR2.append(9)\n",
    "mood_bored['boredR2'] = boredR2\n",
    "mood_bored = mood_bored.drop(['bored'], axis=1)"
   ]
  },
  {
   "cell_type": "code",
   "execution_count": 4,
   "metadata": {},
   "outputs": [],
   "source": [
    "mood_bored['bored_last'] = mood_bored.groupby('user_id')['boredR2'].shift()\n",
    "mood_bored.loc[(pd.isnull(mood_bored.bored_last)), 'bored_last'] = mood_bored['boredR2']\n",
    "mood_bored = mood_bored.drop([\"anxious\", \"content\", \"cheerful\", \"user_id\", \"response_time\"], axis=1)\n",
    "mood_bored = mood_bored[['boredR2', 'day_time_window', 'average_TimeUse', 'bulk', 'messaging', 'socialnetworking', 'otherapp', 'bored_last']]"
   ]
  },
  {
   "cell_type": "code",
   "execution_count": 5,
   "metadata": {},
   "outputs": [],
   "source": [
    "# Normalize predictors\n",
    "mood_normz = mood_bored.copy()\n",
    "features_to_normalize = ['day_time_window', 'average_TimeUse', 'messaging', 'socialnetworking', 'otherapp']\n",
    "mood_normz[features_to_normalize] = mood_normz[features_to_normalize].apply(lambda x:(x-x.min()) / (x.max()-x.min()))"
   ]
  },
  {
   "cell_type": "code",
   "execution_count": 6,
   "metadata": {},
   "outputs": [],
   "source": [
    "X = mood_normz.iloc[:,1:]\n",
    "y = mood_normz.iloc[:, 0:1]\n",
    "y = y.astype(int)"
   ]
  },
  {
   "cell_type": "code",
   "execution_count": 7,
   "metadata": {},
   "outputs": [],
   "source": [
    "X_train, X_test, y_train, y_test = train_test_split(X, y, test_size=0.2, random_state=2)"
   ]
  },
  {
   "cell_type": "code",
   "execution_count": 8,
   "metadata": {},
   "outputs": [
    {
     "name": "stdout",
     "output_type": "stream",
     "text": [
      "Before OverSampling, counts of labels: 0    5139\n",
      "3    1927\n",
      "4    1840\n",
      "5    1184\n",
      "7     403\n",
      "9      83\n",
      "Name: boredR2, dtype: int64\n",
      "After OverSampling, counts of label '0': 5139\n",
      "After OverSampling, counts of label '3': 5139\n",
      "After OverSampling, counts of label '4': 5139\n",
      "After OverSampling, counts of label '5': 5139\n",
      "After OverSampling, counts of label '7': 5139\n",
      "After OverSampling, counts of label '9': 5139\n"
     ]
    }
   ],
   "source": [
    "# Oversampling unbalanced target\n",
    "print(\"Before OverSampling, counts of labels: {}\".format(y_train['boredR2'].value_counts()))\n",
    "  \n",
    "sm = SMOTENC(categorical_features=[0, 2, 6], random_state = 2) \n",
    "X_train_res, y_train_res = sm.fit_sample(X_train, y_train['boredR2'].ravel()) \n",
    "\n",
    "print(\"After OverSampling, counts of label '0': {}\".format(sum(y_train_res == 0))) \n",
    "print(\"After OverSampling, counts of label '3': {}\".format(sum(y_train_res == 3))) \n",
    "print(\"After OverSampling, counts of label '4': {}\".format(sum(y_train_res == 4))) \n",
    "print(\"After OverSampling, counts of label '5': {}\".format(sum(y_train_res == 5))) \n",
    "print(\"After OverSampling, counts of label '7': {}\".format(sum(y_train_res == 7))) \n",
    "print(\"After OverSampling, counts of label '9': {}\".format(sum(y_train_res == 9))) "
   ]
  },
  {
   "cell_type": "code",
   "execution_count": 9,
   "metadata": {},
   "outputs": [],
   "source": [
    "X_train = pd.DataFrame(data=X_train_res)\n",
    "y_train = pd.DataFrame(data=y_train_res)"
   ]
  },
  {
   "cell_type": "code",
   "execution_count": 10,
   "metadata": {},
   "outputs": [],
   "source": [
    "# Shuffle both train and test set to cancel patterns\n",
    "X_train, y_train = shuffle(X_train, y_train)\n",
    "X_test, y_test = shuffle(X_test, y_test)"
   ]
  },
  {
   "cell_type": "code",
   "execution_count": 11,
   "metadata": {},
   "outputs": [],
   "source": [
    "X_train_nomood = X_train.iloc[:,:-1]\n",
    "X_train_onlyboredlast = X_train.iloc[:,-1:]\n",
    "X_test_nomood = X_test.iloc[:,:-1]\n",
    "X_test_onlyboredlast = X_test.iloc[:,-1:]"
   ]
  },
  {
   "cell_type": "code",
   "execution_count": 12,
   "metadata": {},
   "outputs": [
    {
     "name": "stdout",
     "output_type": "stream",
     "text": [
      "Model: \"sequential_1\"\n",
      "_________________________________________________________________\n",
      "Layer (type)                 Output Shape              Param #   \n",
      "=================================================================\n",
      "dense_1 (Dense)              (None, 24)                168       \n",
      "_________________________________________________________________\n",
      "dense_2 (Dense)              (None, 12)                300       \n",
      "_________________________________________________________________\n",
      "dense_3 (Dense)              (None, 1)                 13        \n",
      "=================================================================\n",
      "Total params: 481\n",
      "Trainable params: 481\n",
      "Non-trainable params: 0\n",
      "_________________________________________________________________\n"
     ]
    }
   ],
   "source": [
    "# Define Keras model\n",
    "model = Sequential()\n",
    "model.add(Dense(24, input_dim=6, activation='relu'))\n",
    "model.add(Dense(12, activation='relu'))\n",
    "model.add(Dense(1, activation='linear'))\n",
    "\n",
    "model.compile(loss='mean_squared_error', optimizer='adam', metrics=['accuracy'])\n",
    "model.summary()"
   ]
  },
  {
   "cell_type": "code",
   "execution_count": 13,
   "metadata": {},
   "outputs": [
    {
     "name": "stdout",
     "output_type": "stream",
     "text": [
      "Train on 24667 samples, validate on 6167 samples\n",
      "Epoch 1/100\n",
      "24667/24667 [==============================] - 0s 10us/step - loss: 29.5575 - accuracy: 0.1648 - val_loss: 28.3752 - val_accuracy: 0.1664\n",
      "Epoch 2/100\n",
      "24667/24667 [==============================] - 0s 4us/step - loss: 23.9302 - accuracy: 0.0579 - val_loss: 20.4254 - val_accuracy: 0.0000e+00\n",
      "Epoch 3/100\n",
      "24667/24667 [==============================] - 0s 4us/step - loss: 14.6811 - accuracy: 0.0444 - val_loss: 10.6481 - val_accuracy: 0.1362\n",
      "Epoch 4/100\n",
      "24667/24667 [==============================] - 0s 5us/step - loss: 8.7615 - accuracy: 0.1672 - val_loss: 8.3444 - val_accuracy: 0.1586\n",
      "Epoch 5/100\n",
      "24667/24667 [==============================] - 0s 4us/step - loss: 8.0885 - accuracy: 0.1630 - val_loss: 8.1856 - val_accuracy: 0.1631\n",
      "Epoch 6/100\n",
      "24667/24667 [==============================] - 0s 4us/step - loss: 7.9724 - accuracy: 0.1673 - val_loss: 8.1238 - val_accuracy: 0.1646\n",
      "Epoch 7/100\n",
      "24667/24667 [==============================] - 0s 4us/step - loss: 7.9332 - accuracy: 0.1694 - val_loss: 8.1088 - val_accuracy: 0.1672\n",
      "Epoch 8/100\n",
      "24667/24667 [==============================] - 0s 4us/step - loss: 7.9162 - accuracy: 0.1704 - val_loss: 8.1017 - val_accuracy: 0.1712\n",
      "Epoch 9/100\n",
      "24667/24667 [==============================] - 0s 4us/step - loss: 7.9048 - accuracy: 0.1711 - val_loss: 8.0989 - val_accuracy: 0.1719\n",
      "Epoch 10/100\n",
      "24667/24667 [==============================] - 0s 4us/step - loss: 7.8957 - accuracy: 0.1718 - val_loss: 8.0807 - val_accuracy: 0.1699\n",
      "Epoch 11/100\n",
      "24667/24667 [==============================] - 0s 4us/step - loss: 7.8903 - accuracy: 0.1723 - val_loss: 8.0781 - val_accuracy: 0.1707\n",
      "Epoch 12/100\n",
      "24667/24667 [==============================] - 0s 4us/step - loss: 7.8832 - accuracy: 0.1724 - val_loss: 8.0815 - val_accuracy: 0.1719\n",
      "Epoch 13/100\n",
      "24667/24667 [==============================] - 0s 4us/step - loss: 7.8762 - accuracy: 0.1721 - val_loss: 8.0647 - val_accuracy: 0.1719\n",
      "Epoch 14/100\n",
      "24667/24667 [==============================] - 0s 4us/step - loss: 7.8710 - accuracy: 0.1727 - val_loss: 8.0713 - val_accuracy: 0.1719\n",
      "Epoch 15/100\n",
      "24667/24667 [==============================] - 0s 4us/step - loss: 7.8643 - accuracy: 0.1725 - val_loss: 8.0545 - val_accuracy: 0.1722\n",
      "Epoch 16/100\n",
      "24667/24667 [==============================] - 0s 4us/step - loss: 7.8589 - accuracy: 0.1733 - val_loss: 8.0464 - val_accuracy: 0.1787\n",
      "Epoch 17/100\n",
      "24667/24667 [==============================] - 0s 4us/step - loss: 7.8507 - accuracy: 0.1739 - val_loss: 8.0506 - val_accuracy: 0.1717\n",
      "Epoch 18/100\n",
      "24667/24667 [==============================] - 0s 4us/step - loss: 7.8445 - accuracy: 0.1729 - val_loss: 8.0425 - val_accuracy: 0.1717\n",
      "Epoch 19/100\n",
      "24667/24667 [==============================] - 0s 4us/step - loss: 7.8377 - accuracy: 0.1738 - val_loss: 8.0432 - val_accuracy: 0.1724\n",
      "Epoch 20/100\n",
      "24667/24667 [==============================] - 0s 4us/step - loss: 7.8344 - accuracy: 0.1732 - val_loss: 8.0198 - val_accuracy: 0.1761\n",
      "Epoch 21/100\n",
      "24667/24667 [==============================] - 0s 4us/step - loss: 7.8251 - accuracy: 0.1742 - val_loss: 8.0171 - val_accuracy: 0.1763\n",
      "Epoch 22/100\n",
      "24667/24667 [==============================] - 0s 4us/step - loss: 7.8236 - accuracy: 0.1729 - val_loss: 8.0214 - val_accuracy: 0.1766\n",
      "Epoch 23/100\n",
      "24667/24667 [==============================] - 0s 4us/step - loss: 7.8163 - accuracy: 0.1734 - val_loss: 8.0051 - val_accuracy: 0.1753\n",
      "Epoch 24/100\n",
      "24667/24667 [==============================] - 0s 4us/step - loss: 7.8096 - accuracy: 0.1725 - val_loss: 8.0223 - val_accuracy: 0.1766\n",
      "Epoch 25/100\n",
      "24667/24667 [==============================] - 0s 4us/step - loss: 7.8047 - accuracy: 0.1725 - val_loss: 7.9979 - val_accuracy: 0.1746\n",
      "Epoch 26/100\n",
      "24667/24667 [==============================] - 0s 4us/step - loss: 7.7998 - accuracy: 0.1735 - val_loss: 7.9841 - val_accuracy: 0.1730\n",
      "Epoch 27/100\n",
      "24667/24667 [==============================] - 0s 4us/step - loss: 7.7942 - accuracy: 0.1737 - val_loss: 7.9859 - val_accuracy: 0.1750\n",
      "Epoch 28/100\n",
      "24667/24667 [==============================] - 0s 4us/step - loss: 7.7904 - accuracy: 0.1733 - val_loss: 7.9906 - val_accuracy: 0.1758\n",
      "Epoch 29/100\n",
      "24667/24667 [==============================] - 0s 4us/step - loss: 7.7868 - accuracy: 0.1741 - val_loss: 7.9708 - val_accuracy: 0.1733\n",
      "Epoch 30/100\n",
      "24667/24667 [==============================] - 0s 4us/step - loss: 7.7809 - accuracy: 0.1747 - val_loss: 7.9818 - val_accuracy: 0.1774\n",
      "Epoch 31/100\n",
      "24667/24667 [==============================] - 0s 5us/step - loss: 7.7786 - accuracy: 0.1736 - val_loss: 7.9706 - val_accuracy: 0.1735\n",
      "Epoch 32/100\n",
      "24667/24667 [==============================] - 0s 4us/step - loss: 7.7772 - accuracy: 0.1739 - val_loss: 7.9633 - val_accuracy: 0.1745\n",
      "Epoch 33/100\n",
      "24667/24667 [==============================] - 0s 5us/step - loss: 7.7687 - accuracy: 0.1737 - val_loss: 7.9579 - val_accuracy: 0.1742\n",
      "Epoch 34/100\n",
      "24667/24667 [==============================] - 0s 4us/step - loss: 7.7679 - accuracy: 0.1742 - val_loss: 7.9488 - val_accuracy: 0.1727\n",
      "Epoch 35/100\n",
      "24667/24667 [==============================] - 0s 4us/step - loss: 7.7619 - accuracy: 0.1730 - val_loss: 7.9403 - val_accuracy: 0.1711\n",
      "Epoch 36/100\n",
      "24667/24667 [==============================] - 0s 4us/step - loss: 7.7592 - accuracy: 0.1729 - val_loss: 7.9493 - val_accuracy: 0.1720\n",
      "Epoch 37/100\n",
      "24667/24667 [==============================] - 0s 4us/step - loss: 7.7564 - accuracy: 0.1727 - val_loss: 7.9354 - val_accuracy: 0.1698\n",
      "Epoch 38/100\n",
      "24667/24667 [==============================] - 0s 4us/step - loss: 7.7524 - accuracy: 0.1721 - val_loss: 7.9330 - val_accuracy: 0.1696\n",
      "Epoch 39/100\n",
      "24667/24667 [==============================] - 0s 4us/step - loss: 7.7508 - accuracy: 0.1718 - val_loss: 7.9288 - val_accuracy: 0.1695\n",
      "Epoch 40/100\n",
      "24667/24667 [==============================] - 0s 4us/step - loss: 7.7469 - accuracy: 0.1718 - val_loss: 7.9382 - val_accuracy: 0.1711\n",
      "Epoch 41/100\n",
      "24667/24667 [==============================] - 0s 4us/step - loss: 7.7463 - accuracy: 0.1720 - val_loss: 7.9314 - val_accuracy: 0.1698\n",
      "Epoch 42/100\n",
      "24667/24667 [==============================] - 0s 4us/step - loss: 7.7425 - accuracy: 0.1708 - val_loss: 7.9246 - val_accuracy: 0.1693\n",
      "Epoch 43/100\n",
      "24667/24667 [==============================] - 0s 4us/step - loss: 7.7408 - accuracy: 0.1706 - val_loss: 7.9302 - val_accuracy: 0.1714\n",
      "Epoch 44/100\n",
      "24667/24667 [==============================] - 0s 4us/step - loss: 7.7392 - accuracy: 0.1711 - val_loss: 7.9294 - val_accuracy: 0.1711\n",
      "Epoch 45/100\n",
      "24667/24667 [==============================] - 0s 4us/step - loss: 7.7381 - accuracy: 0.1713 - val_loss: 7.9102 - val_accuracy: 0.1680\n",
      "Epoch 46/100\n",
      "24667/24667 [==============================] - 0s 4us/step - loss: 7.7356 - accuracy: 0.1715 - val_loss: 7.9141 - val_accuracy: 0.1696\n",
      "Epoch 47/100\n",
      "24667/24667 [==============================] - 0s 4us/step - loss: 7.7322 - accuracy: 0.1699 - val_loss: 7.9224 - val_accuracy: 0.1696\n",
      "Epoch 48/100\n",
      "24667/24667 [==============================] - 0s 4us/step - loss: 7.7309 - accuracy: 0.1703 - val_loss: 7.9146 - val_accuracy: 0.1712\n",
      "Epoch 49/100\n",
      "24667/24667 [==============================] - 0s 4us/step - loss: 7.7273 - accuracy: 0.1704 - val_loss: 7.9141 - val_accuracy: 0.1701\n",
      "Epoch 50/100\n",
      "24667/24667 [==============================] - 0s 4us/step - loss: 7.7323 - accuracy: 0.1701 - val_loss: 7.9461 - val_accuracy: 0.1725\n",
      "Epoch 51/100\n",
      "24667/24667 [==============================] - 0s 4us/step - loss: 7.7267 - accuracy: 0.1705 - val_loss: 7.9030 - val_accuracy: 0.1686\n",
      "Epoch 52/100\n",
      "24667/24667 [==============================] - 0s 4us/step - loss: 7.7221 - accuracy: 0.1693 - val_loss: 7.9210 - val_accuracy: 0.1699\n",
      "Epoch 53/100\n",
      "24667/24667 [==============================] - 0s 5us/step - loss: 7.7211 - accuracy: 0.1697 - val_loss: 7.8973 - val_accuracy: 0.1695\n",
      "Epoch 54/100\n",
      "24667/24667 [==============================] - 0s 5us/step - loss: 7.7193 - accuracy: 0.1699 - val_loss: 7.9054 - val_accuracy: 0.1703\n",
      "Epoch 55/100\n",
      "24667/24667 [==============================] - 0s 5us/step - loss: 7.7180 - accuracy: 0.1691 - val_loss: 7.8983 - val_accuracy: 0.1686\n",
      "Epoch 56/100\n"
     ]
    },
    {
     "name": "stdout",
     "output_type": "stream",
     "text": [
      "24667/24667 [==============================] - 0s 5us/step - loss: 7.7157 - accuracy: 0.1699 - val_loss: 7.8966 - val_accuracy: 0.1696\n",
      "Epoch 57/100\n",
      "24667/24667 [==============================] - 0s 4us/step - loss: 7.7145 - accuracy: 0.1688 - val_loss: 7.9185 - val_accuracy: 0.1704\n",
      "Epoch 58/100\n",
      "24667/24667 [==============================] - 0s 4us/step - loss: 7.7126 - accuracy: 0.1701 - val_loss: 7.9034 - val_accuracy: 0.1707\n",
      "Epoch 59/100\n",
      "24667/24667 [==============================] - 0s 4us/step - loss: 7.7134 - accuracy: 0.1695 - val_loss: 7.8912 - val_accuracy: 0.1691\n",
      "Epoch 60/100\n",
      "24667/24667 [==============================] - 0s 4us/step - loss: 7.7131 - accuracy: 0.1693 - val_loss: 7.9003 - val_accuracy: 0.1686\n",
      "Epoch 61/100\n",
      "24667/24667 [==============================] - 0s 4us/step - loss: 7.7116 - accuracy: 0.1688 - val_loss: 7.8967 - val_accuracy: 0.1703\n",
      "Epoch 62/100\n",
      "24667/24667 [==============================] - 0s 4us/step - loss: 7.7078 - accuracy: 0.1684 - val_loss: 7.9031 - val_accuracy: 0.1701\n",
      "Epoch 63/100\n",
      "24667/24667 [==============================] - 0s 4us/step - loss: 7.7044 - accuracy: 0.1699 - val_loss: 7.8835 - val_accuracy: 0.1682\n",
      "Epoch 64/100\n",
      "24667/24667 [==============================] - 0s 4us/step - loss: 7.7011 - accuracy: 0.1688 - val_loss: 7.8962 - val_accuracy: 0.1701\n",
      "Epoch 65/100\n",
      "24667/24667 [==============================] - 0s 4us/step - loss: 7.7080 - accuracy: 0.1703 - val_loss: 7.8822 - val_accuracy: 0.1682\n",
      "Epoch 66/100\n",
      "24667/24667 [==============================] - 0s 4us/step - loss: 7.6964 - accuracy: 0.1682 - val_loss: 7.8786 - val_accuracy: 0.1686\n",
      "Epoch 67/100\n",
      "24667/24667 [==============================] - 0s 4us/step - loss: 7.6999 - accuracy: 0.1701 - val_loss: 7.8889 - val_accuracy: 0.1701\n",
      "Epoch 68/100\n",
      "24667/24667 [==============================] - 0s 4us/step - loss: 7.6943 - accuracy: 0.1685 - val_loss: 7.8775 - val_accuracy: 0.1699\n",
      "Epoch 69/100\n",
      "24667/24667 [==============================] - 0s 4us/step - loss: 7.6928 - accuracy: 0.1697 - val_loss: 7.8811 - val_accuracy: 0.1691\n",
      "Epoch 70/100\n",
      "24667/24667 [==============================] - 0s 4us/step - loss: 7.6919 - accuracy: 0.1687 - val_loss: 7.8899 - val_accuracy: 0.1695\n",
      "Epoch 71/100\n",
      "24667/24667 [==============================] - 0s 4us/step - loss: 7.6934 - accuracy: 0.1691 - val_loss: 7.8773 - val_accuracy: 0.1693\n",
      "Epoch 72/100\n",
      "24667/24667 [==============================] - 0s 4us/step - loss: 7.6868 - accuracy: 0.1688 - val_loss: 7.8704 - val_accuracy: 0.1686\n",
      "Epoch 73/100\n",
      "24667/24667 [==============================] - 0s 4us/step - loss: 7.6887 - accuracy: 0.1693 - val_loss: 7.8670 - val_accuracy: 0.1675\n",
      "Epoch 74/100\n",
      "24667/24667 [==============================] - 0s 4us/step - loss: 7.6854 - accuracy: 0.1687 - val_loss: 7.8903 - val_accuracy: 0.1706\n",
      "Epoch 75/100\n",
      "24667/24667 [==============================] - 0s 4us/step - loss: 7.6836 - accuracy: 0.1689 - val_loss: 7.8953 - val_accuracy: 0.1722\n",
      "Epoch 76/100\n",
      "24667/24667 [==============================] - 0s 4us/step - loss: 7.6827 - accuracy: 0.1688 - val_loss: 7.8774 - val_accuracy: 0.1704\n",
      "Epoch 77/100\n",
      "24667/24667 [==============================] - 0s 4us/step - loss: 7.6789 - accuracy: 0.1689 - val_loss: 7.8740 - val_accuracy: 0.1695\n",
      "Epoch 78/100\n",
      "24667/24667 [==============================] - 0s 4us/step - loss: 7.6782 - accuracy: 0.1697 - val_loss: 7.8697 - val_accuracy: 0.1682\n",
      "Epoch 79/100\n",
      "24667/24667 [==============================] - 0s 4us/step - loss: 7.6773 - accuracy: 0.1696 - val_loss: 7.8635 - val_accuracy: 0.1683\n",
      "Epoch 80/100\n",
      "24667/24667 [==============================] - 0s 4us/step - loss: 7.6851 - accuracy: 0.1692 - val_loss: 7.8677 - val_accuracy: 0.1707\n",
      "Epoch 81/100\n",
      "24667/24667 [==============================] - 0s 4us/step - loss: 7.6737 - accuracy: 0.1688 - val_loss: 7.8648 - val_accuracy: 0.1683\n",
      "Epoch 82/100\n",
      "24667/24667 [==============================] - 0s 4us/step - loss: 7.6767 - accuracy: 0.1690 - val_loss: 7.8582 - val_accuracy: 0.1688\n",
      "Epoch 83/100\n",
      "24667/24667 [==============================] - 0s 4us/step - loss: 7.6712 - accuracy: 0.1689 - val_loss: 7.8624 - val_accuracy: 0.1673\n",
      "Epoch 84/100\n",
      "24667/24667 [==============================] - 0s 4us/step - loss: 7.6724 - accuracy: 0.1701 - val_loss: 7.8555 - val_accuracy: 0.1678\n",
      "Epoch 85/100\n",
      "24667/24667 [==============================] - 0s 4us/step - loss: 7.6669 - accuracy: 0.1693 - val_loss: 7.8694 - val_accuracy: 0.1719\n",
      "Epoch 86/100\n",
      "24667/24667 [==============================] - 0s 4us/step - loss: 7.6661 - accuracy: 0.1686 - val_loss: 7.8881 - val_accuracy: 0.1733\n",
      "Epoch 87/100\n",
      "24667/24667 [==============================] - 0s 4us/step - loss: 7.6708 - accuracy: 0.1695 - val_loss: 7.8532 - val_accuracy: 0.1698\n",
      "Epoch 88/100\n",
      "24667/24667 [==============================] - 0s 4us/step - loss: 7.6636 - accuracy: 0.1694 - val_loss: 7.8653 - val_accuracy: 0.1730\n",
      "Epoch 89/100\n",
      "24667/24667 [==============================] - 0s 4us/step - loss: 7.6602 - accuracy: 0.1691 - val_loss: 7.8632 - val_accuracy: 0.1722\n",
      "Epoch 90/100\n",
      "24667/24667 [==============================] - 0s 4us/step - loss: 7.6629 - accuracy: 0.1689 - val_loss: 7.8500 - val_accuracy: 0.1695\n",
      "Epoch 91/100\n",
      "24667/24667 [==============================] - 0s 4us/step - loss: 7.6614 - accuracy: 0.1694 - val_loss: 7.8500 - val_accuracy: 0.1717\n",
      "Epoch 92/100\n",
      "24667/24667 [==============================] - 0s 4us/step - loss: 7.6562 - accuracy: 0.1684 - val_loss: 7.8474 - val_accuracy: 0.1680\n",
      "Epoch 93/100\n",
      "24667/24667 [==============================] - 0s 4us/step - loss: 7.6563 - accuracy: 0.1682 - val_loss: 7.8452 - val_accuracy: 0.1677\n",
      "Epoch 94/100\n",
      "24667/24667 [==============================] - 0s 4us/step - loss: 7.6576 - accuracy: 0.1692 - val_loss: 7.8430 - val_accuracy: 0.1695\n",
      "Epoch 95/100\n",
      "24667/24667 [==============================] - 0s 4us/step - loss: 7.6585 - accuracy: 0.1684 - val_loss: 7.8820 - val_accuracy: 0.1748\n",
      "Epoch 96/100\n",
      "24667/24667 [==============================] - 0s 4us/step - loss: 7.6505 - accuracy: 0.1696 - val_loss: 7.8528 - val_accuracy: 0.1714\n",
      "Epoch 97/100\n",
      "24667/24667 [==============================] - 0s 4us/step - loss: 7.6511 - accuracy: 0.1690 - val_loss: 7.8547 - val_accuracy: 0.1714\n",
      "Epoch 98/100\n",
      "24667/24667 [==============================] - 0s 4us/step - loss: 7.6501 - accuracy: 0.1693 - val_loss: 7.8480 - val_accuracy: 0.1703\n",
      "Epoch 99/100\n",
      "24667/24667 [==============================] - 0s 4us/step - loss: 7.6454 - accuracy: 0.1686 - val_loss: 7.8458 - val_accuracy: 0.1714\n",
      "Epoch 100/100\n",
      "24667/24667 [==============================] - 0s 4us/step - loss: 7.6455 - accuracy: 0.1685 - val_loss: 7.8430 - val_accuracy: 0.1709\n"
     ]
    }
   ],
   "source": [
    "history = model.fit(X_train_nomood, y_train, epochs=100, validation_split=0.2, batch_size=512)"
   ]
  },
  {
   "cell_type": "code",
   "execution_count": 14,
   "metadata": {},
   "outputs": [
    {
     "name": "stdout",
     "output_type": "stream",
     "text": [
      "Test loss: 7.679\n",
      "Test accuracy: 17.0 %\n"
     ]
    }
   ],
   "source": [
    "score = model.evaluate(X_train_nomood, y_train, verbose=0)\n",
    "print('Test loss:', round(score[0],4))\n",
    "print('Test accuracy:', round(score[1]*100,2), \"%\")"
   ]
  },
  {
   "cell_type": "code",
   "execution_count": 15,
   "metadata": {},
   "outputs": [
    {
     "data": {
      "image/png": "[encoded data removed]",
      "text/plain": [
       "<Figure size 432x288 with 1 Axes>"
      ]
     },
     "metadata": {
      "needs_background": "light"
     },
     "output_type": "display_data"
    }
   ],
   "source": [
    "# Plot training & validation accuracy values\n",
    "plt.plot(history.history['accuracy'])\n",
    "plt.plot(history.history['val_accuracy'])\n",
    "plt.title('Model accuracy')\n",
    "plt.ylabel('Accuracy')\n",
    "plt.xlabel('Epoch')\n",
    "plt.legend(['Train', 'Validation'], loc='upper left')\n",
    "plt.show()"
   ]
  },
  {
   "cell_type": "code",
   "execution_count": 16,
   "metadata": {},
   "outputs": [
    {
     "data": {
      "image/png": "[encoded data removed]",
      "text/plain": [
       "<Figure size 432x288 with 1 Axes>"
      ]
     },
     "metadata": {
      "needs_background": "light"
     },
     "output_type": "display_data"
    }
   ],
   "source": [
    "# Plot training & validation loss values\n",
    "plt.plot(history.history['loss'])\n",
    "plt.plot(history.history['val_loss'])\n",
    "plt.title('Model loss')\n",
    "plt.ylabel('Loss')\n",
    "plt.xlabel('Epoch')\n",
    "plt.legend(['Train', 'Validation'], loc='upper left')\n",
    "plt.show()"
   ]
  },
  {
   "cell_type": "code",
   "execution_count": 17,
   "metadata": {},
   "outputs": [],
   "source": [
    "y_pred = model.predict(X_test_nomood)"
   ]
  },
  {
   "cell_type": "code",
   "execution_count": 20,
   "metadata": {},
   "outputs": [],
   "source": [
    "cat_list = [0,3,4,5,7,9]\n",
    "pred = []\n",
    "for a in y_pred:\n",
    "    for b in a:\n",
    "        d = min(cat_list, key=lambda x:abs(x-b))\n",
    "        pred.append(round(d))\n",
    "\n",
    "test = []\n",
    "for c in y_test['boredR2']:\n",
    "    test.append(c)"
   ]
  },
  {
   "cell_type": "code",
   "execution_count": 21,
   "metadata": {},
   "outputs": [
    {
     "name": "stdout",
     "output_type": "stream",
     "text": [
      "Accuracy is: 14.706994328922496\n"
     ]
    }
   ],
   "source": [
    "a = accuracy_score(pred,test)\n",
    "print('Accuracy is:', a*100)"
   ]
  },
  {
   "cell_type": "code",
   "execution_count": 22,
   "metadata": {},
   "outputs": [
    {
     "name": "stdout",
     "output_type": "stream",
     "text": [
      "        Same Dif\n",
      "correct 223 166\n",
      "wrong   1558 698\n",
      "Table is right!\n"
     ]
    }
   ],
   "source": [
    "# true = y_test\n",
    "# pred = y_pred\n",
    "# last_value = X_bored_lastarray\n",
    "same_correct = 0\n",
    "same_wrong = 0\n",
    "dif_correct = 0\n",
    "dif_wrong = 0\n",
    "\n",
    "X_test_bored = X_test_onlyboredlast['bored_last'].values\n",
    "for i in range(len(pred)):\n",
    "    if (test[i] == X_test_bored[i]) and (test[i] == pred[i]):\n",
    "        same_correct += 1\n",
    "    if (test[i] == X_test_bored[i]) and (test[i] != pred[i]):\n",
    "        same_wrong += 1\n",
    "    if (test[i] != X_test_bored[i]) and (test[i] == pred[i]):\n",
    "        dif_correct += 1\n",
    "    if (test[i] != X_test_bored[i]) and (test[i] != pred[i]):\n",
    "        dif_wrong += 1   \n",
    "\n",
    "print(\"       \", \"Same\", \"Dif\")\n",
    "print(\"correct\", same_correct, dif_correct)\n",
    "print(\"wrong  \", same_wrong, dif_wrong)\n",
    "\n",
    "#Check if table is similar to accuracy\n",
    "if (same_correct+dif_correct) / (same_correct+dif_correct+same_wrong+dif_wrong) == a:\n",
    "    print(\"Table is right!\")\n",
    "else:\n",
    "    print(\"Table is wrong\")"
   ]
  },
  {
   "cell_type": "code",
   "execution_count": 23,
   "metadata": {},
   "outputs": [
    {
     "name": "stdout",
     "output_type": "stream",
     "text": [
      "Predicted valxues:  Counter({5: 1582, 4: 738, 3: 277, 7: 40, 0: 8})\n",
      "True values:  Counter({0: 1264, 3: 491, 4: 455, 5: 301, 7: 119, 9: 15})\n",
      "Previous mood: Counter({0.0: 1286, 3.0: 494, 4.0: 451, 5.0: 294, 7.0: 106, 9.0: 14})\n"
     ]
    }
   ],
   "source": [
    "from collections import Counter\n",
    "print(\"Predicted valxues: \", Counter(pred))\n",
    "print(\"True values: \", Counter(test))\n",
    "print(\"Previous mood:\", Counter(X_test_bored))"
   ]
  },
  {
   "cell_type": "code",
   "execution_count": 24,
   "metadata": {},
   "outputs": [
    {
     "name": "stdout",
     "output_type": "stream",
     "text": [
      "Total length:  2645\n",
      "Same Correct 0 guesses is:  2\n",
      "Same Wrong 0 guesses is:  1037\n",
      "Dif Correct 0 guesses is:  1\n",
      "Dif Wrong 0 guesses is:  224\n",
      "\n",
      "Same Correct 1 guesses is:  31\n",
      "Same Wrong 1 guesses is:  241\n",
      "Dif Correct 1 guesses is:  29\n",
      "Dif Wrong 1 guesses is:  190\n",
      "\n",
      "Same Correct 2 guesses is:  62\n",
      "Same Wrong 2 guesses is:  170\n",
      "Dif Correct 2 guesses is:  66\n",
      "Dif Wrong 2 guesses is:  157\n",
      "\n",
      "Same Correct 3 guesses is:  127\n",
      "Same Wrong 3 guesses is:  56\n",
      "Dif Correct 3 guesses is:  68\n",
      "Dif Wrong 3 guesses is:  50\n",
      "\n",
      "Same Correct 4 guesses is:  1\n",
      "Same Wrong 4 guesses is:  54\n",
      "Dif Correct 4 guesses is:  2\n",
      "Dif Wrong 4 guesses is:  62\n",
      "\n",
      "Same Correct 5 guesses is:  0\n",
      "Same Wrong 5 guesses is:  0\n",
      "Dif Correct 5 guesses is:  0\n",
      "Dif Wrong 5 guesses is:  15\n"
     ]
    }
   ],
   "source": [
    "same_correct_0, same_wrong_0, same_correct_1, same_wrong_1, same_correct_2, same_wrong_2, same_correct_3, same_wrong_3, same_correct_4, same_wrong_4, same_correct_5, same_wrong_5 = (0, 0, 0, 0, 0, 0, 0, 0, 0, 0, 0, 0)\n",
    "dif_correct_0, dif_wrong_0, dif_correct_1, dif_wrong_1, dif_correct_2, dif_wrong_2, dif_correct_3, dif_wrong_3, dif_correct_4, dif_wrong_4, dif_correct_5, dif_wrong_5 = (0, 0, 0, 0, 0, 0, 0, 0, 0, 0, 0, 0)\n",
    "\n",
    "for i in range(len(pred)):\n",
    "    if test[i] == 0 and pred[i] == 0:\n",
    "        if test[i] == X_test_bored[i]:\n",
    "            same_correct_0 += 1\n",
    "        if test[i] != X_test_bored[i]:\n",
    "            dif_correct_0 += 1\n",
    "    if test[i] == 0 and pred[i] != 0:\n",
    "        if test[i] == X_test_bored[i]:\n",
    "            same_wrong_0 += 1\n",
    "        if test[i] != X_test_bored[i]:\n",
    "            dif_wrong_0 += 1\n",
    "\n",
    "    if test[i] == 3 and pred[i] == 3:\n",
    "        if test[i] == X_test_bored[i]:\n",
    "            same_correct_1 += 1\n",
    "        if test[i] != X_test_bored[i]:\n",
    "            dif_correct_1 += 1\n",
    "    if test[i] == 3 and pred[i] != 3:\n",
    "        if test[i] == X_test_bored[i]:\n",
    "            same_wrong_1 += 1\n",
    "        if test[i] != X_test_bored[i]:\n",
    "            dif_wrong_1 += 1\n",
    "        \n",
    "    if test[i] == 4 and pred[i] == 4:\n",
    "        if test[i] == X_test_bored[i]:\n",
    "            same_correct_2 += 1\n",
    "        if test[i] != X_test_bored[i]:\n",
    "            dif_correct_2 += 1\n",
    "    if test[i] == 4 and pred[i] != 4:\n",
    "        if test[i] == X_test_bored[i]:\n",
    "            same_wrong_2 += 1\n",
    "        if test[i] != X_test_bored[i]:\n",
    "            dif_wrong_2 += 1\n",
    "    \n",
    "    if test[i] == 5 and pred[i] == 5:\n",
    "        if test[i] == X_test_bored[i]:\n",
    "            same_correct_3 += 1\n",
    "        if test[i] != X_test_bored[i]:\n",
    "            dif_correct_3 += 1\n",
    "    if test[i] == 5 and pred[i] != 5:\n",
    "        if test[i] == X_test_bored[i]:\n",
    "            same_wrong_3 += 1\n",
    "        if test[i] != X_test_bored[i]:\n",
    "            dif_wrong_3 += 1\n",
    "        \n",
    "    if test[i] == 7 and pred[i] == 7:\n",
    "        if test[i] == X_test_bored[i]:\n",
    "            same_correct_4 += 1\n",
    "        if test[i] != X_test_bored[i]:\n",
    "            dif_correct_4 += 1\n",
    "    if test[i] == 7 and pred[i] != 7:\n",
    "        if test[i] == X_test_bored[i]:\n",
    "            same_wrong_4 += 1\n",
    "        if test[i] != X_test_bored[i]:\n",
    "            dif_wrong_4 += 1\n",
    "    \n",
    "    if test[i] == 9 and pred[i] == 9:\n",
    "        if test[i] == X_test_bored[i]:\n",
    "            same_correct_5 += 1\n",
    "        if test[i] != X_test_bored[i]:\n",
    "            dif_correct_5 += 1\n",
    "    if test[i] == 9 and pred[i] != 9:\n",
    "        if test[i] == X_test_bored[i]:\n",
    "            same_wrong_5 += 1\n",
    "        if test[i] != X_test_bored[i]:\n",
    "            dif_wrong_5 += 1\n",
    "\n",
    "print(\"Total length: \", len(X_test_bored))\n",
    "\n",
    "print(\"Same Correct 0 guesses is: \", same_correct_0)\n",
    "print(\"Same Wrong 0 guesses is: \", same_wrong_0)\n",
    "print(\"Dif Correct 0 guesses is: \", dif_correct_0)\n",
    "print(\"Dif Wrong 0 guesses is: \", dif_wrong_0)\n",
    "print('')\n",
    "print(\"Same Correct 1 guesses is: \", same_correct_1)\n",
    "print(\"Same Wrong 1 guesses is: \", same_wrong_1)\n",
    "print(\"Dif Correct 1 guesses is: \", dif_correct_1)\n",
    "print(\"Dif Wrong 1 guesses is: \", dif_wrong_1)\n",
    "print('')\n",
    "print(\"Same Correct 2 guesses is: \", same_correct_2)\n",
    "print(\"Same Wrong 2 guesses is: \", same_wrong_2)\n",
    "print(\"Dif Correct 2 guesses is: \", dif_correct_2)\n",
    "print(\"Dif Wrong 2 guesses is: \", dif_wrong_2)\n",
    "print('')\n",
    "print(\"Same Correct 3 guesses is: \", same_correct_3)\n",
    "print(\"Same Wrong 3 guesses is: \", same_wrong_3)\n",
    "print(\"Dif Correct 3 guesses is: \", dif_correct_3)\n",
    "print(\"Dif Wrong 3 guesses is: \", dif_wrong_3)\n",
    "print('')\n",
    "print(\"Same Correct 4 guesses is: \", same_correct_4)\n",
    "print(\"Same Wrong 4 guesses is: \", same_wrong_4)\n",
    "print(\"Dif Correct 4 guesses is: \", dif_correct_4)\n",
    "print(\"Dif Wrong 4 guesses is: \", dif_wrong_4)\n",
    "print('')\n",
    "print(\"Same Correct 5 guesses is: \", same_correct_5)\n",
    "print(\"Same Wrong 5 guesses is: \", same_wrong_5)\n",
    "print(\"Dif Correct 5 guesses is: \", dif_correct_5)\n",
    "print(\"Dif Wrong 5 guesses is: \", dif_wrong_5)"
   ]
  },
  {
   "cell_type": "code",
   "execution_count": 26,
   "metadata": {},
   "outputs": [],
   "source": [
    "mae_0, mae_1, mae_2, mae_3, mae_4, mae_5 = (0,0,0,0,0,0)\n",
    "\n",
    "for i in range(len(pred)):\n",
    "    if test[i] == 0 and pred[i] != 0:\n",
    "        mae_0 += (abs(test[i]-pred[i]))\n",
    "    if test[i] == 1 and pred[i] != 1:\n",
    "        mae_1 += (abs(test[i]-pred[i]))\n",
    "    if test[i] == 2 and pred[i] != 2:\n",
    "        mae_2 += (abs(test[i]-pred[i]))\n",
    "    if test[i] == 3 and pred[i] != 3:\n",
    "        mae_3 += (abs(test[i]-pred[i]))\n",
    "    if test[i] == 4 and pred[i] != 4:\n",
    "        mae_4 += (abs(test[i]-pred[i]))\n",
    "    if test[i] == 5 and pred[i] != 5:\n",
    "        mae_5 += (abs(test[i]-pred[i]))\n",
    "\n",
    "cnt_0, cnt_1, cnt_2, cnt_3, cnt_4, cnt_5 = (0,0,0,0,0,0)\n",
    "for z in range(len(test)):\n",
    "    if test[z] == 0:\n",
    "        cnt_0 += 1\n",
    "    if test[z] == 3:\n",
    "        cnt_1 += 1\n",
    "    if test[z] == 4:\n",
    "        cnt_2 += 1\n",
    "    if test[z] == 5:\n",
    "        cnt_3 += 1\n",
    "    if test[z] == 7:\n",
    "        cnt_4 += 1\n",
    "    if test[z] == 9:\n",
    "        cnt_5 += 1\n",
    "\n",
    "mae_macroaverage = ((mae_0/cnt_0) + (mae_1/cnt_1) + (mae_2/cnt_2) + (mae_3/cnt_3) + (mae_4/cnt_4) + (mae_5/cnt_5)) / 6"
   ]
  },
  {
   "cell_type": "code",
   "execution_count": 27,
   "metadata": {},
   "outputs": [
    {
     "name": "stdout",
     "output_type": "stream",
     "text": [
      "Macro-averaged Mean Absolute error is:  3.1387\n",
      "Macro-averaged F1-score is:  0.0934\n"
     ]
    },
    {
     "name": "stderr",
     "output_type": "stream",
     "text": [
      "/Users/Stijn/Library/Python/3.7/lib/python/site-packages/sklearn/metrics/classification.py:1437: UndefinedMetricWarning: F-score is ill-defined and being set to 0.0 in labels with no predicted samples.\n",
      "  'precision', 'predicted', average, warn_for)\n"
     ]
    }
   ],
   "source": [
    "print(\"Macro-averaged Mean Absolute error is: \", round(mae_macroaverage, 4))\n",
    "print(\"Macro-averaged F1-score is: \", round(f1_score(test, pred, average='weighted'), 4))"
   ]
  },
  {
   "cell_type": "code",
   "execution_count": null,
   "metadata": {},
   "outputs": [],
   "source": []
  }
 ],
 "metadata": {
  "kernelspec": {
   "display_name": "Python 3",
   "language": "python",
   "name": "python3"
  },
  "language_info": {
   "codemirror_mode": {
    "name": "ipython",
    "version": 3
   },
   "file_extension": ".py",
   "mimetype": "text/x-python",
   "name": "python",
   "nbconvert_exporter": "python",
   "pygments_lexer": "ipython3",
   "version": "3.7.4"
  }
 },
 "nbformat": 4,
 "nbformat_minor": 2
}
