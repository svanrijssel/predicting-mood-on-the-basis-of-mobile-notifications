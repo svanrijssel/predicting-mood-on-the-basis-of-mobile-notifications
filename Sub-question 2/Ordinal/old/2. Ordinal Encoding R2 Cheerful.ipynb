{
 "cells": [
  {
   "cell_type": "code",
   "execution_count": 2,
   "metadata": {},
   "outputs": [],
   "source": [
    "# Import packages\n",
    "import pandas as pd\n",
    "import numpy as np\n",
    "import datetime\n",
    "import category_encoders as ce\n",
    "from sklearn.preprocessing import LabelEncoder, MinMaxScaler, RobustScaler, OneHotEncoder, StandardScaler\n",
    "from sklearn.model_selection import train_test_split\n",
    "from sklearn.metrics import accuracy_score, mean_squared_error, cohen_kappa_score, f1_score\n",
    "from sklearn.utils import shuffle\n",
    "from imblearn.over_sampling import SMOTE, SMOTENC\n",
    "import matplotlib.pyplot as plt\n",
    "from statsmodels.graphics.mosaicplot import mosaic\n",
    "from sklearn.decomposition import PCA\n",
    "from scipy import stats\n",
    "from math import sqrt\n",
    "\n",
    "\n",
    "\n",
    "import keras\n",
    "from keras.models import Sequential\n",
    "from keras.layers import Dense, Dropout, GaussianNoise\n",
    "from keras.optimizers import SGD\n",
    "from keras import regularizers"
   ]
  },
  {
   "cell_type": "code",
   "execution_count": 3,
   "metadata": {},
   "outputs": [],
   "source": [
    "path = \"/Users/Stijn/Documents/Master Data Science and Society/Block 3/thesis/code/thesis_Code/\"\n",
    "mood = pd.read_csv(path+'mood_imputed_median.csv', sep = ',', index_col=0)\n",
    "mood_cheerful = mood.copy()"
   ]
  },
  {
   "cell_type": "code",
   "execution_count": 5,
   "metadata": {},
   "outputs": [
    {
     "data": {
      "text/plain": [
       "3.0    3719\n",
       "2.0    2966\n",
       "4.0    2358\n",
       "1.0    1880\n",
       "0.0    1413\n",
       "5.0     885\n",
       "Name: cheerful, dtype: int64"
      ]
     },
     "execution_count": 5,
     "metadata": {},
     "output_type": "execute_result"
    }
   ],
   "source": [
    "mood_cheerful['cheerful'].value_counts()"
   ]
  },
  {
   "cell_type": "code",
   "execution_count": 6,
   "metadata": {},
   "outputs": [],
   "source": [
    "cheerfulR2 = []\n",
    "for a in mood['cheerful']:\n",
    "    if a == 0:\n",
    "      cheerfulR2.append(0)  \n",
    "    if a == 1:\n",
    "      cheerfulR2.append(2)\n",
    "    if a == 2:\n",
    "      cheerfulR2.append(3)\n",
    "    if a == 3:\n",
    "      cheerfulR2.append(4)\n",
    "    if a == 4:\n",
    "      cheerfulR2.append(5)\n",
    "    if a == 5:\n",
    "      cheerfulR2.append(7)\n",
    "mood_cheerful['cheerfulR2'] = cheerfulR2\n",
    "mood_cheerful = mood_cheerful.drop(['cheerful'], axis=1)"
   ]
  },
  {
   "cell_type": "code",
   "execution_count": 8,
   "metadata": {},
   "outputs": [],
   "source": [
    "mood_cheerful['cheerful_last'] = mood_cheerful.groupby('user_id')['cheerfulR2'].shift()\n",
    "mood_cheerful.loc[(pd.isnull(mood_cheerful.cheerful_last)), 'cheerful_last'] = mood_cheerful['cheerfulR2']\n",
    "mood_cheerful = mood_cheerful.drop([\"content\", \"bored\", \"anxious\", \"user_id\", \"response_time\"], axis=1)\n",
    "mood_cheerful = mood_cheerful[['cheerfulR2', 'day_time_window', 'average_TimeUse', 'bulk', 'messaging', 'socialnetworking', 'otherapp', 'cheerful_last']]"
   ]
  },
  {
   "cell_type": "code",
   "execution_count": 9,
   "metadata": {},
   "outputs": [],
   "source": [
    "# Normalize predictors\n",
    "mood_normz = mood_cheerful.copy()\n",
    "features_to_normalize = ['day_time_window', 'average_TimeUse', 'messaging', 'socialnetworking', 'otherapp']\n",
    "mood_normz[features_to_normalize] = mood_normz[features_to_normalize].apply(lambda x:(x-x.min()) / (x.max()-x.min()))"
   ]
  },
  {
   "cell_type": "code",
   "execution_count": 10,
   "metadata": {},
   "outputs": [],
   "source": [
    "X = mood_normz.iloc[:,1:]\n",
    "y = mood_normz.iloc[:, 0:1]\n",
    "y = y.astype(int)"
   ]
  },
  {
   "cell_type": "code",
   "execution_count": 11,
   "metadata": {},
   "outputs": [],
   "source": [
    "X_train, X_test, y_train, y_test = train_test_split(X, y, test_size=0.2, random_state=2)"
   ]
  },
  {
   "cell_type": "code",
   "execution_count": 12,
   "metadata": {},
   "outputs": [
    {
     "name": "stdout",
     "output_type": "stream",
     "text": [
      "Before OverSampling, counts of labels: 4    2964\n",
      "3    2367\n",
      "5    1901\n",
      "2    1494\n",
      "0    1138\n",
      "7     712\n",
      "Name: cheerfulR2, dtype: int64\n",
      "After OverSampling, counts of label '0': 2964\n",
      "After OverSampling, counts of label '2': 2964\n",
      "After OverSampling, counts of label '3': 2964\n",
      "After OverSampling, counts of label '4': 2964\n",
      "After OverSampling, counts of label '5': 2964\n",
      "After OverSampling, counts of label '7': 2964\n"
     ]
    }
   ],
   "source": [
    "# Oversampling unbalanced target\n",
    "print(\"Before OverSampling, counts of labels: {}\".format(y_train['cheerfulR2'].value_counts()))\n",
    "  \n",
    "sm = SMOTENC(categorical_features=[0, 2, 6], random_state = 2) \n",
    "X_train_res, y_train_res = sm.fit_sample(X_train, y_train['cheerfulR2'].ravel()) \n",
    "\n",
    "print(\"After OverSampling, counts of label '0': {}\".format(sum(y_train_res == 0))) \n",
    "print(\"After OverSampling, counts of label '2': {}\".format(sum(y_train_res == 2))) \n",
    "print(\"After OverSampling, counts of label '3': {}\".format(sum(y_train_res == 3))) \n",
    "print(\"After OverSampling, counts of label '4': {}\".format(sum(y_train_res == 4))) \n",
    "print(\"After OverSampling, counts of label '5': {}\".format(sum(y_train_res == 5))) \n",
    "print(\"After OverSampling, counts of label '7': {}\".format(sum(y_train_res == 7))) "
   ]
  },
  {
   "cell_type": "code",
   "execution_count": 13,
   "metadata": {},
   "outputs": [],
   "source": [
    "X_train = pd.DataFrame(data=X_train_res)\n",
    "y_train = pd.DataFrame(data=y_train_res)"
   ]
  },
  {
   "cell_type": "code",
   "execution_count": 14,
   "metadata": {},
   "outputs": [],
   "source": [
    "# Shuffle both train and test set to cancel patterns\n",
    "X_train, y_train = shuffle(X_train, y_train)\n",
    "X_test, y_test = shuffle(X_test, y_test)"
   ]
  },
  {
   "cell_type": "code",
   "execution_count": 15,
   "metadata": {},
   "outputs": [],
   "source": [
    "X_train_nomood = X_train.iloc[:,:-1]\n",
    "X_train_onlylastmood = X_train.iloc[:,-1:]\n",
    "X_test_nomood = X_test.iloc[:,:-1]\n",
    "X_test_onlylastmood = X_test.iloc[:,-1:]"
   ]
  },
  {
   "cell_type": "code",
   "execution_count": 16,
   "metadata": {},
   "outputs": [
    {
     "name": "stdout",
     "output_type": "stream",
     "text": [
      "Model: \"sequential_1\"\n",
      "_________________________________________________________________\n",
      "Layer (type)                 Output Shape              Param #   \n",
      "=================================================================\n",
      "dense_1 (Dense)              (None, 24)                168       \n",
      "_________________________________________________________________\n",
      "dense_2 (Dense)              (None, 12)                300       \n",
      "_________________________________________________________________\n",
      "dense_3 (Dense)              (None, 1)                 13        \n",
      "=================================================================\n",
      "Total params: 481\n",
      "Trainable params: 481\n",
      "Non-trainable params: 0\n",
      "_________________________________________________________________\n"
     ]
    }
   ],
   "source": [
    "# Define Keras model\n",
    "model = Sequential()\n",
    "model.add(Dense(24, input_dim=6, activation='relu'))\n",
    "model.add(Dense(12, activation='relu'))\n",
    "model.add(Dense(1, activation='linear'))\n",
    "\n",
    "model.compile(loss='mean_squared_error', optimizer='adam', metrics=['accuracy'])\n",
    "model.summary()"
   ]
  },
  {
   "cell_type": "code",
   "execution_count": 17,
   "metadata": {},
   "outputs": [
    {
     "name": "stdout",
     "output_type": "stream",
     "text": [
      "Train on 14227 samples, validate on 3557 samples\n",
      "Epoch 1/100\n",
      "14227/14227 [==============================] - 0s 16us/step - loss: 18.1496 - accuracy: 0.1582 - val_loss: 16.1948 - val_accuracy: 0.1695\n",
      "Epoch 2/100\n",
      "14227/14227 [==============================] - 0s 5us/step - loss: 15.4149 - accuracy: 0.1615 - val_loss: 13.7274 - val_accuracy: 0.1198\n",
      "Epoch 3/100\n",
      "14227/14227 [==============================] - 0s 5us/step - loss: 12.7553 - accuracy: 0.0392 - val_loss: 10.9006 - val_accuracy: 0.0124\n",
      "Epoch 4/100\n",
      "14227/14227 [==============================] - 0s 5us/step - loss: 9.7014 - accuracy: 0.0526 - val_loss: 7.8417 - val_accuracy: 0.1015\n",
      "Epoch 5/100\n",
      "14227/14227 [==============================] - 0s 5us/step - loss: 6.9080 - accuracy: 0.1475 - val_loss: 5.8268 - val_accuracy: 0.1732\n",
      "Epoch 6/100\n",
      "14227/14227 [==============================] - 0s 4us/step - loss: 5.6446 - accuracy: 0.1705 - val_loss: 5.3470 - val_accuracy: 0.1726\n",
      "Epoch 7/100\n",
      "14227/14227 [==============================] - 0s 5us/step - loss: 5.3658 - accuracy: 0.1723 - val_loss: 5.1967 - val_accuracy: 0.1751\n",
      "Epoch 8/100\n",
      "14227/14227 [==============================] - 0s 5us/step - loss: 5.2278 - accuracy: 0.1705 - val_loss: 5.0917 - val_accuracy: 0.1749\n",
      "Epoch 9/100\n",
      "14227/14227 [==============================] - 0s 5us/step - loss: 5.1367 - accuracy: 0.1683 - val_loss: 5.0205 - val_accuracy: 0.1796\n",
      "Epoch 10/100\n",
      "14227/14227 [==============================] - 0s 5us/step - loss: 5.0685 - accuracy: 0.1674 - val_loss: 4.9623 - val_accuracy: 0.1771\n",
      "Epoch 11/100\n",
      "14227/14227 [==============================] - 0s 4us/step - loss: 5.0157 - accuracy: 0.1659 - val_loss: 4.9228 - val_accuracy: 0.1768\n",
      "Epoch 12/100\n",
      "14227/14227 [==============================] - 0s 4us/step - loss: 4.9763 - accuracy: 0.1664 - val_loss: 4.8920 - val_accuracy: 0.1771\n",
      "Epoch 13/100\n",
      "14227/14227 [==============================] - 0s 4us/step - loss: 4.9461 - accuracy: 0.1654 - val_loss: 4.8678 - val_accuracy: 0.1763\n",
      "Epoch 14/100\n",
      "14227/14227 [==============================] - 0s 4us/step - loss: 4.9238 - accuracy: 0.1656 - val_loss: 4.8508 - val_accuracy: 0.1760\n",
      "Epoch 15/100\n",
      "14227/14227 [==============================] - 0s 5us/step - loss: 4.9072 - accuracy: 0.1657 - val_loss: 4.8412 - val_accuracy: 0.1754\n",
      "Epoch 16/100\n",
      "14227/14227 [==============================] - 0s 5us/step - loss: 4.8950 - accuracy: 0.1664 - val_loss: 4.8327 - val_accuracy: 0.1754\n",
      "Epoch 17/100\n",
      "14227/14227 [==============================] - 0s 5us/step - loss: 4.8868 - accuracy: 0.1671 - val_loss: 4.8270 - val_accuracy: 0.1751\n",
      "Epoch 18/100\n",
      "14227/14227 [==============================] - 0s 4us/step - loss: 4.8807 - accuracy: 0.1674 - val_loss: 4.8224 - val_accuracy: 0.1760\n",
      "Epoch 19/100\n",
      "14227/14227 [==============================] - 0s 4us/step - loss: 4.8755 - accuracy: 0.1667 - val_loss: 4.8211 - val_accuracy: 0.1766\n",
      "Epoch 20/100\n",
      "14227/14227 [==============================] - 0s 5us/step - loss: 4.8708 - accuracy: 0.1671 - val_loss: 4.8190 - val_accuracy: 0.1754\n",
      "Epoch 21/100\n",
      "14227/14227 [==============================] - 0s 4us/step - loss: 4.8674 - accuracy: 0.1665 - val_loss: 4.8163 - val_accuracy: 0.1768\n",
      "Epoch 22/100\n",
      "14227/14227 [==============================] - 0s 5us/step - loss: 4.8646 - accuracy: 0.1674 - val_loss: 4.8151 - val_accuracy: 0.1774\n",
      "Epoch 23/100\n",
      "14227/14227 [==============================] - 0s 4us/step - loss: 4.8619 - accuracy: 0.1672 - val_loss: 4.8158 - val_accuracy: 0.1785\n",
      "Epoch 24/100\n",
      "14227/14227 [==============================] - 0s 4us/step - loss: 4.8607 - accuracy: 0.1686 - val_loss: 4.8143 - val_accuracy: 0.1808\n",
      "Epoch 25/100\n",
      "14227/14227 [==============================] - 0s 5us/step - loss: 4.8567 - accuracy: 0.1683 - val_loss: 4.8104 - val_accuracy: 0.1791\n",
      "Epoch 26/100\n",
      "14227/14227 [==============================] - 0s 5us/step - loss: 4.8557 - accuracy: 0.1676 - val_loss: 4.8089 - val_accuracy: 0.1768\n",
      "Epoch 27/100\n",
      "14227/14227 [==============================] - 0s 4us/step - loss: 4.8530 - accuracy: 0.1676 - val_loss: 4.8073 - val_accuracy: 0.1788\n",
      "Epoch 28/100\n",
      "14227/14227 [==============================] - 0s 4us/step - loss: 4.8510 - accuracy: 0.1683 - val_loss: 4.8091 - val_accuracy: 0.1805\n",
      "Epoch 29/100\n",
      "14227/14227 [==============================] - 0s 5us/step - loss: 4.8503 - accuracy: 0.1673 - val_loss: 4.8082 - val_accuracy: 0.1808\n",
      "Epoch 30/100\n",
      "14227/14227 [==============================] - 0s 4us/step - loss: 4.8485 - accuracy: 0.1666 - val_loss: 4.8071 - val_accuracy: 0.1799\n",
      "Epoch 31/100\n",
      "14227/14227 [==============================] - 0s 5us/step - loss: 4.8464 - accuracy: 0.1680 - val_loss: 4.8039 - val_accuracy: 0.1768\n",
      "Epoch 32/100\n",
      "14227/14227 [==============================] - 0s 4us/step - loss: 4.8463 - accuracy: 0.1672 - val_loss: 4.8028 - val_accuracy: 0.1794\n",
      "Epoch 33/100\n",
      "14227/14227 [==============================] - 0s 4us/step - loss: 4.8432 - accuracy: 0.1657 - val_loss: 4.8020 - val_accuracy: 0.1788\n",
      "Epoch 34/100\n",
      "14227/14227 [==============================] - 0s 5us/step - loss: 4.8418 - accuracy: 0.1656 - val_loss: 4.8046 - val_accuracy: 0.1774\n",
      "Epoch 35/100\n",
      "14227/14227 [==============================] - 0s 5us/step - loss: 4.8406 - accuracy: 0.1658 - val_loss: 4.8000 - val_accuracy: 0.1771\n",
      "Epoch 36/100\n",
      "14227/14227 [==============================] - 0s 5us/step - loss: 4.8402 - accuracy: 0.1647 - val_loss: 4.7991 - val_accuracy: 0.1771\n",
      "Epoch 37/100\n",
      "14227/14227 [==============================] - 0s 4us/step - loss: 4.8376 - accuracy: 0.1659 - val_loss: 4.7964 - val_accuracy: 0.1760\n",
      "Epoch 38/100\n",
      "14227/14227 [==============================] - 0s 4us/step - loss: 4.8360 - accuracy: 0.1651 - val_loss: 4.8012 - val_accuracy: 0.1763\n",
      "Epoch 39/100\n",
      "14227/14227 [==============================] - 0s 5us/step - loss: 4.8362 - accuracy: 0.1652 - val_loss: 4.7970 - val_accuracy: 0.1774\n",
      "Epoch 40/100\n",
      "14227/14227 [==============================] - 0s 5us/step - loss: 4.8344 - accuracy: 0.1645 - val_loss: 4.7978 - val_accuracy: 0.1754\n",
      "Epoch 41/100\n",
      "14227/14227 [==============================] - 0s 5us/step - loss: 4.8328 - accuracy: 0.1659 - val_loss: 4.7950 - val_accuracy: 0.1774\n",
      "Epoch 42/100\n",
      "14227/14227 [==============================] - 0s 5us/step - loss: 4.8313 - accuracy: 0.1665 - val_loss: 4.7925 - val_accuracy: 0.1763\n",
      "Epoch 43/100\n",
      "14227/14227 [==============================] - 0s 5us/step - loss: 4.8316 - accuracy: 0.1643 - val_loss: 4.7902 - val_accuracy: 0.1751\n",
      "Epoch 44/100\n",
      "14227/14227 [==============================] - 0s 4us/step - loss: 4.8310 - accuracy: 0.1624 - val_loss: 4.7902 - val_accuracy: 0.1749\n",
      "Epoch 45/100\n",
      "14227/14227 [==============================] - 0s 4us/step - loss: 4.8286 - accuracy: 0.1658 - val_loss: 4.7911 - val_accuracy: 0.1774\n",
      "Epoch 46/100\n",
      "14227/14227 [==============================] - 0s 4us/step - loss: 4.8270 - accuracy: 0.1657 - val_loss: 4.7896 - val_accuracy: 0.1766\n",
      "Epoch 47/100\n",
      "14227/14227 [==============================] - 0s 5us/step - loss: 4.8268 - accuracy: 0.1655 - val_loss: 4.7978 - val_accuracy: 0.1757\n",
      "Epoch 48/100\n",
      "14227/14227 [==============================] - 0s 4us/step - loss: 4.8283 - accuracy: 0.1643 - val_loss: 4.7871 - val_accuracy: 0.1760\n",
      "Epoch 49/100\n",
      "14227/14227 [==============================] - 0s 4us/step - loss: 4.8261 - accuracy: 0.1643 - val_loss: 4.7859 - val_accuracy: 0.1768\n",
      "Epoch 50/100\n",
      "14227/14227 [==============================] - 0s 4us/step - loss: 4.8232 - accuracy: 0.1646 - val_loss: 4.7830 - val_accuracy: 0.1740\n",
      "Epoch 51/100\n",
      "14227/14227 [==============================] - 0s 4us/step - loss: 4.8230 - accuracy: 0.1646 - val_loss: 4.7855 - val_accuracy: 0.1766\n",
      "Epoch 52/100\n",
      "14227/14227 [==============================] - 0s 5us/step - loss: 4.8221 - accuracy: 0.1652 - val_loss: 4.7815 - val_accuracy: 0.1743\n",
      "Epoch 53/100\n",
      "14227/14227 [==============================] - 0s 4us/step - loss: 4.8217 - accuracy: 0.1662 - val_loss: 4.7869 - val_accuracy: 0.1749\n",
      "Epoch 54/100\n",
      "14227/14227 [==============================] - 0s 4us/step - loss: 4.8208 - accuracy: 0.1641 - val_loss: 4.7806 - val_accuracy: 0.1751\n",
      "Epoch 55/100\n",
      "14227/14227 [==============================] - 0s 5us/step - loss: 4.8190 - accuracy: 0.1651 - val_loss: 4.7788 - val_accuracy: 0.1737\n",
      "Epoch 56/100\n"
     ]
    },
    {
     "name": "stdout",
     "output_type": "stream",
     "text": [
      "14227/14227 [==============================] - 0s 5us/step - loss: 4.8180 - accuracy: 0.1648 - val_loss: 4.7795 - val_accuracy: 0.1746\n",
      "Epoch 57/100\n",
      "14227/14227 [==============================] - 0s 4us/step - loss: 4.8169 - accuracy: 0.1643 - val_loss: 4.7798 - val_accuracy: 0.1743\n",
      "Epoch 58/100\n",
      "14227/14227 [==============================] - 0s 4us/step - loss: 4.8187 - accuracy: 0.1664 - val_loss: 4.7753 - val_accuracy: 0.1749\n",
      "Epoch 59/100\n",
      "14227/14227 [==============================] - 0s 4us/step - loss: 4.8163 - accuracy: 0.1636 - val_loss: 4.7775 - val_accuracy: 0.1751\n",
      "Epoch 60/100\n",
      "14227/14227 [==============================] - 0s 4us/step - loss: 4.8154 - accuracy: 0.1648 - val_loss: 4.7730 - val_accuracy: 0.1749\n",
      "Epoch 61/100\n",
      "14227/14227 [==============================] - 0s 4us/step - loss: 4.8150 - accuracy: 0.1660 - val_loss: 4.7764 - val_accuracy: 0.1729\n",
      "Epoch 62/100\n",
      "14227/14227 [==============================] - 0s 4us/step - loss: 4.8134 - accuracy: 0.1633 - val_loss: 4.7712 - val_accuracy: 0.1743\n",
      "Epoch 63/100\n",
      "14227/14227 [==============================] - 0s 4us/step - loss: 4.8132 - accuracy: 0.1639 - val_loss: 4.7732 - val_accuracy: 0.1737\n",
      "Epoch 64/100\n",
      "14227/14227 [==============================] - 0s 4us/step - loss: 4.8117 - accuracy: 0.1648 - val_loss: 4.7738 - val_accuracy: 0.1732\n",
      "Epoch 65/100\n",
      "14227/14227 [==============================] - 0s 4us/step - loss: 4.8101 - accuracy: 0.1645 - val_loss: 4.7684 - val_accuracy: 0.1729\n",
      "Epoch 66/100\n",
      "14227/14227 [==============================] - 0s 4us/step - loss: 4.8099 - accuracy: 0.1639 - val_loss: 4.7698 - val_accuracy: 0.1732\n",
      "Epoch 67/100\n",
      "14227/14227 [==============================] - 0s 4us/step - loss: 4.8106 - accuracy: 0.1641 - val_loss: 4.7742 - val_accuracy: 0.1721\n",
      "Epoch 68/100\n",
      "14227/14227 [==============================] - 0s 4us/step - loss: 4.8089 - accuracy: 0.1648 - val_loss: 4.7705 - val_accuracy: 0.1721\n",
      "Epoch 69/100\n",
      "14227/14227 [==============================] - 0s 4us/step - loss: 4.8060 - accuracy: 0.1634 - val_loss: 4.7638 - val_accuracy: 0.1749\n",
      "Epoch 70/100\n",
      "14227/14227 [==============================] - 0s 4us/step - loss: 4.8065 - accuracy: 0.1647 - val_loss: 4.7638 - val_accuracy: 0.1735\n",
      "Epoch 71/100\n",
      "14227/14227 [==============================] - 0s 4us/step - loss: 4.8051 - accuracy: 0.1652 - val_loss: 4.7619 - val_accuracy: 0.1746\n",
      "Epoch 72/100\n",
      "14227/14227 [==============================] - 0s 4us/step - loss: 4.8030 - accuracy: 0.1650 - val_loss: 4.7688 - val_accuracy: 0.1726\n",
      "Epoch 73/100\n",
      "14227/14227 [==============================] - 0s 4us/step - loss: 4.8055 - accuracy: 0.1642 - val_loss: 4.7630 - val_accuracy: 0.1732\n",
      "Epoch 74/100\n",
      "14227/14227 [==============================] - 0s 4us/step - loss: 4.8020 - accuracy: 0.1641 - val_loss: 4.7590 - val_accuracy: 0.1735\n",
      "Epoch 75/100\n",
      "14227/14227 [==============================] - 0s 4us/step - loss: 4.8020 - accuracy: 0.1648 - val_loss: 4.7612 - val_accuracy: 0.1723\n",
      "Epoch 76/100\n",
      "14227/14227 [==============================] - 0s 4us/step - loss: 4.8020 - accuracy: 0.1631 - val_loss: 4.7620 - val_accuracy: 0.1715\n",
      "Epoch 77/100\n",
      "14227/14227 [==============================] - 0s 4us/step - loss: 4.8004 - accuracy: 0.1653 - val_loss: 4.7556 - val_accuracy: 0.1726\n",
      "Epoch 78/100\n",
      "14227/14227 [==============================] - 0s 4us/step - loss: 4.8006 - accuracy: 0.1644 - val_loss: 4.7557 - val_accuracy: 0.1709\n",
      "Epoch 79/100\n",
      "14227/14227 [==============================] - 0s 4us/step - loss: 4.7992 - accuracy: 0.1645 - val_loss: 4.7550 - val_accuracy: 0.1715\n",
      "Epoch 80/100\n",
      "14227/14227 [==============================] - 0s 4us/step - loss: 4.7969 - accuracy: 0.1643 - val_loss: 4.7552 - val_accuracy: 0.1726\n",
      "Epoch 81/100\n",
      "14227/14227 [==============================] - 0s 4us/step - loss: 4.7972 - accuracy: 0.1631 - val_loss: 4.7538 - val_accuracy: 0.1718\n",
      "Epoch 82/100\n",
      "14227/14227 [==============================] - 0s 4us/step - loss: 4.7955 - accuracy: 0.1626 - val_loss: 4.7510 - val_accuracy: 0.1740\n",
      "Epoch 83/100\n",
      "14227/14227 [==============================] - 0s 4us/step - loss: 4.7952 - accuracy: 0.1626 - val_loss: 4.7521 - val_accuracy: 0.1701\n",
      "Epoch 84/100\n",
      "14227/14227 [==============================] - 0s 4us/step - loss: 4.7934 - accuracy: 0.1641 - val_loss: 4.7536 - val_accuracy: 0.1706\n",
      "Epoch 85/100\n",
      "14227/14227 [==============================] - 0s 4us/step - loss: 4.7940 - accuracy: 0.1634 - val_loss: 4.7485 - val_accuracy: 0.1698\n",
      "Epoch 86/100\n",
      "14227/14227 [==============================] - 0s 4us/step - loss: 4.7925 - accuracy: 0.1657 - val_loss: 4.7472 - val_accuracy: 0.1743\n",
      "Epoch 87/100\n",
      "14227/14227 [==============================] - 0s 5us/step - loss: 4.7950 - accuracy: 0.1619 - val_loss: 4.7454 - val_accuracy: 0.1726\n",
      "Epoch 88/100\n",
      "14227/14227 [==============================] - 0s 4us/step - loss: 4.7914 - accuracy: 0.1630 - val_loss: 4.7490 - val_accuracy: 0.1718\n",
      "Epoch 89/100\n",
      "14227/14227 [==============================] - 0s 4us/step - loss: 4.7894 - accuracy: 0.1639 - val_loss: 4.7483 - val_accuracy: 0.1695\n",
      "Epoch 90/100\n",
      "14227/14227 [==============================] - 0s 4us/step - loss: 4.7885 - accuracy: 0.1631 - val_loss: 4.7439 - val_accuracy: 0.1709\n",
      "Epoch 91/100\n",
      "14227/14227 [==============================] - 0s 4us/step - loss: 4.7871 - accuracy: 0.1633 - val_loss: 4.7459 - val_accuracy: 0.1704\n",
      "Epoch 92/100\n",
      "14227/14227 [==============================] - 0s 4us/step - loss: 4.7881 - accuracy: 0.1634 - val_loss: 4.7464 - val_accuracy: 0.1701\n",
      "Epoch 93/100\n",
      "14227/14227 [==============================] - 0s 4us/step - loss: 4.7886 - accuracy: 0.1629 - val_loss: 4.7419 - val_accuracy: 0.1698\n",
      "Epoch 94/100\n",
      "14227/14227 [==============================] - 0s 4us/step - loss: 4.7845 - accuracy: 0.1629 - val_loss: 4.7435 - val_accuracy: 0.1706\n",
      "Epoch 95/100\n",
      "14227/14227 [==============================] - 0s 4us/step - loss: 4.7831 - accuracy: 0.1647 - val_loss: 4.7427 - val_accuracy: 0.1706\n",
      "Epoch 96/100\n",
      "14227/14227 [==============================] - 0s 4us/step - loss: 4.7803 - accuracy: 0.1642 - val_loss: 4.7355 - val_accuracy: 0.1698\n",
      "Epoch 97/100\n",
      "14227/14227 [==============================] - 0s 4us/step - loss: 4.7808 - accuracy: 0.1643 - val_loss: 4.7359 - val_accuracy: 0.1695\n",
      "Epoch 98/100\n",
      "14227/14227 [==============================] - 0s 4us/step - loss: 4.7798 - accuracy: 0.1637 - val_loss: 4.7372 - val_accuracy: 0.1704\n",
      "Epoch 99/100\n",
      "14227/14227 [==============================] - 0s 4us/step - loss: 4.7789 - accuracy: 0.1651 - val_loss: 4.7440 - val_accuracy: 0.1692\n",
      "Epoch 100/100\n",
      "14227/14227 [==============================] - 0s 4us/step - loss: 4.7790 - accuracy: 0.1638 - val_loss: 4.7363 - val_accuracy: 0.1715\n"
     ]
    }
   ],
   "source": [
    "history = model.fit(X_train_nomood, y_train, epochs=100, validation_split=0.2, batch_size=512)"
   ]
  },
  {
   "cell_type": "code",
   "execution_count": 18,
   "metadata": {},
   "outputs": [
    {
     "name": "stdout",
     "output_type": "stream",
     "text": [
      "Test loss: 4.768\n",
      "Test accuracy: 16.54 %\n"
     ]
    }
   ],
   "source": [
    "score = model.evaluate(X_train_nomood, y_train, verbose=0)\n",
    "print('Test loss:', round(score[0],4))\n",
    "print('Test accuracy:', round(score[1]*100,2), \"%\")"
   ]
  },
  {
   "cell_type": "code",
   "execution_count": 19,
   "metadata": {},
   "outputs": [
    {
     "data": {
      "image/png": "[encoded data removed]",
      "text/plain": [
       "<Figure size 432x288 with 1 Axes>"
      ]
     },
     "metadata": {
      "needs_background": "light"
     },
     "output_type": "display_data"
    }
   ],
   "source": [
    "# Plot training & validation accuracy values\n",
    "plt.plot(history.history['accuracy'])\n",
    "plt.plot(history.history['val_accuracy'])\n",
    "plt.title('Model accuracy')\n",
    "plt.ylabel('Accuracy')\n",
    "plt.xlabel('Epoch')\n",
    "plt.legend(['Train', 'Validation'], loc='upper left')\n",
    "plt.show()"
   ]
  },
  {
   "cell_type": "code",
   "execution_count": 20,
   "metadata": {},
   "outputs": [
    {
     "data": {
      "image/png": "[encoded data removed]",
      "text/plain": [
       "<Figure size 432x288 with 1 Axes>"
      ]
     },
     "metadata": {
      "needs_background": "light"
     },
     "output_type": "display_data"
    }
   ],
   "source": [
    "# Plot training & validation loss values\n",
    "plt.plot(history.history['loss'])\n",
    "plt.plot(history.history['val_loss'])\n",
    "plt.title('Model loss')\n",
    "plt.ylabel('Loss')\n",
    "plt.xlabel('Epoch')\n",
    "plt.legend(['Train', 'Validation'], loc='upper left')\n",
    "plt.show()"
   ]
  },
  {
   "cell_type": "code",
   "execution_count": 21,
   "metadata": {},
   "outputs": [],
   "source": [
    "y_pred = model.predict(X_test_nomood)"
   ]
  },
  {
   "cell_type": "code",
   "execution_count": 22,
   "metadata": {},
   "outputs": [],
   "source": [
    "cat_list = [0,2,3,4,5,7]\n",
    "pred = []\n",
    "for a in y_pred:\n",
    "    for b in a:\n",
    "        d = min(cat_list, key=lambda x:abs(x-b))\n",
    "        pred.append(round(d))    \n",
    "\n",
    "test = []\n",
    "for c in y_test['cheerfulR2']:\n",
    "    test.append(c)"
   ]
  },
  {
   "cell_type": "code",
   "execution_count": 23,
   "metadata": {},
   "outputs": [
    {
     "data": {
      "text/plain": [
       "[7, 5, 5, 3, 0]"
      ]
     },
     "execution_count": 23,
     "metadata": {},
     "output_type": "execute_result"
    }
   ],
   "source": [
    "test[:5]"
   ]
  },
  {
   "cell_type": "code",
   "execution_count": 24,
   "metadata": {},
   "outputs": [
    {
     "name": "stdout",
     "output_type": "stream",
     "text": [
      "Accuracy is: 26.12476370510397\n"
     ]
    }
   ],
   "source": [
    "a = accuracy_score(pred,test)\n",
    "print('Accuracy is:', a*100)"
   ]
  },
  {
   "cell_type": "code",
   "execution_count": 25,
   "metadata": {},
   "outputs": [
    {
     "name": "stdout",
     "output_type": "stream",
     "text": [
      "        Same Dif\n",
      "correct 422 269\n",
      "wrong   1178 776\n",
      "Table is right!\n"
     ]
    }
   ],
   "source": [
    "# true = y_test\n",
    "# pred = y_pred\n",
    "# last_value = X_bored_lastarray\n",
    "same_correct = 0\n",
    "same_wrong = 0\n",
    "dif_correct = 0\n",
    "dif_wrong = 0\n",
    "\n",
    "X_test_bored = X_test_onlylastmood['cheerful_last'].values\n",
    "for i in range(len(pred)):\n",
    "    if (test[i] == X_test_bored[i]) and (test[i] == pred[i]):\n",
    "        same_correct += 1\n",
    "    if (test[i] == X_test_bored[i]) and (test[i] != pred[i]):\n",
    "        same_wrong += 1\n",
    "    if (test[i] != X_test_bored[i]) and (test[i] == pred[i]):\n",
    "        dif_correct += 1\n",
    "    if (test[i] != X_test_bored[i]) and (test[i] != pred[i]):\n",
    "        dif_wrong += 1   \n",
    "\n",
    "print(\"       \", \"Same\", \"Dif\")\n",
    "print(\"correct\", same_correct, dif_correct)\n",
    "print(\"wrong  \", same_wrong, dif_wrong)\n",
    "\n",
    "#Check if table is similar to accuracy\n",
    "if (same_correct+dif_correct) / (same_correct+dif_correct+same_wrong+dif_wrong) == a:\n",
    "    print(\"Table is right!\")\n",
    "else:\n",
    "    print(\"Table is wrong\")"
   ]
  },
  {
   "cell_type": "code",
   "execution_count": 26,
   "metadata": {},
   "outputs": [
    {
     "name": "stdout",
     "output_type": "stream",
     "text": [
      "Predicted valxues:  Counter({4: 1678, 3: 915, 2: 26, 5: 26})\n",
      "True values:  Counter({4: 755, 3: 599, 5: 457, 2: 386, 0: 275, 7: 173})\n",
      "Previous mood: Counter({4.0: 735, 3.0: 622, 5.0: 473, 2.0: 375, 0.0: 271, 7.0: 169})\n"
     ]
    }
   ],
   "source": [
    "from collections import Counter\n",
    "print(\"Predicted valxues: \", Counter(pred))\n",
    "print(\"True values: \", Counter(test))\n",
    "print(\"Previous mood:\", Counter(X_test_bored))"
   ]
  },
  {
   "cell_type": "code",
   "execution_count": 27,
   "metadata": {},
   "outputs": [
    {
     "name": "stdout",
     "output_type": "stream",
     "text": [
      "Total length:  2645\n",
      "Same Correct 0 guesses is:  0\n",
      "Same Wrong 0 guesses is:  199\n",
      "Dif Correct 0 guesses is:  0\n",
      "Dif Wrong 0 guesses is:  76\n",
      "\n",
      "Same Correct 1 guesses is:  2\n",
      "Same Wrong 1 guesses is:  219\n",
      "Dif Correct 1 guesses is:  0\n",
      "Dif Wrong 1 guesses is:  165\n",
      "\n",
      "Same Correct 2 guesses is:  104\n",
      "Same Wrong 2 guesses is:  254\n",
      "Dif Correct 2 guesses is:  98\n",
      "Dif Wrong 2 guesses is:  143\n",
      "\n",
      "Same Correct 3 guesses is:  311\n",
      "Same Wrong 3 guesses is:  140\n",
      "Dif Correct 3 guesses is:  170\n",
      "Dif Wrong 3 guesses is:  134\n",
      "\n",
      "Same Correct 4 guesses is:  5\n",
      "Same Wrong 4 guesses is:  254\n",
      "Dif Correct 4 guesses is:  1\n",
      "Dif Wrong 4 guesses is:  197\n",
      "\n",
      "Same Correct 5 guesses is:  0\n",
      "Same Wrong 5 guesses is:  112\n",
      "Dif Correct 5 guesses is:  0\n",
      "Dif Wrong 5 guesses is:  61\n"
     ]
    }
   ],
   "source": [
    "same_correct_0, same_wrong_0, same_correct_1, same_wrong_1, same_correct_2, same_wrong_2, same_correct_3, same_wrong_3, same_correct_4, same_wrong_4, same_correct_5, same_wrong_5 = (0, 0, 0, 0, 0, 0, 0, 0, 0, 0, 0, 0)\n",
    "dif_correct_0, dif_wrong_0, dif_correct_1, dif_wrong_1, dif_correct_2, dif_wrong_2, dif_correct_3, dif_wrong_3, dif_correct_4, dif_wrong_4, dif_correct_5, dif_wrong_5 = (0, 0, 0, 0, 0, 0, 0, 0, 0, 0, 0, 0)\n",
    "\n",
    "for i in range(len(pred)):\n",
    "    if test[i] == 0 and pred[i] == 0:\n",
    "        if test[i] == X_test_bored[i]:\n",
    "            same_correct_0 += 1\n",
    "        if test[i] != X_test_bored[i]:\n",
    "            dif_correct_0 += 1\n",
    "    if test[i] == 0 and pred[i] != 0:\n",
    "        if test[i] == X_test_bored[i]:\n",
    "            same_wrong_0 += 1\n",
    "        if test[i] != X_test_bored[i]:\n",
    "            dif_wrong_0 += 1\n",
    "\n",
    "    if test[i] == 2 and pred[i] == 2:\n",
    "        if test[i] == X_test_bored[i]:\n",
    "            same_correct_1 += 1\n",
    "        if test[i] != X_test_bored[i]:\n",
    "            dif_correct_1 += 1\n",
    "    if test[i] == 2 and pred[i] != 2:\n",
    "        if test[i] == X_test_bored[i]:\n",
    "            same_wrong_1 += 1\n",
    "        if test[i] != X_test_bored[i]:\n",
    "            dif_wrong_1 += 1\n",
    "        \n",
    "    if test[i] == 3 and pred[i] == 3:\n",
    "        if test[i] == X_test_bored[i]:\n",
    "            same_correct_2 += 1\n",
    "        if test[i] != X_test_bored[i]:\n",
    "            dif_correct_2 += 1\n",
    "    if test[i] == 3 and pred[i] != 3:\n",
    "        if test[i] == X_test_bored[i]:\n",
    "            same_wrong_2 += 1\n",
    "        if test[i] != X_test_bored[i]:\n",
    "            dif_wrong_2 += 1\n",
    "    \n",
    "    if test[i] == 4 and pred[i] == 4:\n",
    "        if test[i] == X_test_bored[i]:\n",
    "            same_correct_3 += 1\n",
    "        if test[i] != X_test_bored[i]:\n",
    "            dif_correct_3 += 1\n",
    "    if test[i] == 4 and pred[i] != 4:\n",
    "        if test[i] == X_test_bored[i]:\n",
    "            same_wrong_3 += 1\n",
    "        if test[i] != X_test_bored[i]:\n",
    "            dif_wrong_3 += 1\n",
    "        \n",
    "    if test[i] == 5 and pred[i] == 5:\n",
    "        if test[i] == X_test_bored[i]:\n",
    "            same_correct_4 += 1\n",
    "        if test[i] != X_test_bored[i]:\n",
    "            dif_correct_4 += 1\n",
    "    if test[i] == 5 and pred[i] != 5:\n",
    "        if test[i] == X_test_bored[i]:\n",
    "            same_wrong_4 += 1\n",
    "        if test[i] != X_test_bored[i]:\n",
    "            dif_wrong_4 += 1\n",
    "    \n",
    "    if test[i] == 7 and pred[i] == 7:\n",
    "        if test[i] == X_test_bored[i]:\n",
    "            same_correct_5 += 1\n",
    "        if test[i] != X_test_bored[i]:\n",
    "            dif_correct_5 += 1\n",
    "    if test[i] == 7 and pred[i] != 7:\n",
    "        if test[i] == X_test_bored[i]:\n",
    "            same_wrong_5 += 1\n",
    "        if test[i] != X_test_bored[i]:\n",
    "            dif_wrong_5 += 1\n",
    "\n",
    "print(\"Total length: \", len(X_test_bored))\n",
    "\n",
    "print(\"Same Correct 0 guesses is: \", same_correct_0)\n",
    "print(\"Same Wrong 0 guesses is: \", same_wrong_0)\n",
    "print(\"Dif Correct 0 guesses is: \", dif_correct_0)\n",
    "print(\"Dif Wrong 0 guesses is: \", dif_wrong_0)\n",
    "print('')\n",
    "print(\"Same Correct 1 guesses is: \", same_correct_1)\n",
    "print(\"Same Wrong 1 guesses is: \", same_wrong_1)\n",
    "print(\"Dif Correct 1 guesses is: \", dif_correct_1)\n",
    "print(\"Dif Wrong 1 guesses is: \", dif_wrong_1)\n",
    "print('')\n",
    "print(\"Same Correct 2 guesses is: \", same_correct_2)\n",
    "print(\"Same Wrong 2 guesses is: \", same_wrong_2)\n",
    "print(\"Dif Correct 2 guesses is: \", dif_correct_2)\n",
    "print(\"Dif Wrong 2 guesses is: \", dif_wrong_2)\n",
    "print('')\n",
    "print(\"Same Correct 3 guesses is: \", same_correct_3)\n",
    "print(\"Same Wrong 3 guesses is: \", same_wrong_3)\n",
    "print(\"Dif Correct 3 guesses is: \", dif_correct_3)\n",
    "print(\"Dif Wrong 3 guesses is: \", dif_wrong_3)\n",
    "print('')\n",
    "print(\"Same Correct 4 guesses is: \", same_correct_4)\n",
    "print(\"Same Wrong 4 guesses is: \", same_wrong_4)\n",
    "print(\"Dif Correct 4 guesses is: \", dif_correct_4)\n",
    "print(\"Dif Wrong 4 guesses is: \", dif_wrong_4)\n",
    "print('')\n",
    "print(\"Same Correct 5 guesses is: \", same_correct_5)\n",
    "print(\"Same Wrong 5 guesses is: \", same_wrong_5)\n",
    "print(\"Dif Correct 5 guesses is: \", dif_correct_5)\n",
    "print(\"Dif Wrong 5 guesses is: \", dif_wrong_5)"
   ]
  },
  {
   "cell_type": "code",
   "execution_count": 28,
   "metadata": {},
   "outputs": [],
   "source": [
    "mae_0, mae_1, mae_2, mae_3, mae_4, mae_5 = (0,0,0,0,0,0)\n",
    "\n",
    "for i in range(len(pred)):\n",
    "    if test[i] == 0 and pred[i] != 0:\n",
    "        mae_0 += (abs(test[i]-pred[i]))\n",
    "    if test[i] == 2 and pred[i] != 2:\n",
    "        mae_1 += (abs(test[i]-pred[i]))\n",
    "    if test[i] == 3 and pred[i] != 3:\n",
    "        mae_2 += (abs(test[i]-pred[i]))\n",
    "    if test[i] == 4 and pred[i] != 4:\n",
    "        mae_3 += (abs(test[i]-pred[i]))\n",
    "    if test[i] == 5 and pred[i] != 5:\n",
    "        mae_4 += (abs(test[i]-pred[i]))\n",
    "    if test[i] == 7 and pred[i] != 7:\n",
    "        mae_5 += (abs(test[i]-pred[i]))\n",
    "\n",
    "cnt_0, cnt_1, cnt_2, cnt_3, cnt_4, cnt_5 = (0,0,0,0,0,0)\n",
    "for z in range(len(test)):\n",
    "    if test[z] == 0:\n",
    "        cnt_0 += 1\n",
    "    if test[z] == 2:\n",
    "        cnt_1 += 1\n",
    "    if test[z] == 3:\n",
    "        cnt_2 += 1\n",
    "    if test[z] == 4:\n",
    "        cnt_3 += 1\n",
    "    if test[z] == 5:\n",
    "        cnt_4 += 1\n",
    "    if test[z] == 7:\n",
    "        cnt_5 += 1\n",
    "\n",
    "mae_macroaverage = ((mae_0/cnt_0) + (mae_1/cnt_1) + (mae_2/cnt_2) + (mae_3/cnt_3) + (mae_4/cnt_4) + (mae_5/cnt_5)) / 6"
   ]
  },
  {
   "cell_type": "code",
   "execution_count": 29,
   "metadata": {},
   "outputs": [
    {
     "name": "stdout",
     "output_type": "stream",
     "text": [
      "Macro-averaged Mean Absolute error is:  1.8046\n",
      "Macro-averaged F1-score is:  0.179\n"
     ]
    },
    {
     "name": "stderr",
     "output_type": "stream",
     "text": [
      "/Users/Stijn/Library/Python/3.7/lib/python/site-packages/sklearn/metrics/classification.py:1437: UndefinedMetricWarning: F-score is ill-defined and being set to 0.0 in labels with no predicted samples.\n",
      "  'precision', 'predicted', average, warn_for)\n"
     ]
    }
   ],
   "source": [
    "print(\"Macro-averaged Mean Absolute error is: \", round(mae_macroaverage, 4))\n",
    "print(\"Macro-averaged F1-score is: \", round(f1_score(test, pred, average='weighted'), 4))"
   ]
  },
  {
   "cell_type": "code",
   "execution_count": null,
   "metadata": {},
   "outputs": [],
   "source": []
  }
 ],
 "metadata": {
  "kernelspec": {
   "display_name": "Python 3",
   "language": "python",
   "name": "python3"
  },
  "language_info": {
   "codemirror_mode": {
    "name": "ipython",
    "version": 3
   },
   "file_extension": ".py",
   "mimetype": "text/x-python",
   "name": "python",
   "nbconvert_exporter": "python",
   "pygments_lexer": "ipython3",
   "version": "3.7.4"
  }
 },
 "nbformat": 4,
 "nbformat_minor": 2
}
