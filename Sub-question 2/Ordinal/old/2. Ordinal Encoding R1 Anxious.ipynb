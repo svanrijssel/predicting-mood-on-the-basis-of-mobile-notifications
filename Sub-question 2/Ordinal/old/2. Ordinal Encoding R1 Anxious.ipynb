{
 "cells": [
  {
   "cell_type": "code",
   "execution_count": 1,
   "metadata": {},
   "outputs": [
    {
     "name": "stderr",
     "output_type": "stream",
     "text": [
      "Using TensorFlow backend.\n"
     ]
    }
   ],
   "source": [
    "# Import packages\n",
    "import pandas as pd\n",
    "import numpy as np\n",
    "import datetime\n",
    "import category_encoders as ce\n",
    "from sklearn.preprocessing import LabelEncoder, MinMaxScaler, RobustScaler, OneHotEncoder, StandardScaler\n",
    "from sklearn.model_selection import train_test_split\n",
    "from sklearn.metrics import accuracy_score, mean_squared_error, cohen_kappa_score, f1_score\n",
    "from sklearn.utils import shuffle\n",
    "from imblearn.over_sampling import SMOTE, SMOTENC\n",
    "import matplotlib.pyplot as plt\n",
    "from statsmodels.graphics.mosaicplot import mosaic\n",
    "from sklearn.decomposition import PCA\n",
    "from scipy import stats\n",
    "from math import sqrt\n",
    "\n",
    "\n",
    "\n",
    "import keras\n",
    "from keras.models import Sequential\n",
    "from keras.layers import Dense, Dropout, GaussianNoise\n",
    "from keras.optimizers import SGD\n",
    "from keras import regularizers"
   ]
  },
  {
   "cell_type": "code",
   "execution_count": 2,
   "metadata": {},
   "outputs": [],
   "source": [
    "path = \"/Users/Stijn/Documents/Master Data Science and Society/Block 3/thesis/code/thesis_Code/\"\n",
    "mood = pd.read_csv(path+'mood_imputed_median.csv', sep = ',', index_col=0)\n",
    "mood['anxious_last'] = mood.groupby('user_id')['anxious'].shift()\n",
    "mood.loc[(pd.isnull(mood.anxious_last)), 'anxious_last'] = mood['anxious']\n",
    "mood_anxious = mood.drop([\"content\", \"bored\", \"cheerful\", \"user_id\", \"response_time\"], axis=1)"
   ]
  },
  {
   "cell_type": "code",
   "execution_count": 4,
   "metadata": {},
   "outputs": [
    {
     "data": {
      "text/html": [
       "<div>\n",
       "<style scoped>\n",
       "    .dataframe tbody tr th:only-of-type {\n",
       "        vertical-align: middle;\n",
       "    }\n",
       "\n",
       "    .dataframe tbody tr th {\n",
       "        vertical-align: top;\n",
       "    }\n",
       "\n",
       "    .dataframe thead th {\n",
       "        text-align: right;\n",
       "    }\n",
       "</style>\n",
       "<table border=\"1\" class=\"dataframe\">\n",
       "  <thead>\n",
       "    <tr style=\"text-align: right;\">\n",
       "      <th></th>\n",
       "      <th>anxious</th>\n",
       "      <th>day_time_window</th>\n",
       "      <th>average_TimeUse</th>\n",
       "      <th>bulk</th>\n",
       "      <th>messaging</th>\n",
       "      <th>socialnetworking</th>\n",
       "      <th>otherapp</th>\n",
       "      <th>anxious_last</th>\n",
       "    </tr>\n",
       "  </thead>\n",
       "  <tbody>\n",
       "    <tr>\n",
       "      <th>4825</th>\n",
       "      <td>3.0</td>\n",
       "      <td>3.0</td>\n",
       "      <td>0.673000</td>\n",
       "      <td>0</td>\n",
       "      <td>0</td>\n",
       "      <td>0</td>\n",
       "      <td>1</td>\n",
       "      <td>3.0</td>\n",
       "    </tr>\n",
       "    <tr>\n",
       "      <th>4826</th>\n",
       "      <td>3.0</td>\n",
       "      <td>4.0</td>\n",
       "      <td>64.314667</td>\n",
       "      <td>0</td>\n",
       "      <td>1</td>\n",
       "      <td>0</td>\n",
       "      <td>2</td>\n",
       "      <td>3.0</td>\n",
       "    </tr>\n",
       "    <tr>\n",
       "      <th>245</th>\n",
       "      <td>3.0</td>\n",
       "      <td>1.0</td>\n",
       "      <td>20.590500</td>\n",
       "      <td>0</td>\n",
       "      <td>0</td>\n",
       "      <td>0</td>\n",
       "      <td>2</td>\n",
       "      <td>3.0</td>\n",
       "    </tr>\n",
       "    <tr>\n",
       "      <th>4827</th>\n",
       "      <td>3.0</td>\n",
       "      <td>2.0</td>\n",
       "      <td>0.000000</td>\n",
       "      <td>0</td>\n",
       "      <td>0</td>\n",
       "      <td>0</td>\n",
       "      <td>0</td>\n",
       "      <td>3.0</td>\n",
       "    </tr>\n",
       "    <tr>\n",
       "      <th>4828</th>\n",
       "      <td>3.0</td>\n",
       "      <td>3.0</td>\n",
       "      <td>53.957200</td>\n",
       "      <td>0</td>\n",
       "      <td>3</td>\n",
       "      <td>0</td>\n",
       "      <td>2</td>\n",
       "      <td>3.0</td>\n",
       "    </tr>\n",
       "  </tbody>\n",
       "</table>\n",
       "</div>"
      ],
      "text/plain": [
       "      anxious  day_time_window  average_TimeUse  bulk  messaging  \\\n",
       "4825      3.0              3.0         0.673000     0          0   \n",
       "4826      3.0              4.0        64.314667     0          1   \n",
       "245       3.0              1.0        20.590500     0          0   \n",
       "4827      3.0              2.0         0.000000     0          0   \n",
       "4828      3.0              3.0        53.957200     0          3   \n",
       "\n",
       "      socialnetworking  otherapp  anxious_last  \n",
       "4825                 0         1           3.0  \n",
       "4826                 0         2           3.0  \n",
       "245                  0         2           3.0  \n",
       "4827                 0         0           3.0  \n",
       "4828                 0         2           3.0  "
      ]
     },
     "execution_count": 4,
     "metadata": {},
     "output_type": "execute_result"
    }
   ],
   "source": [
    "mood_anxious[:5]"
   ]
  },
  {
   "cell_type": "code",
   "execution_count": 5,
   "metadata": {},
   "outputs": [],
   "source": [
    "# Normalize predictors\n",
    "mood_normz = mood_anxious.copy()\n",
    "features_to_normalize = ['day_time_window', 'average_TimeUse', 'messaging', 'socialnetworking', 'otherapp']\n",
    "mood_normz[features_to_normalize] = mood_normz[features_to_normalize].apply(lambda x:(x-x.min()) / (x.max()-x.min()))"
   ]
  },
  {
   "cell_type": "code",
   "execution_count": 6,
   "metadata": {},
   "outputs": [],
   "source": [
    "X = mood_normz.iloc[:,1:]\n",
    "y = mood_normz.iloc[:, 0:1]\n",
    "y = y.astype(int)"
   ]
  },
  {
   "cell_type": "code",
   "execution_count": 7,
   "metadata": {},
   "outputs": [],
   "source": [
    "X_train, X_test, y_train, y_test = train_test_split(X, y, test_size=0.2, random_state=2)"
   ]
  },
  {
   "cell_type": "code",
   "execution_count": 8,
   "metadata": {},
   "outputs": [
    {
     "data": {
      "text/html": [
       "<div>\n",
       "<style scoped>\n",
       "    .dataframe tbody tr th:only-of-type {\n",
       "        vertical-align: middle;\n",
       "    }\n",
       "\n",
       "    .dataframe tbody tr th {\n",
       "        vertical-align: top;\n",
       "    }\n",
       "\n",
       "    .dataframe thead th {\n",
       "        text-align: right;\n",
       "    }\n",
       "</style>\n",
       "<table border=\"1\" class=\"dataframe\">\n",
       "  <thead>\n",
       "    <tr style=\"text-align: right;\">\n",
       "      <th></th>\n",
       "      <th>day_time_window</th>\n",
       "      <th>average_TimeUse</th>\n",
       "      <th>bulk</th>\n",
       "      <th>messaging</th>\n",
       "      <th>socialnetworking</th>\n",
       "      <th>otherapp</th>\n",
       "      <th>anxious_last</th>\n",
       "    </tr>\n",
       "  </thead>\n",
       "  <tbody>\n",
       "    <tr>\n",
       "      <th>10315</th>\n",
       "      <td>1.000000</td>\n",
       "      <td>0.000000</td>\n",
       "      <td>0</td>\n",
       "      <td>0.000000</td>\n",
       "      <td>0.00</td>\n",
       "      <td>0.0</td>\n",
       "      <td>0.0</td>\n",
       "    </tr>\n",
       "    <tr>\n",
       "      <th>15108</th>\n",
       "      <td>1.000000</td>\n",
       "      <td>0.024319</td>\n",
       "      <td>0</td>\n",
       "      <td>0.009524</td>\n",
       "      <td>0.02</td>\n",
       "      <td>0.0</td>\n",
       "      <td>0.0</td>\n",
       "    </tr>\n",
       "    <tr>\n",
       "      <th>1524</th>\n",
       "      <td>0.000000</td>\n",
       "      <td>0.000000</td>\n",
       "      <td>0</td>\n",
       "      <td>0.000000</td>\n",
       "      <td>0.00</td>\n",
       "      <td>0.0</td>\n",
       "      <td>2.0</td>\n",
       "    </tr>\n",
       "    <tr>\n",
       "      <th>5438</th>\n",
       "      <td>0.666667</td>\n",
       "      <td>0.000000</td>\n",
       "      <td>0</td>\n",
       "      <td>0.000000</td>\n",
       "      <td>0.00</td>\n",
       "      <td>0.0</td>\n",
       "      <td>2.0</td>\n",
       "    </tr>\n",
       "    <tr>\n",
       "      <th>992</th>\n",
       "      <td>0.000000</td>\n",
       "      <td>0.000000</td>\n",
       "      <td>0</td>\n",
       "      <td>0.000000</td>\n",
       "      <td>0.00</td>\n",
       "      <td>0.0</td>\n",
       "      <td>0.0</td>\n",
       "    </tr>\n",
       "  </tbody>\n",
       "</table>\n",
       "</div>"
      ],
      "text/plain": [
       "       day_time_window  average_TimeUse  bulk  messaging  socialnetworking  \\\n",
       "10315         1.000000         0.000000     0   0.000000              0.00   \n",
       "15108         1.000000         0.024319     0   0.009524              0.02   \n",
       "1524          0.000000         0.000000     0   0.000000              0.00   \n",
       "5438          0.666667         0.000000     0   0.000000              0.00   \n",
       "992           0.000000         0.000000     0   0.000000              0.00   \n",
       "\n",
       "       otherapp  anxious_last  \n",
       "10315       0.0           0.0  \n",
       "15108       0.0           0.0  \n",
       "1524        0.0           2.0  \n",
       "5438        0.0           2.0  \n",
       "992         0.0           0.0  "
      ]
     },
     "execution_count": 8,
     "metadata": {},
     "output_type": "execute_result"
    }
   ],
   "source": [
    "X_train[:5]"
   ]
  },
  {
   "cell_type": "code",
   "execution_count": 9,
   "metadata": {},
   "outputs": [
    {
     "name": "stdout",
     "output_type": "stream",
     "text": [
      "Before OverSampling, counts of labels: 0    5768\n",
      "1    2035\n",
      "2    1576\n",
      "3     800\n",
      "4     294\n",
      "5     103\n",
      "Name: anxious, dtype: int64\n",
      "After OverSampling, counts of label '0': 5768\n",
      "After OverSampling, counts of label '1': 5768\n",
      "After OverSampling, counts of label '2': 5768\n",
      "After OverSampling, counts of label '3': 5768\n",
      "After OverSampling, counts of label '4': 5768\n",
      "After OverSampling, counts of label '5': 5768\n"
     ]
    }
   ],
   "source": [
    "# Oversampling unbalanced target\n",
    "print(\"Before OverSampling, counts of labels: {}\".format(y_train['anxious'].value_counts()))\n",
    "  \n",
    "sm = SMOTENC(categorical_features=[0, 2, 6], random_state = 2) \n",
    "X_train_res, y_train_res = sm.fit_sample(X_train, y_train['anxious'].ravel()) \n",
    "\n",
    "print(\"After OverSampling, counts of label '0': {}\".format(sum(y_train_res == 0))) \n",
    "print(\"After OverSampling, counts of label '1': {}\".format(sum(y_train_res == 1))) \n",
    "print(\"After OverSampling, counts of label '2': {}\".format(sum(y_train_res == 2))) \n",
    "print(\"After OverSampling, counts of label '3': {}\".format(sum(y_train_res == 3))) \n",
    "print(\"After OverSampling, counts of label '4': {}\".format(sum(y_train_res == 4))) \n",
    "print(\"After OverSampling, counts of label '5': {}\".format(sum(y_train_res == 5))) "
   ]
  },
  {
   "cell_type": "code",
   "execution_count": 10,
   "metadata": {},
   "outputs": [],
   "source": [
    "X_train = pd.DataFrame(data=X_train_res)\n",
    "y_train = pd.DataFrame(data=y_train_res)"
   ]
  },
  {
   "cell_type": "code",
   "execution_count": 11,
   "metadata": {},
   "outputs": [],
   "source": [
    "# Shuffle both train and test set to cancel patterns\n",
    "X_train, y_train = shuffle(X_train, y_train)\n",
    "X_test, y_test = shuffle(X_test, y_test)"
   ]
  },
  {
   "cell_type": "code",
   "execution_count": 12,
   "metadata": {},
   "outputs": [],
   "source": [
    "X_train_nomood = X_train.iloc[:,:-1]\n",
    "X_train_onlylastmood = X_train.iloc[:,-1:]\n",
    "X_test_nomood = X_test.iloc[:,:-1]\n",
    "X_test_onlylastmood = X_test.iloc[:,-1:]"
   ]
  },
  {
   "cell_type": "code",
   "execution_count": 13,
   "metadata": {},
   "outputs": [
    {
     "name": "stdout",
     "output_type": "stream",
     "text": [
      "Model: \"sequential_1\"\n",
      "_________________________________________________________________\n",
      "Layer (type)                 Output Shape              Param #   \n",
      "=================================================================\n",
      "dense_1 (Dense)              (None, 24)                168       \n",
      "_________________________________________________________________\n",
      "dense_2 (Dense)              (None, 12)                300       \n",
      "_________________________________________________________________\n",
      "dense_3 (Dense)              (None, 1)                 13        \n",
      "=================================================================\n",
      "Total params: 481\n",
      "Trainable params: 481\n",
      "Non-trainable params: 0\n",
      "_________________________________________________________________\n"
     ]
    }
   ],
   "source": [
    "# Define Keras model\n",
    "model = Sequential()\n",
    "model.add(Dense(24, input_dim=6, activation='relu'))\n",
    "model.add(Dense(12, activation='relu'))\n",
    "model.add(Dense(1, activation='linear'))\n",
    "\n",
    "model.compile(loss='mean_squared_error', optimizer='adam', metrics=['accuracy'])\n",
    "model.summary()"
   ]
  },
  {
   "cell_type": "code",
   "execution_count": 14,
   "metadata": {},
   "outputs": [
    {
     "name": "stdout",
     "output_type": "stream",
     "text": [
      "Train on 27686 samples, validate on 6922 samples\n",
      "Epoch 1/100\n",
      "27686/27686 [==============================] - 0s 10us/step - loss: 8.2410 - accuracy: 0.1644 - val_loss: 7.2264 - val_accuracy: 0.1702\n",
      "Epoch 2/100\n",
      "27686/27686 [==============================] - 0s 4us/step - loss: 5.8531 - accuracy: 0.1645 - val_loss: 4.5350 - val_accuracy: 0.1591\n",
      "Epoch 3/100\n",
      "27686/27686 [==============================] - 0s 5us/step - loss: 3.6760 - accuracy: 0.1646 - val_loss: 3.2933 - val_accuracy: 0.1641\n",
      "Epoch 4/100\n",
      "27686/27686 [==============================] - 0s 5us/step - loss: 3.1358 - accuracy: 0.1728 - val_loss: 3.0881 - val_accuracy: 0.1700\n",
      "Epoch 5/100\n",
      "27686/27686 [==============================] - 0s 6us/step - loss: 2.9772 - accuracy: 0.1727 - val_loss: 2.9736 - val_accuracy: 0.1683\n",
      "Epoch 6/100\n",
      "27686/27686 [==============================] - 0s 5us/step - loss: 2.8872 - accuracy: 0.1753 - val_loss: 2.9207 - val_accuracy: 0.1716\n",
      "Epoch 7/100\n",
      "27686/27686 [==============================] - 0s 4us/step - loss: 2.8468 - accuracy: 0.1712 - val_loss: 2.9005 - val_accuracy: 0.1608\n",
      "Epoch 8/100\n",
      "27686/27686 [==============================] - 0s 4us/step - loss: 2.8323 - accuracy: 0.1644 - val_loss: 2.8939 - val_accuracy: 0.1595\n",
      "Epoch 9/100\n",
      "27686/27686 [==============================] - 0s 4us/step - loss: 2.8271 - accuracy: 0.1671 - val_loss: 2.8875 - val_accuracy: 0.1634\n",
      "Epoch 10/100\n",
      "27686/27686 [==============================] - 0s 5us/step - loss: 2.8217 - accuracy: 0.1695 - val_loss: 2.8837 - val_accuracy: 0.1615\n",
      "Epoch 11/100\n",
      "27686/27686 [==============================] - 0s 4us/step - loss: 2.8187 - accuracy: 0.1705 - val_loss: 2.8800 - val_accuracy: 0.1632\n",
      "Epoch 12/100\n",
      "27686/27686 [==============================] - 0s 4us/step - loss: 2.8146 - accuracy: 0.1705 - val_loss: 2.8817 - val_accuracy: 0.1628\n",
      "Epoch 13/100\n",
      "27686/27686 [==============================] - 0s 4us/step - loss: 2.8163 - accuracy: 0.1695 - val_loss: 2.8741 - val_accuracy: 0.1761\n",
      "Epoch 14/100\n",
      "27686/27686 [==============================] - 0s 4us/step - loss: 2.8096 - accuracy: 0.1712 - val_loss: 2.8702 - val_accuracy: 0.1679\n",
      "Epoch 15/100\n",
      "27686/27686 [==============================] - 0s 5us/step - loss: 2.8077 - accuracy: 0.1714 - val_loss: 2.8687 - val_accuracy: 0.1625\n",
      "Epoch 16/100\n",
      "27686/27686 [==============================] - 0s 8us/step - loss: 2.8044 - accuracy: 0.1712 - val_loss: 2.8652 - val_accuracy: 0.1728\n",
      "Epoch 17/100\n",
      "27686/27686 [==============================] - 0s 8us/step - loss: 2.8024 - accuracy: 0.1720 - val_loss: 2.8628 - val_accuracy: 0.1749\n",
      "Epoch 18/100\n",
      "27686/27686 [==============================] - 0s 6us/step - loss: 2.7997 - accuracy: 0.1734 - val_loss: 2.8631 - val_accuracy: 0.1627\n",
      "Epoch 19/100\n",
      "27686/27686 [==============================] - 0s 4us/step - loss: 2.7970 - accuracy: 0.1728 - val_loss: 2.8609 - val_accuracy: 0.1614\n",
      "Epoch 20/100\n",
      "27686/27686 [==============================] - 0s 5us/step - loss: 2.7955 - accuracy: 0.1724 - val_loss: 2.8551 - val_accuracy: 0.1731\n",
      "Epoch 21/100\n",
      "27686/27686 [==============================] - 0s 7us/step - loss: 2.7930 - accuracy: 0.1726 - val_loss: 2.8523 - val_accuracy: 0.1726\n",
      "Epoch 22/100\n",
      "27686/27686 [==============================] - 0s 5us/step - loss: 2.7891 - accuracy: 0.1737 - val_loss: 2.8512 - val_accuracy: 0.1628\n",
      "Epoch 23/100\n",
      "27686/27686 [==============================] - 0s 5us/step - loss: 2.7864 - accuracy: 0.1729 - val_loss: 2.8451 - val_accuracy: 0.1735\n",
      "Epoch 24/100\n",
      "27686/27686 [==============================] - 0s 5us/step - loss: 2.7828 - accuracy: 0.1729 - val_loss: 2.8426 - val_accuracy: 0.1761\n",
      "Epoch 25/100\n",
      "27686/27686 [==============================] - 0s 4us/step - loss: 2.7808 - accuracy: 0.1715 - val_loss: 2.8391 - val_accuracy: 0.1775\n",
      "Epoch 26/100\n",
      "27686/27686 [==============================] - 0s 4us/step - loss: 2.7760 - accuracy: 0.1725 - val_loss: 2.8351 - val_accuracy: 0.1723\n",
      "Epoch 27/100\n",
      "27686/27686 [==============================] - 0s 5us/step - loss: 2.7722 - accuracy: 0.1730 - val_loss: 2.8425 - val_accuracy: 0.1640\n",
      "Epoch 28/100\n",
      "27686/27686 [==============================] - 0s 5us/step - loss: 2.7698 - accuracy: 0.1728 - val_loss: 2.8287 - val_accuracy: 0.1736\n",
      "Epoch 29/100\n",
      "27686/27686 [==============================] - 0s 4us/step - loss: 2.7655 - accuracy: 0.1736 - val_loss: 2.8276 - val_accuracy: 0.1768\n",
      "Epoch 30/100\n",
      "27686/27686 [==============================] - 0s 4us/step - loss: 2.7633 - accuracy: 0.1731 - val_loss: 2.8239 - val_accuracy: 0.1762\n",
      "Epoch 31/100\n",
      "27686/27686 [==============================] - 0s 4us/step - loss: 2.7608 - accuracy: 0.1720 - val_loss: 2.8269 - val_accuracy: 0.1638\n",
      "Epoch 32/100\n",
      "27686/27686 [==============================] - 0s 4us/step - loss: 2.7578 - accuracy: 0.1721 - val_loss: 2.8194 - val_accuracy: 0.1723\n",
      "Epoch 33/100\n",
      "27686/27686 [==============================] - 0s 5us/step - loss: 2.7545 - accuracy: 0.1725 - val_loss: 2.8162 - val_accuracy: 0.1742\n",
      "Epoch 34/100\n",
      "27686/27686 [==============================] - 0s 7us/step - loss: 2.7527 - accuracy: 0.1720 - val_loss: 2.8154 - val_accuracy: 0.1706\n",
      "Epoch 35/100\n",
      "27686/27686 [==============================] - 0s 6us/step - loss: 2.7502 - accuracy: 0.1726 - val_loss: 2.8190 - val_accuracy: 0.1622\n",
      "Epoch 36/100\n",
      "27686/27686 [==============================] - 0s 5us/step - loss: 2.7452 - accuracy: 0.1746 - val_loss: 2.8075 - val_accuracy: 0.1764\n",
      "Epoch 37/100\n",
      "27686/27686 [==============================] - 0s 4us/step - loss: 2.7447 - accuracy: 0.1715 - val_loss: 2.8058 - val_accuracy: 0.1716\n",
      "Epoch 38/100\n",
      "27686/27686 [==============================] - 0s 4us/step - loss: 2.7412 - accuracy: 0.1737 - val_loss: 2.8049 - val_accuracy: 0.1723\n",
      "Epoch 39/100\n",
      "27686/27686 [==============================] - 0s 4us/step - loss: 2.7395 - accuracy: 0.1716 - val_loss: 2.8027 - val_accuracy: 0.1777\n",
      "Epoch 40/100\n",
      "27686/27686 [==============================] - 0s 4us/step - loss: 2.7385 - accuracy: 0.1725 - val_loss: 2.8002 - val_accuracy: 0.1702\n",
      "Epoch 41/100\n",
      "27686/27686 [==============================] - 0s 4us/step - loss: 2.7378 - accuracy: 0.1745 - val_loss: 2.7973 - val_accuracy: 0.1760\n",
      "Epoch 42/100\n",
      "27686/27686 [==============================] - 0s 4us/step - loss: 2.7346 - accuracy: 0.1702 - val_loss: 2.7966 - val_accuracy: 0.1703\n",
      "Epoch 43/100\n",
      "27686/27686 [==============================] - 0s 5us/step - loss: 2.7328 - accuracy: 0.1731 - val_loss: 2.7946 - val_accuracy: 0.1722\n",
      "Epoch 44/100\n",
      "27686/27686 [==============================] - 0s 7us/step - loss: 2.7335 - accuracy: 0.1713 - val_loss: 2.7958 - val_accuracy: 0.1754\n",
      "Epoch 45/100\n",
      "27686/27686 [==============================] - 0s 7us/step - loss: 2.7306 - accuracy: 0.1718 - val_loss: 2.7920 - val_accuracy: 0.1722\n",
      "Epoch 46/100\n",
      "27686/27686 [==============================] - 0s 4us/step - loss: 2.7291 - accuracy: 0.1739 - val_loss: 2.8111 - val_accuracy: 0.1661\n",
      "Epoch 47/100\n",
      "27686/27686 [==============================] - 0s 10us/step - loss: 2.7289 - accuracy: 0.1747 - val_loss: 2.7896 - val_accuracy: 0.1731\n",
      "Epoch 48/100\n",
      "27686/27686 [==============================] - 0s 6us/step - loss: 2.7253 - accuracy: 0.1728 - val_loss: 2.7944 - val_accuracy: 0.1738\n",
      "Epoch 49/100\n",
      "27686/27686 [==============================] - 0s 4us/step - loss: 2.7275 - accuracy: 0.1762 - val_loss: 2.7932 - val_accuracy: 0.1703\n",
      "Epoch 50/100\n",
      "27686/27686 [==============================] - 0s 7us/step - loss: 2.7257 - accuracy: 0.1756 - val_loss: 2.7871 - val_accuracy: 0.1786\n",
      "Epoch 51/100\n",
      "27686/27686 [==============================] - 0s 4us/step - loss: 2.7253 - accuracy: 0.1783 - val_loss: 2.7879 - val_accuracy: 0.1757\n",
      "Epoch 52/100\n",
      "27686/27686 [==============================] - 0s 5us/step - loss: 2.7255 - accuracy: 0.1761 - val_loss: 2.7846 - val_accuracy: 0.1783\n",
      "Epoch 53/100\n",
      "27686/27686 [==============================] - 0s 4us/step - loss: 2.7217 - accuracy: 0.1780 - val_loss: 2.7865 - val_accuracy: 0.1741\n",
      "Epoch 54/100\n",
      "27686/27686 [==============================] - 0s 4us/step - loss: 2.7236 - accuracy: 0.1752 - val_loss: 2.7885 - val_accuracy: 0.1764\n",
      "Epoch 55/100\n",
      "27686/27686 [==============================] - 0s 5us/step - loss: 2.7204 - accuracy: 0.1764 - val_loss: 2.7840 - val_accuracy: 0.1757\n",
      "Epoch 56/100\n"
     ]
    },
    {
     "name": "stdout",
     "output_type": "stream",
     "text": [
      "27686/27686 [==============================] - 0s 6us/step - loss: 2.7186 - accuracy: 0.1784 - val_loss: 2.7862 - val_accuracy: 0.1757\n",
      "Epoch 57/100\n",
      "27686/27686 [==============================] - 0s 7us/step - loss: 2.7193 - accuracy: 0.1755 - val_loss: 2.7880 - val_accuracy: 0.1747\n",
      "Epoch 58/100\n",
      "27686/27686 [==============================] - 0s 5us/step - loss: 2.7196 - accuracy: 0.1781 - val_loss: 2.7818 - val_accuracy: 0.1780\n",
      "Epoch 59/100\n",
      "27686/27686 [==============================] - 0s 5us/step - loss: 2.7153 - accuracy: 0.1779 - val_loss: 2.7826 - val_accuracy: 0.1764\n",
      "Epoch 60/100\n",
      "27686/27686 [==============================] - 0s 4us/step - loss: 2.7164 - accuracy: 0.1767 - val_loss: 2.7802 - val_accuracy: 0.1786\n",
      "Epoch 61/100\n",
      "27686/27686 [==============================] - 0s 5us/step - loss: 2.7159 - accuracy: 0.1799 - val_loss: 2.7793 - val_accuracy: 0.1775\n",
      "Epoch 62/100\n",
      "27686/27686 [==============================] - 0s 6us/step - loss: 2.7144 - accuracy: 0.1780 - val_loss: 2.7820 - val_accuracy: 0.1760\n",
      "Epoch 63/100\n",
      "27686/27686 [==============================] - 0s 6us/step - loss: 2.7159 - accuracy: 0.1762 - val_loss: 2.7820 - val_accuracy: 0.1771\n",
      "Epoch 64/100\n",
      "27686/27686 [==============================] - 0s 4us/step - loss: 2.7140 - accuracy: 0.1785 - val_loss: 2.7769 - val_accuracy: 0.1787\n",
      "Epoch 65/100\n",
      "27686/27686 [==============================] - 0s 4us/step - loss: 2.7125 - accuracy: 0.1789 - val_loss: 2.7776 - val_accuracy: 0.1773\n",
      "Epoch 66/100\n",
      "27686/27686 [==============================] - 0s 4us/step - loss: 2.7140 - accuracy: 0.1775 - val_loss: 2.7780 - val_accuracy: 0.1783\n",
      "Epoch 67/100\n",
      "27686/27686 [==============================] - 0s 4us/step - loss: 2.7117 - accuracy: 0.1790 - val_loss: 2.7770 - val_accuracy: 0.1786\n",
      "Epoch 68/100\n",
      "27686/27686 [==============================] - 0s 4us/step - loss: 2.7106 - accuracy: 0.1799 - val_loss: 2.7754 - val_accuracy: 0.1767\n",
      "Epoch 69/100\n",
      "27686/27686 [==============================] - 0s 4us/step - loss: 2.7122 - accuracy: 0.1781 - val_loss: 2.7784 - val_accuracy: 0.1755\n",
      "Epoch 70/100\n",
      "27686/27686 [==============================] - 0s 4us/step - loss: 2.7097 - accuracy: 0.1759 - val_loss: 2.7791 - val_accuracy: 0.1758\n",
      "Epoch 71/100\n",
      "27686/27686 [==============================] - 0s 4us/step - loss: 2.7102 - accuracy: 0.1795 - val_loss: 2.7903 - val_accuracy: 0.1764\n",
      "Epoch 72/100\n",
      "27686/27686 [==============================] - 0s 4us/step - loss: 2.7106 - accuracy: 0.1740 - val_loss: 2.7736 - val_accuracy: 0.1791\n",
      "Epoch 73/100\n",
      "27686/27686 [==============================] - 0s 4us/step - loss: 2.7082 - accuracy: 0.1792 - val_loss: 2.7756 - val_accuracy: 0.1793\n",
      "Epoch 74/100\n",
      "27686/27686 [==============================] - 0s 4us/step - loss: 2.7070 - accuracy: 0.1786 - val_loss: 2.7708 - val_accuracy: 0.1767\n",
      "Epoch 75/100\n",
      "27686/27686 [==============================] - 0s 4us/step - loss: 2.7047 - accuracy: 0.1785 - val_loss: 2.7798 - val_accuracy: 0.1758\n",
      "Epoch 76/100\n",
      "27686/27686 [==============================] - 0s 4us/step - loss: 2.7021 - accuracy: 0.1792 - val_loss: 2.7688 - val_accuracy: 0.1787\n",
      "Epoch 77/100\n",
      "27686/27686 [==============================] - 0s 4us/step - loss: 2.7061 - accuracy: 0.1778 - val_loss: 2.7675 - val_accuracy: 0.1767\n",
      "Epoch 78/100\n",
      "27686/27686 [==============================] - 0s 4us/step - loss: 2.7009 - accuracy: 0.1766 - val_loss: 2.7685 - val_accuracy: 0.1770\n",
      "Epoch 79/100\n",
      "27686/27686 [==============================] - 0s 4us/step - loss: 2.6995 - accuracy: 0.1792 - val_loss: 2.7672 - val_accuracy: 0.1780\n",
      "Epoch 80/100\n",
      "27686/27686 [==============================] - 0s 4us/step - loss: 2.7007 - accuracy: 0.1796 - val_loss: 2.7660 - val_accuracy: 0.1765\n",
      "Epoch 81/100\n",
      "27686/27686 [==============================] - 0s 4us/step - loss: 2.7013 - accuracy: 0.1786 - val_loss: 2.7677 - val_accuracy: 0.1736\n",
      "Epoch 82/100\n",
      "27686/27686 [==============================] - 0s 6us/step - loss: 2.7004 - accuracy: 0.1784 - val_loss: 2.7704 - val_accuracy: 0.1777\n",
      "Epoch 83/100\n",
      "27686/27686 [==============================] - 0s 5us/step - loss: 2.6978 - accuracy: 0.1790 - val_loss: 2.7634 - val_accuracy: 0.1761\n",
      "Epoch 84/100\n",
      "27686/27686 [==============================] - 0s 4us/step - loss: 2.6978 - accuracy: 0.1777 - val_loss: 2.7707 - val_accuracy: 0.1780\n",
      "Epoch 85/100\n",
      "27686/27686 [==============================] - 0s 4us/step - loss: 2.6942 - accuracy: 0.1802 - val_loss: 2.7643 - val_accuracy: 0.1749\n",
      "Epoch 86/100\n",
      "27686/27686 [==============================] - 0s 4us/step - loss: 2.6951 - accuracy: 0.1810 - val_loss: 2.7622 - val_accuracy: 0.1747\n",
      "Epoch 87/100\n",
      "27686/27686 [==============================] - 0s 4us/step - loss: 2.6937 - accuracy: 0.1790 - val_loss: 2.7629 - val_accuracy: 0.1764\n",
      "Epoch 88/100\n",
      "27686/27686 [==============================] - 0s 4us/step - loss: 2.6925 - accuracy: 0.1804 - val_loss: 2.7641 - val_accuracy: 0.1768\n",
      "Epoch 89/100\n",
      "27686/27686 [==============================] - 0s 4us/step - loss: 2.6896 - accuracy: 0.1814 - val_loss: 2.7584 - val_accuracy: 0.1797\n",
      "Epoch 90/100\n",
      "27686/27686 [==============================] - 0s 4us/step - loss: 2.6913 - accuracy: 0.1811 - val_loss: 2.7743 - val_accuracy: 0.1770\n",
      "Epoch 91/100\n",
      "27686/27686 [==============================] - 0s 4us/step - loss: 2.6915 - accuracy: 0.1798 - val_loss: 2.7576 - val_accuracy: 0.1791\n",
      "Epoch 92/100\n",
      "27686/27686 [==============================] - 0s 6us/step - loss: 2.6892 - accuracy: 0.1805 - val_loss: 2.7580 - val_accuracy: 0.1790\n",
      "Epoch 93/100\n",
      "27686/27686 [==============================] - 0s 5us/step - loss: 2.6867 - accuracy: 0.1812 - val_loss: 2.7573 - val_accuracy: 0.1755\n",
      "Epoch 94/100\n",
      "27686/27686 [==============================] - 0s 4us/step - loss: 2.6877 - accuracy: 0.1806 - val_loss: 2.7575 - val_accuracy: 0.1796\n",
      "Epoch 95/100\n",
      "27686/27686 [==============================] - 0s 4us/step - loss: 2.6853 - accuracy: 0.1818 - val_loss: 2.7531 - val_accuracy: 0.1796\n",
      "Epoch 96/100\n",
      "27686/27686 [==============================] - 0s 4us/step - loss: 2.6857 - accuracy: 0.1812 - val_loss: 2.7538 - val_accuracy: 0.1799\n",
      "Epoch 97/100\n",
      "27686/27686 [==============================] - 0s 10us/step - loss: 2.6838 - accuracy: 0.1807 - val_loss: 2.7587 - val_accuracy: 0.1790\n",
      "Epoch 98/100\n",
      "27686/27686 [==============================] - 0s 4us/step - loss: 2.6826 - accuracy: 0.1818 - val_loss: 2.7578 - val_accuracy: 0.1760\n",
      "Epoch 99/100\n",
      "27686/27686 [==============================] - 0s 4us/step - loss: 2.6826 - accuracy: 0.1825 - val_loss: 2.7512 - val_accuracy: 0.1799\n",
      "Epoch 100/100\n",
      "27686/27686 [==============================] - 0s 4us/step - loss: 2.6808 - accuracy: 0.1810 - val_loss: 2.7507 - val_accuracy: 0.1802\n"
     ]
    }
   ],
   "source": [
    "history = model.fit(X_train_nomood, y_train, epochs=100, validation_split=0.2, batch_size=512)"
   ]
  },
  {
   "cell_type": "code",
   "execution_count": 15,
   "metadata": {},
   "outputs": [
    {
     "name": "stdout",
     "output_type": "stream",
     "text": [
      "Test loss: 2.6932\n",
      "Test accuracy: 18.17 %\n"
     ]
    }
   ],
   "source": [
    "score = model.evaluate(X_train_nomood, y_train, verbose=0)\n",
    "print('Test loss:', round(score[0],4))\n",
    "print('Test accuracy:', round(score[1]*100,2), \"%\")"
   ]
  },
  {
   "cell_type": "code",
   "execution_count": 16,
   "metadata": {},
   "outputs": [
    {
     "data": {
      "image/png": "[encoded data removed]",
      "text/plain": [
       "<Figure size 432x288 with 1 Axes>"
      ]
     },
     "metadata": {
      "needs_background": "light"
     },
     "output_type": "display_data"
    }
   ],
   "source": [
    "# Plot training & validation accuracy values\n",
    "plt.plot(history.history['accuracy'])\n",
    "plt.plot(history.history['val_accuracy'])\n",
    "plt.title('Model accuracy')\n",
    "plt.ylabel('Accuracy')\n",
    "plt.xlabel('Epoch')\n",
    "plt.legend(['Train', 'Validation'], loc='upper left')\n",
    "plt.show()"
   ]
  },
  {
   "cell_type": "code",
   "execution_count": 17,
   "metadata": {},
   "outputs": [
    {
     "data": {
      "image/png": "[encoded data removed]",
      "text/plain": [
       "<Figure size 432x288 with 1 Axes>"
      ]
     },
     "metadata": {
      "needs_background": "light"
     },
     "output_type": "display_data"
    }
   ],
   "source": [
    "# Plot training & validation loss values\n",
    "plt.plot(history.history['loss'])\n",
    "plt.plot(history.history['val_loss'])\n",
    "plt.title('Model loss')\n",
    "plt.ylabel('Loss')\n",
    "plt.xlabel('Epoch')\n",
    "plt.legend(['Train', 'Validation'], loc='upper left')\n",
    "plt.show()"
   ]
  },
  {
   "cell_type": "code",
   "execution_count": 18,
   "metadata": {},
   "outputs": [],
   "source": [
    "y_pred = model.predict(X_test_nomood)"
   ]
  },
  {
   "cell_type": "code",
   "execution_count": 20,
   "metadata": {},
   "outputs": [],
   "source": [
    "pred = []\n",
    "for a in y_pred:\n",
    "    for b in a:\n",
    "        pred.append(round(b))\n",
    "\n",
    "test = []\n",
    "for c in y_test['anxious']:\n",
    "    test.append(c)\n"
   ]
  },
  {
   "cell_type": "code",
   "execution_count": 21,
   "metadata": {},
   "outputs": [
    {
     "name": "stdout",
     "output_type": "stream",
     "text": [
      "Accuracy is: 12.741020793950849\n"
     ]
    }
   ],
   "source": [
    "a = accuracy_score(pred,test)\n",
    "print('Accuracy is:', a*100)"
   ]
  },
  {
   "cell_type": "code",
   "execution_count": 23,
   "metadata": {},
   "outputs": [
    {
     "name": "stdout",
     "output_type": "stream",
     "text": [
      "        Same Dif\n",
      "correct 197 140\n",
      "wrong   1742 566\n",
      "Table is right!\n"
     ]
    }
   ],
   "source": [
    "# true = y_test\n",
    "# pred = y_pred\n",
    "# last_value = X_content_lastarray\n",
    "same_correct = 0\n",
    "same_wrong = 0\n",
    "dif_correct = 0\n",
    "dif_wrong = 0\n",
    "\n",
    "X_test_content = X_test_onlylastmood['anxious_last'].values\n",
    "for i in range(len(pred)):\n",
    "    if (test[i] == X_test_content[i]) and (test[i] == pred[i]):\n",
    "        same_correct += 1\n",
    "    if (test[i] == X_test_content[i]) and (test[i] != pred[i]):\n",
    "        same_wrong += 1\n",
    "    if (test[i] != X_test_content[i]) and (test[i] == pred[i]):\n",
    "        dif_correct += 1\n",
    "    if (test[i] != X_test_content[i]) and (test[i] != pred[i]):\n",
    "        dif_wrong += 1   \n",
    "\n",
    "print(\"       \", \"Same\", \"Dif\")\n",
    "print(\"correct\", same_correct, dif_correct)\n",
    "print(\"wrong  \", same_wrong, dif_wrong)\n",
    "\n",
    "#Check if table is similar to accuracy\n",
    "if (same_correct+dif_correct) / (same_correct+dif_correct+same_wrong+dif_wrong) == a:\n",
    "    print(\"Table is right!\")\n",
    "else:\n",
    "    print(\"Table is wrong\")"
   ]
  },
  {
   "cell_type": "code",
   "execution_count": 24,
   "metadata": {},
   "outputs": [
    {
     "name": "stdout",
     "output_type": "stream",
     "text": [
      "Predicted valxues:  Counter({2.0: 1421, 3.0: 1009, 1.0: 194, 0.0: 10, 4.0: 9, -1.0: 1, -2.0: 1})\n",
      "True values:  Counter({0: 1438, 1: 513, 2: 370, 3: 212, 4: 90, 5: 22})\n",
      "Previous mood: Counter({0.0: 1418, 1.0: 523, 2.0: 382, 3.0: 222, 4.0: 84, 5.0: 16})\n"
     ]
    }
   ],
   "source": [
    "from collections import Counter\n",
    "print(\"Predicted valxues: \", Counter(pred))\n",
    "print(\"True values: \", Counter(test))\n",
    "print(\"Previous mood:\", Counter(X_test_content))"
   ]
  },
  {
   "cell_type": "code",
   "execution_count": 25,
   "metadata": {},
   "outputs": [
    {
     "name": "stdout",
     "output_type": "stream",
     "text": [
      "Total length:  2645\n",
      "Same Correct 0 guesses is:  5\n",
      "Same Wrong 0 guesses is:  1243\n",
      "Dif Correct 0 guesses is:  0\n",
      "Dif Wrong 0 guesses is:  190\n",
      "\n",
      "Same Correct 1 guesses is:  23\n",
      "Same Wrong 1 guesses is:  296\n",
      "Dif Correct 1 guesses is:  14\n",
      "Dif Wrong 1 guesses is:  180\n",
      "\n",
      "Same Correct 2 guesses is:  114\n",
      "Same Wrong 2 guesses is:  99\n",
      "Dif Correct 2 guesses is:  89\n",
      "Dif Wrong 2 guesses is:  68\n",
      "\n",
      "Same Correct 3 guesses is:  55\n",
      "Same Wrong 3 guesses is:  63\n",
      "Dif Correct 3 guesses is:  37\n",
      "Dif Wrong 3 guesses is:  57\n",
      "\n",
      "Same Correct 4 guesses is:  0\n",
      "Same Wrong 4 guesses is:  35\n",
      "Dif Correct 4 guesses is:  0\n",
      "Dif Wrong 4 guesses is:  55\n",
      "\n",
      "Same Correct 5 guesses is:  0\n",
      "Same Wrong 5 guesses is:  6\n",
      "Dif Correct 5 guesses is:  0\n",
      "Dif Wrong 5 guesses is:  16\n"
     ]
    }
   ],
   "source": [
    "same_correct_0, same_wrong_0, same_correct_1, same_wrong_1, same_correct_2, same_wrong_2, same_correct_3, same_wrong_3, same_correct_4, same_wrong_4, same_correct_5, same_wrong_5 = (0, 0, 0, 0, 0, 0, 0, 0, 0, 0, 0, 0)\n",
    "dif_correct_0, dif_wrong_0, dif_correct_1, dif_wrong_1, dif_correct_2, dif_wrong_2, dif_correct_3, dif_wrong_3, dif_correct_4, dif_wrong_4, dif_correct_5, dif_wrong_5 = (0, 0, 0, 0, 0, 0, 0, 0, 0, 0, 0, 0)\n",
    "\n",
    "for i in range(len(pred)):\n",
    "    if test[i] == 0 and pred[i] == 0:\n",
    "        if test[i] == X_test_content[i]:\n",
    "            same_correct_0 += 1\n",
    "        if test[i] != X_test_content[i]:\n",
    "            dif_correct_0 += 1\n",
    "    if test[i] == 0 and pred[i] != 0:\n",
    "        if test[i] == X_test_content[i]:\n",
    "            same_wrong_0 += 1\n",
    "        if test[i] != X_test_content[i]:\n",
    "            dif_wrong_0 += 1\n",
    "\n",
    "    if test[i] == 1 and pred[i] == 1:\n",
    "        if test[i] == X_test_content[i]:\n",
    "            same_correct_1 += 1\n",
    "        if test[i] != X_test_content[i]:\n",
    "            dif_correct_1 += 1\n",
    "    if test[i] == 1 and pred[i] != 1:\n",
    "        if test[i] == X_test_content[i]:\n",
    "            same_wrong_1 += 1\n",
    "        if test[i] != X_test_content[i]:\n",
    "            dif_wrong_1 += 1\n",
    "        \n",
    "    if test[i] == 2 and pred[i] == 2:\n",
    "        if test[i] == X_test_content[i]:\n",
    "            same_correct_2 += 1\n",
    "        if test[i] != X_test_content[i]:\n",
    "            dif_correct_2 += 1\n",
    "    if test[i] == 2 and pred[i] != 2:\n",
    "        if test[i] == X_test_content[i]:\n",
    "            same_wrong_2 += 1\n",
    "        if test[i] != X_test_content[i]:\n",
    "            dif_wrong_2 += 1\n",
    "    \n",
    "    if test[i] == 3 and pred[i] == 3:\n",
    "        if test[i] == X_test_content[i]:\n",
    "            same_correct_3 += 1\n",
    "        if test[i] != X_test_content[i]:\n",
    "            dif_correct_3 += 1\n",
    "    if test[i] == 3 and pred[i] != 3:\n",
    "        if test[i] == X_test_content[i]:\n",
    "            same_wrong_3 += 1\n",
    "        if test[i] != X_test_content[i]:\n",
    "            dif_wrong_3 += 1\n",
    "        \n",
    "    if test[i] == 4 and pred[i] == 4:\n",
    "        if test[i] == X_test_content[i]:\n",
    "            same_correct_4 += 1\n",
    "        if test[i] != X_test_content[i]:\n",
    "            dif_correct_4 += 1\n",
    "    if test[i] == 4 and pred[i] != 4:\n",
    "        if test[i] == X_test_content[i]:\n",
    "            same_wrong_4 += 1\n",
    "        if test[i] != X_test_content[i]:\n",
    "            dif_wrong_4 += 1\n",
    "    \n",
    "    if test[i] == 5 and pred[i] == 5:\n",
    "        if test[i] == X_test_content[i]:\n",
    "            same_correct_5 += 1\n",
    "        if test[i] != X_test_content[i]:\n",
    "            dif_correct_5 += 1\n",
    "    if test[i] == 5 and pred[i] != 5:\n",
    "        if test[i] == X_test_content[i]:\n",
    "            same_wrong_5 += 1\n",
    "        if test[i] != X_test_content[i]:\n",
    "            dif_wrong_5 += 1\n",
    "\n",
    "print(\"Total length: \", len(X_test_content))\n",
    "\n",
    "print(\"Same Correct 0 guesses is: \", same_correct_0)\n",
    "print(\"Same Wrong 0 guesses is: \", same_wrong_0)\n",
    "print(\"Dif Correct 0 guesses is: \", dif_correct_0)\n",
    "print(\"Dif Wrong 0 guesses is: \", dif_wrong_0)\n",
    "print('')\n",
    "print(\"Same Correct 1 guesses is: \", same_correct_1)\n",
    "print(\"Same Wrong 1 guesses is: \", same_wrong_1)\n",
    "print(\"Dif Correct 1 guesses is: \", dif_correct_1)\n",
    "print(\"Dif Wrong 1 guesses is: \", dif_wrong_1)\n",
    "print('')\n",
    "print(\"Same Correct 2 guesses is: \", same_correct_2)\n",
    "print(\"Same Wrong 2 guesses is: \", same_wrong_2)\n",
    "print(\"Dif Correct 2 guesses is: \", dif_correct_2)\n",
    "print(\"Dif Wrong 2 guesses is: \", dif_wrong_2)\n",
    "print('')\n",
    "print(\"Same Correct 3 guesses is: \", same_correct_3)\n",
    "print(\"Same Wrong 3 guesses is: \", same_wrong_3)\n",
    "print(\"Dif Correct 3 guesses is: \", dif_correct_3)\n",
    "print(\"Dif Wrong 3 guesses is: \", dif_wrong_3)\n",
    "print('')\n",
    "print(\"Same Correct 4 guesses is: \", same_correct_4)\n",
    "print(\"Same Wrong 4 guesses is: \", same_wrong_4)\n",
    "print(\"Dif Correct 4 guesses is: \", dif_correct_4)\n",
    "print(\"Dif Wrong 4 guesses is: \", dif_wrong_4)\n",
    "print('')\n",
    "print(\"Same Correct 5 guesses is: \", same_correct_5)\n",
    "print(\"Same Wrong 5 guesses is: \", same_wrong_5)\n",
    "print(\"Dif Correct 5 guesses is: \", dif_correct_5)\n",
    "print(\"Dif Wrong 5 guesses is: \", dif_wrong_5)"
   ]
  },
  {
   "cell_type": "code",
   "execution_count": 26,
   "metadata": {},
   "outputs": [],
   "source": [
    "mae_0, mae_1, mae_2, mae_3, mae_4, mae_5 = (0,0,0,0,0,0)\n",
    "\n",
    "for i in range(len(pred)):\n",
    "    if test[i] == 0 and pred[i] != 0:\n",
    "        mae_0 += (abs(test[i]-pred[i]))\n",
    "    if test[i] == 1 and pred[i] != 1:\n",
    "        mae_1 += (abs(test[i]-pred[i]))\n",
    "    if test[i] == 2 and pred[i] != 2:\n",
    "        mae_2 += (abs(test[i]-pred[i]))\n",
    "    if test[i] == 3 and pred[i] != 3:\n",
    "        mae_3 += (abs(test[i]-pred[i]))\n",
    "    if test[i] == 4 and pred[i] != 4:\n",
    "        mae_4 += (abs(test[i]-pred[i]))\n",
    "    if test[i] == 5 and pred[i] != 5:\n",
    "        mae_5 += (abs(test[i]-pred[i]))\n",
    "\n",
    "cnt_0, cnt_1, cnt_2, cnt_3, cnt_4, cnt_5 = (0,0,0,0,0,0)\n",
    "for z in range(len(test)):\n",
    "    if test[z] == 0:\n",
    "        cnt_0 += 1\n",
    "    if test[z] == 1:\n",
    "        cnt_1 += 1\n",
    "    if test[z] == 2:\n",
    "        cnt_2 += 1\n",
    "    if test[z] == 3:\n",
    "        cnt_3 += 1\n",
    "    if test[z] == 4:\n",
    "        cnt_4 += 1\n",
    "    if test[z] == 5:\n",
    "        cnt_5 += 1\n",
    "\n",
    "mae_macroaverage = ((mae_0/cnt_0) + (mae_1/cnt_1) + (mae_2/cnt_2) + (mae_3/cnt_3) + (mae_4/cnt_4) + (mae_5/cnt_5)) / 6"
   ]
  },
  {
   "cell_type": "code",
   "execution_count": 27,
   "metadata": {},
   "outputs": [
    {
     "name": "stdout",
     "output_type": "stream",
     "text": [
      "Macro-averaged Mean Absolute error is:  1.5185\n",
      "Macro-averaged F1-score is:  0.0678\n"
     ]
    },
    {
     "name": "stderr",
     "output_type": "stream",
     "text": [
      "/Users/Stijn/Library/Python/3.7/lib/python/site-packages/sklearn/metrics/classification.py:1437: UndefinedMetricWarning: F-score is ill-defined and being set to 0.0 in labels with no predicted samples.\n",
      "  'precision', 'predicted', average, warn_for)\n",
      "/Users/Stijn/Library/Python/3.7/lib/python/site-packages/sklearn/metrics/classification.py:1439: UndefinedMetricWarning: F-score is ill-defined and being set to 0.0 in labels with no true samples.\n",
      "  'recall', 'true', average, warn_for)\n"
     ]
    }
   ],
   "source": [
    "print(\"Macro-averaged Mean Absolute error is: \", round(mae_macroaverage, 4))\n",
    "print(\"Macro-averaged F1-score is: \", round(f1_score(test, pred, average='weighted'), 4))"
   ]
  },
  {
   "cell_type": "code",
   "execution_count": null,
   "metadata": {},
   "outputs": [],
   "source": []
  }
 ],
 "metadata": {
  "kernelspec": {
   "display_name": "Python 3",
   "language": "python",
   "name": "python3"
  },
  "language_info": {
   "codemirror_mode": {
    "name": "ipython",
    "version": 3
   },
   "file_extension": ".py",
   "mimetype": "text/x-python",
   "name": "python",
   "nbconvert_exporter": "python",
   "pygments_lexer": "ipython3",
   "version": "3.7.4"
  }
 },
 "nbformat": 4,
 "nbformat_minor": 2
}
