{
 "cells": [
  {
   "cell_type": "code",
   "execution_count": 1,
   "metadata": {},
   "outputs": [
    {
     "name": "stderr",
     "output_type": "stream",
     "text": [
      "Using TensorFlow backend.\n"
     ]
    }
   ],
   "source": [
    "# Import packages\n",
    "import pandas as pd\n",
    "import numpy as np\n",
    "import datetime\n",
    "import category_encoders as ce\n",
    "from sklearn.preprocessing import LabelEncoder, MinMaxScaler, RobustScaler, OneHotEncoder, StandardScaler\n",
    "from sklearn.model_selection import train_test_split\n",
    "from sklearn.metrics import accuracy_score, mean_squared_error, cohen_kappa_score, f1_score\n",
    "from sklearn.utils import shuffle\n",
    "from imblearn.over_sampling import SMOTE, SMOTENC\n",
    "import matplotlib.pyplot as plt\n",
    "from statsmodels.graphics.mosaicplot import mosaic\n",
    "from sklearn.decomposition import PCA\n",
    "from scipy import stats\n",
    "from math import sqrt\n",
    "\n",
    "\n",
    "\n",
    "import keras\n",
    "from keras.models import Sequential\n",
    "from keras.layers import Dense, Dropout, GaussianNoise\n",
    "from keras.optimizers import SGD\n",
    "from keras import regularizers"
   ]
  },
  {
   "cell_type": "code",
   "execution_count": 3,
   "metadata": {},
   "outputs": [],
   "source": [
    "path = \"/Users/Stijn/Documents/Master Data Science and Society/Block 3/thesis/code/thesis_Code/\"\n",
    "mood = pd.read_csv(path+'mood_imputed_median.csv', sep = ',', index_col=0)\n",
    "mood['cheerful_last'] = mood.groupby('user_id')['cheerful'].shift()\n",
    "mood.loc[(pd.isnull(mood.cheerful_last)), 'cheerful_last'] = mood['cheerful']\n",
    "mood_cheerful = mood.drop([\"content\", \"bored\", \"anxious\", \"user_id\", \"response_time\"], axis=1)"
   ]
  },
  {
   "cell_type": "code",
   "execution_count": 4,
   "metadata": {},
   "outputs": [
    {
     "data": {
      "text/html": [
       "<div>\n",
       "<style scoped>\n",
       "    .dataframe tbody tr th:only-of-type {\n",
       "        vertical-align: middle;\n",
       "    }\n",
       "\n",
       "    .dataframe tbody tr th {\n",
       "        vertical-align: top;\n",
       "    }\n",
       "\n",
       "    .dataframe thead th {\n",
       "        text-align: right;\n",
       "    }\n",
       "</style>\n",
       "<table border=\"1\" class=\"dataframe\">\n",
       "  <thead>\n",
       "    <tr style=\"text-align: right;\">\n",
       "      <th></th>\n",
       "      <th>cheerful</th>\n",
       "      <th>day_time_window</th>\n",
       "      <th>average_TimeUse</th>\n",
       "      <th>bulk</th>\n",
       "      <th>messaging</th>\n",
       "      <th>socialnetworking</th>\n",
       "      <th>otherapp</th>\n",
       "      <th>cheerful_last</th>\n",
       "    </tr>\n",
       "  </thead>\n",
       "  <tbody>\n",
       "    <tr>\n",
       "      <th>4825</th>\n",
       "      <td>3.0</td>\n",
       "      <td>3.0</td>\n",
       "      <td>0.673000</td>\n",
       "      <td>0</td>\n",
       "      <td>0</td>\n",
       "      <td>0</td>\n",
       "      <td>1</td>\n",
       "      <td>3.0</td>\n",
       "    </tr>\n",
       "    <tr>\n",
       "      <th>4826</th>\n",
       "      <td>3.0</td>\n",
       "      <td>4.0</td>\n",
       "      <td>64.314667</td>\n",
       "      <td>0</td>\n",
       "      <td>1</td>\n",
       "      <td>0</td>\n",
       "      <td>2</td>\n",
       "      <td>3.0</td>\n",
       "    </tr>\n",
       "    <tr>\n",
       "      <th>245</th>\n",
       "      <td>3.0</td>\n",
       "      <td>1.0</td>\n",
       "      <td>20.590500</td>\n",
       "      <td>0</td>\n",
       "      <td>0</td>\n",
       "      <td>0</td>\n",
       "      <td>2</td>\n",
       "      <td>3.0</td>\n",
       "    </tr>\n",
       "    <tr>\n",
       "      <th>4827</th>\n",
       "      <td>3.0</td>\n",
       "      <td>2.0</td>\n",
       "      <td>0.000000</td>\n",
       "      <td>0</td>\n",
       "      <td>0</td>\n",
       "      <td>0</td>\n",
       "      <td>0</td>\n",
       "      <td>3.0</td>\n",
       "    </tr>\n",
       "    <tr>\n",
       "      <th>4828</th>\n",
       "      <td>3.0</td>\n",
       "      <td>3.0</td>\n",
       "      <td>53.957200</td>\n",
       "      <td>0</td>\n",
       "      <td>3</td>\n",
       "      <td>0</td>\n",
       "      <td>2</td>\n",
       "      <td>3.0</td>\n",
       "    </tr>\n",
       "  </tbody>\n",
       "</table>\n",
       "</div>"
      ],
      "text/plain": [
       "      cheerful  day_time_window  average_TimeUse  bulk  messaging  \\\n",
       "4825       3.0              3.0         0.673000     0          0   \n",
       "4826       3.0              4.0        64.314667     0          1   \n",
       "245        3.0              1.0        20.590500     0          0   \n",
       "4827       3.0              2.0         0.000000     0          0   \n",
       "4828       3.0              3.0        53.957200     0          3   \n",
       "\n",
       "      socialnetworking  otherapp  cheerful_last  \n",
       "4825                 0         1            3.0  \n",
       "4826                 0         2            3.0  \n",
       "245                  0         2            3.0  \n",
       "4827                 0         0            3.0  \n",
       "4828                 0         2            3.0  "
      ]
     },
     "execution_count": 4,
     "metadata": {},
     "output_type": "execute_result"
    }
   ],
   "source": [
    "mood_cheerful[:5]"
   ]
  },
  {
   "cell_type": "code",
   "execution_count": 5,
   "metadata": {},
   "outputs": [],
   "source": [
    "# Normalize predictors\n",
    "mood_normz = mood_cheerful.copy()\n",
    "features_to_normalize = ['day_time_window', 'average_TimeUse', 'messaging', 'socialnetworking', 'otherapp']\n",
    "mood_normz[features_to_normalize] = mood_normz[features_to_normalize].apply(lambda x:(x-x.min()) / (x.max()-x.min()))"
   ]
  },
  {
   "cell_type": "code",
   "execution_count": 6,
   "metadata": {},
   "outputs": [],
   "source": [
    "X = mood_normz.iloc[:,1:]\n",
    "y = mood_normz.iloc[:, 0:1]\n",
    "y = y.astype(int)"
   ]
  },
  {
   "cell_type": "code",
   "execution_count": 7,
   "metadata": {},
   "outputs": [],
   "source": [
    "X_train, X_test, y_train, y_test = train_test_split(X, y, test_size=0.2, random_state=2)"
   ]
  },
  {
   "cell_type": "code",
   "execution_count": 8,
   "metadata": {},
   "outputs": [
    {
     "data": {
      "text/html": [
       "<div>\n",
       "<style scoped>\n",
       "    .dataframe tbody tr th:only-of-type {\n",
       "        vertical-align: middle;\n",
       "    }\n",
       "\n",
       "    .dataframe tbody tr th {\n",
       "        vertical-align: top;\n",
       "    }\n",
       "\n",
       "    .dataframe thead th {\n",
       "        text-align: right;\n",
       "    }\n",
       "</style>\n",
       "<table border=\"1\" class=\"dataframe\">\n",
       "  <thead>\n",
       "    <tr style=\"text-align: right;\">\n",
       "      <th></th>\n",
       "      <th>day_time_window</th>\n",
       "      <th>average_TimeUse</th>\n",
       "      <th>bulk</th>\n",
       "      <th>messaging</th>\n",
       "      <th>socialnetworking</th>\n",
       "      <th>otherapp</th>\n",
       "      <th>cheerful_last</th>\n",
       "    </tr>\n",
       "  </thead>\n",
       "  <tbody>\n",
       "    <tr>\n",
       "      <th>10315</th>\n",
       "      <td>1.000000</td>\n",
       "      <td>0.000000</td>\n",
       "      <td>0</td>\n",
       "      <td>0.000000</td>\n",
       "      <td>0.00</td>\n",
       "      <td>0.0</td>\n",
       "      <td>4.0</td>\n",
       "    </tr>\n",
       "    <tr>\n",
       "      <th>15108</th>\n",
       "      <td>1.000000</td>\n",
       "      <td>0.024319</td>\n",
       "      <td>0</td>\n",
       "      <td>0.009524</td>\n",
       "      <td>0.02</td>\n",
       "      <td>0.0</td>\n",
       "      <td>4.0</td>\n",
       "    </tr>\n",
       "    <tr>\n",
       "      <th>1524</th>\n",
       "      <td>0.000000</td>\n",
       "      <td>0.000000</td>\n",
       "      <td>0</td>\n",
       "      <td>0.000000</td>\n",
       "      <td>0.00</td>\n",
       "      <td>0.0</td>\n",
       "      <td>1.0</td>\n",
       "    </tr>\n",
       "    <tr>\n",
       "      <th>5438</th>\n",
       "      <td>0.666667</td>\n",
       "      <td>0.000000</td>\n",
       "      <td>0</td>\n",
       "      <td>0.000000</td>\n",
       "      <td>0.00</td>\n",
       "      <td>0.0</td>\n",
       "      <td>2.0</td>\n",
       "    </tr>\n",
       "    <tr>\n",
       "      <th>992</th>\n",
       "      <td>0.000000</td>\n",
       "      <td>0.000000</td>\n",
       "      <td>0</td>\n",
       "      <td>0.000000</td>\n",
       "      <td>0.00</td>\n",
       "      <td>0.0</td>\n",
       "      <td>2.0</td>\n",
       "    </tr>\n",
       "  </tbody>\n",
       "</table>\n",
       "</div>"
      ],
      "text/plain": [
       "       day_time_window  average_TimeUse  bulk  messaging  socialnetworking  \\\n",
       "10315         1.000000         0.000000     0   0.000000              0.00   \n",
       "15108         1.000000         0.024319     0   0.009524              0.02   \n",
       "1524          0.000000         0.000000     0   0.000000              0.00   \n",
       "5438          0.666667         0.000000     0   0.000000              0.00   \n",
       "992           0.000000         0.000000     0   0.000000              0.00   \n",
       "\n",
       "       otherapp  cheerful_last  \n",
       "10315       0.0            4.0  \n",
       "15108       0.0            4.0  \n",
       "1524        0.0            1.0  \n",
       "5438        0.0            2.0  \n",
       "992         0.0            2.0  "
      ]
     },
     "execution_count": 8,
     "metadata": {},
     "output_type": "execute_result"
    }
   ],
   "source": [
    "X_train[:5]"
   ]
  },
  {
   "cell_type": "code",
   "execution_count": 9,
   "metadata": {},
   "outputs": [
    {
     "name": "stdout",
     "output_type": "stream",
     "text": [
      "Before OverSampling, counts of labels: 3    2964\n",
      "2    2367\n",
      "4    1901\n",
      "1    1494\n",
      "0    1138\n",
      "5     712\n",
      "Name: cheerful, dtype: int64\n",
      "After OverSampling, counts of label '0': 2964\n",
      "After OverSampling, counts of label '1': 2964\n",
      "After OverSampling, counts of label '2': 2964\n",
      "After OverSampling, counts of label '3': 2964\n",
      "After OverSampling, counts of label '4': 2964\n",
      "After OverSampling, counts of label '5': 2964\n"
     ]
    }
   ],
   "source": [
    "# Oversampling unbalanced target\n",
    "print(\"Before OverSampling, counts of labels: {}\".format(y_train['cheerful'].value_counts()))\n",
    "  \n",
    "sm = SMOTENC(categorical_features=[0, 2, 6], random_state = 2) \n",
    "X_train_res, y_train_res = sm.fit_sample(X_train, y_train['cheerful'].ravel()) \n",
    "\n",
    "print(\"After OverSampling, counts of label '0': {}\".format(sum(y_train_res == 0))) \n",
    "print(\"After OverSampling, counts of label '1': {}\".format(sum(y_train_res == 1))) \n",
    "print(\"After OverSampling, counts of label '2': {}\".format(sum(y_train_res == 2))) \n",
    "print(\"After OverSampling, counts of label '3': {}\".format(sum(y_train_res == 3))) \n",
    "print(\"After OverSampling, counts of label '4': {}\".format(sum(y_train_res == 4))) \n",
    "print(\"After OverSampling, counts of label '5': {}\".format(sum(y_train_res == 5))) "
   ]
  },
  {
   "cell_type": "code",
   "execution_count": 10,
   "metadata": {},
   "outputs": [],
   "source": [
    "X_train = pd.DataFrame(data=X_train_res)\n",
    "y_train = pd.DataFrame(data=y_train_res)"
   ]
  },
  {
   "cell_type": "code",
   "execution_count": 11,
   "metadata": {},
   "outputs": [],
   "source": [
    "# Shuffle both train and test set to cancel patterns\n",
    "X_train, y_train = shuffle(X_train, y_train)\n",
    "X_test, y_test = shuffle(X_test, y_test)"
   ]
  },
  {
   "cell_type": "code",
   "execution_count": 12,
   "metadata": {},
   "outputs": [],
   "source": [
    "X_train_nomood = X_train.iloc[:,:-1]\n",
    "X_train_onlylastmood = X_train.iloc[:,-1:]\n",
    "X_test_nomood = X_test.iloc[:,:-1]\n",
    "X_test_onlylastmood = X_test.iloc[:,-1:]"
   ]
  },
  {
   "cell_type": "code",
   "execution_count": 13,
   "metadata": {},
   "outputs": [
    {
     "name": "stdout",
     "output_type": "stream",
     "text": [
      "Model: \"sequential_1\"\n",
      "_________________________________________________________________\n",
      "Layer (type)                 Output Shape              Param #   \n",
      "=================================================================\n",
      "dense_1 (Dense)              (None, 24)                168       \n",
      "_________________________________________________________________\n",
      "dense_2 (Dense)              (None, 12)                300       \n",
      "_________________________________________________________________\n",
      "dense_3 (Dense)              (None, 1)                 13        \n",
      "=================================================================\n",
      "Total params: 481\n",
      "Trainable params: 481\n",
      "Non-trainable params: 0\n",
      "_________________________________________________________________\n"
     ]
    }
   ],
   "source": [
    "# Define Keras model\n",
    "model = Sequential()\n",
    "model.add(Dense(24, input_dim=6, activation='relu'))\n",
    "model.add(Dense(12, activation='relu'))\n",
    "model.add(Dense(1, activation='linear'))\n",
    "\n",
    "model.compile(loss='mean_squared_error', optimizer='adam', metrics=['accuracy'])\n",
    "model.summary()"
   ]
  },
  {
   "cell_type": "code",
   "execution_count": 14,
   "metadata": {},
   "outputs": [
    {
     "name": "stdout",
     "output_type": "stream",
     "text": [
      "Train on 14227 samples, validate on 3557 samples\n",
      "Epoch 1/100\n",
      "14227/14227 [==============================] - 0s 24us/step - loss: 9.0236 - accuracy: 0.1695 - val_loss: 8.9577 - val_accuracy: 0.1555\n",
      "Epoch 2/100\n",
      "14227/14227 [==============================] - 0s 4us/step - loss: 8.4402 - accuracy: 0.1695 - val_loss: 8.2704 - val_accuracy: 0.1560\n",
      "Epoch 3/100\n",
      "14227/14227 [==============================] - 0s 5us/step - loss: 7.5133 - accuracy: 0.1757 - val_loss: 7.0108 - val_accuracy: 0.1569\n",
      "Epoch 4/100\n",
      "14227/14227 [==============================] - 0s 6us/step - loss: 6.0679 - accuracy: 0.1683 - val_loss: 5.3660 - val_accuracy: 0.1673\n",
      "Epoch 5/100\n",
      "14227/14227 [==============================] - 0s 5us/step - loss: 4.5052 - accuracy: 0.1689 - val_loss: 3.8853 - val_accuracy: 0.1740\n",
      "Epoch 6/100\n",
      "14227/14227 [==============================] - 0s 4us/step - loss: 3.4177 - accuracy: 0.1686 - val_loss: 3.1223 - val_accuracy: 0.1690\n",
      "Epoch 7/100\n",
      "14227/14227 [==============================] - 0s 5us/step - loss: 3.0518 - accuracy: 0.1678 - val_loss: 2.9573 - val_accuracy: 0.1723\n",
      "Epoch 8/100\n",
      "14227/14227 [==============================] - 0s 5us/step - loss: 2.9912 - accuracy: 0.1714 - val_loss: 2.9187 - val_accuracy: 0.1718\n",
      "Epoch 9/100\n",
      "14227/14227 [==============================] - 0s 11us/step - loss: 2.9621 - accuracy: 0.1695 - val_loss: 2.8978 - val_accuracy: 0.1729\n",
      "Epoch 10/100\n",
      "14227/14227 [==============================] - 0s 4us/step - loss: 2.9441 - accuracy: 0.1694 - val_loss: 2.8824 - val_accuracy: 0.1757\n",
      "Epoch 11/100\n",
      "14227/14227 [==============================] - 0s 4us/step - loss: 2.9323 - accuracy: 0.1706 - val_loss: 2.8716 - val_accuracy: 0.1751\n",
      "Epoch 12/100\n",
      "14227/14227 [==============================] - 0s 5us/step - loss: 2.9238 - accuracy: 0.1702 - val_loss: 2.8633 - val_accuracy: 0.1704\n",
      "Epoch 13/100\n",
      "14227/14227 [==============================] - 0s 5us/step - loss: 2.9185 - accuracy: 0.1712 - val_loss: 2.8556 - val_accuracy: 0.1718\n",
      "Epoch 14/100\n",
      "14227/14227 [==============================] - 0s 5us/step - loss: 2.9142 - accuracy: 0.1686 - val_loss: 2.8521 - val_accuracy: 0.1729\n",
      "Epoch 15/100\n",
      "14227/14227 [==============================] - 0s 4us/step - loss: 2.9114 - accuracy: 0.1689 - val_loss: 2.8493 - val_accuracy: 0.1723\n",
      "Epoch 16/100\n",
      "14227/14227 [==============================] - 0s 4us/step - loss: 2.9087 - accuracy: 0.1681 - val_loss: 2.8463 - val_accuracy: 0.1732\n",
      "Epoch 17/100\n",
      "14227/14227 [==============================] - 0s 11us/step - loss: 2.9070 - accuracy: 0.1677 - val_loss: 2.8448 - val_accuracy: 0.1723\n",
      "Epoch 18/100\n",
      "14227/14227 [==============================] - 0s 8us/step - loss: 2.9053 - accuracy: 0.1678 - val_loss: 2.8415 - val_accuracy: 0.1732\n",
      "Epoch 19/100\n",
      "14227/14227 [==============================] - 0s 5us/step - loss: 2.9038 - accuracy: 0.1676 - val_loss: 2.8407 - val_accuracy: 0.1737\n",
      "Epoch 20/100\n",
      "14227/14227 [==============================] - 0s 6us/step - loss: 2.9027 - accuracy: 0.1679 - val_loss: 2.8372 - val_accuracy: 0.1737\n",
      "Epoch 21/100\n",
      "14227/14227 [==============================] - 0s 6us/step - loss: 2.9012 - accuracy: 0.1683 - val_loss: 2.8378 - val_accuracy: 0.1718\n",
      "Epoch 22/100\n",
      "14227/14227 [==============================] - 0s 10us/step - loss: 2.9000 - accuracy: 0.1687 - val_loss: 2.8355 - val_accuracy: 0.1735\n",
      "Epoch 23/100\n",
      "14227/14227 [==============================] - 0s 8us/step - loss: 2.8989 - accuracy: 0.1690 - val_loss: 2.8349 - val_accuracy: 0.1737\n",
      "Epoch 24/100\n",
      "14227/14227 [==============================] - 0s 5us/step - loss: 2.8978 - accuracy: 0.1675 - val_loss: 2.8344 - val_accuracy: 0.1726\n",
      "Epoch 25/100\n",
      "14227/14227 [==============================] - 0s 5us/step - loss: 2.8969 - accuracy: 0.1683 - val_loss: 2.8325 - val_accuracy: 0.1735\n",
      "Epoch 26/100\n",
      "14227/14227 [==============================] - 0s 5us/step - loss: 2.8962 - accuracy: 0.1679 - val_loss: 2.8331 - val_accuracy: 0.1715\n",
      "Epoch 27/100\n",
      "14227/14227 [==============================] - 0s 5us/step - loss: 2.8953 - accuracy: 0.1685 - val_loss: 2.8321 - val_accuracy: 0.1715\n",
      "Epoch 28/100\n",
      "14227/14227 [==============================] - 0s 7us/step - loss: 2.8946 - accuracy: 0.1680 - val_loss: 2.8303 - val_accuracy: 0.1723\n",
      "Epoch 29/100\n",
      "14227/14227 [==============================] - 0s 10us/step - loss: 2.8936 - accuracy: 0.1685 - val_loss: 2.8292 - val_accuracy: 0.1732\n",
      "Epoch 30/100\n",
      "14227/14227 [==============================] - 0s 5us/step - loss: 2.8931 - accuracy: 0.1671 - val_loss: 2.8281 - val_accuracy: 0.1729\n",
      "Epoch 31/100\n",
      "14227/14227 [==============================] - 0s 5us/step - loss: 2.8928 - accuracy: 0.1678 - val_loss: 2.8272 - val_accuracy: 0.1732\n",
      "Epoch 32/100\n",
      "14227/14227 [==============================] - 0s 11us/step - loss: 2.8917 - accuracy: 0.1687 - val_loss: 2.8259 - val_accuracy: 0.1729\n",
      "Epoch 33/100\n",
      "14227/14227 [==============================] - 0s 8us/step - loss: 2.8906 - accuracy: 0.1684 - val_loss: 2.8271 - val_accuracy: 0.1712\n",
      "Epoch 34/100\n",
      "14227/14227 [==============================] - 0s 8us/step - loss: 2.8907 - accuracy: 0.1677 - val_loss: 2.8256 - val_accuracy: 0.1718\n",
      "Epoch 35/100\n",
      "14227/14227 [==============================] - 0s 8us/step - loss: 2.8889 - accuracy: 0.1680 - val_loss: 2.8243 - val_accuracy: 0.1729\n",
      "Epoch 36/100\n",
      "14227/14227 [==============================] - 0s 8us/step - loss: 2.8886 - accuracy: 0.1684 - val_loss: 2.8261 - val_accuracy: 0.1698\n",
      "Epoch 37/100\n",
      "14227/14227 [==============================] - 0s 6us/step - loss: 2.8875 - accuracy: 0.1676 - val_loss: 2.8236 - val_accuracy: 0.1718\n",
      "Epoch 38/100\n",
      "14227/14227 [==============================] - 0s 4us/step - loss: 2.8869 - accuracy: 0.1686 - val_loss: 2.8188 - val_accuracy: 0.1763\n",
      "Epoch 39/100\n",
      "14227/14227 [==============================] - 0s 4us/step - loss: 2.8857 - accuracy: 0.1687 - val_loss: 2.8285 - val_accuracy: 0.1698\n",
      "Epoch 40/100\n",
      "14227/14227 [==============================] - 0s 4us/step - loss: 2.8865 - accuracy: 0.1700 - val_loss: 2.8186 - val_accuracy: 0.1751\n",
      "Epoch 41/100\n",
      "14227/14227 [==============================] - 0s 4us/step - loss: 2.8853 - accuracy: 0.1677 - val_loss: 2.8201 - val_accuracy: 0.1732\n",
      "Epoch 42/100\n",
      "14227/14227 [==============================] - 0s 4us/step - loss: 2.8846 - accuracy: 0.1675 - val_loss: 2.8184 - val_accuracy: 0.1718\n",
      "Epoch 43/100\n",
      "14227/14227 [==============================] - 0s 5us/step - loss: 2.8849 - accuracy: 0.1664 - val_loss: 2.8163 - val_accuracy: 0.1746\n",
      "Epoch 44/100\n",
      "14227/14227 [==============================] - 0s 11us/step - loss: 2.8855 - accuracy: 0.1674 - val_loss: 2.8209 - val_accuracy: 0.1704\n",
      "Epoch 45/100\n",
      "14227/14227 [==============================] - 0s 11us/step - loss: 2.8827 - accuracy: 0.1675 - val_loss: 2.8176 - val_accuracy: 0.1729\n",
      "Epoch 46/100\n",
      "14227/14227 [==============================] - 0s 7us/step - loss: 2.8826 - accuracy: 0.1647 - val_loss: 2.8205 - val_accuracy: 0.1704\n",
      "Epoch 47/100\n",
      "14227/14227 [==============================] - 0s 4us/step - loss: 2.8827 - accuracy: 0.1675 - val_loss: 2.8160 - val_accuracy: 0.1718\n",
      "Epoch 48/100\n",
      "14227/14227 [==============================] - 0s 4us/step - loss: 2.8812 - accuracy: 0.1673 - val_loss: 2.8156 - val_accuracy: 0.1709\n",
      "Epoch 49/100\n",
      "14227/14227 [==============================] - 0s 11us/step - loss: 2.8804 - accuracy: 0.1667 - val_loss: 2.8196 - val_accuracy: 0.1698\n",
      "Epoch 50/100\n",
      "14227/14227 [==============================] - 0s 6us/step - loss: 2.8801 - accuracy: 0.1677 - val_loss: 2.8124 - val_accuracy: 0.1740\n",
      "Epoch 51/100\n",
      "14227/14227 [==============================] - 0s 6us/step - loss: 2.8799 - accuracy: 0.1685 - val_loss: 2.8194 - val_accuracy: 0.1698\n",
      "Epoch 52/100\n",
      "14227/14227 [==============================] - 0s 6us/step - loss: 2.8800 - accuracy: 0.1675 - val_loss: 2.8184 - val_accuracy: 0.1692\n",
      "Epoch 53/100\n",
      "14227/14227 [==============================] - 0s 5us/step - loss: 2.8801 - accuracy: 0.1665 - val_loss: 2.8111 - val_accuracy: 0.1751\n",
      "Epoch 54/100\n",
      "14227/14227 [==============================] - 0s 5us/step - loss: 2.8784 - accuracy: 0.1679 - val_loss: 2.8172 - val_accuracy: 0.1701\n",
      "Epoch 55/100\n",
      "14227/14227 [==============================] - 0s 6us/step - loss: 2.8779 - accuracy: 0.1665 - val_loss: 2.8095 - val_accuracy: 0.1735\n",
      "Epoch 56/100\n"
     ]
    },
    {
     "name": "stdout",
     "output_type": "stream",
     "text": [
      "14227/14227 [==============================] - 0s 6us/step - loss: 2.8788 - accuracy: 0.1659 - val_loss: 2.8132 - val_accuracy: 0.1704\n",
      "Epoch 57/100\n",
      "14227/14227 [==============================] - 0s 5us/step - loss: 2.8777 - accuracy: 0.1662 - val_loss: 2.8115 - val_accuracy: 0.1721\n",
      "Epoch 58/100\n",
      "14227/14227 [==============================] - 0s 4us/step - loss: 2.8767 - accuracy: 0.1662 - val_loss: 2.8170 - val_accuracy: 0.1709\n",
      "Epoch 59/100\n",
      "14227/14227 [==============================] - 0s 4us/step - loss: 2.8764 - accuracy: 0.1644 - val_loss: 2.8146 - val_accuracy: 0.1692\n",
      "Epoch 60/100\n",
      "14227/14227 [==============================] - 0s 4us/step - loss: 2.8758 - accuracy: 0.1660 - val_loss: 2.8109 - val_accuracy: 0.1712\n",
      "Epoch 61/100\n",
      "14227/14227 [==============================] - 0s 16us/step - loss: 2.8758 - accuracy: 0.1666 - val_loss: 2.8185 - val_accuracy: 0.1701\n",
      "Epoch 62/100\n",
      "14227/14227 [==============================] - 0s 5us/step - loss: 2.8760 - accuracy: 0.1672 - val_loss: 2.8136 - val_accuracy: 0.1701\n",
      "Epoch 63/100\n",
      "14227/14227 [==============================] - 0s 4us/step - loss: 2.8747 - accuracy: 0.1679 - val_loss: 2.8082 - val_accuracy: 0.1754\n",
      "Epoch 64/100\n",
      "14227/14227 [==============================] - 0s 4us/step - loss: 2.8739 - accuracy: 0.1670 - val_loss: 2.8093 - val_accuracy: 0.1721\n",
      "Epoch 65/100\n",
      "14227/14227 [==============================] - 0s 4us/step - loss: 2.8735 - accuracy: 0.1670 - val_loss: 2.8188 - val_accuracy: 0.1760\n",
      "Epoch 66/100\n",
      "14227/14227 [==============================] - 0s 11us/step - loss: 2.8749 - accuracy: 0.1678 - val_loss: 2.8066 - val_accuracy: 0.1749\n",
      "Epoch 67/100\n",
      "14227/14227 [==============================] - 0s 4us/step - loss: 2.8732 - accuracy: 0.1677 - val_loss: 2.8130 - val_accuracy: 0.1715\n",
      "Epoch 68/100\n",
      "14227/14227 [==============================] - 0s 4us/step - loss: 2.8751 - accuracy: 0.1687 - val_loss: 2.8056 - val_accuracy: 0.1743\n",
      "Epoch 69/100\n",
      "14227/14227 [==============================] - 0s 4us/step - loss: 2.8728 - accuracy: 0.1657 - val_loss: 2.8111 - val_accuracy: 0.1701\n",
      "Epoch 70/100\n",
      "14227/14227 [==============================] - 0s 4us/step - loss: 2.8720 - accuracy: 0.1652 - val_loss: 2.8055 - val_accuracy: 0.1743\n",
      "Epoch 71/100\n",
      "14227/14227 [==============================] - 0s 4us/step - loss: 2.8719 - accuracy: 0.1661 - val_loss: 2.8086 - val_accuracy: 0.1692\n",
      "Epoch 72/100\n",
      "14227/14227 [==============================] - 0s 4us/step - loss: 2.8720 - accuracy: 0.1671 - val_loss: 2.8155 - val_accuracy: 0.1709\n",
      "Epoch 73/100\n",
      "14227/14227 [==============================] - 0s 4us/step - loss: 2.8717 - accuracy: 0.1645 - val_loss: 2.8067 - val_accuracy: 0.1698\n",
      "Epoch 74/100\n",
      "14227/14227 [==============================] - 0s 4us/step - loss: 2.8719 - accuracy: 0.1664 - val_loss: 2.8032 - val_accuracy: 0.1746\n",
      "Epoch 75/100\n",
      "14227/14227 [==============================] - 0s 4us/step - loss: 2.8700 - accuracy: 0.1664 - val_loss: 2.8109 - val_accuracy: 0.1718\n",
      "Epoch 76/100\n",
      "14227/14227 [==============================] - 0s 4us/step - loss: 2.8695 - accuracy: 0.1678 - val_loss: 2.8047 - val_accuracy: 0.1721\n",
      "Epoch 77/100\n",
      "14227/14227 [==============================] - 0s 4us/step - loss: 2.8690 - accuracy: 0.1656 - val_loss: 2.8031 - val_accuracy: 0.1735\n",
      "Epoch 78/100\n",
      "14227/14227 [==============================] - 0s 4us/step - loss: 2.8702 - accuracy: 0.1654 - val_loss: 2.8104 - val_accuracy: 0.1704\n",
      "Epoch 79/100\n",
      "14227/14227 [==============================] - 0s 5us/step - loss: 2.8689 - accuracy: 0.1655 - val_loss: 2.8052 - val_accuracy: 0.1701\n",
      "Epoch 80/100\n",
      "14227/14227 [==============================] - 0s 4us/step - loss: 2.8686 - accuracy: 0.1666 - val_loss: 2.8024 - val_accuracy: 0.1735\n",
      "Epoch 81/100\n",
      "14227/14227 [==============================] - 0s 4us/step - loss: 2.8680 - accuracy: 0.1652 - val_loss: 2.8055 - val_accuracy: 0.1690\n",
      "Epoch 82/100\n",
      "14227/14227 [==============================] - 0s 4us/step - loss: 2.8689 - accuracy: 0.1664 - val_loss: 2.8083 - val_accuracy: 0.1704\n",
      "Epoch 83/100\n",
      "14227/14227 [==============================] - 0s 4us/step - loss: 2.8675 - accuracy: 0.1669 - val_loss: 2.7992 - val_accuracy: 0.1740\n",
      "Epoch 84/100\n",
      "14227/14227 [==============================] - 0s 4us/step - loss: 2.8684 - accuracy: 0.1662 - val_loss: 2.7999 - val_accuracy: 0.1723\n",
      "Epoch 85/100\n",
      "14227/14227 [==============================] - 0s 4us/step - loss: 2.8678 - accuracy: 0.1643 - val_loss: 2.8007 - val_accuracy: 0.1726\n",
      "Epoch 86/100\n",
      "14227/14227 [==============================] - 0s 4us/step - loss: 2.8675 - accuracy: 0.1656 - val_loss: 2.7996 - val_accuracy: 0.1718\n",
      "Epoch 87/100\n",
      "14227/14227 [==============================] - 0s 4us/step - loss: 2.8664 - accuracy: 0.1661 - val_loss: 2.8003 - val_accuracy: 0.1729\n",
      "Epoch 88/100\n",
      "14227/14227 [==============================] - 0s 4us/step - loss: 2.8658 - accuracy: 0.1651 - val_loss: 2.7980 - val_accuracy: 0.1737\n",
      "Epoch 89/100\n",
      "14227/14227 [==============================] - 0s 4us/step - loss: 2.8657 - accuracy: 0.1655 - val_loss: 2.8066 - val_accuracy: 0.1701\n",
      "Epoch 90/100\n",
      "14227/14227 [==============================] - 0s 4us/step - loss: 2.8645 - accuracy: 0.1655 - val_loss: 2.7989 - val_accuracy: 0.1729\n",
      "Epoch 91/100\n",
      "14227/14227 [==============================] - 0s 4us/step - loss: 2.8651 - accuracy: 0.1645 - val_loss: 2.8071 - val_accuracy: 0.1709\n",
      "Epoch 92/100\n",
      "14227/14227 [==============================] - 0s 4us/step - loss: 2.8640 - accuracy: 0.1658 - val_loss: 2.7988 - val_accuracy: 0.1729\n",
      "Epoch 93/100\n",
      "14227/14227 [==============================] - 0s 4us/step - loss: 2.8643 - accuracy: 0.1653 - val_loss: 2.8021 - val_accuracy: 0.1687\n",
      "Epoch 94/100\n",
      "14227/14227 [==============================] - 0s 4us/step - loss: 2.8651 - accuracy: 0.1646 - val_loss: 2.8052 - val_accuracy: 0.1687\n",
      "Epoch 95/100\n",
      "14227/14227 [==============================] - 0s 4us/step - loss: 2.8637 - accuracy: 0.1657 - val_loss: 2.8032 - val_accuracy: 0.1681\n",
      "Epoch 96/100\n",
      "14227/14227 [==============================] - 0s 4us/step - loss: 2.8636 - accuracy: 0.1650 - val_loss: 2.8013 - val_accuracy: 0.1673\n",
      "Epoch 97/100\n",
      "14227/14227 [==============================] - 0s 4us/step - loss: 2.8632 - accuracy: 0.1648 - val_loss: 2.7972 - val_accuracy: 0.1726\n",
      "Epoch 98/100\n",
      "14227/14227 [==============================] - 0s 4us/step - loss: 2.8630 - accuracy: 0.1652 - val_loss: 2.8020 - val_accuracy: 0.1690\n",
      "Epoch 99/100\n",
      "14227/14227 [==============================] - 0s 4us/step - loss: 2.8626 - accuracy: 0.1642 - val_loss: 2.7958 - val_accuracy: 0.1721\n",
      "Epoch 100/100\n",
      "14227/14227 [==============================] - 0s 4us/step - loss: 2.8624 - accuracy: 0.1652 - val_loss: 2.7989 - val_accuracy: 0.1698\n"
     ]
    }
   ],
   "source": [
    "history = model.fit(X_train_nomood, y_train, epochs=100, validation_split=0.2, batch_size=512)"
   ]
  },
  {
   "cell_type": "code",
   "execution_count": 15,
   "metadata": {},
   "outputs": [
    {
     "name": "stdout",
     "output_type": "stream",
     "text": [
      "Test loss: 2.8486\n",
      "Test accuracy: 16.66 %\n"
     ]
    }
   ],
   "source": [
    "score = model.evaluate(X_train_nomood, y_train, verbose=0)\n",
    "print('Test loss:', round(score[0],4))\n",
    "print('Test accuracy:', round(score[1]*100,2), \"%\")"
   ]
  },
  {
   "cell_type": "code",
   "execution_count": 16,
   "metadata": {},
   "outputs": [
    {
     "data": {
      "image/png": "[encoded data removed]",
      "text/plain": [
       "<Figure size 432x288 with 1 Axes>"
      ]
     },
     "metadata": {
      "needs_background": "light"
     },
     "output_type": "display_data"
    }
   ],
   "source": [
    "# Plot training & validation accuracy values\n",
    "plt.plot(history.history['accuracy'])\n",
    "plt.plot(history.history['val_accuracy'])\n",
    "plt.title('Model accuracy')\n",
    "plt.ylabel('Accuracy')\n",
    "plt.xlabel('Epoch')\n",
    "plt.legend(['Train', 'Validation'], loc='upper left')\n",
    "plt.show()"
   ]
  },
  {
   "cell_type": "code",
   "execution_count": 17,
   "metadata": {},
   "outputs": [
    {
     "data": {
      "image/png": "[encoded data removed]",
      "text/plain": [
       "<Figure size 432x288 with 1 Axes>"
      ]
     },
     "metadata": {
      "needs_background": "light"
     },
     "output_type": "display_data"
    }
   ],
   "source": [
    "# Plot training & validation loss values\n",
    "plt.plot(history.history['loss'])\n",
    "plt.plot(history.history['val_loss'])\n",
    "plt.title('Model loss')\n",
    "plt.ylabel('Loss')\n",
    "plt.xlabel('Epoch')\n",
    "plt.legend(['Train', 'Validation'], loc='upper left')\n",
    "plt.show()"
   ]
  },
  {
   "cell_type": "code",
   "execution_count": 18,
   "metadata": {},
   "outputs": [],
   "source": [
    "y_pred = model.predict(X_test_nomood)"
   ]
  },
  {
   "cell_type": "code",
   "execution_count": 20,
   "metadata": {},
   "outputs": [],
   "source": [
    "pred = []\n",
    "for a in y_pred:\n",
    "    for b in a:\n",
    "        pred.append(round(b))\n",
    "\n",
    "test = []\n",
    "for c in y_test['cheerful']:\n",
    "    test.append(c)\n"
   ]
  },
  {
   "cell_type": "code",
   "execution_count": 21,
   "metadata": {},
   "outputs": [
    {
     "name": "stdout",
     "output_type": "stream",
     "text": [
      "Accuracy is: 25.444234404536864\n"
     ]
    }
   ],
   "source": [
    "a = accuracy_score(pred,test)\n",
    "print('Accuracy is:', a*100)"
   ]
  },
  {
   "cell_type": "code",
   "execution_count": 22,
   "metadata": {},
   "outputs": [
    {
     "name": "stdout",
     "output_type": "stream",
     "text": [
      "        Same Dif\n",
      "correct 407 266\n",
      "wrong   1193 779\n",
      "Table is right!\n"
     ]
    }
   ],
   "source": [
    "# true = y_test\n",
    "# pred = y_pred\n",
    "# last_value = X_content_lastarray\n",
    "same_correct = 0\n",
    "same_wrong = 0\n",
    "dif_correct = 0\n",
    "dif_wrong = 0\n",
    "\n",
    "X_test_content = X_test_onlylastmood['cheerful_last'].values\n",
    "for i in range(len(pred)):\n",
    "    if (test[i] == X_test_content[i]) and (test[i] == pred[i]):\n",
    "        same_correct += 1\n",
    "    if (test[i] == X_test_content[i]) and (test[i] != pred[i]):\n",
    "        same_wrong += 1\n",
    "    if (test[i] != X_test_content[i]) and (test[i] == pred[i]):\n",
    "        dif_correct += 1\n",
    "    if (test[i] != X_test_content[i]) and (test[i] != pred[i]):\n",
    "        dif_wrong += 1   \n",
    "\n",
    "print(\"       \", \"Same\", \"Dif\")\n",
    "print(\"correct\", same_correct, dif_correct)\n",
    "print(\"wrong  \", same_wrong, dif_wrong)\n",
    "\n",
    "#Check if table is similar to accuracy\n",
    "if (same_correct+dif_correct) / (same_correct+dif_correct+same_wrong+dif_wrong) == a:\n",
    "    print(\"Table is right!\")\n",
    "else:\n",
    "    print(\"Table is wrong\")"
   ]
  },
  {
   "cell_type": "code",
   "execution_count": 23,
   "metadata": {},
   "outputs": [
    {
     "name": "stdout",
     "output_type": "stream",
     "text": [
      "Predicted valxues:  Counter({2.0: 1412, 3.0: 1226, 1.0: 4, 4.0: 3})\n",
      "True values:  Counter({3: 755, 2: 599, 4: 457, 1: 386, 0: 275, 5: 173})\n",
      "Previous mood: Counter({3.0: 735, 2.0: 622, 4.0: 473, 1.0: 375, 0.0: 271, 5.0: 169})\n"
     ]
    }
   ],
   "source": [
    "from collections import Counter\n",
    "print(\"Predicted valxues: \", Counter(pred))\n",
    "print(\"True values: \", Counter(test))\n",
    "print(\"Previous mood:\", Counter(X_test_content))"
   ]
  },
  {
   "cell_type": "code",
   "execution_count": 24,
   "metadata": {},
   "outputs": [
    {
     "name": "stdout",
     "output_type": "stream",
     "text": [
      "Total length:  2645\n",
      "Same Correct 0 guesses is:  0\n",
      "Same Wrong 0 guesses is:  199\n",
      "Dif Correct 0 guesses is:  0\n",
      "Dif Wrong 0 guesses is:  76\n",
      "\n",
      "Same Correct 1 guesses is:  1\n",
      "Same Wrong 1 guesses is:  220\n",
      "Dif Correct 1 guesses is:  0\n",
      "Dif Wrong 1 guesses is:  165\n",
      "\n",
      "Same Correct 2 guesses is:  190\n",
      "Same Wrong 2 guesses is:  168\n",
      "Dif Correct 2 guesses is:  131\n",
      "Dif Wrong 2 guesses is:  110\n",
      "\n",
      "Same Correct 3 guesses is:  216\n",
      "Same Wrong 3 guesses is:  235\n",
      "Dif Correct 3 guesses is:  135\n",
      "Dif Wrong 3 guesses is:  169\n",
      "\n",
      "Same Correct 4 guesses is:  0\n",
      "Same Wrong 4 guesses is:  259\n",
      "Dif Correct 4 guesses is:  0\n",
      "Dif Wrong 4 guesses is:  198\n",
      "\n",
      "Same Correct 5 guesses is:  0\n",
      "Same Wrong 5 guesses is:  112\n",
      "Dif Correct 5 guesses is:  0\n",
      "Dif Wrong 5 guesses is:  61\n"
     ]
    }
   ],
   "source": [
    "same_correct_0, same_wrong_0, same_correct_1, same_wrong_1, same_correct_2, same_wrong_2, same_correct_3, same_wrong_3, same_correct_4, same_wrong_4, same_correct_5, same_wrong_5 = (0, 0, 0, 0, 0, 0, 0, 0, 0, 0, 0, 0)\n",
    "dif_correct_0, dif_wrong_0, dif_correct_1, dif_wrong_1, dif_correct_2, dif_wrong_2, dif_correct_3, dif_wrong_3, dif_correct_4, dif_wrong_4, dif_correct_5, dif_wrong_5 = (0, 0, 0, 0, 0, 0, 0, 0, 0, 0, 0, 0)\n",
    "\n",
    "for i in range(len(pred)):\n",
    "    if test[i] == 0 and pred[i] == 0:\n",
    "        if test[i] == X_test_content[i]:\n",
    "            same_correct_0 += 1\n",
    "        if test[i] != X_test_content[i]:\n",
    "            dif_correct_0 += 1\n",
    "    if test[i] == 0 and pred[i] != 0:\n",
    "        if test[i] == X_test_content[i]:\n",
    "            same_wrong_0 += 1\n",
    "        if test[i] != X_test_content[i]:\n",
    "            dif_wrong_0 += 1\n",
    "\n",
    "    if test[i] == 1 and pred[i] == 1:\n",
    "        if test[i] == X_test_content[i]:\n",
    "            same_correct_1 += 1\n",
    "        if test[i] != X_test_content[i]:\n",
    "            dif_correct_1 += 1\n",
    "    if test[i] == 1 and pred[i] != 1:\n",
    "        if test[i] == X_test_content[i]:\n",
    "            same_wrong_1 += 1\n",
    "        if test[i] != X_test_content[i]:\n",
    "            dif_wrong_1 += 1\n",
    "        \n",
    "    if test[i] == 2 and pred[i] == 2:\n",
    "        if test[i] == X_test_content[i]:\n",
    "            same_correct_2 += 1\n",
    "        if test[i] != X_test_content[i]:\n",
    "            dif_correct_2 += 1\n",
    "    if test[i] == 2 and pred[i] != 2:\n",
    "        if test[i] == X_test_content[i]:\n",
    "            same_wrong_2 += 1\n",
    "        if test[i] != X_test_content[i]:\n",
    "            dif_wrong_2 += 1\n",
    "    \n",
    "    if test[i] == 3 and pred[i] == 3:\n",
    "        if test[i] == X_test_content[i]:\n",
    "            same_correct_3 += 1\n",
    "        if test[i] != X_test_content[i]:\n",
    "            dif_correct_3 += 1\n",
    "    if test[i] == 3 and pred[i] != 3:\n",
    "        if test[i] == X_test_content[i]:\n",
    "            same_wrong_3 += 1\n",
    "        if test[i] != X_test_content[i]:\n",
    "            dif_wrong_3 += 1\n",
    "        \n",
    "    if test[i] == 4 and pred[i] == 4:\n",
    "        if test[i] == X_test_content[i]:\n",
    "            same_correct_4 += 1\n",
    "        if test[i] != X_test_content[i]:\n",
    "            dif_correct_4 += 1\n",
    "    if test[i] == 4 and pred[i] != 4:\n",
    "        if test[i] == X_test_content[i]:\n",
    "            same_wrong_4 += 1\n",
    "        if test[i] != X_test_content[i]:\n",
    "            dif_wrong_4 += 1\n",
    "    \n",
    "    if test[i] == 5 and pred[i] == 5:\n",
    "        if test[i] == X_test_content[i]:\n",
    "            same_correct_5 += 1\n",
    "        if test[i] != X_test_content[i]:\n",
    "            dif_correct_5 += 1\n",
    "    if test[i] == 5 and pred[i] != 5:\n",
    "        if test[i] == X_test_content[i]:\n",
    "            same_wrong_5 += 1\n",
    "        if test[i] != X_test_content[i]:\n",
    "            dif_wrong_5 += 1\n",
    "\n",
    "print(\"Total length: \", len(X_test_content))\n",
    "\n",
    "print(\"Same Correct 0 guesses is: \", same_correct_0)\n",
    "print(\"Same Wrong 0 guesses is: \", same_wrong_0)\n",
    "print(\"Dif Correct 0 guesses is: \", dif_correct_0)\n",
    "print(\"Dif Wrong 0 guesses is: \", dif_wrong_0)\n",
    "print('')\n",
    "print(\"Same Correct 1 guesses is: \", same_correct_1)\n",
    "print(\"Same Wrong 1 guesses is: \", same_wrong_1)\n",
    "print(\"Dif Correct 1 guesses is: \", dif_correct_1)\n",
    "print(\"Dif Wrong 1 guesses is: \", dif_wrong_1)\n",
    "print('')\n",
    "print(\"Same Correct 2 guesses is: \", same_correct_2)\n",
    "print(\"Same Wrong 2 guesses is: \", same_wrong_2)\n",
    "print(\"Dif Correct 2 guesses is: \", dif_correct_2)\n",
    "print(\"Dif Wrong 2 guesses is: \", dif_wrong_2)\n",
    "print('')\n",
    "print(\"Same Correct 3 guesses is: \", same_correct_3)\n",
    "print(\"Same Wrong 3 guesses is: \", same_wrong_3)\n",
    "print(\"Dif Correct 3 guesses is: \", dif_correct_3)\n",
    "print(\"Dif Wrong 3 guesses is: \", dif_wrong_3)\n",
    "print('')\n",
    "print(\"Same Correct 4 guesses is: \", same_correct_4)\n",
    "print(\"Same Wrong 4 guesses is: \", same_wrong_4)\n",
    "print(\"Dif Correct 4 guesses is: \", dif_correct_4)\n",
    "print(\"Dif Wrong 4 guesses is: \", dif_wrong_4)\n",
    "print('')\n",
    "print(\"Same Correct 5 guesses is: \", same_correct_5)\n",
    "print(\"Same Wrong 5 guesses is: \", same_wrong_5)\n",
    "print(\"Dif Correct 5 guesses is: \", dif_correct_5)\n",
    "print(\"Dif Wrong 5 guesses is: \", dif_wrong_5)"
   ]
  },
  {
   "cell_type": "code",
   "execution_count": 25,
   "metadata": {},
   "outputs": [],
   "source": [
    "mae_0, mae_1, mae_2, mae_3, mae_4, mae_5 = (0,0,0,0,0,0)\n",
    "\n",
    "for i in range(len(pred)):\n",
    "    if test[i] == 0 and pred[i] != 0:\n",
    "        mae_0 += (abs(test[i]-pred[i]))\n",
    "    if test[i] == 1 and pred[i] != 1:\n",
    "        mae_1 += (abs(test[i]-pred[i]))\n",
    "    if test[i] == 2 and pred[i] != 2:\n",
    "        mae_2 += (abs(test[i]-pred[i]))\n",
    "    if test[i] == 3 and pred[i] != 3:\n",
    "        mae_3 += (abs(test[i]-pred[i]))\n",
    "    if test[i] == 4 and pred[i] != 4:\n",
    "        mae_4 += (abs(test[i]-pred[i]))\n",
    "    if test[i] == 5 and pred[i] != 5:\n",
    "        mae_5 += (abs(test[i]-pred[i]))\n",
    "\n",
    "cnt_0, cnt_1, cnt_2, cnt_3, cnt_4, cnt_5 = (0,0,0,0,0,0)\n",
    "for z in range(len(test)):\n",
    "    if test[z] == 0:\n",
    "        cnt_0 += 1\n",
    "    if test[z] == 1:\n",
    "        cnt_1 += 1\n",
    "    if test[z] == 2:\n",
    "        cnt_2 += 1\n",
    "    if test[z] == 3:\n",
    "        cnt_3 += 1\n",
    "    if test[z] == 4:\n",
    "        cnt_4 += 1\n",
    "    if test[z] == 5:\n",
    "        cnt_5 += 1\n",
    "\n",
    "mae_macroaverage = ((mae_0/cnt_0) + (mae_1/cnt_1) + (mae_2/cnt_2) + (mae_3/cnt_3) + (mae_4/cnt_4) + (mae_5/cnt_5)) / 6"
   ]
  },
  {
   "cell_type": "code",
   "execution_count": 26,
   "metadata": {},
   "outputs": [
    {
     "name": "stdout",
     "output_type": "stream",
     "text": [
      "Macro-averaged Mean Absolute error is:  1.4651\n",
      "Macro-averaged F1-score is:  0.1742\n"
     ]
    },
    {
     "name": "stderr",
     "output_type": "stream",
     "text": [
      "/Users/Stijn/Library/Python/3.7/lib/python/site-packages/sklearn/metrics/classification.py:1437: UndefinedMetricWarning: F-score is ill-defined and being set to 0.0 in labels with no predicted samples.\n",
      "  'precision', 'predicted', average, warn_for)\n"
     ]
    }
   ],
   "source": [
    "print(\"Macro-averaged Mean Absolute error is: \", round(mae_macroaverage, 4))\n",
    "print(\"Macro-averaged F1-score is: \", round(f1_score(test, pred, average='weighted'), 4))"
   ]
  },
  {
   "cell_type": "code",
   "execution_count": null,
   "metadata": {},
   "outputs": [],
   "source": []
  }
 ],
 "metadata": {
  "kernelspec": {
   "display_name": "Python 3",
   "language": "python",
   "name": "python3"
  },
  "language_info": {
   "codemirror_mode": {
    "name": "ipython",
    "version": 3
   },
   "file_extension": ".py",
   "mimetype": "text/x-python",
   "name": "python",
   "nbconvert_exporter": "python",
   "pygments_lexer": "ipython3",
   "version": "3.7.4"
  }
 },
 "nbformat": 4,
 "nbformat_minor": 2
}
