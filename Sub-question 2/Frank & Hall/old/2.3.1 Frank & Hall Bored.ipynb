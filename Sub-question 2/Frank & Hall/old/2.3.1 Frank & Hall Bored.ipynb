{
 "cells": [
  {
   "cell_type": "code",
   "execution_count": 29,
   "metadata": {},
   "outputs": [],
   "source": [
    "# Import packages\n",
    "import pandas as pd\n",
    "import numpy as np\n",
    "import datetime\n",
    "import category_encoders as ce\n",
    "from sklearn.preprocessing import LabelEncoder, MinMaxScaler, RobustScaler, OneHotEncoder\n",
    "from sklearn.model_selection import train_test_split\n",
    "from sklearn.metrics import accuracy_score\n",
    "from sklearn.utils import shuffle\n",
    "from imblearn.over_sampling import SMOTE, SMOTENC\n",
    "import matplotlib.pyplot as plt# Import packages\n",
    "import pandas as pd\n",
    "import numpy as np\n",
    "import datetime\n",
    "import category_encoders as ce\n",
    "from sklearn.preprocessing import LabelEncoder, MinMaxScaler, RobustScaler, OneHotEncoder, StandardScaler\n",
    "from sklearn.model_selection import train_test_split\n",
    "from sklearn.metrics import accuracy_score, mean_squared_error, cohen_kappa_score, f1_score\n",
    "from sklearn.utils import shuffle\n",
    "from imblearn.over_sampling import SMOTE, SMOTENC\n",
    "import matplotlib.pyplot as plt\n",
    "from statsmodels.graphics.mosaicplot import mosaic\n",
    "from sklearn.decomposition import PCA\n",
    "from scipy import stats\n",
    "from math import sqrt\n",
    "\n",
    "import keras\n",
    "from keras.models import Sequential\n",
    "from keras.layers import Dense, Dropout, GaussianNoise\n",
    "from keras.optimizers import SGD\n",
    "from keras.regularizers import l1, l2"
   ]
  },
  {
   "cell_type": "code",
   "execution_count": 2,
   "metadata": {},
   "outputs": [],
   "source": [
    "path = \"/Users/Stijn/Documents/Master Data Science and Society/Block 3/thesis/code/thesis_Code/\"\n",
    "mood = pd.read_csv(path+'mood_imputed_median.csv', sep = ',', index_col=0)\n",
    "mood['bored_last'] = mood.groupby('user_id')['bored'].shift()\n",
    "mood.loc[(pd.isnull(mood.bored_last)), 'bored_last'] = mood['bored']\n",
    "mood_bored = mood.drop([\"anxious\", \"content\", \"cheerful\", \"user_id\", \"response_time\"], axis=1)"
   ]
  },
  {
   "cell_type": "code",
   "execution_count": 3,
   "metadata": {},
   "outputs": [],
   "source": [
    "# Normalize predictors\n",
    "mood_normz = mood_bored.copy()\n",
    "features_to_normalize = ['day_time_window', 'average_TimeUse', 'messaging', 'socialnetworking', 'otherapp']\n",
    "mood_normz[features_to_normalize] = mood_normz[features_to_normalize].apply(lambda x:(x-x.min()) / (x.max()-x.min()))"
   ]
  },
  {
   "cell_type": "code",
   "execution_count": 4,
   "metadata": {},
   "outputs": [],
   "source": [
    "# X = predictors, y = target\n",
    "X = mood_normz.iloc[:,1:]\n",
    "y = mood_normz.iloc[:, 0:1]\n",
    "\n",
    "# Convert float to int\n",
    "y = y.astype(int)"
   ]
  },
  {
   "cell_type": "code",
   "execution_count": 5,
   "metadata": {},
   "outputs": [],
   "source": [
    "# Train (80%) & Test set (20%)\n",
    "X_train, X_test, y_train, y_test = train_test_split(X, y, test_size=0.2, random_state=2)"
   ]
  },
  {
   "cell_type": "code",
   "execution_count": 6,
   "metadata": {},
   "outputs": [
    {
     "name": "stdout",
     "output_type": "stream",
     "text": [
      "Before OverSampling, counts of labels: 0    5139\n",
      "1    1927\n",
      "2    1840\n",
      "3    1184\n",
      "4     403\n",
      "5      83\n",
      "Name: bored, dtype: int64\n",
      "After OverSampling, counts of label '0': 5139\n",
      "After OverSampling, counts of label '1': 5139\n",
      "After OverSampling, counts of label '2': 5139\n",
      "After OverSampling, counts of label '3': 5139\n",
      "After OverSampling, counts of label '4': 5139\n",
      "After OverSampling, counts of label '5': 5139\n"
     ]
    }
   ],
   "source": [
    "# Oversampling unbalanced target\n",
    "print(\"Before OverSampling, counts of labels: {}\".format(y_train['bored'].value_counts()))\n",
    "  \n",
    "sm = SMOTENC(categorical_features=[0, 2, 6], random_state = 2) \n",
    "X_train_res, y_train_res = sm.fit_sample(X_train, y_train['bored'].ravel()) \n",
    "\n",
    "print(\"After OverSampling, counts of label '0': {}\".format(sum(y_train_res == 0))) \n",
    "print(\"After OverSampling, counts of label '1': {}\".format(sum(y_train_res == 1))) \n",
    "print(\"After OverSampling, counts of label '2': {}\".format(sum(y_train_res == 2))) \n",
    "print(\"After OverSampling, counts of label '3': {}\".format(sum(y_train_res == 3))) \n",
    "print(\"After OverSampling, counts of label '4': {}\".format(sum(y_train_res == 4))) \n",
    "print(\"After OverSampling, counts of label '5': {}\".format(sum(y_train_res == 5))) "
   ]
  },
  {
   "cell_type": "code",
   "execution_count": 7,
   "metadata": {},
   "outputs": [],
   "source": [
    "# Convert oversample dataset to Pandas DataFrame\n",
    "X_train = pd.DataFrame(data=X_train_res)\n",
    "y_train = pd.DataFrame(data=y_train_res, columns=['bored'])"
   ]
  },
  {
   "cell_type": "code",
   "execution_count": 8,
   "metadata": {},
   "outputs": [],
   "source": [
    "# Frank & hall encoding\n",
    "\n",
    "def multiple_appends(listname, *element):\n",
    "    listname.extend(element)\n",
    "\n",
    "y_trainFH = []\n",
    "for index, row in y_train.iterrows():\n",
    "    frankhalltrain = []\n",
    "    if row['bored'] == 0:\n",
    "        multiple_appends(frankhalltrain, 0, 0, 0, 0, 0)\n",
    "    elif row['bored'] == 1:\n",
    "        multiple_appends(frankhalltrain, 1, 0, 0, 0, 0)\n",
    "    elif row['bored'] == 2:\n",
    "        multiple_appends(frankhalltrain, 1, 1, 0, 0, 0)\n",
    "    elif row['bored'] == 3:\n",
    "        multiple_appends(frankhalltrain, 1, 1, 1, 0, 0)\n",
    "    elif row['bored'] == 4:\n",
    "        multiple_appends(frankhalltrain, 1, 1, 1, 1, 0)\n",
    "    elif row['bored'] == 5:\n",
    "        multiple_appends(frankhalltrain, 1, 1, 1, 1, 1)\n",
    "    y_trainFH.append(frankhalltrain)"
   ]
  },
  {
   "cell_type": "code",
   "execution_count": 9,
   "metadata": {},
   "outputs": [],
   "source": [
    "# Convert oversample dataset to Pandas DataFrame\n",
    "y_train = pd.DataFrame(data=y_trainFH)"
   ]
  },
  {
   "cell_type": "code",
   "execution_count": 10,
   "metadata": {},
   "outputs": [],
   "source": [
    "# Shuffle both train and test set to cancel patterns\n",
    "X_train, y_train = shuffle(X_train, y_train)\n",
    "X_test, y_test = shuffle(X_test, y_test)"
   ]
  },
  {
   "cell_type": "code",
   "execution_count": 11,
   "metadata": {},
   "outputs": [],
   "source": [
    "X_train_nomood = X_train.iloc[:,:-1]\n",
    "X_train_onlyboredlast = X_train.iloc[:,-1:]\n",
    "X_test_nomood = X_test.iloc[:,:-1]\n",
    "X_test_onlyboredlast = X_test.iloc[:,-1:]"
   ]
  },
  {
   "cell_type": "code",
   "execution_count": 12,
   "metadata": {},
   "outputs": [
    {
     "name": "stdout",
     "output_type": "stream",
     "text": [
      "Model: \"sequential_1\"\n",
      "_________________________________________________________________\n",
      "Layer (type)                 Output Shape              Param #   \n",
      "=================================================================\n",
      "dense_1 (Dense)              (None, 24)                168       \n",
      "_________________________________________________________________\n",
      "dense_2 (Dense)              (None, 12)                300       \n",
      "_________________________________________________________________\n",
      "dense_3 (Dense)              (None, 5)                 65        \n",
      "=================================================================\n",
      "Total params: 533\n",
      "Trainable params: 533\n",
      "Non-trainable params: 0\n",
      "_________________________________________________________________\n"
     ]
    }
   ],
   "source": [
    "# Define Keras model\n",
    "model = Sequential()\n",
    "model.add(Dense(24, input_dim=6, activation='relu'))\n",
    "model.add(Dense(12, activation='relu'))\n",
    "model.add(Dense(5, activation='sigmoid'))\n",
    "\n",
    "model.compile(loss='binary_crossentropy', optimizer='adam', metrics=['accuracy'])\n",
    "model.summary()"
   ]
  },
  {
   "cell_type": "code",
   "execution_count": 13,
   "metadata": {},
   "outputs": [
    {
     "name": "stdout",
     "output_type": "stream",
     "text": [
      "Train on 24667 samples, validate on 6167 samples\n",
      "Epoch 1/100\n",
      "24667/24667 [==============================] - 0s 14us/step - loss: 0.6728 - accuracy: 0.6384 - val_loss: 0.6457 - val_accuracy: 0.6687\n",
      "Epoch 2/100\n",
      "24667/24667 [==============================] - 0s 9us/step - loss: 0.6156 - accuracy: 0.6910 - val_loss: 0.5873 - val_accuracy: 0.7099\n",
      "Epoch 3/100\n",
      "24667/24667 [==============================] - 0s 9us/step - loss: 0.5778 - accuracy: 0.7100 - val_loss: 0.5730 - val_accuracy: 0.7109\n",
      "Epoch 4/100\n",
      "24667/24667 [==============================] - 0s 7us/step - loss: 0.5711 - accuracy: 0.7111 - val_loss: 0.5681 - val_accuracy: 0.7106\n",
      "Epoch 5/100\n",
      "24667/24667 [==============================] - 0s 6us/step - loss: 0.5668 - accuracy: 0.7122 - val_loss: 0.5645 - val_accuracy: 0.7099\n",
      "Epoch 6/100\n",
      "24667/24667 [==============================] - 0s 5us/step - loss: 0.5642 - accuracy: 0.7119 - val_loss: 0.5629 - val_accuracy: 0.7122\n",
      "Epoch 7/100\n",
      "24667/24667 [==============================] - 0s 5us/step - loss: 0.5631 - accuracy: 0.7122 - val_loss: 0.5622 - val_accuracy: 0.7121\n",
      "Epoch 8/100\n",
      "24667/24667 [==============================] - 0s 5us/step - loss: 0.5625 - accuracy: 0.7119 - val_loss: 0.5617 - val_accuracy: 0.7123\n",
      "Epoch 9/100\n",
      "24667/24667 [==============================] - 0s 6us/step - loss: 0.5621 - accuracy: 0.7121 - val_loss: 0.5614 - val_accuracy: 0.7122\n",
      "Epoch 10/100\n",
      "24667/24667 [==============================] - 0s 6us/step - loss: 0.5619 - accuracy: 0.7121 - val_loss: 0.5613 - val_accuracy: 0.7122\n",
      "Epoch 11/100\n",
      "24667/24667 [==============================] - 0s 5us/step - loss: 0.5617 - accuracy: 0.7121 - val_loss: 0.5609 - val_accuracy: 0.7124\n",
      "Epoch 12/100\n",
      "24667/24667 [==============================] - 0s 5us/step - loss: 0.5614 - accuracy: 0.7123 - val_loss: 0.5607 - val_accuracy: 0.7124\n",
      "Epoch 13/100\n",
      "24667/24667 [==============================] - 0s 5us/step - loss: 0.5612 - accuracy: 0.7124 - val_loss: 0.5606 - val_accuracy: 0.7126\n",
      "Epoch 14/100\n",
      "24667/24667 [==============================] - 0s 5us/step - loss: 0.5610 - accuracy: 0.7122 - val_loss: 0.5604 - val_accuracy: 0.7125\n",
      "Epoch 15/100\n",
      "24667/24667 [==============================] - 0s 6us/step - loss: 0.5608 - accuracy: 0.7125 - val_loss: 0.5604 - val_accuracy: 0.7131\n",
      "Epoch 16/100\n",
      "24667/24667 [==============================] - 0s 5us/step - loss: 0.5605 - accuracy: 0.7125 - val_loss: 0.5599 - val_accuracy: 0.7125\n",
      "Epoch 17/100\n",
      "24667/24667 [==============================] - 0s 6us/step - loss: 0.5605 - accuracy: 0.7126 - val_loss: 0.5598 - val_accuracy: 0.7130\n",
      "Epoch 18/100\n",
      "24667/24667 [==============================] - 0s 5us/step - loss: 0.5601 - accuracy: 0.7127 - val_loss: 0.5594 - val_accuracy: 0.7127\n",
      "Epoch 19/100\n",
      "24667/24667 [==============================] - 0s 5us/step - loss: 0.5598 - accuracy: 0.7130 - val_loss: 0.5593 - val_accuracy: 0.7132\n",
      "Epoch 20/100\n",
      "24667/24667 [==============================] - 0s 5us/step - loss: 0.5595 - accuracy: 0.7130 - val_loss: 0.5589 - val_accuracy: 0.7128\n",
      "Epoch 21/100\n",
      "24667/24667 [==============================] - 0s 5us/step - loss: 0.5593 - accuracy: 0.7132 - val_loss: 0.5587 - val_accuracy: 0.7128\n",
      "Epoch 22/100\n",
      "24667/24667 [==============================] - 0s 6us/step - loss: 0.5590 - accuracy: 0.7134 - val_loss: 0.5588 - val_accuracy: 0.7138\n",
      "Epoch 23/100\n",
      "24667/24667 [==============================] - 0s 5us/step - loss: 0.5587 - accuracy: 0.7137 - val_loss: 0.5583 - val_accuracy: 0.7140\n",
      "Epoch 24/100\n",
      "24667/24667 [==============================] - 0s 5us/step - loss: 0.5584 - accuracy: 0.7138 - val_loss: 0.5583 - val_accuracy: 0.7144\n",
      "Epoch 25/100\n",
      "24667/24667 [==============================] - 0s 5us/step - loss: 0.5582 - accuracy: 0.7139 - val_loss: 0.5579 - val_accuracy: 0.7142\n",
      "Epoch 26/100\n",
      "24667/24667 [==============================] - 0s 5us/step - loss: 0.5578 - accuracy: 0.7145 - val_loss: 0.5576 - val_accuracy: 0.7143\n",
      "Epoch 27/100\n",
      "24667/24667 [==============================] - 0s 5us/step - loss: 0.5576 - accuracy: 0.7141 - val_loss: 0.5574 - val_accuracy: 0.7144\n",
      "Epoch 28/100\n",
      "24667/24667 [==============================] - 0s 5us/step - loss: 0.5573 - accuracy: 0.7146 - val_loss: 0.5570 - val_accuracy: 0.7144\n",
      "Epoch 29/100\n",
      "24667/24667 [==============================] - 0s 5us/step - loss: 0.5569 - accuracy: 0.7147 - val_loss: 0.5566 - val_accuracy: 0.7144\n",
      "Epoch 30/100\n",
      "24667/24667 [==============================] - 0s 6us/step - loss: 0.5567 - accuracy: 0.7143 - val_loss: 0.5567 - val_accuracy: 0.7153\n",
      "Epoch 31/100\n",
      "24667/24667 [==============================] - 0s 5us/step - loss: 0.5564 - accuracy: 0.7150 - val_loss: 0.5562 - val_accuracy: 0.7152\n",
      "Epoch 32/100\n",
      "24667/24667 [==============================] - 0s 5us/step - loss: 0.5560 - accuracy: 0.7151 - val_loss: 0.5559 - val_accuracy: 0.7150\n",
      "Epoch 33/100\n",
      "24667/24667 [==============================] - 0s 5us/step - loss: 0.5559 - accuracy: 0.7156 - val_loss: 0.5556 - val_accuracy: 0.7158\n",
      "Epoch 34/100\n",
      "24667/24667 [==============================] - 0s 6us/step - loss: 0.5557 - accuracy: 0.7154 - val_loss: 0.5554 - val_accuracy: 0.7166\n",
      "Epoch 35/100\n",
      "24667/24667 [==============================] - 0s 5us/step - loss: 0.5553 - accuracy: 0.7160 - val_loss: 0.5552 - val_accuracy: 0.7157\n",
      "Epoch 36/100\n",
      "24667/24667 [==============================] - 0s 6us/step - loss: 0.5554 - accuracy: 0.7165 - val_loss: 0.5550 - val_accuracy: 0.7158\n",
      "Epoch 37/100\n",
      "24667/24667 [==============================] - 0s 6us/step - loss: 0.5549 - accuracy: 0.7165 - val_loss: 0.5550 - val_accuracy: 0.7165\n",
      "Epoch 38/100\n",
      "24667/24667 [==============================] - 0s 5us/step - loss: 0.5550 - accuracy: 0.7159 - val_loss: 0.5549 - val_accuracy: 0.7162\n",
      "Epoch 39/100\n",
      "24667/24667 [==============================] - 0s 5us/step - loss: 0.5546 - accuracy: 0.7171 - val_loss: 0.5545 - val_accuracy: 0.7157\n",
      "Epoch 40/100\n",
      "24667/24667 [==============================] - 0s 5us/step - loss: 0.5545 - accuracy: 0.7165 - val_loss: 0.5544 - val_accuracy: 0.7157\n",
      "Epoch 41/100\n",
      "24667/24667 [==============================] - 0s 5us/step - loss: 0.5543 - accuracy: 0.7168 - val_loss: 0.5544 - val_accuracy: 0.7166\n",
      "Epoch 42/100\n",
      "24667/24667 [==============================] - 0s 5us/step - loss: 0.5545 - accuracy: 0.7172 - val_loss: 0.5540 - val_accuracy: 0.7156\n",
      "Epoch 43/100\n",
      "24667/24667 [==============================] - 0s 5us/step - loss: 0.5541 - accuracy: 0.7168 - val_loss: 0.5540 - val_accuracy: 0.7156\n",
      "Epoch 44/100\n",
      "24667/24667 [==============================] - 0s 6us/step - loss: 0.5538 - accuracy: 0.7171 - val_loss: 0.5537 - val_accuracy: 0.7165\n",
      "Epoch 45/100\n",
      "24667/24667 [==============================] - 0s 5us/step - loss: 0.5537 - accuracy: 0.7172 - val_loss: 0.5536 - val_accuracy: 0.7167\n",
      "Epoch 46/100\n",
      "24667/24667 [==============================] - 0s 5us/step - loss: 0.5535 - accuracy: 0.7173 - val_loss: 0.5534 - val_accuracy: 0.7170\n",
      "Epoch 47/100\n",
      "24667/24667 [==============================] - 0s 5us/step - loss: 0.5534 - accuracy: 0.7176 - val_loss: 0.5534 - val_accuracy: 0.7170\n",
      "Epoch 48/100\n",
      "24667/24667 [==============================] - 0s 5us/step - loss: 0.5533 - accuracy: 0.7175 - val_loss: 0.5532 - val_accuracy: 0.7170\n",
      "Epoch 49/100\n",
      "24667/24667 [==============================] - 0s 5us/step - loss: 0.5533 - accuracy: 0.7180 - val_loss: 0.5532 - val_accuracy: 0.7167\n",
      "Epoch 50/100\n",
      "24667/24667 [==============================] - 0s 5us/step - loss: 0.5530 - accuracy: 0.7179 - val_loss: 0.5531 - val_accuracy: 0.7171\n",
      "Epoch 51/100\n",
      "24667/24667 [==============================] - 0s 5us/step - loss: 0.5531 - accuracy: 0.7182 - val_loss: 0.5531 - val_accuracy: 0.7165\n",
      "Epoch 52/100\n",
      "24667/24667 [==============================] - 0s 5us/step - loss: 0.5528 - accuracy: 0.7176 - val_loss: 0.5531 - val_accuracy: 0.7173\n",
      "Epoch 53/100\n",
      "24667/24667 [==============================] - 0s 6us/step - loss: 0.5527 - accuracy: 0.7185 - val_loss: 0.5528 - val_accuracy: 0.7172\n",
      "Epoch 54/100\n",
      "24667/24667 [==============================] - 0s 5us/step - loss: 0.5526 - accuracy: 0.7185 - val_loss: 0.5532 - val_accuracy: 0.7164\n",
      "Epoch 55/100\n",
      "24667/24667 [==============================] - 0s 5us/step - loss: 0.5526 - accuracy: 0.7183 - val_loss: 0.5526 - val_accuracy: 0.7171\n",
      "Epoch 56/100\n"
     ]
    },
    {
     "name": "stdout",
     "output_type": "stream",
     "text": [
      "24667/24667 [==============================] - 0s 5us/step - loss: 0.5523 - accuracy: 0.7183 - val_loss: 0.5524 - val_accuracy: 0.7175\n",
      "Epoch 57/100\n",
      "24667/24667 [==============================] - 0s 4us/step - loss: 0.5522 - accuracy: 0.7184 - val_loss: 0.5524 - val_accuracy: 0.7172\n",
      "Epoch 58/100\n",
      "24667/24667 [==============================] - 0s 5us/step - loss: 0.5521 - accuracy: 0.7185 - val_loss: 0.5524 - val_accuracy: 0.7176\n",
      "Epoch 59/100\n",
      "24667/24667 [==============================] - 0s 5us/step - loss: 0.5519 - accuracy: 0.7186 - val_loss: 0.5522 - val_accuracy: 0.7174\n",
      "Epoch 60/100\n",
      "24667/24667 [==============================] - 0s 4us/step - loss: 0.5518 - accuracy: 0.7187 - val_loss: 0.5522 - val_accuracy: 0.7180\n",
      "Epoch 61/100\n",
      "24667/24667 [==============================] - 0s 4us/step - loss: 0.5517 - accuracy: 0.7189 - val_loss: 0.5519 - val_accuracy: 0.7180\n",
      "Epoch 62/100\n",
      "24667/24667 [==============================] - 0s 5us/step - loss: 0.5519 - accuracy: 0.7187 - val_loss: 0.5518 - val_accuracy: 0.7180\n",
      "Epoch 63/100\n",
      "24667/24667 [==============================] - 0s 4us/step - loss: 0.5515 - accuracy: 0.7190 - val_loss: 0.5519 - val_accuracy: 0.7175\n",
      "Epoch 64/100\n",
      "24667/24667 [==============================] - 0s 4us/step - loss: 0.5515 - accuracy: 0.7190 - val_loss: 0.5520 - val_accuracy: 0.7178\n",
      "Epoch 65/100\n",
      "24667/24667 [==============================] - 0s 5us/step - loss: 0.5514 - accuracy: 0.7190 - val_loss: 0.5517 - val_accuracy: 0.7177\n",
      "Epoch 66/100\n",
      "24667/24667 [==============================] - 0s 5us/step - loss: 0.5511 - accuracy: 0.7185 - val_loss: 0.5515 - val_accuracy: 0.7186\n",
      "Epoch 67/100\n",
      "24667/24667 [==============================] - 0s 5us/step - loss: 0.5511 - accuracy: 0.7194 - val_loss: 0.5512 - val_accuracy: 0.7181\n",
      "Epoch 68/100\n",
      "24667/24667 [==============================] - 0s 4us/step - loss: 0.5509 - accuracy: 0.7194 - val_loss: 0.5512 - val_accuracy: 0.7180\n",
      "Epoch 69/100\n",
      "24667/24667 [==============================] - 0s 4us/step - loss: 0.5508 - accuracy: 0.7195 - val_loss: 0.5513 - val_accuracy: 0.7177\n",
      "Epoch 70/100\n",
      "24667/24667 [==============================] - 0s 5us/step - loss: 0.5506 - accuracy: 0.7190 - val_loss: 0.5510 - val_accuracy: 0.7189\n",
      "Epoch 71/100\n",
      "24667/24667 [==============================] - 0s 4us/step - loss: 0.5506 - accuracy: 0.7197 - val_loss: 0.5509 - val_accuracy: 0.7181\n",
      "Epoch 72/100\n",
      "24667/24667 [==============================] - 0s 4us/step - loss: 0.5503 - accuracy: 0.7193 - val_loss: 0.5506 - val_accuracy: 0.7185\n",
      "Epoch 73/100\n",
      "24667/24667 [==============================] - 0s 4us/step - loss: 0.5501 - accuracy: 0.7197 - val_loss: 0.5508 - val_accuracy: 0.7183\n",
      "Epoch 74/100\n",
      "24667/24667 [==============================] - 0s 5us/step - loss: 0.5501 - accuracy: 0.7198 - val_loss: 0.5504 - val_accuracy: 0.7185\n",
      "Epoch 75/100\n",
      "24667/24667 [==============================] - 0s 5us/step - loss: 0.5500 - accuracy: 0.7197 - val_loss: 0.5506 - val_accuracy: 0.7179\n",
      "Epoch 76/100\n",
      "24667/24667 [==============================] - 0s 5us/step - loss: 0.5500 - accuracy: 0.7196 - val_loss: 0.5509 - val_accuracy: 0.7189\n",
      "Epoch 77/100\n",
      "24667/24667 [==============================] - 0s 5us/step - loss: 0.5497 - accuracy: 0.7195 - val_loss: 0.5502 - val_accuracy: 0.7196\n",
      "Epoch 78/100\n",
      "24667/24667 [==============================] - 0s 5us/step - loss: 0.5495 - accuracy: 0.7197 - val_loss: 0.5502 - val_accuracy: 0.7187\n",
      "Epoch 79/100\n",
      "24667/24667 [==============================] - 0s 5us/step - loss: 0.5493 - accuracy: 0.7202 - val_loss: 0.5498 - val_accuracy: 0.7185\n",
      "Epoch 80/100\n",
      "24667/24667 [==============================] - 0s 4us/step - loss: 0.5493 - accuracy: 0.7200 - val_loss: 0.5502 - val_accuracy: 0.7178\n",
      "Epoch 81/100\n",
      "24667/24667 [==============================] - 0s 4us/step - loss: 0.5491 - accuracy: 0.7203 - val_loss: 0.5495 - val_accuracy: 0.7193\n",
      "Epoch 82/100\n",
      "24667/24667 [==============================] - 0s 5us/step - loss: 0.5489 - accuracy: 0.7201 - val_loss: 0.5495 - val_accuracy: 0.7191\n",
      "Epoch 83/100\n",
      "24667/24667 [==============================] - 0s 5us/step - loss: 0.5488 - accuracy: 0.7206 - val_loss: 0.5493 - val_accuracy: 0.7187\n",
      "Epoch 84/100\n",
      "24667/24667 [==============================] - 0s 5us/step - loss: 0.5486 - accuracy: 0.7204 - val_loss: 0.5492 - val_accuracy: 0.7188\n",
      "Epoch 85/100\n",
      "24667/24667 [==============================] - 0s 4us/step - loss: 0.5484 - accuracy: 0.7204 - val_loss: 0.5489 - val_accuracy: 0.7201\n",
      "Epoch 86/100\n",
      "24667/24667 [==============================] - 0s 4us/step - loss: 0.5483 - accuracy: 0.7209 - val_loss: 0.5488 - val_accuracy: 0.7199\n",
      "Epoch 87/100\n",
      "24667/24667 [==============================] - 0s 5us/step - loss: 0.5480 - accuracy: 0.7209 - val_loss: 0.5488 - val_accuracy: 0.7197\n",
      "Epoch 88/100\n",
      "24667/24667 [==============================] - 0s 4us/step - loss: 0.5480 - accuracy: 0.7212 - val_loss: 0.5484 - val_accuracy: 0.7198\n",
      "Epoch 89/100\n",
      "24667/24667 [==============================] - 0s 4us/step - loss: 0.5477 - accuracy: 0.7211 - val_loss: 0.5484 - val_accuracy: 0.7191\n",
      "Epoch 90/100\n",
      "24667/24667 [==============================] - 0s 5us/step - loss: 0.5477 - accuracy: 0.7208 - val_loss: 0.5483 - val_accuracy: 0.7206\n",
      "Epoch 91/100\n",
      "24667/24667 [==============================] - 0s 5us/step - loss: 0.5476 - accuracy: 0.7214 - val_loss: 0.5481 - val_accuracy: 0.7203\n",
      "Epoch 92/100\n",
      "24667/24667 [==============================] - 0s 5us/step - loss: 0.5474 - accuracy: 0.7215 - val_loss: 0.5480 - val_accuracy: 0.7201\n",
      "Epoch 93/100\n",
      "24667/24667 [==============================] - 0s 5us/step - loss: 0.5471 - accuracy: 0.7215 - val_loss: 0.5479 - val_accuracy: 0.7202\n",
      "Epoch 94/100\n",
      "24667/24667 [==============================] - 0s 4us/step - loss: 0.5469 - accuracy: 0.7220 - val_loss: 0.5478 - val_accuracy: 0.7198\n",
      "Epoch 95/100\n",
      "24667/24667 [==============================] - 0s 4us/step - loss: 0.5468 - accuracy: 0.7213 - val_loss: 0.5474 - val_accuracy: 0.7206\n",
      "Epoch 96/100\n",
      "24667/24667 [==============================] - 0s 5us/step - loss: 0.5468 - accuracy: 0.7219 - val_loss: 0.5475 - val_accuracy: 0.7193\n",
      "Epoch 97/100\n",
      "24667/24667 [==============================] - 0s 5us/step - loss: 0.5465 - accuracy: 0.7221 - val_loss: 0.5473 - val_accuracy: 0.7204\n",
      "Epoch 98/100\n",
      "24667/24667 [==============================] - 0s 4us/step - loss: 0.5462 - accuracy: 0.7224 - val_loss: 0.5471 - val_accuracy: 0.7204\n",
      "Epoch 99/100\n",
      "24667/24667 [==============================] - 0s 4us/step - loss: 0.5462 - accuracy: 0.7222 - val_loss: 0.5471 - val_accuracy: 0.7207\n",
      "Epoch 100/100\n",
      "24667/24667 [==============================] - 0s 5us/step - loss: 0.5460 - accuracy: 0.7223 - val_loss: 0.5471 - val_accuracy: 0.7209\n"
     ]
    }
   ],
   "source": [
    "# Train model on train set\n",
    "history = model.fit(X_train_nomood, y_train, epochs=100, validation_split=0.2, batch_size=512)"
   ]
  },
  {
   "cell_type": "code",
   "execution_count": 14,
   "metadata": {},
   "outputs": [
    {
     "data": {
      "image/png": "[encoded data removed]",
      "text/plain": [
       "<Figure size 432x288 with 1 Axes>"
      ]
     },
     "metadata": {
      "needs_background": "light"
     },
     "output_type": "display_data"
    }
   ],
   "source": [
    "# Plot training & validation accuracy values\n",
    "plt.plot(history.history['accuracy'])\n",
    "plt.plot(history.history['val_accuracy'])\n",
    "plt.title('Model accuracy')\n",
    "plt.ylabel('Accuracy')\n",
    "plt.xlabel('Epoch')\n",
    "plt.legend(['Train', 'Validation'], loc='upper left')\n",
    "plt.show()"
   ]
  },
  {
   "cell_type": "code",
   "execution_count": 15,
   "metadata": {},
   "outputs": [
    {
     "data": {
      "image/png": "[encoded data removed]",
      "text/plain": [
       "<Figure size 432x288 with 1 Axes>"
      ]
     },
     "metadata": {
      "needs_background": "light"
     },
     "output_type": "display_data"
    }
   ],
   "source": [
    "# Plot training & validation loss values\n",
    "plt.plot(history.history['loss'])\n",
    "plt.plot(history.history['val_loss'])\n",
    "plt.title('Model loss')\n",
    "plt.ylabel('Loss')\n",
    "plt.xlabel('Epoch')\n",
    "plt.legend(['Train', 'Validation'], loc='upper left')\n",
    "plt.show()"
   ]
  },
  {
   "cell_type": "code",
   "execution_count": 16,
   "metadata": {},
   "outputs": [],
   "source": [
    "# Predict using X_test\n",
    "y_pred = model.predict(X_test_nomood)\n",
    "\n",
    "FH_pred = []\n",
    "for i in y_pred:\n",
    "    temp_list = []\n",
    "    for binary in i:\n",
    "        if binary >= 0.5:\n",
    "            temp_list.append(1)\n",
    "        else:\n",
    "            temp_list.append(0)\n",
    "    FH_pred.append(temp_list)\n",
    "\n",
    "FH_prediction = pd.DataFrame(data=FH_pred, columns=['mood_0', 'mood_1', 'mood_2', 'mood_3', 'mood_4'])"
   ]
  },
  {
   "cell_type": "code",
   "execution_count": 17,
   "metadata": {},
   "outputs": [
    {
     "name": "stdout",
     "output_type": "stream",
     "text": [
      "[[1, 1, 1, 0, 0], [1, 1, 0, 0, 0], [1, 0, 0, 0, 0], [1, 1, 1, 1, 0], [1, 1, 1, 1, 1], [0, 0, 0, 0, 0]]\n"
     ]
    }
   ],
   "source": [
    "# All unique outcomes\n",
    "check_pos = []\n",
    "for ac in FH_pred:\n",
    "    if ac not in check_pos:\n",
    "        check_pos.append(ac)\n",
    "print(check_pos)"
   ]
  },
  {
   "cell_type": "code",
   "execution_count": 18,
   "metadata": {},
   "outputs": [],
   "source": [
    "pred = FH_prediction.sum(axis=1)\n",
    "test = y_test['bored'].values"
   ]
  },
  {
   "cell_type": "code",
   "execution_count": 19,
   "metadata": {},
   "outputs": [
    {
     "data": {
      "text/plain": [
       "3    1337\n",
       "2     974\n",
       "1     214\n",
       "4      85\n",
       "5      34\n",
       "0       1\n",
       "dtype: int64"
      ]
     },
     "execution_count": 19,
     "metadata": {},
     "output_type": "execute_result"
    }
   ],
   "source": [
    "pred.value_counts()"
   ]
  },
  {
   "cell_type": "code",
   "execution_count": 20,
   "metadata": {},
   "outputs": [
    {
     "data": {
      "text/plain": [
       "array([0, 4, 1, 3, 2, 5])"
      ]
     },
     "execution_count": 20,
     "metadata": {},
     "output_type": "execute_result"
    }
   ],
   "source": [
    "y_test['bored'].unique()"
   ]
  },
  {
   "cell_type": "code",
   "execution_count": 21,
   "metadata": {},
   "outputs": [
    {
     "data": {
      "text/html": [
       "<div>\n",
       "<style scoped>\n",
       "    .dataframe tbody tr th:only-of-type {\n",
       "        vertical-align: middle;\n",
       "    }\n",
       "\n",
       "    .dataframe tbody tr th {\n",
       "        vertical-align: top;\n",
       "    }\n",
       "\n",
       "    .dataframe thead th {\n",
       "        text-align: right;\n",
       "    }\n",
       "</style>\n",
       "<table border=\"1\" class=\"dataframe\">\n",
       "  <thead>\n",
       "    <tr style=\"text-align: right;\">\n",
       "      <th></th>\n",
       "      <th>bored_last</th>\n",
       "    </tr>\n",
       "  </thead>\n",
       "  <tbody>\n",
       "    <tr>\n",
       "      <th>14505</th>\n",
       "      <td>0.0</td>\n",
       "    </tr>\n",
       "    <tr>\n",
       "      <th>7553</th>\n",
       "      <td>4.0</td>\n",
       "    </tr>\n",
       "    <tr>\n",
       "      <th>4100</th>\n",
       "      <td>2.0</td>\n",
       "    </tr>\n",
       "    <tr>\n",
       "      <th>11825</th>\n",
       "      <td>0.0</td>\n",
       "    </tr>\n",
       "    <tr>\n",
       "      <th>12929</th>\n",
       "      <td>0.0</td>\n",
       "    </tr>\n",
       "  </tbody>\n",
       "</table>\n",
       "</div>"
      ],
      "text/plain": [
       "       bored_last\n",
       "14505         0.0\n",
       "7553          4.0\n",
       "4100          2.0\n",
       "11825         0.0\n",
       "12929         0.0"
      ]
     },
     "execution_count": 21,
     "metadata": {},
     "output_type": "execute_result"
    }
   ],
   "source": [
    "X_test_onlyboredlast[:5]"
   ]
  },
  {
   "cell_type": "code",
   "execution_count": 22,
   "metadata": {},
   "outputs": [
    {
     "name": "stdout",
     "output_type": "stream",
     "text": [
      "Accuracy is: 14.669187145557656\n"
     ]
    }
   ],
   "source": [
    "# Accuracy score\n",
    "a = accuracy_score(pred,test)\n",
    "print('Accuracy is:', a*100)"
   ]
  },
  {
   "cell_type": "code",
   "execution_count": 23,
   "metadata": {},
   "outputs": [
    {
     "name": "stdout",
     "output_type": "stream",
     "text": [
      "        Same Dif\n",
      "correct 213 175\n",
      "wrong   1568 689\n",
      "\n",
      "Accuracy of table is:  0.14669187145557655\n",
      "Accuracy of model is:  0.14669187145557655\n"
     ]
    }
   ],
   "source": [
    "# true = y_test\n",
    "# pred = y_pred\n",
    "# last_value = X_bored_lastarray\n",
    "same_correct = 0\n",
    "same_wrong = 0\n",
    "dif_correct = 0\n",
    "dif_wrong = 0\n",
    "\n",
    "X_test_bored = X_test_onlyboredlast['bored_last'].values\n",
    "for i in range(len(pred)):\n",
    "    if (test[i] == X_test_bored[i]) and (test[i] == pred[i]):\n",
    "        same_correct += 1\n",
    "    if (test[i] == X_test_bored[i]) and (test[i] != pred[i]):\n",
    "        same_wrong += 1\n",
    "    if (test[i] != X_test_bored[i]) and (test[i] == pred[i]):\n",
    "        dif_correct += 1\n",
    "    if (test[i] != X_test_bored[i]) and (test[i] != pred[i]):\n",
    "        dif_wrong += 1   \n",
    "\n",
    "print(\"       \", \"Same\", \"Dif\")\n",
    "print(\"correct\", same_correct, dif_correct)\n",
    "print(\"wrong  \", same_wrong, dif_wrong)\n",
    "\n",
    "#Check if table is similar to accuracy\n",
    "print(\"\")\n",
    "print(\"Accuracy of table is: \", ((same_correct+dif_correct) / (same_correct+dif_correct+same_wrong+dif_wrong)))\n",
    "print(\"Accuracy of model is: \", a)"
   ]
  },
  {
   "cell_type": "code",
   "execution_count": 24,
   "metadata": {},
   "outputs": [
    {
     "name": "stdout",
     "output_type": "stream",
     "text": [
      "Predicted values:  Counter({3: 1337, 2: 974, 1: 214, 4: 85, 5: 34, 0: 1})\n",
      "True values:  Counter({0: 1264, 1: 491, 2: 455, 3: 301, 4: 119, 5: 15})\n",
      "Previous mood: Counter({0.0: 1286, 1.0: 494, 2.0: 451, 3.0: 294, 4.0: 106, 5.0: 14})\n"
     ]
    }
   ],
   "source": [
    "from collections import Counter\n",
    "print(\"Predicted values: \", Counter(pred))\n",
    "print(\"True values: \", Counter(test))\n",
    "print(\"Previous mood:\", Counter(X_test_bored))"
   ]
  },
  {
   "cell_type": "code",
   "execution_count": 25,
   "metadata": {},
   "outputs": [
    {
     "name": "stdout",
     "output_type": "stream",
     "text": [
      "Total length:  2645\n",
      "Same Correct 0 guesses is:  0\n",
      "Same Wrong 0 guesses is:  1039\n",
      "Dif Correct 0 guesses is:  0\n",
      "Dif Wrong 0 guesses is:  225\n",
      "\n",
      "Same Correct 1 guesses is:  18\n",
      "Same Wrong 1 guesses is:  254\n",
      "Dif Correct 1 guesses is:  28\n",
      "Dif Wrong 1 guesses is:  191\n",
      "\n",
      "Same Correct 2 guesses is:  86\n",
      "Same Wrong 2 guesses is:  146\n",
      "Dif Correct 2 guesses is:  91\n",
      "Dif Wrong 2 guesses is:  132\n",
      "\n",
      "Same Correct 3 guesses is:  109\n",
      "Same Wrong 3 guesses is:  74\n",
      "Dif Correct 3 guesses is:  53\n",
      "Dif Wrong 3 guesses is:  65\n",
      "\n",
      "Same Correct 4 guesses is:  0\n",
      "Same Wrong 4 guesses is:  55\n",
      "Dif Correct 4 guesses is:  3\n",
      "Dif Wrong 4 guesses is:  61\n",
      "\n",
      "Same Correct 5 guesses is:  0\n",
      "Same Wrong 5 guesses is:  0\n",
      "Dif Correct 5 guesses is:  0\n",
      "Dif Wrong 5 guesses is:  15\n"
     ]
    }
   ],
   "source": [
    "same_correct_0, same_wrong_0, same_correct_1, same_wrong_1, same_correct_2, same_wrong_2, same_correct_3, same_wrong_3, same_correct_4, same_wrong_4, same_correct_5, same_wrong_5 = (0, 0, 0, 0, 0, 0, 0, 0, 0, 0, 0, 0)\n",
    "dif_correct_0, dif_wrong_0, dif_correct_1, dif_wrong_1, dif_correct_2, dif_wrong_2, dif_correct_3, dif_wrong_3, dif_correct_4, dif_wrong_4, dif_correct_5, dif_wrong_5 = (0, 0, 0, 0, 0, 0, 0, 0, 0, 0, 0, 0)\n",
    "\n",
    "for i in range(len(pred)):\n",
    "    if test[i] == 0 and pred[i] == 0:\n",
    "        if test[i] == X_test_bored[i]:\n",
    "            same_correct_0 += 1\n",
    "        if test[i] != X_test_bored[i]:\n",
    "            dif_correct_0 += 1\n",
    "    if test[i] == 0 and pred[i] != 0:\n",
    "        if test[i] == X_test_bored[i]:\n",
    "            same_wrong_0 += 1\n",
    "        if test[i] != X_test_bored[i]:\n",
    "            dif_wrong_0 += 1\n",
    "\n",
    "    if test[i] == 1 and pred[i] == 1:\n",
    "        if test[i] == X_test_bored[i]:\n",
    "            same_correct_1 += 1\n",
    "        if test[i] != X_test_bored[i]:\n",
    "            dif_correct_1 += 1\n",
    "    if test[i] == 1 and pred[i] != 1:\n",
    "        if test[i] == X_test_bored[i]:\n",
    "            same_wrong_1 += 1\n",
    "        if test[i] != X_test_bored[i]:\n",
    "            dif_wrong_1 += 1\n",
    "        \n",
    "    if test[i] == 2 and pred[i] == 2:\n",
    "        if test[i] == X_test_bored[i]:\n",
    "            same_correct_2 += 1\n",
    "        if test[i] != X_test_bored[i]:\n",
    "            dif_correct_2 += 1\n",
    "    if test[i] == 2 and pred[i] != 2:\n",
    "        if test[i] == X_test_bored[i]:\n",
    "            same_wrong_2 += 1\n",
    "        if test[i] != X_test_bored[i]:\n",
    "            dif_wrong_2 += 1\n",
    "    \n",
    "    if test[i] == 3 and pred[i] == 3:\n",
    "        if test[i] == X_test_bored[i]:\n",
    "            same_correct_3 += 1\n",
    "        if test[i] != X_test_bored[i]:\n",
    "            dif_correct_3 += 1\n",
    "    if test[i] == 3 and pred[i] != 3:\n",
    "        if test[i] == X_test_bored[i]:\n",
    "            same_wrong_3 += 1\n",
    "        if test[i] != X_test_bored[i]:\n",
    "            dif_wrong_3 += 1\n",
    "        \n",
    "    if test[i] == 4 and pred[i] == 4:\n",
    "        if test[i] == X_test_bored[i]:\n",
    "            same_correct_4 += 1\n",
    "        if test[i] != X_test_bored[i]:\n",
    "            dif_correct_4 += 1\n",
    "    if test[i] == 4 and pred[i] != 4:\n",
    "        if test[i] == X_test_bored[i]:\n",
    "            same_wrong_4 += 1\n",
    "        if test[i] != X_test_bored[i]:\n",
    "            dif_wrong_4 += 1\n",
    "    \n",
    "    if test[i] == 5 and pred[i] == 5:\n",
    "        if test[i] == X_test_bored[i]:\n",
    "            same_correct_5 += 1\n",
    "        if test[i] != X_test_bored[i]:\n",
    "            dif_correct_5 += 1\n",
    "    if test[i] == 5 and pred[i] != 5:\n",
    "        if test[i] == X_test_bored[i]:\n",
    "            same_wrong_5 += 1\n",
    "        if test[i] != X_test_bored[i]:\n",
    "            dif_wrong_5 += 1\n",
    "\n",
    "print(\"Total length: \", len(X_test_bored))\n",
    "\n",
    "print(\"Same Correct 0 guesses is: \", same_correct_0)\n",
    "print(\"Same Wrong 0 guesses is: \", same_wrong_0)\n",
    "print(\"Dif Correct 0 guesses is: \", dif_correct_0)\n",
    "print(\"Dif Wrong 0 guesses is: \", dif_wrong_0)\n",
    "print('')\n",
    "print(\"Same Correct 1 guesses is: \", same_correct_1)\n",
    "print(\"Same Wrong 1 guesses is: \", same_wrong_1)\n",
    "print(\"Dif Correct 1 guesses is: \", dif_correct_1)\n",
    "print(\"Dif Wrong 1 guesses is: \", dif_wrong_1)\n",
    "print('')\n",
    "print(\"Same Correct 2 guesses is: \", same_correct_2)\n",
    "print(\"Same Wrong 2 guesses is: \", same_wrong_2)\n",
    "print(\"Dif Correct 2 guesses is: \", dif_correct_2)\n",
    "print(\"Dif Wrong 2 guesses is: \", dif_wrong_2)\n",
    "print('')\n",
    "print(\"Same Correct 3 guesses is: \", same_correct_3)\n",
    "print(\"Same Wrong 3 guesses is: \", same_wrong_3)\n",
    "print(\"Dif Correct 3 guesses is: \", dif_correct_3)\n",
    "print(\"Dif Wrong 3 guesses is: \", dif_wrong_3)\n",
    "print('')\n",
    "print(\"Same Correct 4 guesses is: \", same_correct_4)\n",
    "print(\"Same Wrong 4 guesses is: \", same_wrong_4)\n",
    "print(\"Dif Correct 4 guesses is: \", dif_correct_4)\n",
    "print(\"Dif Wrong 4 guesses is: \", dif_wrong_4)\n",
    "print('')\n",
    "print(\"Same Correct 5 guesses is: \", same_correct_5)\n",
    "print(\"Same Wrong 5 guesses is: \", same_wrong_5)\n",
    "print(\"Dif Correct 5 guesses is: \", dif_correct_5)\n",
    "print(\"Dif Wrong 5 guesses is: \", dif_wrong_5)"
   ]
  },
  {
   "cell_type": "code",
   "execution_count": 27,
   "metadata": {},
   "outputs": [],
   "source": [
    "mae_0, mae_1, mae_2, mae_3, mae_4, mae_5 = (0,0,0,0,0,0)\n",
    "\n",
    "for i in range(len(pred)):\n",
    "    if test[i] == 0 and pred[i] != 0:\n",
    "        mae_0 += (abs(test[i]-pred[i]))\n",
    "    if test[i] == 1 and pred[i] != 1:\n",
    "        mae_1 += (abs(test[i]-pred[i]))\n",
    "    if test[i] == 2 and pred[i] != 2:\n",
    "        mae_2 += (abs(test[i]-pred[i]))\n",
    "    if test[i] == 3 and pred[i] != 3:\n",
    "        mae_3 += (abs(test[i]-pred[i]))\n",
    "    if test[i] == 4 and pred[i] != 4:\n",
    "        mae_4 += (abs(test[i]-pred[i]))\n",
    "    if test[i] == 5 and pred[i] != 5:\n",
    "        mae_5 += (abs(test[i]-pred[i]))\n",
    "\n",
    "cnt_0, cnt_1, cnt_2, cnt_3, cnt_4, cnt_5 = (0,0,0,0,0,0)\n",
    "for z in range(len(test)):\n",
    "    if test[z] == 0:\n",
    "        cnt_0 += 1\n",
    "    if test[z] == 1:\n",
    "        cnt_1 += 1\n",
    "    if test[z] == 2:\n",
    "        cnt_2 += 1\n",
    "    if test[z] == 3:\n",
    "        cnt_3 += 1\n",
    "    if test[z] == 4:\n",
    "        cnt_4 += 1\n",
    "    if test[z] == 5:\n",
    "        cnt_5 += 1\n",
    "\n",
    "mae_macroaverage = ((mae_0/cnt_0) + (mae_1/cnt_1) + (mae_2/cnt_2) + (mae_3/cnt_3) + (mae_4/cnt_4) + (mae_5/cnt_5)) / 6"
   ]
  },
  {
   "cell_type": "code",
   "execution_count": 30,
   "metadata": {},
   "outputs": [
    {
     "name": "stdout",
     "output_type": "stream",
     "text": [
      "Macro-averaged Mean Absolute error is:  1.5063\n",
      "Macro-averaged F1-score is:  0.0907\n"
     ]
    }
   ],
   "source": [
    "print(\"Macro-averaged Mean Absolute error is: \", round(mae_macroaverage, 4))\n",
    "print(\"Macro-averaged F1-score is: \", round(f1_score(test, pred, average='weighted'), 4))"
   ]
  },
  {
   "cell_type": "code",
   "execution_count": null,
   "metadata": {},
   "outputs": [],
   "source": []
  }
 ],
 "metadata": {
  "kernelspec": {
   "display_name": "Python 3",
   "language": "python",
   "name": "python3"
  },
  "language_info": {
   "codemirror_mode": {
    "name": "ipython",
    "version": 3
   },
   "file_extension": ".py",
   "mimetype": "text/x-python",
   "name": "python",
   "nbconvert_exporter": "python",
   "pygments_lexer": "ipython3",
   "version": "3.7.4"
  }
 },
 "nbformat": 4,
 "nbformat_minor": 2
}
