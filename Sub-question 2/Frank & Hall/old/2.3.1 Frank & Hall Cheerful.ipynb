{
 "cells": [
  {
   "cell_type": "code",
   "execution_count": 2,
   "metadata": {},
   "outputs": [
    {
     "name": "stderr",
     "output_type": "stream",
     "text": [
      "Using TensorFlow backend.\n"
     ]
    }
   ],
   "source": [
    "# Import packages\n",
    "import pandas as pd\n",
    "import numpy as np\n",
    "import datetime\n",
    "import category_encoders as ce\n",
    "from sklearn.preprocessing import LabelEncoder, MinMaxScaler, RobustScaler, OneHotEncoder\n",
    "from sklearn.model_selection import train_test_split\n",
    "from sklearn.metrics import accuracy_score\n",
    "from sklearn.utils import shuffle\n",
    "from imblearn.over_sampling import SMOTE, SMOTENC\n",
    "import matplotlib.pyplot as plt# Import packages\n",
    "import pandas as pd\n",
    "import numpy as np\n",
    "import datetime\n",
    "import category_encoders as ce\n",
    "from sklearn.preprocessing import LabelEncoder, MinMaxScaler, RobustScaler, OneHotEncoder, StandardScaler\n",
    "from sklearn.model_selection import train_test_split\n",
    "from sklearn.metrics import accuracy_score, mean_squared_error, cohen_kappa_score, f1_score\n",
    "from sklearn.utils import shuffle\n",
    "from imblearn.over_sampling import SMOTE, SMOTENC\n",
    "import matplotlib.pyplot as plt\n",
    "from statsmodels.graphics.mosaicplot import mosaic\n",
    "from sklearn.decomposition import PCA\n",
    "from scipy import stats\n",
    "from math import sqrt\n",
    "\n",
    "import keras\n",
    "from keras.models import Sequential\n",
    "from keras.layers import Dense, Dropout, GaussianNoise\n",
    "from keras.optimizers import SGD\n",
    "from keras.regularizers import l1, l2"
   ]
  },
  {
   "cell_type": "code",
   "execution_count": 3,
   "metadata": {},
   "outputs": [],
   "source": [
    "path = \"/Users/Stijn/Documents/Master Data Science and Society/Block 3/thesis/code/thesis_Code/\"\n",
    "mood = pd.read_csv(path+'mood_imputed_median.csv', sep = ',', index_col=0)\n",
    "mood['cheerful_last'] = mood.groupby('user_id')['cheerful'].shift()\n",
    "mood.loc[(pd.isnull(mood.cheerful_last)), 'cheerful_last'] = mood['cheerful']\n",
    "mood_cheerful = mood.drop([\"content\", \"bored\", \"anxious\", \"user_id\", \"response_time\"], axis=1)"
   ]
  },
  {
   "cell_type": "code",
   "execution_count": 4,
   "metadata": {},
   "outputs": [],
   "source": [
    "# Normalize predictors\n",
    "mood_normz = mood_cheerful.copy()\n",
    "features_to_normalize = ['day_time_window', 'average_TimeUse', 'messaging', 'socialnetworking', 'otherapp']\n",
    "mood_normz[features_to_normalize] = mood_normz[features_to_normalize].apply(lambda x:(x-x.min()) / (x.max()-x.min()))"
   ]
  },
  {
   "cell_type": "code",
   "execution_count": 5,
   "metadata": {},
   "outputs": [],
   "source": [
    "# X = predictors, y = target\n",
    "X = mood_normz.iloc[:,1:]\n",
    "y = mood_normz.iloc[:, 0:1]\n",
    "\n",
    "# Convert float to int\n",
    "y = y.astype(int)"
   ]
  },
  {
   "cell_type": "code",
   "execution_count": 6,
   "metadata": {},
   "outputs": [],
   "source": [
    "# Train (80%) & Test set (20%)\n",
    "X_train, X_test, y_train, y_test = train_test_split(X, y, test_size=0.2, random_state=2)"
   ]
  },
  {
   "cell_type": "code",
   "execution_count": 7,
   "metadata": {},
   "outputs": [
    {
     "name": "stdout",
     "output_type": "stream",
     "text": [
      "Before OverSampling, counts of labels: 3    2964\n",
      "2    2367\n",
      "4    1901\n",
      "1    1494\n",
      "0    1138\n",
      "5     712\n",
      "Name: cheerful, dtype: int64\n",
      "After OverSampling, counts of label '0': 2964\n",
      "After OverSampling, counts of label '1': 2964\n",
      "After OverSampling, counts of label '2': 2964\n",
      "After OverSampling, counts of label '3': 2964\n",
      "After OverSampling, counts of label '4': 2964\n",
      "After OverSampling, counts of label '5': 2964\n"
     ]
    }
   ],
   "source": [
    "# Oversampling unbalanced target\n",
    "print(\"Before OverSampling, counts of labels: {}\".format(y_train['cheerful'].value_counts()))\n",
    "  \n",
    "sm = SMOTENC(categorical_features=[0, 2, 6], random_state = 2) \n",
    "X_train_res, y_train_res = sm.fit_sample(X_train, y_train['cheerful'].ravel()) \n",
    "\n",
    "print(\"After OverSampling, counts of label '0': {}\".format(sum(y_train_res == 0))) \n",
    "print(\"After OverSampling, counts of label '1': {}\".format(sum(y_train_res == 1))) \n",
    "print(\"After OverSampling, counts of label '2': {}\".format(sum(y_train_res == 2))) \n",
    "print(\"After OverSampling, counts of label '3': {}\".format(sum(y_train_res == 3))) \n",
    "print(\"After OverSampling, counts of label '4': {}\".format(sum(y_train_res == 4))) \n",
    "print(\"After OverSampling, counts of label '5': {}\".format(sum(y_train_res == 5))) "
   ]
  },
  {
   "cell_type": "code",
   "execution_count": 8,
   "metadata": {},
   "outputs": [],
   "source": [
    "# Convert oversample dataset to Pandas DataFrame\n",
    "X_train = pd.DataFrame(data=X_train_res)\n",
    "y_train = pd.DataFrame(data=y_train_res, columns=['cheerful'])"
   ]
  },
  {
   "cell_type": "code",
   "execution_count": 10,
   "metadata": {},
   "outputs": [],
   "source": [
    "# Frank & hall encoding\n",
    "\n",
    "def multiple_appends(listname, *element):\n",
    "    listname.extend(element)\n",
    "\n",
    "y_trainFH = []\n",
    "for index, row in y_train.iterrows():\n",
    "    frankhalltrain = []\n",
    "    if row['cheerful'] == 0:\n",
    "        multiple_appends(frankhalltrain, 0, 0, 0, 0, 0)\n",
    "    elif row['cheerful'] == 1:\n",
    "        multiple_appends(frankhalltrain, 1, 0, 0, 0, 0)\n",
    "    elif row['cheerful'] == 2:\n",
    "        multiple_appends(frankhalltrain, 1, 1, 0, 0, 0)\n",
    "    elif row['cheerful'] == 3:\n",
    "        multiple_appends(frankhalltrain, 1, 1, 1, 0, 0)\n",
    "    elif row['cheerful'] == 4:\n",
    "        multiple_appends(frankhalltrain, 1, 1, 1, 1, 0)\n",
    "    elif row['cheerful'] == 5:\n",
    "        multiple_appends(frankhalltrain, 1, 1, 1, 1, 1)\n",
    "    y_trainFH.append(frankhalltrain)"
   ]
  },
  {
   "cell_type": "code",
   "execution_count": 11,
   "metadata": {},
   "outputs": [],
   "source": [
    "# Convert oversample dataset to Pandas DataFrame\n",
    "y_train = pd.DataFrame(data=y_trainFH)"
   ]
  },
  {
   "cell_type": "code",
   "execution_count": 12,
   "metadata": {},
   "outputs": [],
   "source": [
    "# Shuffle both train and test set to cancel patterns\n",
    "X_train, y_train = shuffle(X_train, y_train)\n",
    "X_test, y_test = shuffle(X_test, y_test)"
   ]
  },
  {
   "cell_type": "code",
   "execution_count": 13,
   "metadata": {},
   "outputs": [],
   "source": [
    "X_train_nomood = X_train.iloc[:,:-1]\n",
    "X_train_onlycontentlast = X_train.iloc[:,-1:]\n",
    "X_test_nomood = X_test.iloc[:,:-1]\n",
    "X_test_onlycontentlast = X_test.iloc[:,-1:]"
   ]
  },
  {
   "cell_type": "code",
   "execution_count": 14,
   "metadata": {},
   "outputs": [
    {
     "name": "stdout",
     "output_type": "stream",
     "text": [
      "Model: \"sequential_1\"\n",
      "_________________________________________________________________\n",
      "Layer (type)                 Output Shape              Param #   \n",
      "=================================================================\n",
      "dense_1 (Dense)              (None, 24)                168       \n",
      "_________________________________________________________________\n",
      "dense_2 (Dense)              (None, 12)                300       \n",
      "_________________________________________________________________\n",
      "dense_3 (Dense)              (None, 5)                 65        \n",
      "=================================================================\n",
      "Total params: 533\n",
      "Trainable params: 533\n",
      "Non-trainable params: 0\n",
      "_________________________________________________________________\n"
     ]
    }
   ],
   "source": [
    "# Define Keras model\n",
    "model = Sequential()\n",
    "model.add(Dense(24, input_dim=6, activation='relu'))\n",
    "model.add(Dense(12, activation='relu'))\n",
    "model.add(Dense(5, activation='sigmoid'))\n",
    "\n",
    "model.compile(loss='binary_crossentropy', optimizer='adam', metrics=['accuracy'])\n",
    "model.summary()"
   ]
  },
  {
   "cell_type": "code",
   "execution_count": 15,
   "metadata": {},
   "outputs": [
    {
     "name": "stdout",
     "output_type": "stream",
     "text": [
      "Train on 14227 samples, validate on 3557 samples\n",
      "Epoch 1/100\n",
      "14227/14227 [==============================] - 0s 20us/step - loss: 0.6651 - accuracy: 0.6656 - val_loss: 0.6475 - val_accuracy: 0.7086\n",
      "Epoch 2/100\n",
      "14227/14227 [==============================] - 0s 6us/step - loss: 0.6286 - accuracy: 0.7028 - val_loss: 0.6036 - val_accuracy: 0.7085\n",
      "Epoch 3/100\n",
      "14227/14227 [==============================] - 0s 6us/step - loss: 0.5936 - accuracy: 0.7025 - val_loss: 0.5772 - val_accuracy: 0.7080\n",
      "Epoch 4/100\n",
      "14227/14227 [==============================] - 0s 6us/step - loss: 0.5794 - accuracy: 0.7029 - val_loss: 0.5694 - val_accuracy: 0.7094\n",
      "Epoch 5/100\n",
      "14227/14227 [==============================] - 0s 6us/step - loss: 0.5757 - accuracy: 0.7034 - val_loss: 0.5671 - val_accuracy: 0.7098\n",
      "Epoch 6/100\n",
      "14227/14227 [==============================] - 0s 6us/step - loss: 0.5741 - accuracy: 0.7033 - val_loss: 0.5658 - val_accuracy: 0.7096\n",
      "Epoch 7/100\n",
      "14227/14227 [==============================] - 0s 6us/step - loss: 0.5732 - accuracy: 0.7032 - val_loss: 0.5653 - val_accuracy: 0.7098\n",
      "Epoch 8/100\n",
      "14227/14227 [==============================] - 0s 6us/step - loss: 0.5728 - accuracy: 0.7032 - val_loss: 0.5649 - val_accuracy: 0.7097\n",
      "Epoch 9/100\n",
      "14227/14227 [==============================] - 0s 5us/step - loss: 0.5726 - accuracy: 0.7033 - val_loss: 0.5648 - val_accuracy: 0.7098\n",
      "Epoch 10/100\n",
      "14227/14227 [==============================] - 0s 6us/step - loss: 0.5724 - accuracy: 0.7033 - val_loss: 0.5647 - val_accuracy: 0.7098\n",
      "Epoch 11/100\n",
      "14227/14227 [==============================] - 0s 6us/step - loss: 0.5723 - accuracy: 0.7034 - val_loss: 0.5646 - val_accuracy: 0.7098\n",
      "Epoch 12/100\n",
      "14227/14227 [==============================] - 0s 6us/step - loss: 0.5723 - accuracy: 0.7032 - val_loss: 0.5644 - val_accuracy: 0.7099\n",
      "Epoch 13/100\n",
      "14227/14227 [==============================] - 0s 6us/step - loss: 0.5721 - accuracy: 0.7035 - val_loss: 0.5644 - val_accuracy: 0.7095\n",
      "Epoch 14/100\n",
      "14227/14227 [==============================] - 0s 6us/step - loss: 0.5721 - accuracy: 0.7034 - val_loss: 0.5643 - val_accuracy: 0.7098\n",
      "Epoch 15/100\n",
      "14227/14227 [==============================] - 0s 5us/step - loss: 0.5720 - accuracy: 0.7034 - val_loss: 0.5642 - val_accuracy: 0.7096\n",
      "Epoch 16/100\n",
      "14227/14227 [==============================] - 0s 7us/step - loss: 0.5719 - accuracy: 0.7034 - val_loss: 0.5641 - val_accuracy: 0.7095\n",
      "Epoch 17/100\n",
      "14227/14227 [==============================] - 0s 6us/step - loss: 0.5717 - accuracy: 0.7034 - val_loss: 0.5642 - val_accuracy: 0.7099\n",
      "Epoch 18/100\n",
      "14227/14227 [==============================] - 0s 7us/step - loss: 0.5717 - accuracy: 0.7036 - val_loss: 0.5640 - val_accuracy: 0.7095\n",
      "Epoch 19/100\n",
      "14227/14227 [==============================] - 0s 6us/step - loss: 0.5716 - accuracy: 0.7034 - val_loss: 0.5639 - val_accuracy: 0.7099\n",
      "Epoch 20/100\n",
      "14227/14227 [==============================] - 0s 5us/step - loss: 0.5715 - accuracy: 0.7035 - val_loss: 0.5638 - val_accuracy: 0.7101\n",
      "Epoch 21/100\n",
      "14227/14227 [==============================] - 0s 6us/step - loss: 0.5714 - accuracy: 0.7036 - val_loss: 0.5637 - val_accuracy: 0.7095\n",
      "Epoch 22/100\n",
      "14227/14227 [==============================] - 0s 5us/step - loss: 0.5713 - accuracy: 0.7039 - val_loss: 0.5638 - val_accuracy: 0.7096\n",
      "Epoch 23/100\n",
      "14227/14227 [==============================] - 0s 6us/step - loss: 0.5712 - accuracy: 0.7040 - val_loss: 0.5636 - val_accuracy: 0.7095\n",
      "Epoch 24/100\n",
      "14227/14227 [==============================] - 0s 7us/step - loss: 0.5711 - accuracy: 0.7039 - val_loss: 0.5635 - val_accuracy: 0.7096\n",
      "Epoch 25/100\n",
      "14227/14227 [==============================] - 0s 6us/step - loss: 0.5709 - accuracy: 0.7039 - val_loss: 0.5635 - val_accuracy: 0.7094\n",
      "Epoch 26/100\n",
      "14227/14227 [==============================] - 0s 5us/step - loss: 0.5708 - accuracy: 0.7039 - val_loss: 0.5632 - val_accuracy: 0.7095\n",
      "Epoch 27/100\n",
      "14227/14227 [==============================] - 0s 5us/step - loss: 0.5706 - accuracy: 0.7040 - val_loss: 0.5631 - val_accuracy: 0.7095\n",
      "Epoch 28/100\n",
      "14227/14227 [==============================] - 0s 6us/step - loss: 0.5704 - accuracy: 0.7040 - val_loss: 0.5630 - val_accuracy: 0.7092\n",
      "Epoch 29/100\n",
      "14227/14227 [==============================] - 0s 6us/step - loss: 0.5702 - accuracy: 0.7040 - val_loss: 0.5629 - val_accuracy: 0.7093\n",
      "Epoch 30/100\n",
      "14227/14227 [==============================] - 0s 6us/step - loss: 0.5700 - accuracy: 0.7042 - val_loss: 0.5627 - val_accuracy: 0.7096\n",
      "Epoch 31/100\n",
      "14227/14227 [==============================] - 0s 5us/step - loss: 0.5698 - accuracy: 0.7039 - val_loss: 0.5626 - val_accuracy: 0.7090\n",
      "Epoch 32/100\n",
      "14227/14227 [==============================] - 0s 6us/step - loss: 0.5697 - accuracy: 0.7041 - val_loss: 0.5626 - val_accuracy: 0.7095\n",
      "Epoch 33/100\n",
      "14227/14227 [==============================] - 0s 6us/step - loss: 0.5695 - accuracy: 0.7043 - val_loss: 0.5625 - val_accuracy: 0.7098\n",
      "Epoch 34/100\n",
      "14227/14227 [==============================] - 0s 6us/step - loss: 0.5694 - accuracy: 0.7043 - val_loss: 0.5621 - val_accuracy: 0.7090\n",
      "Epoch 35/100\n",
      "14227/14227 [==============================] - 0s 5us/step - loss: 0.5691 - accuracy: 0.7046 - val_loss: 0.5621 - val_accuracy: 0.7099\n",
      "Epoch 36/100\n",
      "14227/14227 [==============================] - 0s 7us/step - loss: 0.5689 - accuracy: 0.7047 - val_loss: 0.5619 - val_accuracy: 0.7091\n",
      "Epoch 37/100\n",
      "14227/14227 [==============================] - 0s 5us/step - loss: 0.5689 - accuracy: 0.7051 - val_loss: 0.5620 - val_accuracy: 0.7094\n",
      "Epoch 38/100\n",
      "14227/14227 [==============================] - 0s 6us/step - loss: 0.5688 - accuracy: 0.7050 - val_loss: 0.5616 - val_accuracy: 0.7099\n",
      "Epoch 39/100\n",
      "14227/14227 [==============================] - 0s 5us/step - loss: 0.5684 - accuracy: 0.7052 - val_loss: 0.5616 - val_accuracy: 0.7105\n",
      "Epoch 40/100\n",
      "14227/14227 [==============================] - 0s 6us/step - loss: 0.5682 - accuracy: 0.7057 - val_loss: 0.5615 - val_accuracy: 0.7106\n",
      "Epoch 41/100\n",
      "14227/14227 [==============================] - 0s 6us/step - loss: 0.5680 - accuracy: 0.7060 - val_loss: 0.5614 - val_accuracy: 0.7114\n",
      "Epoch 42/100\n",
      "14227/14227 [==============================] - 0s 5us/step - loss: 0.5679 - accuracy: 0.7062 - val_loss: 0.5613 - val_accuracy: 0.7109\n",
      "Epoch 43/100\n",
      "14227/14227 [==============================] - 0s 6us/step - loss: 0.5677 - accuracy: 0.7065 - val_loss: 0.5613 - val_accuracy: 0.7119\n",
      "Epoch 44/100\n",
      "14227/14227 [==============================] - 0s 5us/step - loss: 0.5676 - accuracy: 0.7068 - val_loss: 0.5612 - val_accuracy: 0.7121\n",
      "Epoch 45/100\n",
      "14227/14227 [==============================] - 0s 6us/step - loss: 0.5674 - accuracy: 0.7068 - val_loss: 0.5610 - val_accuracy: 0.7119\n",
      "Epoch 46/100\n",
      "14227/14227 [==============================] - 0s 5us/step - loss: 0.5672 - accuracy: 0.7068 - val_loss: 0.5610 - val_accuracy: 0.7110\n",
      "Epoch 47/100\n",
      "14227/14227 [==============================] - 0s 6us/step - loss: 0.5671 - accuracy: 0.7073 - val_loss: 0.5609 - val_accuracy: 0.7117\n",
      "Epoch 48/100\n",
      "14227/14227 [==============================] - 0s 6us/step - loss: 0.5668 - accuracy: 0.7072 - val_loss: 0.5609 - val_accuracy: 0.7108\n",
      "Epoch 49/100\n",
      "14227/14227 [==============================] - 0s 6us/step - loss: 0.5667 - accuracy: 0.7078 - val_loss: 0.5610 - val_accuracy: 0.7127\n",
      "Epoch 50/100\n",
      "14227/14227 [==============================] - 0s 6us/step - loss: 0.5668 - accuracy: 0.7075 - val_loss: 0.5607 - val_accuracy: 0.7126\n",
      "Epoch 51/100\n",
      "14227/14227 [==============================] - 0s 6us/step - loss: 0.5665 - accuracy: 0.7082 - val_loss: 0.5607 - val_accuracy: 0.7127\n",
      "Epoch 52/100\n",
      "14227/14227 [==============================] - 0s 5us/step - loss: 0.5664 - accuracy: 0.7080 - val_loss: 0.5606 - val_accuracy: 0.7126\n",
      "Epoch 53/100\n",
      "14227/14227 [==============================] - 0s 6us/step - loss: 0.5663 - accuracy: 0.7087 - val_loss: 0.5614 - val_accuracy: 0.7109\n",
      "Epoch 54/100\n",
      "14227/14227 [==============================] - 0s 5us/step - loss: 0.5664 - accuracy: 0.7081 - val_loss: 0.5605 - val_accuracy: 0.7126\n",
      "Epoch 55/100\n",
      "14227/14227 [==============================] - 0s 6us/step - loss: 0.5659 - accuracy: 0.7089 - val_loss: 0.5607 - val_accuracy: 0.7127\n",
      "Epoch 56/100\n"
     ]
    },
    {
     "name": "stdout",
     "output_type": "stream",
     "text": [
      "14227/14227 [==============================] - 0s 6us/step - loss: 0.5660 - accuracy: 0.7079 - val_loss: 0.5606 - val_accuracy: 0.7124\n",
      "Epoch 57/100\n",
      "14227/14227 [==============================] - 0s 5us/step - loss: 0.5658 - accuracy: 0.7081 - val_loss: 0.5605 - val_accuracy: 0.7125\n",
      "Epoch 58/100\n",
      "14227/14227 [==============================] - 0s 5us/step - loss: 0.5657 - accuracy: 0.7081 - val_loss: 0.5603 - val_accuracy: 0.7121\n",
      "Epoch 59/100\n",
      "14227/14227 [==============================] - 0s 4us/step - loss: 0.5656 - accuracy: 0.7083 - val_loss: 0.5605 - val_accuracy: 0.7121\n",
      "Epoch 60/100\n",
      "14227/14227 [==============================] - 0s 4us/step - loss: 0.5657 - accuracy: 0.7085 - val_loss: 0.5604 - val_accuracy: 0.7117\n",
      "Epoch 61/100\n",
      "14227/14227 [==============================] - 0s 5us/step - loss: 0.5654 - accuracy: 0.7091 - val_loss: 0.5604 - val_accuracy: 0.7125\n",
      "Epoch 62/100\n",
      "14227/14227 [==============================] - 0s 4us/step - loss: 0.5653 - accuracy: 0.7092 - val_loss: 0.5602 - val_accuracy: 0.7129\n",
      "Epoch 63/100\n",
      "14227/14227 [==============================] - 0s 4us/step - loss: 0.5654 - accuracy: 0.7085 - val_loss: 0.5603 - val_accuracy: 0.7119\n",
      "Epoch 64/100\n",
      "14227/14227 [==============================] - 0s 4us/step - loss: 0.5654 - accuracy: 0.7088 - val_loss: 0.5601 - val_accuracy: 0.7127\n",
      "Epoch 65/100\n",
      "14227/14227 [==============================] - 0s 4us/step - loss: 0.5649 - accuracy: 0.7096 - val_loss: 0.5601 - val_accuracy: 0.7130\n",
      "Epoch 66/100\n",
      "14227/14227 [==============================] - 0s 5us/step - loss: 0.5650 - accuracy: 0.7094 - val_loss: 0.5601 - val_accuracy: 0.7130\n",
      "Epoch 67/100\n",
      "14227/14227 [==============================] - 0s 5us/step - loss: 0.5648 - accuracy: 0.7091 - val_loss: 0.5600 - val_accuracy: 0.7130\n",
      "Epoch 68/100\n",
      "14227/14227 [==============================] - 0s 5us/step - loss: 0.5646 - accuracy: 0.7096 - val_loss: 0.5605 - val_accuracy: 0.7109\n",
      "Epoch 69/100\n",
      "14227/14227 [==============================] - 0s 4us/step - loss: 0.5648 - accuracy: 0.7091 - val_loss: 0.5602 - val_accuracy: 0.7118\n",
      "Epoch 70/100\n",
      "14227/14227 [==============================] - 0s 4us/step - loss: 0.5647 - accuracy: 0.7093 - val_loss: 0.5602 - val_accuracy: 0.7132\n",
      "Epoch 71/100\n",
      "14227/14227 [==============================] - 0s 5us/step - loss: 0.5646 - accuracy: 0.7093 - val_loss: 0.5599 - val_accuracy: 0.7130\n",
      "Epoch 72/100\n",
      "14227/14227 [==============================] - 0s 5us/step - loss: 0.5646 - accuracy: 0.7092 - val_loss: 0.5605 - val_accuracy: 0.7115\n",
      "Epoch 73/100\n",
      "14227/14227 [==============================] - 0s 4us/step - loss: 0.5645 - accuracy: 0.7097 - val_loss: 0.5599 - val_accuracy: 0.7127\n",
      "Epoch 74/100\n",
      "14227/14227 [==============================] - 0s 5us/step - loss: 0.5643 - accuracy: 0.7094 - val_loss: 0.5599 - val_accuracy: 0.7135\n",
      "Epoch 75/100\n",
      "14227/14227 [==============================] - 0s 4us/step - loss: 0.5643 - accuracy: 0.7094 - val_loss: 0.5599 - val_accuracy: 0.7131\n",
      "Epoch 76/100\n",
      "14227/14227 [==============================] - 0s 5us/step - loss: 0.5641 - accuracy: 0.7097 - val_loss: 0.5599 - val_accuracy: 0.7126\n",
      "Epoch 77/100\n",
      "14227/14227 [==============================] - 0s 5us/step - loss: 0.5645 - accuracy: 0.7095 - val_loss: 0.5598 - val_accuracy: 0.7128\n",
      "Epoch 78/100\n",
      "14227/14227 [==============================] - 0s 5us/step - loss: 0.5641 - accuracy: 0.7095 - val_loss: 0.5599 - val_accuracy: 0.7124\n",
      "Epoch 79/100\n",
      "14227/14227 [==============================] - 0s 4us/step - loss: 0.5641 - accuracy: 0.7104 - val_loss: 0.5598 - val_accuracy: 0.7125\n",
      "Epoch 80/100\n",
      "14227/14227 [==============================] - 0s 4us/step - loss: 0.5640 - accuracy: 0.7096 - val_loss: 0.5599 - val_accuracy: 0.7123\n",
      "Epoch 81/100\n",
      "14227/14227 [==============================] - 0s 6us/step - loss: 0.5640 - accuracy: 0.7102 - val_loss: 0.5598 - val_accuracy: 0.7128\n",
      "Epoch 82/100\n",
      "14227/14227 [==============================] - 0s 5us/step - loss: 0.5640 - accuracy: 0.7094 - val_loss: 0.5597 - val_accuracy: 0.7125\n",
      "Epoch 83/100\n",
      "14227/14227 [==============================] - 0s 4us/step - loss: 0.5637 - accuracy: 0.7100 - val_loss: 0.5598 - val_accuracy: 0.7135\n",
      "Epoch 84/100\n",
      "14227/14227 [==============================] - 0s 4us/step - loss: 0.5640 - accuracy: 0.7091 - val_loss: 0.5599 - val_accuracy: 0.7134\n",
      "Epoch 85/100\n",
      "14227/14227 [==============================] - 0s 5us/step - loss: 0.5636 - accuracy: 0.7097 - val_loss: 0.5598 - val_accuracy: 0.7124\n",
      "Epoch 86/100\n",
      "14227/14227 [==============================] - 0s 5us/step - loss: 0.5635 - accuracy: 0.7100 - val_loss: 0.5598 - val_accuracy: 0.7125\n",
      "Epoch 87/100\n",
      "14227/14227 [==============================] - 0s 4us/step - loss: 0.5634 - accuracy: 0.7102 - val_loss: 0.5597 - val_accuracy: 0.7136\n",
      "Epoch 88/100\n",
      "14227/14227 [==============================] - 0s 4us/step - loss: 0.5633 - accuracy: 0.7099 - val_loss: 0.5596 - val_accuracy: 0.7127\n",
      "Epoch 89/100\n",
      "14227/14227 [==============================] - 0s 4us/step - loss: 0.5633 - accuracy: 0.7098 - val_loss: 0.5594 - val_accuracy: 0.7133\n",
      "Epoch 90/100\n",
      "14227/14227 [==============================] - 0s 5us/step - loss: 0.5631 - accuracy: 0.7098 - val_loss: 0.5594 - val_accuracy: 0.7127\n",
      "Epoch 91/100\n",
      "14227/14227 [==============================] - 0s 5us/step - loss: 0.5631 - accuracy: 0.7098 - val_loss: 0.5595 - val_accuracy: 0.7128\n",
      "Epoch 92/100\n",
      "14227/14227 [==============================] - 0s 5us/step - loss: 0.5631 - accuracy: 0.7104 - val_loss: 0.5595 - val_accuracy: 0.7125\n",
      "Epoch 93/100\n",
      "14227/14227 [==============================] - 0s 5us/step - loss: 0.5630 - accuracy: 0.7103 - val_loss: 0.5596 - val_accuracy: 0.7127\n",
      "Epoch 94/100\n",
      "14227/14227 [==============================] - 0s 5us/step - loss: 0.5629 - accuracy: 0.7101 - val_loss: 0.5597 - val_accuracy: 0.7125\n",
      "Epoch 95/100\n",
      "14227/14227 [==============================] - 0s 5us/step - loss: 0.5630 - accuracy: 0.7097 - val_loss: 0.5594 - val_accuracy: 0.7131\n",
      "Epoch 96/100\n",
      "14227/14227 [==============================] - 0s 4us/step - loss: 0.5629 - accuracy: 0.7098 - val_loss: 0.5594 - val_accuracy: 0.7132\n",
      "Epoch 97/100\n",
      "14227/14227 [==============================] - 0s 4us/step - loss: 0.5629 - accuracy: 0.7103 - val_loss: 0.5593 - val_accuracy: 0.7127\n",
      "Epoch 98/100\n",
      "14227/14227 [==============================] - 0s 5us/step - loss: 0.5626 - accuracy: 0.7101 - val_loss: 0.5594 - val_accuracy: 0.7126\n",
      "Epoch 99/100\n",
      "14227/14227 [==============================] - 0s 5us/step - loss: 0.5626 - accuracy: 0.7095 - val_loss: 0.5597 - val_accuracy: 0.7134\n",
      "Epoch 100/100\n",
      "14227/14227 [==============================] - 0s 5us/step - loss: 0.5626 - accuracy: 0.7106 - val_loss: 0.5593 - val_accuracy: 0.7125\n"
     ]
    }
   ],
   "source": [
    "# Train model on train set\n",
    "history = model.fit(X_train_nomood, y_train, epochs=100, validation_split=0.2, batch_size=512)"
   ]
  },
  {
   "cell_type": "code",
   "execution_count": 16,
   "metadata": {},
   "outputs": [
    {
     "data": {
      "image/png": "[encoded data removed]",
      "text/plain": [
       "<Figure size 432x288 with 1 Axes>"
      ]
     },
     "metadata": {
      "needs_background": "light"
     },
     "output_type": "display_data"
    }
   ],
   "source": [
    "# Plot training & validation accuracy values\n",
    "plt.plot(history.history['accuracy'])\n",
    "plt.plot(history.history['val_accuracy'])\n",
    "plt.title('Model accuracy')\n",
    "plt.ylabel('Accuracy')\n",
    "plt.xlabel('Epoch')\n",
    "plt.legend(['Train', 'Validation'], loc='upper left')\n",
    "plt.show()"
   ]
  },
  {
   "cell_type": "code",
   "execution_count": 17,
   "metadata": {},
   "outputs": [
    {
     "data": {
      "image/png": "[encoded data removed]",
      "text/plain": [
       "<Figure size 432x288 with 1 Axes>"
      ]
     },
     "metadata": {
      "needs_background": "light"
     },
     "output_type": "display_data"
    }
   ],
   "source": [
    "# Plot training & validation loss values\n",
    "plt.plot(history.history['loss'])\n",
    "plt.plot(history.history['val_loss'])\n",
    "plt.title('Model loss')\n",
    "plt.ylabel('Loss')\n",
    "plt.xlabel('Epoch')\n",
    "plt.legend(['Train', 'Validation'], loc='upper left')\n",
    "plt.show()"
   ]
  },
  {
   "cell_type": "code",
   "execution_count": 18,
   "metadata": {},
   "outputs": [],
   "source": [
    "# Predict using X_test\n",
    "y_pred = model.predict(X_test_nomood)\n",
    "\n",
    "FH_pred = []\n",
    "for i in y_pred:\n",
    "    temp_list = []\n",
    "    for binary in i:\n",
    "        if binary >= 0.5:\n",
    "            temp_list.append(1)\n",
    "        else:\n",
    "            temp_list.append(0)\n",
    "    FH_pred.append(temp_list)\n",
    "\n",
    "FH_prediction = pd.DataFrame(data=FH_pred, columns=['mood_0', 'mood_1', 'mood_2', 'mood_3', 'mood_4'])"
   ]
  },
  {
   "cell_type": "code",
   "execution_count": 19,
   "metadata": {},
   "outputs": [
    {
     "name": "stdout",
     "output_type": "stream",
     "text": [
      "[[1, 1, 1, 0, 0], [1, 1, 0, 0, 0], [1, 1, 1, 1, 0], [1, 0, 0, 0, 0], [0, 0, 0, 0, 0]]\n"
     ]
    }
   ],
   "source": [
    "# All unique outcomes\n",
    "check_pos = []\n",
    "for ac in FH_pred:\n",
    "    if ac not in check_pos:\n",
    "        check_pos.append(ac)\n",
    "print(check_pos)"
   ]
  },
  {
   "cell_type": "code",
   "execution_count": 20,
   "metadata": {},
   "outputs": [],
   "source": [
    "pred = FH_prediction.sum(axis=1)\n",
    "test = y_test['cheerful'].values"
   ]
  },
  {
   "cell_type": "code",
   "execution_count": 21,
   "metadata": {},
   "outputs": [
    {
     "data": {
      "text/plain": [
       "2    1394\n",
       "3    1147\n",
       "1      64\n",
       "4      39\n",
       "0       1\n",
       "dtype: int64"
      ]
     },
     "execution_count": 21,
     "metadata": {},
     "output_type": "execute_result"
    }
   ],
   "source": [
    "pred.value_counts()"
   ]
  },
  {
   "cell_type": "code",
   "execution_count": 22,
   "metadata": {},
   "outputs": [
    {
     "data": {
      "text/plain": [
       "array([2, 4, 1, 3, 5, 0])"
      ]
     },
     "execution_count": 22,
     "metadata": {},
     "output_type": "execute_result"
    }
   ],
   "source": [
    "y_test['cheerful'].unique()"
   ]
  },
  {
   "cell_type": "code",
   "execution_count": 23,
   "metadata": {},
   "outputs": [
    {
     "data": {
      "text/html": [
       "<div>\n",
       "<style scoped>\n",
       "    .dataframe tbody tr th:only-of-type {\n",
       "        vertical-align: middle;\n",
       "    }\n",
       "\n",
       "    .dataframe tbody tr th {\n",
       "        vertical-align: top;\n",
       "    }\n",
       "\n",
       "    .dataframe thead th {\n",
       "        text-align: right;\n",
       "    }\n",
       "</style>\n",
       "<table border=\"1\" class=\"dataframe\">\n",
       "  <thead>\n",
       "    <tr style=\"text-align: right;\">\n",
       "      <th></th>\n",
       "      <th>cheerful_last</th>\n",
       "    </tr>\n",
       "  </thead>\n",
       "  <tbody>\n",
       "    <tr>\n",
       "      <th>13512</th>\n",
       "      <td>3.0</td>\n",
       "    </tr>\n",
       "    <tr>\n",
       "      <th>9392</th>\n",
       "      <td>3.0</td>\n",
       "    </tr>\n",
       "    <tr>\n",
       "      <th>14177</th>\n",
       "      <td>2.0</td>\n",
       "    </tr>\n",
       "    <tr>\n",
       "      <th>15086</th>\n",
       "      <td>3.0</td>\n",
       "    </tr>\n",
       "    <tr>\n",
       "      <th>14101</th>\n",
       "      <td>2.0</td>\n",
       "    </tr>\n",
       "  </tbody>\n",
       "</table>\n",
       "</div>"
      ],
      "text/plain": [
       "       cheerful_last\n",
       "13512            3.0\n",
       "9392             3.0\n",
       "14177            2.0\n",
       "15086            3.0\n",
       "14101            2.0"
      ]
     },
     "execution_count": 23,
     "metadata": {},
     "output_type": "execute_result"
    }
   ],
   "source": [
    "X_test_onlycontentlast[:5]"
   ]
  },
  {
   "cell_type": "code",
   "execution_count": 24,
   "metadata": {},
   "outputs": [
    {
     "name": "stdout",
     "output_type": "stream",
     "text": [
      "Accuracy is: 25.860113421550096\n"
     ]
    }
   ],
   "source": [
    "# Accuracy score\n",
    "a = accuracy_score(pred,test)\n",
    "print('Accuracy is:', a*100)"
   ]
  },
  {
   "cell_type": "code",
   "execution_count": 25,
   "metadata": {},
   "outputs": [
    {
     "name": "stdout",
     "output_type": "stream",
     "text": [
      "        Same Dif\n",
      "correct 413 271\n",
      "wrong   1187 774\n",
      "\n",
      "Accuracy of table is:  0.25860113421550096\n",
      "Accuracy of model is:  0.25860113421550096\n"
     ]
    }
   ],
   "source": [
    "# true = y_test\n",
    "# pred = y_pred\n",
    "# last_value = X_bored_lastarray\n",
    "same_correct = 0\n",
    "same_wrong = 0\n",
    "dif_correct = 0\n",
    "dif_wrong = 0\n",
    "\n",
    "X_test_content = X_test_onlycontentlast['cheerful_last'].values\n",
    "for i in range(len(pred)):\n",
    "    if (test[i] == X_test_content[i]) and (test[i] == pred[i]):\n",
    "        same_correct += 1\n",
    "    if (test[i] == X_test_content[i]) and (test[i] != pred[i]):\n",
    "        same_wrong += 1\n",
    "    if (test[i] != X_test_content[i]) and (test[i] == pred[i]):\n",
    "        dif_correct += 1\n",
    "    if (test[i] != X_test_content[i]) and (test[i] != pred[i]):\n",
    "        dif_wrong += 1   \n",
    "\n",
    "print(\"       \", \"Same\", \"Dif\")\n",
    "print(\"correct\", same_correct, dif_correct)\n",
    "print(\"wrong  \", same_wrong, dif_wrong)\n",
    "\n",
    "#Check if table is similar to accuracy\n",
    "print(\"\")\n",
    "print(\"Accuracy of table is: \", ((same_correct+dif_correct) / (same_correct+dif_correct+same_wrong+dif_wrong)))\n",
    "print(\"Accuracy of model is: \", a)"
   ]
  },
  {
   "cell_type": "code",
   "execution_count": 26,
   "metadata": {},
   "outputs": [
    {
     "name": "stdout",
     "output_type": "stream",
     "text": [
      "Predicted values:  Counter({2: 1394, 3: 1147, 1: 64, 4: 39, 0: 1})\n",
      "True values:  Counter({3: 755, 2: 599, 4: 457, 1: 386, 0: 275, 5: 173})\n",
      "Previous mood: Counter({3.0: 735, 2.0: 622, 4.0: 473, 1.0: 375, 0.0: 271, 5.0: 169})\n"
     ]
    }
   ],
   "source": [
    "from collections import Counter\n",
    "print(\"Predicted values: \", Counter(pred))\n",
    "print(\"True values: \", Counter(test))\n",
    "print(\"Previous mood:\", Counter(X_test_content))"
   ]
  },
  {
   "cell_type": "code",
   "execution_count": 27,
   "metadata": {},
   "outputs": [
    {
     "name": "stdout",
     "output_type": "stream",
     "text": [
      "Total length:  2645\n",
      "Same Correct 0 guesses is:  1\n",
      "Same Wrong 0 guesses is:  198\n",
      "Dif Correct 0 guesses is:  0\n",
      "Dif Wrong 0 guesses is:  76\n",
      "\n",
      "Same Correct 1 guesses is:  7\n",
      "Same Wrong 1 guesses is:  214\n",
      "Dif Correct 1 guesses is:  4\n",
      "Dif Wrong 1 guesses is:  161\n",
      "\n",
      "Same Correct 2 guesses is:  189\n",
      "Same Wrong 2 guesses is:  169\n",
      "Dif Correct 2 guesses is:  130\n",
      "Dif Wrong 2 guesses is:  111\n",
      "\n",
      "Same Correct 3 guesses is:  210\n",
      "Same Wrong 3 guesses is:  241\n",
      "Dif Correct 3 guesses is:  131\n",
      "Dif Wrong 3 guesses is:  173\n",
      "\n",
      "Same Correct 4 guesses is:  6\n",
      "Same Wrong 4 guesses is:  253\n",
      "Dif Correct 4 guesses is:  6\n",
      "Dif Wrong 4 guesses is:  192\n",
      "\n",
      "Same Correct 5 guesses is:  0\n",
      "Same Wrong 5 guesses is:  112\n",
      "Dif Correct 5 guesses is:  0\n",
      "Dif Wrong 5 guesses is:  61\n"
     ]
    }
   ],
   "source": [
    "same_correct_0, same_wrong_0, same_correct_1, same_wrong_1, same_correct_2, same_wrong_2, same_correct_3, same_wrong_3, same_correct_4, same_wrong_4, same_correct_5, same_wrong_5 = (0, 0, 0, 0, 0, 0, 0, 0, 0, 0, 0, 0)\n",
    "dif_correct_0, dif_wrong_0, dif_correct_1, dif_wrong_1, dif_correct_2, dif_wrong_2, dif_correct_3, dif_wrong_3, dif_correct_4, dif_wrong_4, dif_correct_5, dif_wrong_5 = (0, 0, 0, 0, 0, 0, 0, 0, 0, 0, 0, 0)\n",
    "\n",
    "for i in range(len(pred)):\n",
    "    if test[i] == 0 and pred[i] == 0:\n",
    "        if test[i] == X_test_content[i]:\n",
    "            same_correct_0 += 1\n",
    "        if test[i] != X_test_content[i]:\n",
    "            dif_correct_0 += 1\n",
    "    if test[i] == 0 and pred[i] != 0:\n",
    "        if test[i] == X_test_content[i]:\n",
    "            same_wrong_0 += 1\n",
    "        if test[i] != X_test_content[i]:\n",
    "            dif_wrong_0 += 1\n",
    "\n",
    "    if test[i] == 1 and pred[i] == 1:\n",
    "        if test[i] == X_test_content[i]:\n",
    "            same_correct_1 += 1\n",
    "        if test[i] != X_test_content[i]:\n",
    "            dif_correct_1 += 1\n",
    "    if test[i] == 1 and pred[i] != 1:\n",
    "        if test[i] == X_test_content[i]:\n",
    "            same_wrong_1 += 1\n",
    "        if test[i] != X_test_content[i]:\n",
    "            dif_wrong_1 += 1\n",
    "        \n",
    "    if test[i] == 2 and pred[i] == 2:\n",
    "        if test[i] == X_test_content[i]:\n",
    "            same_correct_2 += 1\n",
    "        if test[i] != X_test_content[i]:\n",
    "            dif_correct_2 += 1\n",
    "    if test[i] == 2 and pred[i] != 2:\n",
    "        if test[i] == X_test_content[i]:\n",
    "            same_wrong_2 += 1\n",
    "        if test[i] != X_test_content[i]:\n",
    "            dif_wrong_2 += 1\n",
    "    \n",
    "    if test[i] == 3 and pred[i] == 3:\n",
    "        if test[i] == X_test_content[i]:\n",
    "            same_correct_3 += 1\n",
    "        if test[i] != X_test_content[i]:\n",
    "            dif_correct_3 += 1\n",
    "    if test[i] == 3 and pred[i] != 3:\n",
    "        if test[i] == X_test_content[i]:\n",
    "            same_wrong_3 += 1\n",
    "        if test[i] != X_test_content[i]:\n",
    "            dif_wrong_3 += 1\n",
    "        \n",
    "    if test[i] == 4 and pred[i] == 4:\n",
    "        if test[i] == X_test_content[i]:\n",
    "            same_correct_4 += 1\n",
    "        if test[i] != X_test_content[i]:\n",
    "            dif_correct_4 += 1\n",
    "    if test[i] == 4 and pred[i] != 4:\n",
    "        if test[i] == X_test_content[i]:\n",
    "            same_wrong_4 += 1\n",
    "        if test[i] != X_test_content[i]:\n",
    "            dif_wrong_4 += 1\n",
    "    \n",
    "    if test[i] == 5 and pred[i] == 5:\n",
    "        if test[i] == X_test_content[i]:\n",
    "            same_correct_5 += 1\n",
    "        if test[i] != X_test_content[i]:\n",
    "            dif_correct_5 += 1\n",
    "    if test[i] == 5 and pred[i] != 5:\n",
    "        if test[i] == X_test_content[i]:\n",
    "            same_wrong_5 += 1\n",
    "        if test[i] != X_test_content[i]:\n",
    "            dif_wrong_5 += 1\n",
    "\n",
    "print(\"Total length: \", len(X_test_content))\n",
    "\n",
    "print(\"Same Correct 0 guesses is: \", same_correct_0)\n",
    "print(\"Same Wrong 0 guesses is: \", same_wrong_0)\n",
    "print(\"Dif Correct 0 guesses is: \", dif_correct_0)\n",
    "print(\"Dif Wrong 0 guesses is: \", dif_wrong_0)\n",
    "print('')\n",
    "print(\"Same Correct 1 guesses is: \", same_correct_1)\n",
    "print(\"Same Wrong 1 guesses is: \", same_wrong_1)\n",
    "print(\"Dif Correct 1 guesses is: \", dif_correct_1)\n",
    "print(\"Dif Wrong 1 guesses is: \", dif_wrong_1)\n",
    "print('')\n",
    "print(\"Same Correct 2 guesses is: \", same_correct_2)\n",
    "print(\"Same Wrong 2 guesses is: \", same_wrong_2)\n",
    "print(\"Dif Correct 2 guesses is: \", dif_correct_2)\n",
    "print(\"Dif Wrong 2 guesses is: \", dif_wrong_2)\n",
    "print('')\n",
    "print(\"Same Correct 3 guesses is: \", same_correct_3)\n",
    "print(\"Same Wrong 3 guesses is: \", same_wrong_3)\n",
    "print(\"Dif Correct 3 guesses is: \", dif_correct_3)\n",
    "print(\"Dif Wrong 3 guesses is: \", dif_wrong_3)\n",
    "print('')\n",
    "print(\"Same Correct 4 guesses is: \", same_correct_4)\n",
    "print(\"Same Wrong 4 guesses is: \", same_wrong_4)\n",
    "print(\"Dif Correct 4 guesses is: \", dif_correct_4)\n",
    "print(\"Dif Wrong 4 guesses is: \", dif_wrong_4)\n",
    "print('')\n",
    "print(\"Same Correct 5 guesses is: \", same_correct_5)\n",
    "print(\"Same Wrong 5 guesses is: \", same_wrong_5)\n",
    "print(\"Dif Correct 5 guesses is: \", dif_correct_5)\n",
    "print(\"Dif Wrong 5 guesses is: \", dif_wrong_5)"
   ]
  },
  {
   "cell_type": "code",
   "execution_count": 28,
   "metadata": {},
   "outputs": [],
   "source": [
    "mae_0, mae_1, mae_2, mae_3, mae_4, mae_5 = (0,0,0,0,0,0)\n",
    "\n",
    "for i in range(len(pred)):\n",
    "    if test[i] == 0 and pred[i] != 0:\n",
    "        mae_0 += (abs(test[i]-pred[i]))\n",
    "    if test[i] == 1 and pred[i] != 1:\n",
    "        mae_1 += (abs(test[i]-pred[i]))\n",
    "    if test[i] == 2 and pred[i] != 2:\n",
    "        mae_2 += (abs(test[i]-pred[i]))\n",
    "    if test[i] == 3 and pred[i] != 3:\n",
    "        mae_3 += (abs(test[i]-pred[i]))\n",
    "    if test[i] == 4 and pred[i] != 4:\n",
    "        mae_4 += (abs(test[i]-pred[i]))\n",
    "    if test[i] == 5 and pred[i] != 5:\n",
    "        mae_5 += (abs(test[i]-pred[i]))\n",
    "\n",
    "cnt_0, cnt_1, cnt_2, cnt_3, cnt_4, cnt_5 = (0,0,0,0,0,0)\n",
    "for z in range(len(test)):\n",
    "    if test[z] == 0:\n",
    "        cnt_0 += 1\n",
    "    if test[z] == 1:\n",
    "        cnt_1 += 1\n",
    "    if test[z] == 2:\n",
    "        cnt_2 += 1\n",
    "    if test[z] == 3:\n",
    "        cnt_3 += 1\n",
    "    if test[z] == 4:\n",
    "        cnt_4 += 1\n",
    "    if test[z] == 5:\n",
    "        cnt_5 += 1\n",
    "\n",
    "mae_macroaverage = ((mae_0/cnt_0) + (mae_1/cnt_1) + (mae_2/cnt_2) + (mae_3/cnt_3) + (mae_4/cnt_4) + (mae_5/cnt_5)) / 6"
   ]
  },
  {
   "cell_type": "code",
   "execution_count": 29,
   "metadata": {},
   "outputs": [
    {
     "name": "stdout",
     "output_type": "stream",
     "text": [
      "Macro-averaged Mean Absolute error is:  1.4519\n",
      "Macro-averaged F1-score is:  0.1911\n"
     ]
    },
    {
     "name": "stderr",
     "output_type": "stream",
     "text": [
      "/Users/Stijn/Library/Python/3.7/lib/python/site-packages/sklearn/metrics/classification.py:1437: UndefinedMetricWarning: F-score is ill-defined and being set to 0.0 in labels with no predicted samples.\n",
      "  'precision', 'predicted', average, warn_for)\n"
     ]
    }
   ],
   "source": [
    "print(\"Macro-averaged Mean Absolute error is: \", round(mae_macroaverage, 4))\n",
    "print(\"Macro-averaged F1-score is: \", round(f1_score(test, pred, average='weighted'), 4))"
   ]
  },
  {
   "cell_type": "code",
   "execution_count": null,
   "metadata": {},
   "outputs": [],
   "source": [
    "    "
   ]
  }
 ],
 "metadata": {
  "kernelspec": {
   "display_name": "Python 3",
   "language": "python",
   "name": "python3"
  },
  "language_info": {
   "codemirror_mode": {
    "name": "ipython",
    "version": 3
   },
   "file_extension": ".py",
   "mimetype": "text/x-python",
   "name": "python",
   "nbconvert_exporter": "python",
   "pygments_lexer": "ipython3",
   "version": "3.7.4"
  }
 },
 "nbformat": 4,
 "nbformat_minor": 2
}
